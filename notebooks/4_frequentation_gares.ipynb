{
 "cells": [
  {
   "cell_type": "code",
   "execution_count": 1,
   "metadata": {},
   "outputs": [],
   "source": [
    "import numpy as np\n",
    "import pandas as pd\n",
    "import geopandas as gpd\n",
    "import plotly.express as px"
   ]
  },
  {
   "cell_type": "markdown",
   "metadata": {},
   "source": [
    "# Exploration des fréquentations des gares"
   ]
  },
  {
   "cell_type": "code",
   "execution_count": 2,
   "metadata": {},
   "outputs": [
    {
     "name": "stdout",
     "output_type": "stream",
     "text": [
      "(3010, 22)\n"
     ]
    },
    {
     "data": {
      "application/vnd.microsoft.datawrangler.viewer.v0+json": {
       "columns": [
        {
         "name": "index",
         "rawType": "int64",
         "type": "integer"
        },
        {
         "name": "Nom de la gare",
         "rawType": "object",
         "type": "string"
        },
        {
         "name": "Code UIC",
         "rawType": "int64",
         "type": "integer"
        },
        {
         "name": "Code postal",
         "rawType": "int64",
         "type": "integer"
        },
        {
         "name": "Segmentation DRG",
         "rawType": "object",
         "type": "string"
        },
        {
         "name": "Total Voyageurs 2023",
         "rawType": "int64",
         "type": "integer"
        },
        {
         "name": "Total Voyageurs + Non voyageurs 2023",
         "rawType": "int64",
         "type": "integer"
        },
        {
         "name": "Total Voyageurs 2022",
         "rawType": "int64",
         "type": "integer"
        },
        {
         "name": "Total Voyageurs + Non voyageurs 2022",
         "rawType": "int64",
         "type": "integer"
        },
        {
         "name": "Total Voyageurs 2021",
         "rawType": "int64",
         "type": "integer"
        },
        {
         "name": "Total Voyageurs + Non voyageurs 2021",
         "rawType": "int64",
         "type": "integer"
        },
        {
         "name": "Total Voyageurs 2020",
         "rawType": "int64",
         "type": "integer"
        },
        {
         "name": "Total Voyageurs + Non voyageurs 2020",
         "rawType": "int64",
         "type": "integer"
        },
        {
         "name": "Total Voyageurs 2019",
         "rawType": "int64",
         "type": "integer"
        },
        {
         "name": "Total Voyageurs + Non voyageurs 2019",
         "rawType": "int64",
         "type": "integer"
        },
        {
         "name": "Total Voyageurs 2018",
         "rawType": "int64",
         "type": "integer"
        },
        {
         "name": "Total Voyageurs + Non voyageurs 2018",
         "rawType": "int64",
         "type": "integer"
        },
        {
         "name": "Total Voyageurs 2017",
         "rawType": "int64",
         "type": "integer"
        },
        {
         "name": "Total Voyageurs + Non voyageurs 2017",
         "rawType": "int64",
         "type": "integer"
        },
        {
         "name": "Total Voyageurs 2016",
         "rawType": "int64",
         "type": "integer"
        },
        {
         "name": "Total Voyageurs + Non voyageurs 2016",
         "rawType": "int64",
         "type": "integer"
        },
        {
         "name": "Total Voyageurs 2015",
         "rawType": "int64",
         "type": "integer"
        },
        {
         "name": "Total Voyageurs + Non voyageurs 2015",
         "rawType": "int64",
         "type": "integer"
        }
       ],
       "ref": "3a6e4213-dcd8-4705-9c63-6f0d565714ec",
       "rows": [
        [
         "0",
         "Abbaretz",
         "87481614",
         "44170",
         "C",
         "54862",
         "54862",
         "40825",
         "40825",
         "27466",
         "27466",
         "22773",
         "22773",
         "38473",
         "38473",
         "38027",
         "38027",
         "35637",
         "35637",
         "33021",
         "33021",
         "35989",
         "35989"
        ],
        [
         "1",
         "Achères Grand Cormier",
         "87386052",
         "78100",
         "B",
         "188426",
         "188426",
         "177092",
         "177092",
         "209673",
         "209673",
         "126513",
         "126513",
         "221003",
         "221003",
         "228032",
         "228032",
         "235698",
         "235698",
         "238687",
         "238687",
         "241046",
         "241046"
        ],
        [
         "2",
         "Achiet-le-Grand",
         "87342048",
         "62121",
         "C",
         "82597",
         "82597",
         "80648",
         "80648",
         "71432",
         "71432",
         "67305",
         "67305",
         "97848",
         "97848",
         "92323",
         "92323",
         "96451",
         "96451",
         "92084",
         "92084",
         "92018",
         "92018"
        ],
        [
         "3",
         "Agay",
         "87757559",
         "83530",
         "C",
         "39364",
         "39364",
         "32800",
         "32800",
         "25094",
         "25094",
         "15390",
         "15390",
         "22284",
         "22284",
         "15093",
         "15093",
         "14154",
         "14154",
         "19240",
         "19240",
         "19121",
         "19121"
        ],
        [
         "4",
         "Aigues-Mortes",
         "87775858",
         "30220",
         "C",
         "17034",
         "17034",
         "11325",
         "11325",
         "8201",
         "8201",
         "5683",
         "5683",
         "6146",
         "6146",
         "5311",
         "5311",
         "4822",
         "4822",
         "3546",
         "3546",
         "3917",
         "3917"
        ]
       ],
       "shape": {
        "columns": 22,
        "rows": 5
       }
      },
      "text/html": [
       "<div>\n",
       "<style scoped>\n",
       "    .dataframe tbody tr th:only-of-type {\n",
       "        vertical-align: middle;\n",
       "    }\n",
       "\n",
       "    .dataframe tbody tr th {\n",
       "        vertical-align: top;\n",
       "    }\n",
       "\n",
       "    .dataframe thead th {\n",
       "        text-align: right;\n",
       "    }\n",
       "</style>\n",
       "<table border=\"1\" class=\"dataframe\">\n",
       "  <thead>\n",
       "    <tr style=\"text-align: right;\">\n",
       "      <th></th>\n",
       "      <th>Nom de la gare</th>\n",
       "      <th>Code UIC</th>\n",
       "      <th>Code postal</th>\n",
       "      <th>Segmentation DRG</th>\n",
       "      <th>Total Voyageurs 2023</th>\n",
       "      <th>Total Voyageurs + Non voyageurs 2023</th>\n",
       "      <th>Total Voyageurs 2022</th>\n",
       "      <th>Total Voyageurs + Non voyageurs 2022</th>\n",
       "      <th>Total Voyageurs 2021</th>\n",
       "      <th>Total Voyageurs + Non voyageurs 2021</th>\n",
       "      <th>...</th>\n",
       "      <th>Total Voyageurs 2019</th>\n",
       "      <th>Total Voyageurs + Non voyageurs 2019</th>\n",
       "      <th>Total Voyageurs 2018</th>\n",
       "      <th>Total Voyageurs + Non voyageurs 2018</th>\n",
       "      <th>Total Voyageurs 2017</th>\n",
       "      <th>Total Voyageurs + Non voyageurs 2017</th>\n",
       "      <th>Total Voyageurs 2016</th>\n",
       "      <th>Total Voyageurs + Non voyageurs 2016</th>\n",
       "      <th>Total Voyageurs 2015</th>\n",
       "      <th>Total Voyageurs + Non voyageurs 2015</th>\n",
       "    </tr>\n",
       "  </thead>\n",
       "  <tbody>\n",
       "    <tr>\n",
       "      <th>0</th>\n",
       "      <td>Abbaretz</td>\n",
       "      <td>87481614</td>\n",
       "      <td>44170</td>\n",
       "      <td>C</td>\n",
       "      <td>54862</td>\n",
       "      <td>54862</td>\n",
       "      <td>40825</td>\n",
       "      <td>40825</td>\n",
       "      <td>27466</td>\n",
       "      <td>27466</td>\n",
       "      <td>...</td>\n",
       "      <td>38473</td>\n",
       "      <td>38473</td>\n",
       "      <td>38027</td>\n",
       "      <td>38027</td>\n",
       "      <td>35637</td>\n",
       "      <td>35637</td>\n",
       "      <td>33021</td>\n",
       "      <td>33021</td>\n",
       "      <td>35989</td>\n",
       "      <td>35989</td>\n",
       "    </tr>\n",
       "    <tr>\n",
       "      <th>1</th>\n",
       "      <td>Achères Grand Cormier</td>\n",
       "      <td>87386052</td>\n",
       "      <td>78100</td>\n",
       "      <td>B</td>\n",
       "      <td>188426</td>\n",
       "      <td>188426</td>\n",
       "      <td>177092</td>\n",
       "      <td>177092</td>\n",
       "      <td>209673</td>\n",
       "      <td>209673</td>\n",
       "      <td>...</td>\n",
       "      <td>221003</td>\n",
       "      <td>221003</td>\n",
       "      <td>228032</td>\n",
       "      <td>228032</td>\n",
       "      <td>235698</td>\n",
       "      <td>235698</td>\n",
       "      <td>238687</td>\n",
       "      <td>238687</td>\n",
       "      <td>241046</td>\n",
       "      <td>241046</td>\n",
       "    </tr>\n",
       "    <tr>\n",
       "      <th>2</th>\n",
       "      <td>Achiet-le-Grand</td>\n",
       "      <td>87342048</td>\n",
       "      <td>62121</td>\n",
       "      <td>C</td>\n",
       "      <td>82597</td>\n",
       "      <td>82597</td>\n",
       "      <td>80648</td>\n",
       "      <td>80648</td>\n",
       "      <td>71432</td>\n",
       "      <td>71432</td>\n",
       "      <td>...</td>\n",
       "      <td>97848</td>\n",
       "      <td>97848</td>\n",
       "      <td>92323</td>\n",
       "      <td>92323</td>\n",
       "      <td>96451</td>\n",
       "      <td>96451</td>\n",
       "      <td>92084</td>\n",
       "      <td>92084</td>\n",
       "      <td>92018</td>\n",
       "      <td>92018</td>\n",
       "    </tr>\n",
       "    <tr>\n",
       "      <th>3</th>\n",
       "      <td>Agay</td>\n",
       "      <td>87757559</td>\n",
       "      <td>83530</td>\n",
       "      <td>C</td>\n",
       "      <td>39364</td>\n",
       "      <td>39364</td>\n",
       "      <td>32800</td>\n",
       "      <td>32800</td>\n",
       "      <td>25094</td>\n",
       "      <td>25094</td>\n",
       "      <td>...</td>\n",
       "      <td>22284</td>\n",
       "      <td>22284</td>\n",
       "      <td>15093</td>\n",
       "      <td>15093</td>\n",
       "      <td>14154</td>\n",
       "      <td>14154</td>\n",
       "      <td>19240</td>\n",
       "      <td>19240</td>\n",
       "      <td>19121</td>\n",
       "      <td>19121</td>\n",
       "    </tr>\n",
       "    <tr>\n",
       "      <th>4</th>\n",
       "      <td>Aigues-Mortes</td>\n",
       "      <td>87775858</td>\n",
       "      <td>30220</td>\n",
       "      <td>C</td>\n",
       "      <td>17034</td>\n",
       "      <td>17034</td>\n",
       "      <td>11325</td>\n",
       "      <td>11325</td>\n",
       "      <td>8201</td>\n",
       "      <td>8201</td>\n",
       "      <td>...</td>\n",
       "      <td>6146</td>\n",
       "      <td>6146</td>\n",
       "      <td>5311</td>\n",
       "      <td>5311</td>\n",
       "      <td>4822</td>\n",
       "      <td>4822</td>\n",
       "      <td>3546</td>\n",
       "      <td>3546</td>\n",
       "      <td>3917</td>\n",
       "      <td>3917</td>\n",
       "    </tr>\n",
       "  </tbody>\n",
       "</table>\n",
       "<p>5 rows × 22 columns</p>\n",
       "</div>"
      ],
      "text/plain": [
       "          Nom de la gare  Code UIC  Code postal Segmentation DRG  \\\n",
       "0               Abbaretz  87481614        44170                C   \n",
       "1  Achères Grand Cormier  87386052        78100                B   \n",
       "2        Achiet-le-Grand  87342048        62121                C   \n",
       "3                   Agay  87757559        83530                C   \n",
       "4          Aigues-Mortes  87775858        30220                C   \n",
       "\n",
       "   Total Voyageurs 2023  Total Voyageurs + Non voyageurs 2023  \\\n",
       "0                 54862                                 54862   \n",
       "1                188426                                188426   \n",
       "2                 82597                                 82597   \n",
       "3                 39364                                 39364   \n",
       "4                 17034                                 17034   \n",
       "\n",
       "   Total Voyageurs 2022  Total Voyageurs + Non voyageurs 2022  \\\n",
       "0                 40825                                 40825   \n",
       "1                177092                                177092   \n",
       "2                 80648                                 80648   \n",
       "3                 32800                                 32800   \n",
       "4                 11325                                 11325   \n",
       "\n",
       "   Total Voyageurs 2021  Total Voyageurs + Non voyageurs 2021  ...  \\\n",
       "0                 27466                                 27466  ...   \n",
       "1                209673                                209673  ...   \n",
       "2                 71432                                 71432  ...   \n",
       "3                 25094                                 25094  ...   \n",
       "4                  8201                                  8201  ...   \n",
       "\n",
       "   Total Voyageurs 2019  Total Voyageurs + Non voyageurs 2019  \\\n",
       "0                 38473                                 38473   \n",
       "1                221003                                221003   \n",
       "2                 97848                                 97848   \n",
       "3                 22284                                 22284   \n",
       "4                  6146                                  6146   \n",
       "\n",
       "   Total Voyageurs 2018  Total Voyageurs + Non voyageurs 2018  \\\n",
       "0                 38027                                 38027   \n",
       "1                228032                                228032   \n",
       "2                 92323                                 92323   \n",
       "3                 15093                                 15093   \n",
       "4                  5311                                  5311   \n",
       "\n",
       "   Total Voyageurs 2017  Total Voyageurs + Non voyageurs 2017  \\\n",
       "0                 35637                                 35637   \n",
       "1                235698                                235698   \n",
       "2                 96451                                 96451   \n",
       "3                 14154                                 14154   \n",
       "4                  4822                                  4822   \n",
       "\n",
       "   Total Voyageurs 2016  Total Voyageurs + Non voyageurs 2016  \\\n",
       "0                 33021                                 33021   \n",
       "1                238687                                238687   \n",
       "2                 92084                                 92084   \n",
       "3                 19240                                 19240   \n",
       "4                  3546                                  3546   \n",
       "\n",
       "   Total Voyageurs 2015  Total Voyageurs + Non voyageurs 2015  \n",
       "0                 35989                                 35989  \n",
       "1                241046                                241046  \n",
       "2                 92018                                 92018  \n",
       "3                 19121                                 19121  \n",
       "4                  3917                                  3917  \n",
       "\n",
       "[5 rows x 22 columns]"
      ]
     },
     "execution_count": 2,
     "metadata": {},
     "output_type": "execute_result"
    }
   ],
   "source": [
    "frequentations = pd.read_csv(\"../data/raw/frequentation-gares.csv\",sep=\";\")\n",
    "print(frequentations.shape)\n",
    "frequentations.head()"
   ]
  },
  {
   "cell_type": "code",
   "execution_count": 3,
   "metadata": {},
   "outputs": [
    {
     "data": {
      "application/vnd.microsoft.datawrangler.viewer.v0+json": {
       "columns": [
        {
         "name": "index",
         "rawType": "object",
         "type": "string"
        },
        {
         "name": "0",
         "rawType": "object",
         "type": "unknown"
        }
       ],
       "ref": "f856462d-7d15-44f4-b314-d9b9bf2fde8a",
       "rows": [
        [
         "Nom de la gare",
         "object"
        ],
        [
         "Code UIC",
         "int64"
        ],
        [
         "Code postal",
         "int64"
        ],
        [
         "Segmentation DRG",
         "object"
        ],
        [
         "Total Voyageurs 2023",
         "int64"
        ],
        [
         "Total Voyageurs + Non voyageurs 2023",
         "int64"
        ],
        [
         "Total Voyageurs 2022",
         "int64"
        ],
        [
         "Total Voyageurs + Non voyageurs 2022",
         "int64"
        ],
        [
         "Total Voyageurs 2021",
         "int64"
        ],
        [
         "Total Voyageurs + Non voyageurs 2021",
         "int64"
        ],
        [
         "Total Voyageurs 2020",
         "int64"
        ],
        [
         "Total Voyageurs + Non voyageurs 2020",
         "int64"
        ],
        [
         "Total Voyageurs 2019",
         "int64"
        ],
        [
         "Total Voyageurs + Non voyageurs 2019",
         "int64"
        ],
        [
         "Total Voyageurs 2018",
         "int64"
        ],
        [
         "Total Voyageurs + Non voyageurs 2018",
         "int64"
        ],
        [
         "Total Voyageurs 2017",
         "int64"
        ],
        [
         "Total Voyageurs + Non voyageurs 2017",
         "int64"
        ],
        [
         "Total Voyageurs 2016",
         "int64"
        ],
        [
         "Total Voyageurs + Non voyageurs 2016",
         "int64"
        ],
        [
         "Total Voyageurs 2015",
         "int64"
        ],
        [
         "Total Voyageurs + Non voyageurs 2015",
         "int64"
        ]
       ],
       "shape": {
        "columns": 1,
        "rows": 22
       }
      },
      "text/plain": [
       "Nom de la gare                          object\n",
       "Code UIC                                 int64\n",
       "Code postal                              int64\n",
       "Segmentation DRG                        object\n",
       "Total Voyageurs 2023                     int64\n",
       "Total Voyageurs + Non voyageurs 2023     int64\n",
       "Total Voyageurs 2022                     int64\n",
       "Total Voyageurs + Non voyageurs 2022     int64\n",
       "Total Voyageurs 2021                     int64\n",
       "Total Voyageurs + Non voyageurs 2021     int64\n",
       "Total Voyageurs 2020                     int64\n",
       "Total Voyageurs + Non voyageurs 2020     int64\n",
       "Total Voyageurs 2019                     int64\n",
       "Total Voyageurs + Non voyageurs 2019     int64\n",
       "Total Voyageurs 2018                     int64\n",
       "Total Voyageurs + Non voyageurs 2018     int64\n",
       "Total Voyageurs 2017                     int64\n",
       "Total Voyageurs + Non voyageurs 2017     int64\n",
       "Total Voyageurs 2016                     int64\n",
       "Total Voyageurs + Non voyageurs 2016     int64\n",
       "Total Voyageurs 2015                     int64\n",
       "Total Voyageurs + Non voyageurs 2015     int64\n",
       "dtype: object"
      ]
     },
     "execution_count": 3,
     "metadata": {},
     "output_type": "execute_result"
    }
   ],
   "source": [
    "frequentations.dtypes"
   ]
  },
  {
   "cell_type": "code",
   "execution_count": 4,
   "metadata": {},
   "outputs": [
    {
     "name": "stdout",
     "output_type": "stream",
     "text": [
      "          Nom de la gare  Code UIC  Code postal Segmentation DRG  \\\n",
      "0               Abbaretz  87481614        44170                C   \n",
      "1  Achères Grand Cormier  87386052        78100                B   \n",
      "2        Achiet-le-Grand  87342048        62121                C   \n",
      "3                   Agay  87757559        83530                C   \n",
      "4          Aigues-Mortes  87775858        30220                C   \n",
      "\n",
      "   Total Voyageurs 2023  Total Voyageurs + Non voyageurs 2023  \\\n",
      "0                 54862                                 54862   \n",
      "1                188426                                188426   \n",
      "2                 82597                                 82597   \n",
      "3                 39364                                 39364   \n",
      "4                 17034                                 17034   \n",
      "\n",
      "   Total Voyageurs 2022  Total Voyageurs + Non voyageurs 2022  \\\n",
      "0                 40825                                 40825   \n",
      "1                177092                                177092   \n",
      "2                 80648                                 80648   \n",
      "3                 32800                                 32800   \n",
      "4                 11325                                 11325   \n",
      "\n",
      "   Total Voyageurs 2021  Total Voyageurs + Non voyageurs 2021  ...  \\\n",
      "0                 27466                                 27466  ...   \n",
      "1                209673                                209673  ...   \n",
      "2                 71432                                 71432  ...   \n",
      "3                 25094                                 25094  ...   \n",
      "4                  8201                                  8201  ...   \n",
      "\n",
      "   Total Voyageurs 2019  Total Voyageurs + Non voyageurs 2019  \\\n",
      "0                 38473                                 38473   \n",
      "1                221003                                221003   \n",
      "2                 97848                                 97848   \n",
      "3                 22284                                 22284   \n",
      "4                  6146                                  6146   \n",
      "\n",
      "   Total Voyageurs 2018  Total Voyageurs + Non voyageurs 2018  \\\n",
      "0                 38027                                 38027   \n",
      "1                228032                                228032   \n",
      "2                 92323                                 92323   \n",
      "3                 15093                                 15093   \n",
      "4                  5311                                  5311   \n",
      "\n",
      "   Total Voyageurs 2017  Total Voyageurs + Non voyageurs 2017  \\\n",
      "0                 35637                                 35637   \n",
      "1                235698                                235698   \n",
      "2                 96451                                 96451   \n",
      "3                 14154                                 14154   \n",
      "4                  4822                                  4822   \n",
      "\n",
      "   Total Voyageurs 2016  Total Voyageurs + Non voyageurs 2016  \\\n",
      "0                 33021                                 33021   \n",
      "1                238687                                238687   \n",
      "2                 92084                                 92084   \n",
      "3                 19240                                 19240   \n",
      "4                  3546                                  3546   \n",
      "\n",
      "   Total Voyageurs 2015  Total Voyageurs + Non voyageurs 2015  \n",
      "0                 35989                                 35989  \n",
      "1                241046                                241046  \n",
      "2                 92018                                 92018  \n",
      "3                 19121                                 19121  \n",
      "4                  3917                                  3917  \n",
      "\n",
      "[5 rows x 22 columns]\n"
     ]
    }
   ],
   "source": [
    "print(frequentations.head())"
   ]
  },
  {
   "cell_type": "code",
   "execution_count": 5,
   "metadata": {},
   "outputs": [
    {
     "data": {
      "text/plain": [
       "['Nom de la gare',\n",
       " 'Code UIC',\n",
       " 'Code postal',\n",
       " 'Segmentation DRG',\n",
       " 'Total Voyageurs 2023',\n",
       " 'Total Voyageurs + Non voyageurs 2023',\n",
       " 'Total Voyageurs 2022',\n",
       " 'Total Voyageurs + Non voyageurs 2022',\n",
       " 'Total Voyageurs 2021',\n",
       " 'Total Voyageurs + Non voyageurs 2021',\n",
       " 'Total Voyageurs 2020',\n",
       " 'Total Voyageurs + Non voyageurs 2020',\n",
       " 'Total Voyageurs 2019',\n",
       " 'Total Voyageurs + Non voyageurs 2019',\n",
       " 'Total Voyageurs 2018',\n",
       " 'Total Voyageurs + Non voyageurs 2018',\n",
       " 'Total Voyageurs 2017',\n",
       " 'Total Voyageurs + Non voyageurs 2017',\n",
       " 'Total Voyageurs 2016',\n",
       " 'Total Voyageurs + Non voyageurs 2016',\n",
       " 'Total Voyageurs 2015',\n",
       " 'Total Voyageurs + Non voyageurs 2015']"
      ]
     },
     "execution_count": 5,
     "metadata": {},
     "output_type": "execute_result"
    }
   ],
   "source": [
    "list(frequentations.columns)"
   ]
  },
  {
   "cell_type": "markdown",
   "metadata": {},
   "source": [
    "## Transformation de la donnée\n",
    "\n",
    "On remarque que les données sont présentées de la façon suivante:\n",
    "\n",
    "| Nom                 | Code Postal | Total Voyageurs 2023 | Total Voyageurs 2022 | Total Voyageurs 2021 |\n",
    "|---------------------|-------------|----------------------|----------------------|----------------------|\n",
    "| Aiguebelette-le-Lac | 73610       | 4394                 | 4046                 | 3658                 |\n",
    "| Aigueperse          | 63260       | 86794                | 70599                | 55143                |\n",
    "| ...                 | ...         | ...                  | ...                  | ...                  |\n",
    "\n",
    "Ce format n'est pas idéal, car il multiplie le nombre de colonnes si on ajoute des années. Ainsi, il rend compliqué les comparaisons d'une année à une autre.\n",
    "\n",
    "Il est donc préférable de procéder ainsi : \n",
    "\n",
    "| Nom                 | Code Postal | Année | Total Voyageurs      |\n",
    "|---------------------|-------------|-------|----------------------|\n",
    "| Aiguebelette-le-Lac | 73610       | 2023  | 4394                 |\n",
    "| Aiguebelette-le-Lac | 73610       | 2022  | 4046                 |\n",
    "| Aiguebelette-le-Lac | 73610       | 2020  | 3658                 |\n",
    "| Aigueperse          | 63260       | 2023  | 86794                |\n",
    "| Aigueperse          | 63260       | 2022  | 70599                |\n",
    "| Aigueperse          | 63260       | 2020  | 55143                |\n",
    "| ...                 | ...         | ...   | ...                  |\n",
    "\n",
    "On ajoute alors un certain nombre de lignes, mais on rend la donnée beaucoup plus lisible."
   ]
  },
  {
   "cell_type": "code",
   "execution_count": 6,
   "metadata": {},
   "outputs": [],
   "source": [
    "def set_correct_columns(frequentations_df):\n",
    "    years = [str(year) for year in range(2015, 2024)]\n",
    "    transformed_df = pd.DataFrame()\n",
    "    for year in years:\n",
    "        year_df = frequentations_df[[\"Nom de la gare\", \"Code UIC\", \"Code postal\", \"Segmentation DRG\", f\"Total Voyageurs {year}\", f\"Total Voyageurs + Non voyageurs {year}\"]]\n",
    "        year_df = year_df.assign(Année=year) # On peut faire year_df[\"Année\"] = year mais c'est moins propre, on a le warning SettingWithCopyWarning.\n",
    "        year_df = year_df.rename(columns={f\"Total Voyageurs {year}\":\"Total Voyageurs\", f\"Total Voyageurs + Non voyageurs {year}\":\"Total Voyageurs + Non Voyageurs\"})\n",
    "        transformed_df = pd.concat([transformed_df, year_df])\n",
    "    transformed_df = transformed_df.sort_values(by=[\"Nom de la gare\", \"Année\"])\n",
    "    transformed_df = transformed_df.reset_index(drop=True)\n",
    "    return transformed_df\n",
    "        \n",
    "    \n",
    "frequentations_correct_columns = set_correct_columns(frequentations)\n"
   ]
  },
  {
   "cell_type": "code",
   "execution_count": 7,
   "metadata": {},
   "outputs": [
    {
     "data": {
      "application/vnd.microsoft.datawrangler.viewer.v0+json": {
       "columns": [
        {
         "name": "index",
         "rawType": "int64",
         "type": "integer"
        },
        {
         "name": "Nom de la gare",
         "rawType": "object",
         "type": "string"
        },
        {
         "name": "Code UIC",
         "rawType": "int64",
         "type": "integer"
        },
        {
         "name": "Code postal",
         "rawType": "int64",
         "type": "integer"
        },
        {
         "name": "Segmentation DRG",
         "rawType": "object",
         "type": "string"
        },
        {
         "name": "Total Voyageurs",
         "rawType": "int64",
         "type": "integer"
        },
        {
         "name": "Total Voyageurs + Non Voyageurs",
         "rawType": "int64",
         "type": "integer"
        },
        {
         "name": "Année",
         "rawType": "object",
         "type": "string"
        }
       ],
       "ref": "7bb58088-fae2-411a-ae37-1e79695b2232",
       "rows": [
        [
         "0",
         "Abancourt",
         "87313759",
         "60220",
         "C",
         "39720",
         "39720",
         "2015"
        ],
        [
         "1",
         "Abancourt",
         "87313759",
         "60220",
         "C",
         "41096",
         "41096",
         "2016"
        ],
        [
         "2",
         "Abancourt",
         "87313759",
         "60220",
         "C",
         "43760",
         "43760",
         "2017"
        ],
        [
         "3",
         "Abancourt",
         "87313759",
         "60220",
         "C",
         "40228",
         "40228",
         "2018"
        ],
        [
         "4",
         "Abancourt",
         "87313759",
         "60220",
         "C",
         "42685",
         "42685",
         "2019"
        ]
       ],
       "shape": {
        "columns": 7,
        "rows": 5
       }
      },
      "text/html": [
       "<div>\n",
       "<style scoped>\n",
       "    .dataframe tbody tr th:only-of-type {\n",
       "        vertical-align: middle;\n",
       "    }\n",
       "\n",
       "    .dataframe tbody tr th {\n",
       "        vertical-align: top;\n",
       "    }\n",
       "\n",
       "    .dataframe thead th {\n",
       "        text-align: right;\n",
       "    }\n",
       "</style>\n",
       "<table border=\"1\" class=\"dataframe\">\n",
       "  <thead>\n",
       "    <tr style=\"text-align: right;\">\n",
       "      <th></th>\n",
       "      <th>Nom de la gare</th>\n",
       "      <th>Code UIC</th>\n",
       "      <th>Code postal</th>\n",
       "      <th>Segmentation DRG</th>\n",
       "      <th>Total Voyageurs</th>\n",
       "      <th>Total Voyageurs + Non Voyageurs</th>\n",
       "      <th>Année</th>\n",
       "    </tr>\n",
       "  </thead>\n",
       "  <tbody>\n",
       "    <tr>\n",
       "      <th>0</th>\n",
       "      <td>Abancourt</td>\n",
       "      <td>87313759</td>\n",
       "      <td>60220</td>\n",
       "      <td>C</td>\n",
       "      <td>39720</td>\n",
       "      <td>39720</td>\n",
       "      <td>2015</td>\n",
       "    </tr>\n",
       "    <tr>\n",
       "      <th>1</th>\n",
       "      <td>Abancourt</td>\n",
       "      <td>87313759</td>\n",
       "      <td>60220</td>\n",
       "      <td>C</td>\n",
       "      <td>41096</td>\n",
       "      <td>41096</td>\n",
       "      <td>2016</td>\n",
       "    </tr>\n",
       "    <tr>\n",
       "      <th>2</th>\n",
       "      <td>Abancourt</td>\n",
       "      <td>87313759</td>\n",
       "      <td>60220</td>\n",
       "      <td>C</td>\n",
       "      <td>43760</td>\n",
       "      <td>43760</td>\n",
       "      <td>2017</td>\n",
       "    </tr>\n",
       "    <tr>\n",
       "      <th>3</th>\n",
       "      <td>Abancourt</td>\n",
       "      <td>87313759</td>\n",
       "      <td>60220</td>\n",
       "      <td>C</td>\n",
       "      <td>40228</td>\n",
       "      <td>40228</td>\n",
       "      <td>2018</td>\n",
       "    </tr>\n",
       "    <tr>\n",
       "      <th>4</th>\n",
       "      <td>Abancourt</td>\n",
       "      <td>87313759</td>\n",
       "      <td>60220</td>\n",
       "      <td>C</td>\n",
       "      <td>42685</td>\n",
       "      <td>42685</td>\n",
       "      <td>2019</td>\n",
       "    </tr>\n",
       "  </tbody>\n",
       "</table>\n",
       "</div>"
      ],
      "text/plain": [
       "  Nom de la gare  Code UIC  Code postal Segmentation DRG  Total Voyageurs  \\\n",
       "0      Abancourt  87313759        60220                C            39720   \n",
       "1      Abancourt  87313759        60220                C            41096   \n",
       "2      Abancourt  87313759        60220                C            43760   \n",
       "3      Abancourt  87313759        60220                C            40228   \n",
       "4      Abancourt  87313759        60220                C            42685   \n",
       "\n",
       "   Total Voyageurs + Non Voyageurs Année  \n",
       "0                            39720  2015  \n",
       "1                            41096  2016  \n",
       "2                            43760  2017  \n",
       "3                            40228  2018  \n",
       "4                            42685  2019  "
      ]
     },
     "execution_count": 7,
     "metadata": {},
     "output_type": "execute_result"
    }
   ],
   "source": [
    "frequentations_correct_columns.head()"
   ]
  },
  {
   "cell_type": "code",
   "execution_count": 8,
   "metadata": {},
   "outputs": [
    {
     "data": {
      "application/vnd.microsoft.datawrangler.viewer.v0+json": {
       "columns": [
        {
         "name": "index",
         "rawType": "int64",
         "type": "integer"
        },
        {
         "name": "Nom de la gare",
         "rawType": "object",
         "type": "string"
        },
        {
         "name": "Code UIC",
         "rawType": "int64",
         "type": "integer"
        },
        {
         "name": "Code postal",
         "rawType": "int64",
         "type": "integer"
        },
        {
         "name": "Segmentation DRG",
         "rawType": "object",
         "type": "string"
        },
        {
         "name": "Total Voyageurs",
         "rawType": "int64",
         "type": "integer"
        },
        {
         "name": "Total Voyageurs + Non Voyageurs",
         "rawType": "int64",
         "type": "integer"
        },
        {
         "name": "Année",
         "rawType": "object",
         "type": "string"
        }
       ],
       "ref": "20c0ae3d-36c3-41a9-9187-fedf2fd57a20",
       "rows": [
        [
         "27085",
         "Évry-Courcouronnes",
         "87681387",
         "91000",
         "B",
         "11258509",
         "11258509",
         "2019"
        ],
        [
         "27086",
         "Évry-Courcouronnes",
         "87681387",
         "91000",
         "B",
         "5130572",
         "5130572",
         "2020"
        ],
        [
         "27087",
         "Évry-Courcouronnes",
         "87681387",
         "91000",
         "B",
         "8307516",
         "8307516",
         "2021"
        ],
        [
         "27088",
         "Évry-Courcouronnes",
         "87681387",
         "91000",
         "B",
         "9299239",
         "9299239",
         "2022"
        ],
        [
         "27089",
         "Évry-Courcouronnes",
         "87681387",
         "91000",
         "B",
         "9895865",
         "9895865",
         "2023"
        ]
       ],
       "shape": {
        "columns": 7,
        "rows": 5
       }
      },
      "text/html": [
       "<div>\n",
       "<style scoped>\n",
       "    .dataframe tbody tr th:only-of-type {\n",
       "        vertical-align: middle;\n",
       "    }\n",
       "\n",
       "    .dataframe tbody tr th {\n",
       "        vertical-align: top;\n",
       "    }\n",
       "\n",
       "    .dataframe thead th {\n",
       "        text-align: right;\n",
       "    }\n",
       "</style>\n",
       "<table border=\"1\" class=\"dataframe\">\n",
       "  <thead>\n",
       "    <tr style=\"text-align: right;\">\n",
       "      <th></th>\n",
       "      <th>Nom de la gare</th>\n",
       "      <th>Code UIC</th>\n",
       "      <th>Code postal</th>\n",
       "      <th>Segmentation DRG</th>\n",
       "      <th>Total Voyageurs</th>\n",
       "      <th>Total Voyageurs + Non Voyageurs</th>\n",
       "      <th>Année</th>\n",
       "    </tr>\n",
       "  </thead>\n",
       "  <tbody>\n",
       "    <tr>\n",
       "      <th>27085</th>\n",
       "      <td>Évry-Courcouronnes</td>\n",
       "      <td>87681387</td>\n",
       "      <td>91000</td>\n",
       "      <td>B</td>\n",
       "      <td>11258509</td>\n",
       "      <td>11258509</td>\n",
       "      <td>2019</td>\n",
       "    </tr>\n",
       "    <tr>\n",
       "      <th>27086</th>\n",
       "      <td>Évry-Courcouronnes</td>\n",
       "      <td>87681387</td>\n",
       "      <td>91000</td>\n",
       "      <td>B</td>\n",
       "      <td>5130572</td>\n",
       "      <td>5130572</td>\n",
       "      <td>2020</td>\n",
       "    </tr>\n",
       "    <tr>\n",
       "      <th>27087</th>\n",
       "      <td>Évry-Courcouronnes</td>\n",
       "      <td>87681387</td>\n",
       "      <td>91000</td>\n",
       "      <td>B</td>\n",
       "      <td>8307516</td>\n",
       "      <td>8307516</td>\n",
       "      <td>2021</td>\n",
       "    </tr>\n",
       "    <tr>\n",
       "      <th>27088</th>\n",
       "      <td>Évry-Courcouronnes</td>\n",
       "      <td>87681387</td>\n",
       "      <td>91000</td>\n",
       "      <td>B</td>\n",
       "      <td>9299239</td>\n",
       "      <td>9299239</td>\n",
       "      <td>2022</td>\n",
       "    </tr>\n",
       "    <tr>\n",
       "      <th>27089</th>\n",
       "      <td>Évry-Courcouronnes</td>\n",
       "      <td>87681387</td>\n",
       "      <td>91000</td>\n",
       "      <td>B</td>\n",
       "      <td>9895865</td>\n",
       "      <td>9895865</td>\n",
       "      <td>2023</td>\n",
       "    </tr>\n",
       "  </tbody>\n",
       "</table>\n",
       "</div>"
      ],
      "text/plain": [
       "           Nom de la gare  Code UIC  Code postal Segmentation DRG  \\\n",
       "27085  Évry-Courcouronnes  87681387        91000                B   \n",
       "27086  Évry-Courcouronnes  87681387        91000                B   \n",
       "27087  Évry-Courcouronnes  87681387        91000                B   \n",
       "27088  Évry-Courcouronnes  87681387        91000                B   \n",
       "27089  Évry-Courcouronnes  87681387        91000                B   \n",
       "\n",
       "       Total Voyageurs  Total Voyageurs + Non Voyageurs Année  \n",
       "27085         11258509                         11258509  2019  \n",
       "27086          5130572                          5130572  2020  \n",
       "27087          8307516                          8307516  2021  \n",
       "27088          9299239                          9299239  2022  \n",
       "27089          9895865                          9895865  2023  "
      ]
     },
     "execution_count": 8,
     "metadata": {},
     "output_type": "execute_result"
    }
   ],
   "source": [
    "frequentations_correct_columns.tail()"
   ]
  },
  {
   "cell_type": "markdown",
   "metadata": {},
   "source": [
    "## Réduction de la donnée\n",
    "\n",
    "### ```\"Segmentation DRG\"```\n",
    "\n",
    "Cette colonne représente la segmentation des gares provenant du [Document de Références des Gares de Voyageurs (DRG)](https://www.garesetconnexions.sncf/sites/default/files/2022-12/drg_2023_-_version_consultation.pdf)\n",
    "\n",
    "Chaque gare est attribuée d'une catégorie allant de A à C, ces catégories qualifient l'échelle d'importance d'une gare (National, Régional, Local), et sont fortement liées à leur fréquentation.\n",
    "\n",
    "[Avis n° 2021-048 du 23 septembre 2021, Autorité des Transports](https://www.autorite-transports.fr/wp-content/uploads/2021/10/avis-2021-048-version-publique-drg-2021.pdf) :\n",
    "\n",
    "- Les **gares de voyageurs d’intérêt national** (dites gares de catégorie « A »), sont celles dont\n",
    "la fréquentation par des usagers des services nationaux et internationaux est au moins\n",
    "égale à 250 000 voyageurs ou dont la fréquentation par ces mêmes usagers correspond à\n",
    "100 % des voyageurs. Le périmètre de gestion de ces gares correspond à une gare de\n",
    "voyageurs ou à un ensemble fonctionnel de gares de voyageurs;\n",
    "\n",
    "- Les **gares de voyageurs d’intérêt régional** (dites gares de catégorie « B ») sont celles qui\n",
    "ne relèvent pas de la catégorie A et dont la fréquentation totale est au moins égale à\n",
    "100 000 voyageurs. Le périmètre de gestion de ces gares correspond, dans chaque région,\n",
    "à l’ensemble des gares de cette catégorie ;\n",
    "\n",
    "- Les **gares de voyageurs d’intérêt local** (dites gares de catégorie « C ») sont celles qui ne\n",
    "relèvent d’aucune des catégories précédentes. Le périmètre de gestion de ces gares\n",
    "correspond, dans chaque région, à l’ensemble des gares de cette catégorie."
   ]
  },
  {
   "cell_type": "code",
   "execution_count": 9,
   "metadata": {},
   "outputs": [
    {
     "data": {
      "application/vnd.microsoft.datawrangler.viewer.v0+json": {
       "columns": [
        {
         "name": "Segmentation DRG",
         "rawType": "object",
         "type": "string"
        },
        {
         "name": "count",
         "rawType": "int64",
         "type": "integer"
        }
       ],
       "ref": "134791f7-bbc6-4c9a-895c-95e9592260e9",
       "rows": [
        [
         "C",
         "17361"
        ],
        [
         "B",
         "8226"
        ],
        [
         "A",
         "900"
        ]
       ],
       "shape": {
        "columns": 1,
        "rows": 3
       }
      },
      "text/plain": [
       "Segmentation DRG\n",
       "C    17361\n",
       "B     8226\n",
       "A      900\n",
       "Name: count, dtype: int64"
      ]
     },
     "execution_count": 9,
     "metadata": {},
     "output_type": "execute_result"
    }
   ],
   "source": [
    "frequentations_correct_columns[\"Segmentation DRG\"].value_counts()"
   ]
  },
  {
   "cell_type": "markdown",
   "metadata": {},
   "source": [
    "Cette donnée est intéressante à garder, par exemple pour faire une corrélation entre la fréquentation et la catégorie d'une gare.\n",
    "\n",
    "### ```Nom de la gare```\n",
    "\n",
    "On a déjà cette donnée dans ```liste-des-gares.geojson```. Et on utilise plutôt comme clé primaire ```Code UIC```.\n",
    "\n",
    "### ```Code postal```\n",
    "\n",
    "Cette donnée n'est pas dans liste-des-gares.geojson, donc on peut la garder."
   ]
  },
  {
   "cell_type": "code",
   "execution_count": 10,
   "metadata": {},
   "outputs": [
    {
     "name": "stdout",
     "output_type": "stream",
     "text": [
      "(27090, 6)\n"
     ]
    },
    {
     "data": {
      "application/vnd.microsoft.datawrangler.viewer.v0+json": {
       "columns": [
        {
         "name": "index",
         "rawType": "int64",
         "type": "integer"
        },
        {
         "name": "Code UIC",
         "rawType": "int64",
         "type": "integer"
        },
        {
         "name": "Code postal",
         "rawType": "int64",
         "type": "integer"
        },
        {
         "name": "Segmentation DRG",
         "rawType": "object",
         "type": "string"
        },
        {
         "name": "Total Voyageurs",
         "rawType": "int64",
         "type": "integer"
        },
        {
         "name": "Total Voyageurs + Non Voyageurs",
         "rawType": "int64",
         "type": "integer"
        },
        {
         "name": "Année",
         "rawType": "object",
         "type": "string"
        }
       ],
       "ref": "b5ce85f1-9d8d-4106-9de7-bec90aa683f7",
       "rows": [
        [
         "0",
         "87313759",
         "60220",
         "C",
         "39720",
         "39720",
         "2015"
        ],
        [
         "1",
         "87313759",
         "60220",
         "C",
         "41096",
         "41096",
         "2016"
        ],
        [
         "2",
         "87313759",
         "60220",
         "C",
         "43760",
         "43760",
         "2017"
        ],
        [
         "3",
         "87313759",
         "60220",
         "C",
         "40228",
         "40228",
         "2018"
        ],
        [
         "4",
         "87313759",
         "60220",
         "C",
         "42685",
         "42685",
         "2019"
        ]
       ],
       "shape": {
        "columns": 6,
        "rows": 5
       }
      },
      "text/html": [
       "<div>\n",
       "<style scoped>\n",
       "    .dataframe tbody tr th:only-of-type {\n",
       "        vertical-align: middle;\n",
       "    }\n",
       "\n",
       "    .dataframe tbody tr th {\n",
       "        vertical-align: top;\n",
       "    }\n",
       "\n",
       "    .dataframe thead th {\n",
       "        text-align: right;\n",
       "    }\n",
       "</style>\n",
       "<table border=\"1\" class=\"dataframe\">\n",
       "  <thead>\n",
       "    <tr style=\"text-align: right;\">\n",
       "      <th></th>\n",
       "      <th>Code UIC</th>\n",
       "      <th>Code postal</th>\n",
       "      <th>Segmentation DRG</th>\n",
       "      <th>Total Voyageurs</th>\n",
       "      <th>Total Voyageurs + Non Voyageurs</th>\n",
       "      <th>Année</th>\n",
       "    </tr>\n",
       "  </thead>\n",
       "  <tbody>\n",
       "    <tr>\n",
       "      <th>0</th>\n",
       "      <td>87313759</td>\n",
       "      <td>60220</td>\n",
       "      <td>C</td>\n",
       "      <td>39720</td>\n",
       "      <td>39720</td>\n",
       "      <td>2015</td>\n",
       "    </tr>\n",
       "    <tr>\n",
       "      <th>1</th>\n",
       "      <td>87313759</td>\n",
       "      <td>60220</td>\n",
       "      <td>C</td>\n",
       "      <td>41096</td>\n",
       "      <td>41096</td>\n",
       "      <td>2016</td>\n",
       "    </tr>\n",
       "    <tr>\n",
       "      <th>2</th>\n",
       "      <td>87313759</td>\n",
       "      <td>60220</td>\n",
       "      <td>C</td>\n",
       "      <td>43760</td>\n",
       "      <td>43760</td>\n",
       "      <td>2017</td>\n",
       "    </tr>\n",
       "    <tr>\n",
       "      <th>3</th>\n",
       "      <td>87313759</td>\n",
       "      <td>60220</td>\n",
       "      <td>C</td>\n",
       "      <td>40228</td>\n",
       "      <td>40228</td>\n",
       "      <td>2018</td>\n",
       "    </tr>\n",
       "    <tr>\n",
       "      <th>4</th>\n",
       "      <td>87313759</td>\n",
       "      <td>60220</td>\n",
       "      <td>C</td>\n",
       "      <td>42685</td>\n",
       "      <td>42685</td>\n",
       "      <td>2019</td>\n",
       "    </tr>\n",
       "  </tbody>\n",
       "</table>\n",
       "</div>"
      ],
      "text/plain": [
       "   Code UIC  Code postal Segmentation DRG  Total Voyageurs  \\\n",
       "0  87313759        60220                C            39720   \n",
       "1  87313759        60220                C            41096   \n",
       "2  87313759        60220                C            43760   \n",
       "3  87313759        60220                C            40228   \n",
       "4  87313759        60220                C            42685   \n",
       "\n",
       "   Total Voyageurs + Non Voyageurs Année  \n",
       "0                            39720  2015  \n",
       "1                            41096  2016  \n",
       "2                            43760  2017  \n",
       "3                            40228  2018  \n",
       "4                            42685  2019  "
      ]
     },
     "execution_count": 10,
     "metadata": {},
     "output_type": "execute_result"
    }
   ],
   "source": [
    "def process_frequentations(frequentations_df : pd.DataFrame) -> pd.DataFrame:\n",
    "    \"\"\"\n",
    "    Voir notebooks/4_frequentation_gares.ipynb\n",
    "    Traitement des données de frequentation-gares.csv\n",
    "    \n",
    "    La transformation consiste à passer d'un format large, où chaque année est une colonne distincte, \n",
    "    à un format long, où chaque année est une ligne distincte. Cela facilite les comparaisons et l'analyse \n",
    "    des données sur plusieurs années.\n",
    "    \n",
    "    Args:\n",
    "        frequentations_df (pd.DataFrame): DataFrame contenant les données de frequentation-gares.csv\n",
    "    Returns:\n",
    "        pd.DataFrame: Dataframe traitée.\n",
    "    \"\"\"\n",
    "    years = [str(year) for year in range(2015, 2024)]\n",
    "    frequentations_df_processed = pd.DataFrame()\n",
    "    for year in years:\n",
    "        year_df = frequentations_df[[\"Nom de la gare\", \"Code UIC\", \"Code postal\", \"Segmentation DRG\", f\"Total Voyageurs {year}\", f\"Total Voyageurs + Non voyageurs {year}\"]]\n",
    "        year_df = year_df.assign(Année=year) # On peut faire year_df[\"Année\"] = year mais c'est moins propre, on a le warning SettingWithCopyWarning.\n",
    "        year_df = year_df.rename(columns={f\"Total Voyageurs {year}\":\"Total Voyageurs\", f\"Total Voyageurs + Non voyageurs {year}\":\"Total Voyageurs + Non Voyageurs\"})\n",
    "        frequentations_df_processed = pd.concat([frequentations_df_processed, year_df])\n",
    "    frequentations_df_processed = frequentations_df_processed.sort_values(by=[\"Nom de la gare\", \"Année\"]) # On trie par nom de gare et année pour avoir un affichage plus lisible\n",
    "    frequentations_df_processed = frequentations_df_processed.drop(columns=[\"Nom de la gare\"])\n",
    "    frequentations_df_processed = frequentations_df_processed.reset_index(drop=True)\n",
    "    return frequentations_df_processed\n",
    "\n",
    "frequentations_processed = process_frequentations(frequentations)\n",
    "print(frequentations_processed.shape)\n",
    "frequentations_processed.head()"
   ]
  }
 ],
 "metadata": {
  "kernelspec": {
   "display_name": "python-data",
   "language": "python",
   "name": "python3"
  },
  "language_info": {
   "codemirror_mode": {
    "name": "ipython",
    "version": 3
   },
   "file_extension": ".py",
   "mimetype": "text/x-python",
   "name": "python",
   "nbconvert_exporter": "python",
   "pygments_lexer": "ipython3",
   "version": "3.12.5"
  }
 },
 "nbformat": 4,
 "nbformat_minor": 2
}
