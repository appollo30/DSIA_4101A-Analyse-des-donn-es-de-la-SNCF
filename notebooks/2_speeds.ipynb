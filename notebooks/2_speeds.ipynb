version https://git-lfs.github.com/spec/v1
oid sha256:7420f57151e036c532eba8acd0d91a4ba4f0e7b2093cd40938f879e122535d8e
size 84192
