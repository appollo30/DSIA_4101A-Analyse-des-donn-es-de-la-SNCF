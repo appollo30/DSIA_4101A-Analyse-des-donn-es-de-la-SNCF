{
 "cells": [
  {
   "cell_type": "code",
   "execution_count": 1,
   "metadata": {},
   "outputs": [],
   "source": [
    "import numpy as np\n",
    "import pandas as pd\n",
    "import geopandas as gpd\n",
    "import plotly.express as px"
   ]
  },
  {
   "cell_type": "markdown",
   "metadata": {},
   "source": [
    "# Exploration du fichier des vitesses\n",
    "\n",
    "Ce fichier contient les vitesses maximales autorisées sur les tronçons du réseau ferré national."
   ]
  },
  {
   "cell_type": "code",
   "execution_count": 2,
   "metadata": {},
   "outputs": [
    {
     "name": "stdout",
     "output_type": "stream",
     "text": [
      "(2529, 19)\n"
     ]
    },
    {
     "data": {
      "text/html": [
       "<div>\n",
       "<style scoped>\n",
       "    .dataframe tbody tr th:only-of-type {\n",
       "        vertical-align: middle;\n",
       "    }\n",
       "\n",
       "    .dataframe tbody tr th {\n",
       "        vertical-align: top;\n",
       "    }\n",
       "\n",
       "    .dataframe thead th {\n",
       "        text-align: right;\n",
       "    }\n",
       "</style>\n",
       "<table border=\"1\" class=\"dataframe\">\n",
       "  <thead>\n",
       "    <tr style=\"text-align: right;\">\n",
       "      <th></th>\n",
       "      <th>code_ligne</th>\n",
       "      <th>lib_ligne</th>\n",
       "      <th>v_max</th>\n",
       "      <th>rg_troncon</th>\n",
       "      <th>pkd</th>\n",
       "      <th>pkf</th>\n",
       "      <th>idgaia</th>\n",
       "      <th>x_d_l93</th>\n",
       "      <th>y_d_l93</th>\n",
       "      <th>x_f_l93</th>\n",
       "      <th>y_f_l93</th>\n",
       "      <th>x_d_wgs84</th>\n",
       "      <th>y_d_wgs84</th>\n",
       "      <th>x_f_wgs84</th>\n",
       "      <th>y_f_wgs84</th>\n",
       "      <th>c_geo_d</th>\n",
       "      <th>c_geo_f</th>\n",
       "      <th>geo_point_2d</th>\n",
       "      <th>geometry</th>\n",
       "    </tr>\n",
       "  </thead>\n",
       "  <tbody>\n",
       "    <tr>\n",
       "      <th>0</th>\n",
       "      <td>242000</td>\n",
       "      <td>Ligne de Creil à Jeumont</td>\n",
       "      <td>140</td>\n",
       "      <td>1</td>\n",
       "      <td>222+152</td>\n",
       "      <td>224+841</td>\n",
       "      <td>77986fb2-e28c-11e8-92ff-01b064e0362d</td>\n",
       "      <td>7.641287e+05</td>\n",
       "      <td>7.016495e+06</td>\n",
       "      <td>7.658409e+05</td>\n",
       "      <td>7.018610e+06</td>\n",
       "      <td>3.897931</td>\n",
       "      <td>50.243157</td>\n",
       "      <td>3.922249</td>\n",
       "      <td>50.261966</td>\n",
       "      <td>{ \"lon\": 3.897931336245875, \"lat\": 50.24315723...</td>\n",
       "      <td>{ \"lon\": 3.9222490335686517, \"lat\": 50.2619658...</td>\n",
       "      <td>{ \"lon\": 3.9108305177413909, \"lat\": 50.2517217...</td>\n",
       "      <td>LINESTRING (3.89793 50.24316, 3.8982 50.24339,...</td>\n",
       "    </tr>\n",
       "    <tr>\n",
       "      <th>1</th>\n",
       "      <td>366000</td>\n",
       "      <td>Ligne de Mantes-la-Jolie à Cherbourg</td>\n",
       "      <td>200</td>\n",
       "      <td>1</td>\n",
       "      <td>204+738</td>\n",
       "      <td>238+908</td>\n",
       "      <td>77a4fa62-e28c-11e8-92ff-01b064e0362d</td>\n",
       "      <td>4.856911e+05</td>\n",
       "      <td>6.893278e+06</td>\n",
       "      <td>4.559102e+05</td>\n",
       "      <td>6.902591e+06</td>\n",
       "      <td>0.064633</td>\n",
       "      <td>49.103467</td>\n",
       "      <td>-0.348220</td>\n",
       "      <td>49.176484</td>\n",
       "      <td>{ \"lon\": 0.064633482429558339, \"lat\": 49.10346...</td>\n",
       "      <td>{ \"lon\": -0.34821966895941142, \"lat\": 49.17648...</td>\n",
       "      <td>{ \"lon\": -0.14445964061185351, \"lat\": 49.10945...</td>\n",
       "      <td>LINESTRING (0.06463 49.10347, 0.06453 49.10343...</td>\n",
       "    </tr>\n",
       "    <tr>\n",
       "      <th>2</th>\n",
       "      <td>995000</td>\n",
       "      <td>Ligne de Bastia à Ajaccio (ligne centrale)</td>\n",
       "      <td>60</td>\n",
       "      <td>1</td>\n",
       "      <td>091+100</td>\n",
       "      <td>092+550</td>\n",
       "      <td>77909e06-e28c-11e8-92ff-01b064e0362d</td>\n",
       "      <td>1.209888e+06</td>\n",
       "      <td>6.140752e+06</td>\n",
       "      <td>1.210450e+06</td>\n",
       "      <td>6.139784e+06</td>\n",
       "      <td>9.167456</td>\n",
       "      <td>42.187707</td>\n",
       "      <td>9.173311</td>\n",
       "      <td>42.178645</td>\n",
       "      <td>{ \"lon\": 9.1674555515289811, \"lat\": 42.1877074...</td>\n",
       "      <td>{ \"lon\": 9.1733106648204128, \"lat\": 42.1786453...</td>\n",
       "      <td>{ \"lon\": 9.1708395291329747, \"lat\": 42.1833669...</td>\n",
       "      <td>LINESTRING (9.16746 42.18771, 9.1676 42.18756,...</td>\n",
       "    </tr>\n",
       "    <tr>\n",
       "      <th>3</th>\n",
       "      <td>995000</td>\n",
       "      <td>Ligne de Bastia à Ajaccio (ligne centrale)</td>\n",
       "      <td>70</td>\n",
       "      <td>1</td>\n",
       "      <td>028+280</td>\n",
       "      <td>031+800</td>\n",
       "      <td>778e2f14-e28c-11e8-92ff-01b064e0362d</td>\n",
       "      <td>1.224691e+06</td>\n",
       "      <td>6.177971e+06</td>\n",
       "      <td>1.221449e+06</td>\n",
       "      <td>6.177839e+06</td>\n",
       "      <td>9.382049</td>\n",
       "      <td>42.510609</td>\n",
       "      <td>9.342656</td>\n",
       "      <td>42.511779</td>\n",
       "      <td>{ \"lon\": 9.3820493826610285, \"lat\": 42.5106094...</td>\n",
       "      <td>{ \"lon\": 9.3426559493521957, \"lat\": 42.5117794...</td>\n",
       "      <td>{ \"lon\": 9.3623621168976765, \"lat\": 42.5093457...</td>\n",
       "      <td>LINESTRING (9.38205 42.51061, 9.3752 42.50851,...</td>\n",
       "    </tr>\n",
       "    <tr>\n",
       "      <th>4</th>\n",
       "      <td>890306</td>\n",
       "      <td>Raccordement de Culoz</td>\n",
       "      <td>60</td>\n",
       "      <td>1</td>\n",
       "      <td>000+000</td>\n",
       "      <td>000+606</td>\n",
       "      <td>779306f0-e28c-11e8-92ff-01b064e0362d</td>\n",
       "      <td>9.162122e+05</td>\n",
       "      <td>6.531116e+06</td>\n",
       "      <td>9.160776e+05</td>\n",
       "      <td>6.530596e+06</td>\n",
       "      <td>5.786444</td>\n",
       "      <td>45.845357</td>\n",
       "      <td>5.784475</td>\n",
       "      <td>45.840723</td>\n",
       "      <td>{ \"lon\": 5.7864437996495486, \"lat\": 45.8453573...</td>\n",
       "      <td>{ \"lon\": 5.7844746068288542, \"lat\": 45.8407233...</td>\n",
       "      <td>{ \"lon\": 5.7845964512461716, \"lat\": 45.8432853...</td>\n",
       "      <td>LINESTRING (5.78644 45.84536, 5.78532 45.84474...</td>\n",
       "    </tr>\n",
       "  </tbody>\n",
       "</table>\n",
       "</div>"
      ],
      "text/plain": [
       "  code_ligne                                   lib_ligne v_max  rg_troncon  \\\n",
       "0     242000                    Ligne de Creil à Jeumont   140           1   \n",
       "1     366000        Ligne de Mantes-la-Jolie à Cherbourg   200           1   \n",
       "2     995000  Ligne de Bastia à Ajaccio (ligne centrale)    60           1   \n",
       "3     995000  Ligne de Bastia à Ajaccio (ligne centrale)    70           1   \n",
       "4     890306                       Raccordement de Culoz    60           1   \n",
       "\n",
       "       pkd      pkf                                idgaia       x_d_l93  \\\n",
       "0  222+152  224+841  77986fb2-e28c-11e8-92ff-01b064e0362d  7.641287e+05   \n",
       "1  204+738  238+908  77a4fa62-e28c-11e8-92ff-01b064e0362d  4.856911e+05   \n",
       "2  091+100  092+550  77909e06-e28c-11e8-92ff-01b064e0362d  1.209888e+06   \n",
       "3  028+280  031+800  778e2f14-e28c-11e8-92ff-01b064e0362d  1.224691e+06   \n",
       "4  000+000  000+606  779306f0-e28c-11e8-92ff-01b064e0362d  9.162122e+05   \n",
       "\n",
       "        y_d_l93       x_f_l93       y_f_l93  x_d_wgs84  y_d_wgs84  x_f_wgs84  \\\n",
       "0  7.016495e+06  7.658409e+05  7.018610e+06   3.897931  50.243157   3.922249   \n",
       "1  6.893278e+06  4.559102e+05  6.902591e+06   0.064633  49.103467  -0.348220   \n",
       "2  6.140752e+06  1.210450e+06  6.139784e+06   9.167456  42.187707   9.173311   \n",
       "3  6.177971e+06  1.221449e+06  6.177839e+06   9.382049  42.510609   9.342656   \n",
       "4  6.531116e+06  9.160776e+05  6.530596e+06   5.786444  45.845357   5.784475   \n",
       "\n",
       "   y_f_wgs84                                            c_geo_d  \\\n",
       "0  50.261966  { \"lon\": 3.897931336245875, \"lat\": 50.24315723...   \n",
       "1  49.176484  { \"lon\": 0.064633482429558339, \"lat\": 49.10346...   \n",
       "2  42.178645  { \"lon\": 9.1674555515289811, \"lat\": 42.1877074...   \n",
       "3  42.511779  { \"lon\": 9.3820493826610285, \"lat\": 42.5106094...   \n",
       "4  45.840723  { \"lon\": 5.7864437996495486, \"lat\": 45.8453573...   \n",
       "\n",
       "                                             c_geo_f  \\\n",
       "0  { \"lon\": 3.9222490335686517, \"lat\": 50.2619658...   \n",
       "1  { \"lon\": -0.34821966895941142, \"lat\": 49.17648...   \n",
       "2  { \"lon\": 9.1733106648204128, \"lat\": 42.1786453...   \n",
       "3  { \"lon\": 9.3426559493521957, \"lat\": 42.5117794...   \n",
       "4  { \"lon\": 5.7844746068288542, \"lat\": 45.8407233...   \n",
       "\n",
       "                                        geo_point_2d  \\\n",
       "0  { \"lon\": 3.9108305177413909, \"lat\": 50.2517217...   \n",
       "1  { \"lon\": -0.14445964061185351, \"lat\": 49.10945...   \n",
       "2  { \"lon\": 9.1708395291329747, \"lat\": 42.1833669...   \n",
       "3  { \"lon\": 9.3623621168976765, \"lat\": 42.5093457...   \n",
       "4  { \"lon\": 5.7845964512461716, \"lat\": 45.8432853...   \n",
       "\n",
       "                                            geometry  \n",
       "0  LINESTRING (3.89793 50.24316, 3.8982 50.24339,...  \n",
       "1  LINESTRING (0.06463 49.10347, 0.06453 49.10343...  \n",
       "2  LINESTRING (9.16746 42.18771, 9.1676 42.18756,...  \n",
       "3  LINESTRING (9.38205 42.51061, 9.3752 42.50851,...  \n",
       "4  LINESTRING (5.78644 45.84536, 5.78532 45.84474...  "
      ]
     },
     "execution_count": 2,
     "metadata": {},
     "output_type": "execute_result"
    }
   ],
   "source": [
    "speeds = gpd.read_file(\"../data/raw/vitesse-maximale-nominale-sur-ligne.geojson\")\n",
    "print(speeds.shape)\n",
    "speeds.head()"
   ]
  },
  {
   "cell_type": "markdown",
   "metadata": {},
   "source": [
    "## Réduction des données"
   ]
  },
  {
   "cell_type": "markdown",
   "metadata": {},
   "source": [
    "Les colonnes ```\"rg_troncon\"```, ```\"pkd\"```, ```\"pkf\"```, ```\"geo_point_2d\"```, ```\"geometry\"``` sont déjà présentes dans le fichier ```\"formes-des-lignes-du-rfn.geojson\"```, donc elles sont redondantes. On garde néanmoins la colonne ```\"code_ligne\"``` comme clé pour le merging plus tard."
   ]
  },
  {
   "cell_type": "markdown",
   "metadata": {},
   "source": [
    "Les colonnes ```'x_d_l93','y_d_l93','x_f_l93','y_f_l93','x_d_wgs84','y_d_wgs84','x_f_wgs84','y_f_wgs84','c_geo_d','c_geo_f'``` sont des coordonnées pour différentes projections cartographiques. Elles ne sont donc pas pertinentes.\n",
    "\n",
    "<https://fr.wikipedia.org/wiki/Projection_conique_conforme_de_Lambert>\n",
    "\n",
    "<https://fr.wikipedia.org/wiki/WGS_84#:~:text=WGS%2084%20(World%20Geodetic%20System,g%C3%A9o%C3%AFde%20(EGM96%20ou%20suivant).>"
   ]
  },
  {
   "cell_type": "markdown",
   "metadata": {},
   "source": [
    "```\"idgaia\"``` est un Id qui n'apparait nulle part ailleurs dans les données, on n'en a pas d'utilité, d'autant plus qu'on a déjà un identifiant pour les tronçons, avec ```\"code_ligne\"```."
   ]
  },
  {
   "cell_type": "code",
   "execution_count": 3,
   "metadata": {},
   "outputs": [
    {
     "data": {
      "application/vnd.microsoft.datawrangler.viewer.v0+json": {
       "columns": [
        {
         "name": "index",
         "rawType": "object",
         "type": "string"
        },
        {
         "name": "0",
         "rawType": "object",
         "type": "unknown"
        }
       ],
       "ref": "9a6b946d-d379-4a9b-a39e-d0af9176b79a",
       "rows": [
        [
         "code_ligne",
         "object"
        ],
        [
         "lib_ligne",
         "object"
        ],
        [
         "v_max",
         "object"
        ],
        [
         "rg_troncon",
         "int32"
        ],
        [
         "pkd",
         "object"
        ],
        [
         "pkf",
         "object"
        ],
        [
         "idgaia",
         "object"
        ],
        [
         "x_d_l93",
         "float64"
        ],
        [
         "y_d_l93",
         "float64"
        ],
        [
         "x_f_l93",
         "float64"
        ],
        [
         "y_f_l93",
         "float64"
        ],
        [
         "x_d_wgs84",
         "float64"
        ],
        [
         "y_d_wgs84",
         "float64"
        ],
        [
         "x_f_wgs84",
         "float64"
        ],
        [
         "y_f_wgs84",
         "float64"
        ],
        [
         "c_geo_d",
         "object"
        ],
        [
         "c_geo_f",
         "object"
        ],
        [
         "geo_point_2d",
         "object"
        ],
        [
         "geometry",
         "geometry"
        ]
       ],
       "shape": {
        "columns": 1,
        "rows": 19
       }
      },
      "text/plain": [
       "code_ligne        object\n",
       "lib_ligne         object\n",
       "v_max             object\n",
       "rg_troncon         int32\n",
       "pkd               object\n",
       "pkf               object\n",
       "idgaia            object\n",
       "x_d_l93          float64\n",
       "y_d_l93          float64\n",
       "x_f_l93          float64\n",
       "y_f_l93          float64\n",
       "x_d_wgs84        float64\n",
       "y_d_wgs84        float64\n",
       "x_f_wgs84        float64\n",
       "y_f_wgs84        float64\n",
       "c_geo_d           object\n",
       "c_geo_f           object\n",
       "geo_point_2d      object\n",
       "geometry        geometry\n",
       "dtype: object"
      ]
     },
     "execution_count": 3,
     "metadata": {},
     "output_type": "execute_result"
    }
   ],
   "source": [
    "speeds.dtypes"
   ]
  },
  {
   "cell_type": "markdown",
   "metadata": {},
   "source": [
    "### ```\"v_max\"```"
   ]
  },
  {
   "cell_type": "code",
   "execution_count": 4,
   "metadata": {},
   "outputs": [
    {
     "data": {
      "text/plain": [
       "array(['140', '200', '60', '70', '100', '155', '120', '90', '30', None,\n",
       "       '150', '50', '230', '130', '160', '45', '40', '20', '80', '110',\n",
       "       '95', '320', '220', '75', '270', '115', '105', '55', '12', '125',\n",
       "       '85', '300', '35', '180', '170', '350', '15', '135', '65', '210',\n",
       "       '190', '145', '10'], dtype=object)"
      ]
     },
     "execution_count": 4,
     "metadata": {},
     "output_type": "execute_result"
    }
   ],
   "source": [
    "speeds[\"v_max\"].unique()"
   ]
  },
  {
   "cell_type": "code",
   "execution_count": 5,
   "metadata": {},
   "outputs": [
    {
     "data": {
      "text/html": [
       "<div>\n",
       "<style scoped>\n",
       "    .dataframe tbody tr th:only-of-type {\n",
       "        vertical-align: middle;\n",
       "    }\n",
       "\n",
       "    .dataframe tbody tr th {\n",
       "        vertical-align: top;\n",
       "    }\n",
       "\n",
       "    .dataframe thead th {\n",
       "        text-align: right;\n",
       "    }\n",
       "</style>\n",
       "<table border=\"1\" class=\"dataframe\">\n",
       "  <thead>\n",
       "    <tr style=\"text-align: right;\">\n",
       "      <th></th>\n",
       "      <th>code_ligne</th>\n",
       "      <th>lib_ligne</th>\n",
       "      <th>v_max</th>\n",
       "      <th>rg_troncon</th>\n",
       "      <th>pkd</th>\n",
       "      <th>pkf</th>\n",
       "      <th>idgaia</th>\n",
       "      <th>x_d_l93</th>\n",
       "      <th>y_d_l93</th>\n",
       "      <th>x_f_l93</th>\n",
       "      <th>y_f_l93</th>\n",
       "      <th>x_d_wgs84</th>\n",
       "      <th>y_d_wgs84</th>\n",
       "      <th>x_f_wgs84</th>\n",
       "      <th>y_f_wgs84</th>\n",
       "      <th>c_geo_d</th>\n",
       "      <th>c_geo_f</th>\n",
       "      <th>geo_point_2d</th>\n",
       "      <th>geometry</th>\n",
       "    </tr>\n",
       "  </thead>\n",
       "  <tbody>\n",
       "    <tr>\n",
       "      <th>15</th>\n",
       "      <td>912000</td>\n",
       "      <td>Ligne de Livron à Aspres-sur-Buëch</td>\n",
       "      <td>None</td>\n",
       "      <td>1</td>\n",
       "      <td>109+283</td>\n",
       "      <td>109+452</td>\n",
       "      <td>c7cb42b0-37ff-11ec-80ff-01206fb51c27</td>\n",
       "      <td>918854.9903</td>\n",
       "      <td>6.383857e+06</td>\n",
       "      <td>918902.7226</td>\n",
       "      <td>6.383695e+06</td>\n",
       "      <td>5.754304</td>\n",
       "      <td>44.519420</td>\n",
       "      <td>5.754833</td>\n",
       "      <td>44.517950</td>\n",
       "      <td>{ \"lon\": 5.7543039196877448, \"lat\": 44.5194196...</td>\n",
       "      <td>{ \"lon\": 5.7548331700559316, \"lat\": 44.5179497...</td>\n",
       "      <td>{ \"lon\": 5.7546112441567763, \"lat\": 44.5187008...</td>\n",
       "      <td>LINESTRING (5.7543 44.51942, 5.75433 44.51938,...</td>\n",
       "    </tr>\n",
       "    <tr>\n",
       "      <th>24</th>\n",
       "      <td>314611</td>\n",
       "      <td>Voie-mère de Calais</td>\n",
       "      <td>None</td>\n",
       "      <td>1</td>\n",
       "      <td>000+000</td>\n",
       "      <td>005+396</td>\n",
       "      <td>7f450962-116d-11ec-84ff-017c6fb51c27</td>\n",
       "      <td>619996.2250</td>\n",
       "      <td>7.096184e+06</td>\n",
       "      <td>620673.8615</td>\n",
       "      <td>7.097991e+06</td>\n",
       "      <td>1.863757</td>\n",
       "      <td>50.956438</td>\n",
       "      <td>1.873014</td>\n",
       "      <td>50.972733</td>\n",
       "      <td>{ \"lon\": 1.8637574136853148, \"lat\": 50.9564378...</td>\n",
       "      <td>{ \"lon\": 1.8730138604133666, \"lat\": 50.9727325...</td>\n",
       "      <td>{ \"lon\": 1.8837870334451934, \"lat\": 50.9674002...</td>\n",
       "      <td>LINESTRING (1.86376 50.95644, 1.86418 50.9568,...</td>\n",
       "    </tr>\n",
       "    <tr>\n",
       "      <th>30</th>\n",
       "      <td>990000</td>\n",
       "      <td>Ligne de la grande ceinture de Paris</td>\n",
       "      <td>None</td>\n",
       "      <td>4</td>\n",
       "      <td>096+775</td>\n",
       "      <td>109+226</td>\n",
       "      <td>a7f2caa0-cde7-11eb-94ff-0110b2273146</td>\n",
       "      <td>645836.5264</td>\n",
       "      <td>6.847994e+06</td>\n",
       "      <td>643452.4926</td>\n",
       "      <td>6.849165e+06</td>\n",
       "      <td>2.263595</td>\n",
       "      <td>48.729803</td>\n",
       "      <td>2.231029</td>\n",
       "      <td>48.740123</td>\n",
       "      <td>{ \"lon\": 2.263595187347017, \"lat\": 48.72980326...</td>\n",
       "      <td>{ \"lon\": 2.2310290244226727, \"lat\": 48.7401226...</td>\n",
       "      <td>{ \"lon\": 2.2864731154259883, \"lat\": 48.7079907...</td>\n",
       "      <td>MULTILINESTRING ((2.2636 48.7298, 2.26277 48.7...</td>\n",
       "    </tr>\n",
       "    <tr>\n",
       "      <th>49</th>\n",
       "      <td>985000</td>\n",
       "      <td>Ligne de Choisy-le-Roi à Massy-Verrières</td>\n",
       "      <td>None</td>\n",
       "      <td>1</td>\n",
       "      <td>013+353</td>\n",
       "      <td>025+435</td>\n",
       "      <td>77981a42-e28c-11e8-92ff-01b064e0362d</td>\n",
       "      <td>649456.8177</td>\n",
       "      <td>6.849975e+06</td>\n",
       "      <td>649456.8177</td>\n",
       "      <td>6.849975e+06</td>\n",
       "      <td>2.312580</td>\n",
       "      <td>48.747909</td>\n",
       "      <td>2.312580</td>\n",
       "      <td>48.747909</td>\n",
       "      <td>{ \"lon\": 2.3125795585876001, \"lat\": 48.7479094...</td>\n",
       "      <td>{ \"lon\": 2.3125795585876001, \"lat\": 48.7479094...</td>\n",
       "      <td>{ \"lon\": 2.3255000606397984, \"lat\": 48.7425218...</td>\n",
       "      <td>MULTILINESTRING ((2.31258 48.74791, 2.3119 48....</td>\n",
       "    </tr>\n",
       "    <tr>\n",
       "      <th>52</th>\n",
       "      <td>830000</td>\n",
       "      <td>Ligne de Paris-Lyon à Marseille-St-Charles</td>\n",
       "      <td>None</td>\n",
       "      <td>1</td>\n",
       "      <td>859+371</td>\n",
       "      <td>860+844</td>\n",
       "      <td>779ddc14-e28c-11e8-92ff-01b064e0362d</td>\n",
       "      <td>894149.2162</td>\n",
       "      <td>6.250061e+06</td>\n",
       "      <td>894150.4737</td>\n",
       "      <td>6.248602e+06</td>\n",
       "      <td>5.392582</td>\n",
       "      <td>43.323227</td>\n",
       "      <td>5.392053</td>\n",
       "      <td>43.310107</td>\n",
       "      <td>{ \"lon\": 5.3925823966289359, \"lat\": 43.3232273...</td>\n",
       "      <td>{ \"lon\": 5.392053324276378, \"lat\": 43.31010692...</td>\n",
       "      <td>{ \"lon\": 5.3930299247111879, \"lat\": 43.3165904...</td>\n",
       "      <td>LINESTRING (5.39258 43.32323, 5.39262 43.32311...</td>\n",
       "    </tr>\n",
       "  </tbody>\n",
       "</table>\n",
       "</div>"
      ],
      "text/plain": [
       "   code_ligne                                   lib_ligne v_max  rg_troncon  \\\n",
       "15     912000          Ligne de Livron à Aspres-sur-Buëch  None           1   \n",
       "24     314611                         Voie-mère de Calais  None           1   \n",
       "30     990000        Ligne de la grande ceinture de Paris  None           4   \n",
       "49     985000    Ligne de Choisy-le-Roi à Massy-Verrières  None           1   \n",
       "52     830000  Ligne de Paris-Lyon à Marseille-St-Charles  None           1   \n",
       "\n",
       "        pkd      pkf                                idgaia      x_d_l93  \\\n",
       "15  109+283  109+452  c7cb42b0-37ff-11ec-80ff-01206fb51c27  918854.9903   \n",
       "24  000+000  005+396  7f450962-116d-11ec-84ff-017c6fb51c27  619996.2250   \n",
       "30  096+775  109+226  a7f2caa0-cde7-11eb-94ff-0110b2273146  645836.5264   \n",
       "49  013+353  025+435  77981a42-e28c-11e8-92ff-01b064e0362d  649456.8177   \n",
       "52  859+371  860+844  779ddc14-e28c-11e8-92ff-01b064e0362d  894149.2162   \n",
       "\n",
       "         y_d_l93      x_f_l93       y_f_l93  x_d_wgs84  y_d_wgs84  x_f_wgs84  \\\n",
       "15  6.383857e+06  918902.7226  6.383695e+06   5.754304  44.519420   5.754833   \n",
       "24  7.096184e+06  620673.8615  7.097991e+06   1.863757  50.956438   1.873014   \n",
       "30  6.847994e+06  643452.4926  6.849165e+06   2.263595  48.729803   2.231029   \n",
       "49  6.849975e+06  649456.8177  6.849975e+06   2.312580  48.747909   2.312580   \n",
       "52  6.250061e+06  894150.4737  6.248602e+06   5.392582  43.323227   5.392053   \n",
       "\n",
       "    y_f_wgs84                                            c_geo_d  \\\n",
       "15  44.517950  { \"lon\": 5.7543039196877448, \"lat\": 44.5194196...   \n",
       "24  50.972733  { \"lon\": 1.8637574136853148, \"lat\": 50.9564378...   \n",
       "30  48.740123  { \"lon\": 2.263595187347017, \"lat\": 48.72980326...   \n",
       "49  48.747909  { \"lon\": 2.3125795585876001, \"lat\": 48.7479094...   \n",
       "52  43.310107  { \"lon\": 5.3925823966289359, \"lat\": 43.3232273...   \n",
       "\n",
       "                                              c_geo_f  \\\n",
       "15  { \"lon\": 5.7548331700559316, \"lat\": 44.5179497...   \n",
       "24  { \"lon\": 1.8730138604133666, \"lat\": 50.9727325...   \n",
       "30  { \"lon\": 2.2310290244226727, \"lat\": 48.7401226...   \n",
       "49  { \"lon\": 2.3125795585876001, \"lat\": 48.7479094...   \n",
       "52  { \"lon\": 5.392053324276378, \"lat\": 43.31010692...   \n",
       "\n",
       "                                         geo_point_2d  \\\n",
       "15  { \"lon\": 5.7546112441567763, \"lat\": 44.5187008...   \n",
       "24  { \"lon\": 1.8837870334451934, \"lat\": 50.9674002...   \n",
       "30  { \"lon\": 2.2864731154259883, \"lat\": 48.7079907...   \n",
       "49  { \"lon\": 2.3255000606397984, \"lat\": 48.7425218...   \n",
       "52  { \"lon\": 5.3930299247111879, \"lat\": 43.3165904...   \n",
       "\n",
       "                                             geometry  \n",
       "15  LINESTRING (5.7543 44.51942, 5.75433 44.51938,...  \n",
       "24  LINESTRING (1.86376 50.95644, 1.86418 50.9568,...  \n",
       "30  MULTILINESTRING ((2.2636 48.7298, 2.26277 48.7...  \n",
       "49  MULTILINESTRING ((2.31258 48.74791, 2.3119 48....  \n",
       "52  LINESTRING (5.39258 43.32323, 5.39262 43.32311...  "
      ]
     },
     "execution_count": 5,
     "metadata": {},
     "output_type": "execute_result"
    }
   ],
   "source": [
    "speeds[speeds[\"v_max\"].isna()].head()"
   ]
  },
  {
   "cell_type": "markdown",
   "metadata": {},
   "source": [
    "On suppose que s'il n'y a pas de limitation de vitesse, alors la vitesse maximale sur le tronçon vaut la valeur maximale de la colonne ```\"v_max\"```, soit 350 km/h."
   ]
  },
  {
   "cell_type": "code",
   "execution_count": 6,
   "metadata": {},
   "outputs": [
    {
     "name": "stdout",
     "output_type": "stream",
     "text": [
      "(2165, 6)\n"
     ]
    },
    {
     "data": {
      "text/html": [
       "<div>\n",
       "<style scoped>\n",
       "    .dataframe tbody tr th:only-of-type {\n",
       "        vertical-align: middle;\n",
       "    }\n",
       "\n",
       "    .dataframe tbody tr th {\n",
       "        vertical-align: top;\n",
       "    }\n",
       "\n",
       "    .dataframe thead th {\n",
       "        text-align: right;\n",
       "    }\n",
       "</style>\n",
       "<table border=\"1\" class=\"dataframe\">\n",
       "  <thead>\n",
       "    <tr style=\"text-align: right;\">\n",
       "      <th></th>\n",
       "      <th>code_ligne</th>\n",
       "      <th>lib_ligne</th>\n",
       "      <th>v_max</th>\n",
       "      <th>geometry</th>\n",
       "      <th>pk_debut_r</th>\n",
       "      <th>pk_fin_r</th>\n",
       "    </tr>\n",
       "  </thead>\n",
       "  <tbody>\n",
       "    <tr>\n",
       "      <th>0</th>\n",
       "      <td>242000</td>\n",
       "      <td>Ligne de Creil à Jeumont</td>\n",
       "      <td>140</td>\n",
       "      <td>LINESTRING (3.89793 50.24316, 3.8982 50.24339,...</td>\n",
       "      <td>222+152</td>\n",
       "      <td>224+841</td>\n",
       "    </tr>\n",
       "    <tr>\n",
       "      <th>1</th>\n",
       "      <td>366000</td>\n",
       "      <td>Ligne de Mantes-la-Jolie à Cherbourg</td>\n",
       "      <td>200</td>\n",
       "      <td>LINESTRING (0.06463 49.10347, 0.06453 49.10343...</td>\n",
       "      <td>204+738</td>\n",
       "      <td>238+908</td>\n",
       "    </tr>\n",
       "    <tr>\n",
       "      <th>2</th>\n",
       "      <td>995000</td>\n",
       "      <td>Ligne de Bastia à Ajaccio (ligne centrale)</td>\n",
       "      <td>60</td>\n",
       "      <td>LINESTRING (9.16746 42.18771, 9.1676 42.18756,...</td>\n",
       "      <td>091+100</td>\n",
       "      <td>092+550</td>\n",
       "    </tr>\n",
       "    <tr>\n",
       "      <th>3</th>\n",
       "      <td>995000</td>\n",
       "      <td>Ligne de Bastia à Ajaccio (ligne centrale)</td>\n",
       "      <td>70</td>\n",
       "      <td>LINESTRING (9.38205 42.51061, 9.3752 42.50851,...</td>\n",
       "      <td>028+280</td>\n",
       "      <td>031+800</td>\n",
       "    </tr>\n",
       "    <tr>\n",
       "      <th>4</th>\n",
       "      <td>890306</td>\n",
       "      <td>Raccordement de Culoz</td>\n",
       "      <td>60</td>\n",
       "      <td>LINESTRING (5.78644 45.84536, 5.78532 45.84474...</td>\n",
       "      <td>000+000</td>\n",
       "      <td>000+606</td>\n",
       "    </tr>\n",
       "  </tbody>\n",
       "</table>\n",
       "</div>"
      ],
      "text/plain": [
       "  code_ligne                                   lib_ligne  v_max  \\\n",
       "0     242000                    Ligne de Creil à Jeumont    140   \n",
       "1     366000        Ligne de Mantes-la-Jolie à Cherbourg    200   \n",
       "2     995000  Ligne de Bastia à Ajaccio (ligne centrale)     60   \n",
       "3     995000  Ligne de Bastia à Ajaccio (ligne centrale)     70   \n",
       "4     890306                       Raccordement de Culoz     60   \n",
       "\n",
       "                                            geometry pk_debut_r pk_fin_r  \n",
       "0  LINESTRING (3.89793 50.24316, 3.8982 50.24339,...    222+152  224+841  \n",
       "1  LINESTRING (0.06463 49.10347, 0.06453 49.10343...    204+738  238+908  \n",
       "2  LINESTRING (9.16746 42.18771, 9.1676 42.18756,...    091+100  092+550  \n",
       "3  LINESTRING (9.38205 42.51061, 9.3752 42.50851,...    028+280  031+800  \n",
       "4  LINESTRING (5.78644 45.84536, 5.78532 45.84474...    000+000  000+606  "
      ]
     },
     "execution_count": 6,
     "metadata": {},
     "output_type": "execute_result"
    }
   ],
   "source": [
    "def process_speeds(speeds_df, ignore_na=True):\n",
    "    relevant_columns = [\"code_ligne\", \"lib_ligne\", \"v_max\",\"geometry\",\"pkd\",\"pkf\"] # On garde les colonnes qui peuvent être des clés primaires (voir 1_shapes.ipynb)\n",
    "    speeds_df_processed = speeds_df[relevant_columns].copy() # On garde une copie pour éviter de modifier l'original\n",
    "    speeds_df_processed[\"v_max\"] = speeds_df_processed[\"v_max\"].astype(\"Int64\") # v_max est par défaut un object, on le convertit en int64\n",
    "    # On convertit la vitesse max en entier nullable (.astype(int) ne fonctionne que pour les entiers non-nullables, \n",
    "    # voir https://stackoverflow.com/questions/21287624/convert-pandas-column-containing-nans-to-dtype-int)\n",
    "    if ignore_na:\n",
    "        speeds_df_processed = speeds_df_processed[~speeds_df_processed[\"v_max\"].isna()]\n",
    "        # Si on ignore les NaN, on supprime les lignes qui en contiennent\n",
    "    else:\n",
    "        max_speed = speeds_df_processed[\"v_max\"].max()\n",
    "        speeds_df_processed[\"v_max\"] = speeds_df_processed[\"v_max\"].fillna(max_speed)\n",
    "        # Si on ne les ignore pas, on remplace les NaN par la vitesse max de la colonne\n",
    "    speeds_df_processed = speeds_df_processed.reset_index(drop=True)\n",
    "    # On renomme les colonnes pkd et pkf en pk_debut_r et pk_fin_r pour être cohérent avec le fichier shapes\n",
    "    speeds_df_processed = speeds_df_processed.rename(columns={\"pkd\":\"pk_debut_r\",\"pkf\":\"pk_fin_r\"})\n",
    "    return speeds_df_processed\n",
    "\n",
    "speeds_processed = process_speeds(speeds, ignore_na=True)\n",
    "print(speeds_processed.shape)\n",
    "speeds_processed.head()"
   ]
  },
  {
   "cell_type": "code",
   "execution_count": 7,
   "metadata": {},
   "outputs": [
    {
     "data": {
      "application/vnd.microsoft.datawrangler.viewer.v0+json": {
       "columns": [
        {
         "name": "index",
         "rawType": "object",
         "type": "string"
        },
        {
         "name": "0",
         "rawType": "object",
         "type": "unknown"
        }
       ],
       "ref": "edb697da-09ab-4142-9fe5-4f159e602836",
       "rows": [
        [
         "code_ligne",
         "object"
        ],
        [
         "lib_ligne",
         "object"
        ],
        [
         "v_max",
         "Int64"
        ],
        [
         "geometry",
         "geometry"
        ],
        [
         "pk_debut_r",
         "object"
        ],
        [
         "pk_fin_r",
         "object"
        ]
       ],
       "shape": {
        "columns": 1,
        "rows": 6
       }
      },
      "text/plain": [
       "code_ligne      object\n",
       "lib_ligne       object\n",
       "v_max            Int64\n",
       "geometry      geometry\n",
       "pk_debut_r      object\n",
       "pk_fin_r        object\n",
       "dtype: object"
      ]
     },
     "execution_count": 7,
     "metadata": {},
     "output_type": "execute_result"
    }
   ],
   "source": [
    "speeds_processed.dtypes"
   ]
  },
  {
   "cell_type": "markdown",
   "metadata": {},
   "source": [
    "## Bonus: Histogramme générique"
   ]
  },
  {
   "cell_type": "code",
   "execution_count": 8,
   "metadata": {},
   "outputs": [
    {
     "data": {
      "application/vnd.plotly.v1+json": {
       "config": {
        "plotlyServerURL": "https://plot.ly"
       },
       "data": [
        {
         "bingroup": "x",
         "hovertemplate": "v_max=%{x}<br>count=%{y}<extra></extra>",
         "legendgroup": "",
         "marker": {
          "color": "#636efa",
          "pattern": {
           "shape": ""
          }
         },
         "name": "",
         "nbinsx": 50,
         "orientation": "v",
         "showlegend": false,
         "type": "histogram",
         "x": {
          "bdata": "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",
          "dtype": "i2"
         },
         "xaxis": "x",
         "yaxis": "y"
        }
       ],
       "layout": {
        "barmode": "relative",
        "legend": {
         "tracegroupgap": 0
        },
        "margin": {
         "t": 60
        },
        "template": {
         "data": {
          "bar": [
           {
            "error_x": {
             "color": "#2a3f5f"
            },
            "error_y": {
             "color": "#2a3f5f"
            },
            "marker": {
             "line": {
              "color": "#E5ECF6",
              "width": 0.5
             },
             "pattern": {
              "fillmode": "overlay",
              "size": 10,
              "solidity": 0.2
             }
            },
            "type": "bar"
           }
          ],
          "barpolar": [
           {
            "marker": {
             "line": {
              "color": "#E5ECF6",
              "width": 0.5
             },
             "pattern": {
              "fillmode": "overlay",
              "size": 10,
              "solidity": 0.2
             }
            },
            "type": "barpolar"
           }
          ],
          "carpet": [
           {
            "aaxis": {
             "endlinecolor": "#2a3f5f",
             "gridcolor": "white",
             "linecolor": "white",
             "minorgridcolor": "white",
             "startlinecolor": "#2a3f5f"
            },
            "baxis": {
             "endlinecolor": "#2a3f5f",
             "gridcolor": "white",
             "linecolor": "white",
             "minorgridcolor": "white",
             "startlinecolor": "#2a3f5f"
            },
            "type": "carpet"
           }
          ],
          "choropleth": [
           {
            "colorbar": {
             "outlinewidth": 0,
             "ticks": ""
            },
            "type": "choropleth"
           }
          ],
          "contour": [
           {
            "colorbar": {
             "outlinewidth": 0,
             "ticks": ""
            },
            "colorscale": [
             [
              0,
              "#0d0887"
             ],
             [
              0.1111111111111111,
              "#46039f"
             ],
             [
              0.2222222222222222,
              "#7201a8"
             ],
             [
              0.3333333333333333,
              "#9c179e"
             ],
             [
              0.4444444444444444,
              "#bd3786"
             ],
             [
              0.5555555555555556,
              "#d8576b"
             ],
             [
              0.6666666666666666,
              "#ed7953"
             ],
             [
              0.7777777777777778,
              "#fb9f3a"
             ],
             [
              0.8888888888888888,
              "#fdca26"
             ],
             [
              1,
              "#f0f921"
             ]
            ],
            "type": "contour"
           }
          ],
          "contourcarpet": [
           {
            "colorbar": {
             "outlinewidth": 0,
             "ticks": ""
            },
            "type": "contourcarpet"
           }
          ],
          "heatmap": [
           {
            "colorbar": {
             "outlinewidth": 0,
             "ticks": ""
            },
            "colorscale": [
             [
              0,
              "#0d0887"
             ],
             [
              0.1111111111111111,
              "#46039f"
             ],
             [
              0.2222222222222222,
              "#7201a8"
             ],
             [
              0.3333333333333333,
              "#9c179e"
             ],
             [
              0.4444444444444444,
              "#bd3786"
             ],
             [
              0.5555555555555556,
              "#d8576b"
             ],
             [
              0.6666666666666666,
              "#ed7953"
             ],
             [
              0.7777777777777778,
              "#fb9f3a"
             ],
             [
              0.8888888888888888,
              "#fdca26"
             ],
             [
              1,
              "#f0f921"
             ]
            ],
            "type": "heatmap"
           }
          ],
          "histogram": [
           {
            "marker": {
             "pattern": {
              "fillmode": "overlay",
              "size": 10,
              "solidity": 0.2
             }
            },
            "type": "histogram"
           }
          ],
          "histogram2d": [
           {
            "colorbar": {
             "outlinewidth": 0,
             "ticks": ""
            },
            "colorscale": [
             [
              0,
              "#0d0887"
             ],
             [
              0.1111111111111111,
              "#46039f"
             ],
             [
              0.2222222222222222,
              "#7201a8"
             ],
             [
              0.3333333333333333,
              "#9c179e"
             ],
             [
              0.4444444444444444,
              "#bd3786"
             ],
             [
              0.5555555555555556,
              "#d8576b"
             ],
             [
              0.6666666666666666,
              "#ed7953"
             ],
             [
              0.7777777777777778,
              "#fb9f3a"
             ],
             [
              0.8888888888888888,
              "#fdca26"
             ],
             [
              1,
              "#f0f921"
             ]
            ],
            "type": "histogram2d"
           }
          ],
          "histogram2dcontour": [
           {
            "colorbar": {
             "outlinewidth": 0,
             "ticks": ""
            },
            "colorscale": [
             [
              0,
              "#0d0887"
             ],
             [
              0.1111111111111111,
              "#46039f"
             ],
             [
              0.2222222222222222,
              "#7201a8"
             ],
             [
              0.3333333333333333,
              "#9c179e"
             ],
             [
              0.4444444444444444,
              "#bd3786"
             ],
             [
              0.5555555555555556,
              "#d8576b"
             ],
             [
              0.6666666666666666,
              "#ed7953"
             ],
             [
              0.7777777777777778,
              "#fb9f3a"
             ],
             [
              0.8888888888888888,
              "#fdca26"
             ],
             [
              1,
              "#f0f921"
             ]
            ],
            "type": "histogram2dcontour"
           }
          ],
          "mesh3d": [
           {
            "colorbar": {
             "outlinewidth": 0,
             "ticks": ""
            },
            "type": "mesh3d"
           }
          ],
          "parcoords": [
           {
            "line": {
             "colorbar": {
              "outlinewidth": 0,
              "ticks": ""
             }
            },
            "type": "parcoords"
           }
          ],
          "pie": [
           {
            "automargin": true,
            "type": "pie"
           }
          ],
          "scatter": [
           {
            "fillpattern": {
             "fillmode": "overlay",
             "size": 10,
             "solidity": 0.2
            },
            "type": "scatter"
           }
          ],
          "scatter3d": [
           {
            "line": {
             "colorbar": {
              "outlinewidth": 0,
              "ticks": ""
             }
            },
            "marker": {
             "colorbar": {
              "outlinewidth": 0,
              "ticks": ""
             }
            },
            "type": "scatter3d"
           }
          ],
          "scattercarpet": [
           {
            "marker": {
             "colorbar": {
              "outlinewidth": 0,
              "ticks": ""
             }
            },
            "type": "scattercarpet"
           }
          ],
          "scattergeo": [
           {
            "marker": {
             "colorbar": {
              "outlinewidth": 0,
              "ticks": ""
             }
            },
            "type": "scattergeo"
           }
          ],
          "scattergl": [
           {
            "marker": {
             "colorbar": {
              "outlinewidth": 0,
              "ticks": ""
             }
            },
            "type": "scattergl"
           }
          ],
          "scattermap": [
           {
            "marker": {
             "colorbar": {
              "outlinewidth": 0,
              "ticks": ""
             }
            },
            "type": "scattermap"
           }
          ],
          "scattermapbox": [
           {
            "marker": {
             "colorbar": {
              "outlinewidth": 0,
              "ticks": ""
             }
            },
            "type": "scattermapbox"
           }
          ],
          "scatterpolar": [
           {
            "marker": {
             "colorbar": {
              "outlinewidth": 0,
              "ticks": ""
             }
            },
            "type": "scatterpolar"
           }
          ],
          "scatterpolargl": [
           {
            "marker": {
             "colorbar": {
              "outlinewidth": 0,
              "ticks": ""
             }
            },
            "type": "scatterpolargl"
           }
          ],
          "scatterternary": [
           {
            "marker": {
             "colorbar": {
              "outlinewidth": 0,
              "ticks": ""
             }
            },
            "type": "scatterternary"
           }
          ],
          "surface": [
           {
            "colorbar": {
             "outlinewidth": 0,
             "ticks": ""
            },
            "colorscale": [
             [
              0,
              "#0d0887"
             ],
             [
              0.1111111111111111,
              "#46039f"
             ],
             [
              0.2222222222222222,
              "#7201a8"
             ],
             [
              0.3333333333333333,
              "#9c179e"
             ],
             [
              0.4444444444444444,
              "#bd3786"
             ],
             [
              0.5555555555555556,
              "#d8576b"
             ],
             [
              0.6666666666666666,
              "#ed7953"
             ],
             [
              0.7777777777777778,
              "#fb9f3a"
             ],
             [
              0.8888888888888888,
              "#fdca26"
             ],
             [
              1,
              "#f0f921"
             ]
            ],
            "type": "surface"
           }
          ],
          "table": [
           {
            "cells": {
             "fill": {
              "color": "#EBF0F8"
             },
             "line": {
              "color": "white"
             }
            },
            "header": {
             "fill": {
              "color": "#C8D4E3"
             },
             "line": {
              "color": "white"
             }
            },
            "type": "table"
           }
          ]
         },
         "layout": {
          "annotationdefaults": {
           "arrowcolor": "#2a3f5f",
           "arrowhead": 0,
           "arrowwidth": 1
          },
          "autotypenumbers": "strict",
          "coloraxis": {
           "colorbar": {
            "outlinewidth": 0,
            "ticks": ""
           }
          },
          "colorscale": {
           "diverging": [
            [
             0,
             "#8e0152"
            ],
            [
             0.1,
             "#c51b7d"
            ],
            [
             0.2,
             "#de77ae"
            ],
            [
             0.3,
             "#f1b6da"
            ],
            [
             0.4,
             "#fde0ef"
            ],
            [
             0.5,
             "#f7f7f7"
            ],
            [
             0.6,
             "#e6f5d0"
            ],
            [
             0.7,
             "#b8e186"
            ],
            [
             0.8,
             "#7fbc41"
            ],
            [
             0.9,
             "#4d9221"
            ],
            [
             1,
             "#276419"
            ]
           ],
           "sequential": [
            [
             0,
             "#0d0887"
            ],
            [
             0.1111111111111111,
             "#46039f"
            ],
            [
             0.2222222222222222,
             "#7201a8"
            ],
            [
             0.3333333333333333,
             "#9c179e"
            ],
            [
             0.4444444444444444,
             "#bd3786"
            ],
            [
             0.5555555555555556,
             "#d8576b"
            ],
            [
             0.6666666666666666,
             "#ed7953"
            ],
            [
             0.7777777777777778,
             "#fb9f3a"
            ],
            [
             0.8888888888888888,
             "#fdca26"
            ],
            [
             1,
             "#f0f921"
            ]
           ],
           "sequentialminus": [
            [
             0,
             "#0d0887"
            ],
            [
             0.1111111111111111,
             "#46039f"
            ],
            [
             0.2222222222222222,
             "#7201a8"
            ],
            [
             0.3333333333333333,
             "#9c179e"
            ],
            [
             0.4444444444444444,
             "#bd3786"
            ],
            [
             0.5555555555555556,
             "#d8576b"
            ],
            [
             0.6666666666666666,
             "#ed7953"
            ],
            [
             0.7777777777777778,
             "#fb9f3a"
            ],
            [
             0.8888888888888888,
             "#fdca26"
            ],
            [
             1,
             "#f0f921"
            ]
           ]
          },
          "colorway": [
           "#636efa",
           "#EF553B",
           "#00cc96",
           "#ab63fa",
           "#FFA15A",
           "#19d3f3",
           "#FF6692",
           "#B6E880",
           "#FF97FF",
           "#FECB52"
          ],
          "font": {
           "color": "#2a3f5f"
          },
          "geo": {
           "bgcolor": "white",
           "lakecolor": "white",
           "landcolor": "#E5ECF6",
           "showlakes": true,
           "showland": true,
           "subunitcolor": "white"
          },
          "hoverlabel": {
           "align": "left"
          },
          "hovermode": "closest",
          "mapbox": {
           "style": "light"
          },
          "paper_bgcolor": "white",
          "plot_bgcolor": "#E5ECF6",
          "polar": {
           "angularaxis": {
            "gridcolor": "white",
            "linecolor": "white",
            "ticks": ""
           },
           "bgcolor": "#E5ECF6",
           "radialaxis": {
            "gridcolor": "white",
            "linecolor": "white",
            "ticks": ""
           }
          },
          "scene": {
           "xaxis": {
            "backgroundcolor": "#E5ECF6",
            "gridcolor": "white",
            "gridwidth": 2,
            "linecolor": "white",
            "showbackground": true,
            "ticks": "",
            "zerolinecolor": "white"
           },
           "yaxis": {
            "backgroundcolor": "#E5ECF6",
            "gridcolor": "white",
            "gridwidth": 2,
            "linecolor": "white",
            "showbackground": true,
            "ticks": "",
            "zerolinecolor": "white"
           },
           "zaxis": {
            "backgroundcolor": "#E5ECF6",
            "gridcolor": "white",
            "gridwidth": 2,
            "linecolor": "white",
            "showbackground": true,
            "ticks": "",
            "zerolinecolor": "white"
           }
          },
          "shapedefaults": {
           "line": {
            "color": "#2a3f5f"
           }
          },
          "ternary": {
           "aaxis": {
            "gridcolor": "white",
            "linecolor": "white",
            "ticks": ""
           },
           "baxis": {
            "gridcolor": "white",
            "linecolor": "white",
            "ticks": ""
           },
           "bgcolor": "#E5ECF6",
           "caxis": {
            "gridcolor": "white",
            "linecolor": "white",
            "ticks": ""
           }
          },
          "title": {
           "x": 0.05
          },
          "xaxis": {
           "automargin": true,
           "gridcolor": "white",
           "linecolor": "white",
           "ticks": "",
           "title": {
            "standoff": 15
           },
           "zerolinecolor": "white",
           "zerolinewidth": 2
          },
          "yaxis": {
           "automargin": true,
           "gridcolor": "white",
           "linecolor": "white",
           "ticks": "",
           "title": {
            "standoff": 15
           },
           "zerolinecolor": "white",
           "zerolinewidth": 2
          }
         }
        },
        "xaxis": {
         "anchor": "y",
         "domain": [
          0,
          1
         ],
         "title": {
          "text": "v_max"
         }
        },
        "yaxis": {
         "anchor": "x",
         "domain": [
          0,
          1
         ],
         "title": {
          "text": "count"
         }
        }
       }
      }
     },
     "metadata": {},
     "output_type": "display_data"
    }
   ],
   "source": [
    "def generate_histogram(speeds_df):\n",
    "    fig = px.histogram(speeds_df, x=\"v_max\", nbins=50)\n",
    "    return fig\n",
    "\n",
    "generate_histogram(speeds_processed)"
   ]
  },
  {
   "cell_type": "code",
   "execution_count": 9,
   "metadata": {},
   "outputs": [
    {
     "data": {
      "application/vnd.plotly.v1+json": {
       "config": {
        "plotlyServerURL": "https://plot.ly"
       },
       "data": [
        {
         "bingroup": "x",
         "hovertemplate": "v_max=%{x}<br>count=%{y}<extra></extra>",
         "legendgroup": "",
         "marker": {
          "color": "#636efa",
          "pattern": {
           "shape": ""
          }
         },
         "name": "",
         "nbinsx": 50,
         "orientation": "v",
         "showlegend": false,
         "type": "histogram",
         "x": {
          "bdata": "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",
          "dtype": "i2"
         },
         "xaxis": "x",
         "yaxis": "y"
        }
       ],
       "layout": {
        "barmode": "relative",
        "legend": {
         "tracegroupgap": 0
        },
        "margin": {
         "t": 60
        },
        "template": {
         "data": {
          "bar": [
           {
            "error_x": {
             "color": "#2a3f5f"
            },
            "error_y": {
             "color": "#2a3f5f"
            },
            "marker": {
             "line": {
              "color": "#E5ECF6",
              "width": 0.5
             },
             "pattern": {
              "fillmode": "overlay",
              "size": 10,
              "solidity": 0.2
             }
            },
            "type": "bar"
           }
          ],
          "barpolar": [
           {
            "marker": {
             "line": {
              "color": "#E5ECF6",
              "width": 0.5
             },
             "pattern": {
              "fillmode": "overlay",
              "size": 10,
              "solidity": 0.2
             }
            },
            "type": "barpolar"
           }
          ],
          "carpet": [
           {
            "aaxis": {
             "endlinecolor": "#2a3f5f",
             "gridcolor": "white",
             "linecolor": "white",
             "minorgridcolor": "white",
             "startlinecolor": "#2a3f5f"
            },
            "baxis": {
             "endlinecolor": "#2a3f5f",
             "gridcolor": "white",
             "linecolor": "white",
             "minorgridcolor": "white",
             "startlinecolor": "#2a3f5f"
            },
            "type": "carpet"
           }
          ],
          "choropleth": [
           {
            "colorbar": {
             "outlinewidth": 0,
             "ticks": ""
            },
            "type": "choropleth"
           }
          ],
          "contour": [
           {
            "colorbar": {
             "outlinewidth": 0,
             "ticks": ""
            },
            "colorscale": [
             [
              0,
              "#0d0887"
             ],
             [
              0.1111111111111111,
              "#46039f"
             ],
             [
              0.2222222222222222,
              "#7201a8"
             ],
             [
              0.3333333333333333,
              "#9c179e"
             ],
             [
              0.4444444444444444,
              "#bd3786"
             ],
             [
              0.5555555555555556,
              "#d8576b"
             ],
             [
              0.6666666666666666,
              "#ed7953"
             ],
             [
              0.7777777777777778,
              "#fb9f3a"
             ],
             [
              0.8888888888888888,
              "#fdca26"
             ],
             [
              1,
              "#f0f921"
             ]
            ],
            "type": "contour"
           }
          ],
          "contourcarpet": [
           {
            "colorbar": {
             "outlinewidth": 0,
             "ticks": ""
            },
            "type": "contourcarpet"
           }
          ],
          "heatmap": [
           {
            "colorbar": {
             "outlinewidth": 0,
             "ticks": ""
            },
            "colorscale": [
             [
              0,
              "#0d0887"
             ],
             [
              0.1111111111111111,
              "#46039f"
             ],
             [
              0.2222222222222222,
              "#7201a8"
             ],
             [
              0.3333333333333333,
              "#9c179e"
             ],
             [
              0.4444444444444444,
              "#bd3786"
             ],
             [
              0.5555555555555556,
              "#d8576b"
             ],
             [
              0.6666666666666666,
              "#ed7953"
             ],
             [
              0.7777777777777778,
              "#fb9f3a"
             ],
             [
              0.8888888888888888,
              "#fdca26"
             ],
             [
              1,
              "#f0f921"
             ]
            ],
            "type": "heatmap"
           }
          ],
          "histogram": [
           {
            "marker": {
             "pattern": {
              "fillmode": "overlay",
              "size": 10,
              "solidity": 0.2
             }
            },
            "type": "histogram"
           }
          ],
          "histogram2d": [
           {
            "colorbar": {
             "outlinewidth": 0,
             "ticks": ""
            },
            "colorscale": [
             [
              0,
              "#0d0887"
             ],
             [
              0.1111111111111111,
              "#46039f"
             ],
             [
              0.2222222222222222,
              "#7201a8"
             ],
             [
              0.3333333333333333,
              "#9c179e"
             ],
             [
              0.4444444444444444,
              "#bd3786"
             ],
             [
              0.5555555555555556,
              "#d8576b"
             ],
             [
              0.6666666666666666,
              "#ed7953"
             ],
             [
              0.7777777777777778,
              "#fb9f3a"
             ],
             [
              0.8888888888888888,
              "#fdca26"
             ],
             [
              1,
              "#f0f921"
             ]
            ],
            "type": "histogram2d"
           }
          ],
          "histogram2dcontour": [
           {
            "colorbar": {
             "outlinewidth": 0,
             "ticks": ""
            },
            "colorscale": [
             [
              0,
              "#0d0887"
             ],
             [
              0.1111111111111111,
              "#46039f"
             ],
             [
              0.2222222222222222,
              "#7201a8"
             ],
             [
              0.3333333333333333,
              "#9c179e"
             ],
             [
              0.4444444444444444,
              "#bd3786"
             ],
             [
              0.5555555555555556,
              "#d8576b"
             ],
             [
              0.6666666666666666,
              "#ed7953"
             ],
             [
              0.7777777777777778,
              "#fb9f3a"
             ],
             [
              0.8888888888888888,
              "#fdca26"
             ],
             [
              1,
              "#f0f921"
             ]
            ],
            "type": "histogram2dcontour"
           }
          ],
          "mesh3d": [
           {
            "colorbar": {
             "outlinewidth": 0,
             "ticks": ""
            },
            "type": "mesh3d"
           }
          ],
          "parcoords": [
           {
            "line": {
             "colorbar": {
              "outlinewidth": 0,
              "ticks": ""
             }
            },
            "type": "parcoords"
           }
          ],
          "pie": [
           {
            "automargin": true,
            "type": "pie"
           }
          ],
          "scatter": [
           {
            "fillpattern": {
             "fillmode": "overlay",
             "size": 10,
             "solidity": 0.2
            },
            "type": "scatter"
           }
          ],
          "scatter3d": [
           {
            "line": {
             "colorbar": {
              "outlinewidth": 0,
              "ticks": ""
             }
            },
            "marker": {
             "colorbar": {
              "outlinewidth": 0,
              "ticks": ""
             }
            },
            "type": "scatter3d"
           }
          ],
          "scattercarpet": [
           {
            "marker": {
             "colorbar": {
              "outlinewidth": 0,
              "ticks": ""
             }
            },
            "type": "scattercarpet"
           }
          ],
          "scattergeo": [
           {
            "marker": {
             "colorbar": {
              "outlinewidth": 0,
              "ticks": ""
             }
            },
            "type": "scattergeo"
           }
          ],
          "scattergl": [
           {
            "marker": {
             "colorbar": {
              "outlinewidth": 0,
              "ticks": ""
             }
            },
            "type": "scattergl"
           }
          ],
          "scattermap": [
           {
            "marker": {
             "colorbar": {
              "outlinewidth": 0,
              "ticks": ""
             }
            },
            "type": "scattermap"
           }
          ],
          "scattermapbox": [
           {
            "marker": {
             "colorbar": {
              "outlinewidth": 0,
              "ticks": ""
             }
            },
            "type": "scattermapbox"
           }
          ],
          "scatterpolar": [
           {
            "marker": {
             "colorbar": {
              "outlinewidth": 0,
              "ticks": ""
             }
            },
            "type": "scatterpolar"
           }
          ],
          "scatterpolargl": [
           {
            "marker": {
             "colorbar": {
              "outlinewidth": 0,
              "ticks": ""
             }
            },
            "type": "scatterpolargl"
           }
          ],
          "scatterternary": [
           {
            "marker": {
             "colorbar": {
              "outlinewidth": 0,
              "ticks": ""
             }
            },
            "type": "scatterternary"
           }
          ],
          "surface": [
           {
            "colorbar": {
             "outlinewidth": 0,
             "ticks": ""
            },
            "colorscale": [
             [
              0,
              "#0d0887"
             ],
             [
              0.1111111111111111,
              "#46039f"
             ],
             [
              0.2222222222222222,
              "#7201a8"
             ],
             [
              0.3333333333333333,
              "#9c179e"
             ],
             [
              0.4444444444444444,
              "#bd3786"
             ],
             [
              0.5555555555555556,
              "#d8576b"
             ],
             [
              0.6666666666666666,
              "#ed7953"
             ],
             [
              0.7777777777777778,
              "#fb9f3a"
             ],
             [
              0.8888888888888888,
              "#fdca26"
             ],
             [
              1,
              "#f0f921"
             ]
            ],
            "type": "surface"
           }
          ],
          "table": [
           {
            "cells": {
             "fill": {
              "color": "#EBF0F8"
             },
             "line": {
              "color": "white"
             }
            },
            "header": {
             "fill": {
              "color": "#C8D4E3"
             },
             "line": {
              "color": "white"
             }
            },
            "type": "table"
           }
          ]
         },
         "layout": {
          "annotationdefaults": {
           "arrowcolor": "#2a3f5f",
           "arrowhead": 0,
           "arrowwidth": 1
          },
          "autotypenumbers": "strict",
          "coloraxis": {
           "colorbar": {
            "outlinewidth": 0,
            "ticks": ""
           }
          },
          "colorscale": {
           "diverging": [
            [
             0,
             "#8e0152"
            ],
            [
             0.1,
             "#c51b7d"
            ],
            [
             0.2,
             "#de77ae"
            ],
            [
             0.3,
             "#f1b6da"
            ],
            [
             0.4,
             "#fde0ef"
            ],
            [
             0.5,
             "#f7f7f7"
            ],
            [
             0.6,
             "#e6f5d0"
            ],
            [
             0.7,
             "#b8e186"
            ],
            [
             0.8,
             "#7fbc41"
            ],
            [
             0.9,
             "#4d9221"
            ],
            [
             1,
             "#276419"
            ]
           ],
           "sequential": [
            [
             0,
             "#0d0887"
            ],
            [
             0.1111111111111111,
             "#46039f"
            ],
            [
             0.2222222222222222,
             "#7201a8"
            ],
            [
             0.3333333333333333,
             "#9c179e"
            ],
            [
             0.4444444444444444,
             "#bd3786"
            ],
            [
             0.5555555555555556,
             "#d8576b"
            ],
            [
             0.6666666666666666,
             "#ed7953"
            ],
            [
             0.7777777777777778,
             "#fb9f3a"
            ],
            [
             0.8888888888888888,
             "#fdca26"
            ],
            [
             1,
             "#f0f921"
            ]
           ],
           "sequentialminus": [
            [
             0,
             "#0d0887"
            ],
            [
             0.1111111111111111,
             "#46039f"
            ],
            [
             0.2222222222222222,
             "#7201a8"
            ],
            [
             0.3333333333333333,
             "#9c179e"
            ],
            [
             0.4444444444444444,
             "#bd3786"
            ],
            [
             0.5555555555555556,
             "#d8576b"
            ],
            [
             0.6666666666666666,
             "#ed7953"
            ],
            [
             0.7777777777777778,
             "#fb9f3a"
            ],
            [
             0.8888888888888888,
             "#fdca26"
            ],
            [
             1,
             "#f0f921"
            ]
           ]
          },
          "colorway": [
           "#636efa",
           "#EF553B",
           "#00cc96",
           "#ab63fa",
           "#FFA15A",
           "#19d3f3",
           "#FF6692",
           "#B6E880",
           "#FF97FF",
           "#FECB52"
          ],
          "font": {
           "color": "#2a3f5f"
          },
          "geo": {
           "bgcolor": "white",
           "lakecolor": "white",
           "landcolor": "#E5ECF6",
           "showlakes": true,
           "showland": true,
           "subunitcolor": "white"
          },
          "hoverlabel": {
           "align": "left"
          },
          "hovermode": "closest",
          "mapbox": {
           "style": "light"
          },
          "paper_bgcolor": "white",
          "plot_bgcolor": "#E5ECF6",
          "polar": {
           "angularaxis": {
            "gridcolor": "white",
            "linecolor": "white",
            "ticks": ""
           },
           "bgcolor": "#E5ECF6",
           "radialaxis": {
            "gridcolor": "white",
            "linecolor": "white",
            "ticks": ""
           }
          },
          "scene": {
           "xaxis": {
            "backgroundcolor": "#E5ECF6",
            "gridcolor": "white",
            "gridwidth": 2,
            "linecolor": "white",
            "showbackground": true,
            "ticks": "",
            "zerolinecolor": "white"
           },
           "yaxis": {
            "backgroundcolor": "#E5ECF6",
            "gridcolor": "white",
            "gridwidth": 2,
            "linecolor": "white",
            "showbackground": true,
            "ticks": "",
            "zerolinecolor": "white"
           },
           "zaxis": {
            "backgroundcolor": "#E5ECF6",
            "gridcolor": "white",
            "gridwidth": 2,
            "linecolor": "white",
            "showbackground": true,
            "ticks": "",
            "zerolinecolor": "white"
           }
          },
          "shapedefaults": {
           "line": {
            "color": "#2a3f5f"
           }
          },
          "ternary": {
           "aaxis": {
            "gridcolor": "white",
            "linecolor": "white",
            "ticks": ""
           },
           "baxis": {
            "gridcolor": "white",
            "linecolor": "white",
            "ticks": ""
           },
           "bgcolor": "#E5ECF6",
           "caxis": {
            "gridcolor": "white",
            "linecolor": "white",
            "ticks": ""
           }
          },
          "title": {
           "x": 0.05
          },
          "xaxis": {
           "automargin": true,
           "gridcolor": "white",
           "linecolor": "white",
           "ticks": "",
           "title": {
            "standoff": 15
           },
           "zerolinecolor": "white",
           "zerolinewidth": 2
          },
          "yaxis": {
           "automargin": true,
           "gridcolor": "white",
           "linecolor": "white",
           "ticks": "",
           "title": {
            "standoff": 15
           },
           "zerolinecolor": "white",
           "zerolinewidth": 2
          }
         }
        },
        "xaxis": {
         "anchor": "y",
         "domain": [
          0,
          1
         ],
         "title": {
          "text": "v_max"
         }
        },
        "yaxis": {
         "anchor": "x",
         "domain": [
          0,
          1
         ],
         "title": {
          "text": "count"
         }
        }
       }
      }
     },
     "metadata": {},
     "output_type": "display_data"
    }
   ],
   "source": [
    "generate_histogram(process_speeds(speeds, ignore_na=False))"
   ]
  },
  {
   "cell_type": "markdown",
   "metadata": {},
   "source": [
    "Lorsque \"v_max\" vaut ```NA```, alors c'est qu'il n'y a pas de limitations de vitesse et que donc la vitesse maximale est de 350, On a une anomalie dans l'histogramme.\n",
    "\n",
    "De plus, en analysant les lignes où la limitation de vitesse est haute, il est spécifié s'agit de LGV (lignes à grande vitesse). Or, dans les lignes où \"v_max\" vaut ```NA```, cette précision n'est pas présente. On ne peut donc pas tirer de conclusions sur les limitations de vitesses qui ne sont pas présentes dans le dataset.\n",
    "Il vaut donc mieux garder les valeurs ```NA``` pour la vitesse maximale."
   ]
  }
 ],
 "metadata": {
  "kernelspec": {
   "display_name": "python-data",
   "language": "python",
   "name": "python3"
  },
  "language_info": {
   "codemirror_mode": {
    "name": "ipython",
    "version": 3
   },
   "file_extension": ".py",
   "mimetype": "text/x-python",
   "name": "python",
   "nbconvert_exporter": "python",
   "pygments_lexer": "ipython3",
   "version": "3.12.5"
  }
 },
 "nbformat": 4,
 "nbformat_minor": 2
}
