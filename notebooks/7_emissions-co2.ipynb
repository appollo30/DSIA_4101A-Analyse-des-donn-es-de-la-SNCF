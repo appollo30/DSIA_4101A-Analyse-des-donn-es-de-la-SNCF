{
 "cells": [
  {
   "cell_type": "code",
   "execution_count": 11,
   "metadata": {},
   "outputs": [],
   "source": [
    "import numpy as np\n",
    "import pandas as pd\n",
    "import geopandas as gpd\n",
    "import plotly.express as px\n",
    "import plotly.graph_objects as go\n",
    "from plotly.subplots import make_subplots"
   ]
  },
  {
   "cell_type": "markdown",
   "metadata": {},
   "source": [
    "# Exploration des émissions de co2"
   ]
  },
  {
   "cell_type": "code",
   "execution_count": 12,
   "metadata": {},
   "outputs": [
    {
     "name": "stdout",
     "output_type": "stream",
     "text": [
      "(119, 11)\n"
     ]
    },
    {
     "data": {
      "application/vnd.microsoft.datawrangler.viewer.v0+json": {
       "columns": [
        {
         "name": "index",
         "rawType": "int64",
         "type": "integer"
        },
        {
         "name": "Transporteur",
         "rawType": "object",
         "type": "string"
        },
        {
         "name": "Origine",
         "rawType": "object",
         "type": "string"
        },
        {
         "name": "Origine_uic",
         "rawType": "int64",
         "type": "integer"
        },
        {
         "name": "Destination",
         "rawType": "object",
         "type": "string"
        },
        {
         "name": "Destination_uic",
         "rawType": "int64",
         "type": "integer"
        },
        {
         "name": "Distance entre les gares",
         "rawType": "float64",
         "type": "float"
        },
        {
         "name": "Train - Empreinte carbone (kgCO2e)",
         "rawType": "float64",
         "type": "float"
        },
        {
         "name": "Autocar longue distance - Empreinte carbone (kgCO2e)",
         "rawType": "float64",
         "type": "float"
        },
        {
         "name": "Avion - Empreinte carbone (kgCO2e)",
         "rawType": "float64",
         "type": "float"
        },
        {
         "name": "Voiture électrique (2,2 pers.) - Empreinte carbone (kgCO2e)",
         "rawType": "float64",
         "type": "float"
        },
        {
         "name": "Voiture thermique (2,2 pers.) - Empreinte carbone (kgCO2e)",
         "rawType": "float64",
         "type": "float"
        }
       ],
       "ref": "7d204ad9-755a-4399-afef-adf6ec5ef58c",
       "rows": [
        [
         "0",
         "TGV",
         "Paris Est",
         "87113001",
         "Metz",
         "87192039",
         "352.0",
         "1.0208",
         "11.454",
         null,
         "15.604",
         "35.7896"
        ],
        [
         "1",
         "TGV",
         "Aeroport CDG2 TGV Roissy",
         "87271494",
         "Lille Europe",
         "87223263",
         "203.0",
         "0.5886999999999999",
         "6.9345",
         null,
         "9.447",
         "21.6678"
        ],
        [
         "2",
         "International",
         "Paris Nord",
         "88194060",
         "Bruxelles N Aero",
         "88194060",
         "314.0",
         "2.4178",
         "10.764",
         "37.9745",
         "14.664",
         "33.6336"
        ],
        [
         "3",
         "International",
         "Paris Gare de Lyon",
         "87686006",
         "Geneve",
         "85010082",
         "503.0",
         "1.7102",
         "18.6645",
         "59.03960000000001",
         "25.427",
         "58.3198"
        ],
        [
         "4",
         "TGV",
         "Marne la Vallee Chessy",
         "87111849",
         "Avignon TGV",
         "87318964",
         "646.0",
         "1.8734",
         "24.1845",
         null,
         "32.947",
         "75.5678"
        ]
       ],
       "shape": {
        "columns": 11,
        "rows": 5
       }
      },
      "text/html": [
       "<div>\n",
       "<style scoped>\n",
       "    .dataframe tbody tr th:only-of-type {\n",
       "        vertical-align: middle;\n",
       "    }\n",
       "\n",
       "    .dataframe tbody tr th {\n",
       "        vertical-align: top;\n",
       "    }\n",
       "\n",
       "    .dataframe thead th {\n",
       "        text-align: right;\n",
       "    }\n",
       "</style>\n",
       "<table border=\"1\" class=\"dataframe\">\n",
       "  <thead>\n",
       "    <tr style=\"text-align: right;\">\n",
       "      <th></th>\n",
       "      <th>Transporteur</th>\n",
       "      <th>Origine</th>\n",
       "      <th>Origine_uic</th>\n",
       "      <th>Destination</th>\n",
       "      <th>Destination_uic</th>\n",
       "      <th>Distance entre les gares</th>\n",
       "      <th>Train - Empreinte carbone (kgCO2e)</th>\n",
       "      <th>Autocar longue distance - Empreinte carbone (kgCO2e)</th>\n",
       "      <th>Avion - Empreinte carbone (kgCO2e)</th>\n",
       "      <th>Voiture électrique (2,2 pers.) - Empreinte carbone (kgCO2e)</th>\n",
       "      <th>Voiture thermique (2,2 pers.) - Empreinte carbone (kgCO2e)</th>\n",
       "    </tr>\n",
       "  </thead>\n",
       "  <tbody>\n",
       "    <tr>\n",
       "      <th>0</th>\n",
       "      <td>TGV</td>\n",
       "      <td>Paris Est</td>\n",
       "      <td>87113001</td>\n",
       "      <td>Metz</td>\n",
       "      <td>87192039</td>\n",
       "      <td>352.0</td>\n",
       "      <td>1.0208</td>\n",
       "      <td>11.4540</td>\n",
       "      <td>NaN</td>\n",
       "      <td>15.604</td>\n",
       "      <td>35.7896</td>\n",
       "    </tr>\n",
       "    <tr>\n",
       "      <th>1</th>\n",
       "      <td>TGV</td>\n",
       "      <td>Aeroport CDG2 TGV Roissy</td>\n",
       "      <td>87271494</td>\n",
       "      <td>Lille Europe</td>\n",
       "      <td>87223263</td>\n",
       "      <td>203.0</td>\n",
       "      <td>0.5887</td>\n",
       "      <td>6.9345</td>\n",
       "      <td>NaN</td>\n",
       "      <td>9.447</td>\n",
       "      <td>21.6678</td>\n",
       "    </tr>\n",
       "    <tr>\n",
       "      <th>2</th>\n",
       "      <td>International</td>\n",
       "      <td>Paris Nord</td>\n",
       "      <td>88194060</td>\n",
       "      <td>Bruxelles N Aero</td>\n",
       "      <td>88194060</td>\n",
       "      <td>314.0</td>\n",
       "      <td>2.4178</td>\n",
       "      <td>10.7640</td>\n",
       "      <td>37.9745</td>\n",
       "      <td>14.664</td>\n",
       "      <td>33.6336</td>\n",
       "    </tr>\n",
       "    <tr>\n",
       "      <th>3</th>\n",
       "      <td>International</td>\n",
       "      <td>Paris Gare de Lyon</td>\n",
       "      <td>87686006</td>\n",
       "      <td>Geneve</td>\n",
       "      <td>85010082</td>\n",
       "      <td>503.0</td>\n",
       "      <td>1.7102</td>\n",
       "      <td>18.6645</td>\n",
       "      <td>59.0396</td>\n",
       "      <td>25.427</td>\n",
       "      <td>58.3198</td>\n",
       "    </tr>\n",
       "    <tr>\n",
       "      <th>4</th>\n",
       "      <td>TGV</td>\n",
       "      <td>Marne la Vallee Chessy</td>\n",
       "      <td>87111849</td>\n",
       "      <td>Avignon TGV</td>\n",
       "      <td>87318964</td>\n",
       "      <td>646.0</td>\n",
       "      <td>1.8734</td>\n",
       "      <td>24.1845</td>\n",
       "      <td>NaN</td>\n",
       "      <td>32.947</td>\n",
       "      <td>75.5678</td>\n",
       "    </tr>\n",
       "  </tbody>\n",
       "</table>\n",
       "</div>"
      ],
      "text/plain": [
       "    Transporteur                   Origine  Origine_uic       Destination  \\\n",
       "0            TGV                 Paris Est     87113001              Metz   \n",
       "1            TGV  Aeroport CDG2 TGV Roissy     87271494      Lille Europe   \n",
       "2  International                Paris Nord     88194060  Bruxelles N Aero   \n",
       "3  International        Paris Gare de Lyon     87686006            Geneve   \n",
       "4            TGV    Marne la Vallee Chessy     87111849       Avignon TGV   \n",
       "\n",
       "   Destination_uic  Distance entre les gares  \\\n",
       "0         87192039                     352.0   \n",
       "1         87223263                     203.0   \n",
       "2         88194060                     314.0   \n",
       "3         85010082                     503.0   \n",
       "4         87318964                     646.0   \n",
       "\n",
       "   Train - Empreinte carbone (kgCO2e)  \\\n",
       "0                              1.0208   \n",
       "1                              0.5887   \n",
       "2                              2.4178   \n",
       "3                              1.7102   \n",
       "4                              1.8734   \n",
       "\n",
       "   Autocar longue distance - Empreinte carbone (kgCO2e)  \\\n",
       "0                                            11.4540      \n",
       "1                                             6.9345      \n",
       "2                                            10.7640      \n",
       "3                                            18.6645      \n",
       "4                                            24.1845      \n",
       "\n",
       "   Avion - Empreinte carbone (kgCO2e)  \\\n",
       "0                                 NaN   \n",
       "1                                 NaN   \n",
       "2                             37.9745   \n",
       "3                             59.0396   \n",
       "4                                 NaN   \n",
       "\n",
       "   Voiture électrique (2,2 pers.) - Empreinte carbone (kgCO2e)  \\\n",
       "0                                             15.604             \n",
       "1                                              9.447             \n",
       "2                                             14.664             \n",
       "3                                             25.427             \n",
       "4                                             32.947             \n",
       "\n",
       "   Voiture thermique (2,2 pers.) - Empreinte carbone (kgCO2e)  \n",
       "0                                            35.7896           \n",
       "1                                            21.6678           \n",
       "2                                            33.6336           \n",
       "3                                            58.3198           \n",
       "4                                            75.5678           "
      ]
     },
     "execution_count": 12,
     "metadata": {},
     "output_type": "execute_result"
    }
   ],
   "source": [
    "emissions = pd.read_csv('../data/raw/emission-co2-perimetre-complet.csv',sep=';')\n",
    "print(emissions.shape)\n",
    "emissions.head()"
   ]
  },
  {
   "cell_type": "code",
   "execution_count": 13,
   "metadata": {},
   "outputs": [],
   "source": [
    "def rename_columns(emissions_df):\n",
    "    emissions_df.rename(columns={\n",
    "        'Distance entre les gares':'Distance', \n",
    "        \"Train - Empreinte carbone (kgCO2e)\":\"Train\", \n",
    "        \"Autocar longue distance - Empreinte carbone (kgCO2e)\": \"Autocar\", \n",
    "        \"Avion - Empreinte carbone (kgCO2e)\":\"Avion\", \n",
    "        \"Voiture électrique (2,2 pers.) - Empreinte carbone (kgCO2e)\":\"Voiture électrique\", \n",
    "        \"Voiture thermique (2,2 pers.) - Empreinte carbone (kgCO2e)\":\"Voiture thermique\"\n",
    "    }, inplace=True)\n",
    "    return emissions_df"
   ]
  },
  {
   "cell_type": "code",
   "execution_count": 14,
   "metadata": {},
   "outputs": [
    {
     "data": {
      "application/vnd.microsoft.datawrangler.viewer.v0+json": {
       "columns": [
        {
         "name": "index",
         "rawType": "int64",
         "type": "integer"
        },
        {
         "name": "Transporteur",
         "rawType": "object",
         "type": "string"
        },
        {
         "name": "Origine",
         "rawType": "object",
         "type": "string"
        },
        {
         "name": "Origine_uic",
         "rawType": "int64",
         "type": "integer"
        },
        {
         "name": "Destination",
         "rawType": "object",
         "type": "string"
        },
        {
         "name": "Destination_uic",
         "rawType": "int64",
         "type": "integer"
        },
        {
         "name": "Distance",
         "rawType": "float64",
         "type": "float"
        },
        {
         "name": "Train",
         "rawType": "float64",
         "type": "float"
        },
        {
         "name": "Autocar",
         "rawType": "float64",
         "type": "float"
        },
        {
         "name": "Avion",
         "rawType": "float64",
         "type": "float"
        },
        {
         "name": "Voiture électrique",
         "rawType": "float64",
         "type": "float"
        },
        {
         "name": "Voiture thermique",
         "rawType": "float64",
         "type": "float"
        }
       ],
       "ref": "24a890c7-9561-4500-ab2e-a7e7db2faf55",
       "rows": [
        [
         "0",
         "TGV",
         "Paris Est",
         "87113001",
         "Metz",
         "87192039",
         "352.0",
         "1.0208",
         "11.454",
         null,
         "15.604",
         "35.7896"
        ],
        [
         "1",
         "TGV",
         "Aeroport CDG2 TGV Roissy",
         "87271494",
         "Lille Europe",
         "87223263",
         "203.0",
         "0.5886999999999999",
         "6.9345",
         null,
         "9.447",
         "21.6678"
        ],
        [
         "2",
         "International",
         "Paris Nord",
         "88194060",
         "Bruxelles N Aero",
         "88194060",
         "314.0",
         "2.4178",
         "10.764",
         "37.9745",
         "14.664",
         "33.6336"
        ],
        [
         "3",
         "International",
         "Paris Gare de Lyon",
         "87686006",
         "Geneve",
         "85010082",
         "503.0",
         "1.7102",
         "18.6645",
         "59.03960000000001",
         "25.427",
         "58.3198"
        ],
        [
         "4",
         "TGV",
         "Marne la Vallee Chessy",
         "87111849",
         "Avignon TGV",
         "87318964",
         "646.0",
         "1.8734",
         "24.1845",
         null,
         "32.947",
         "75.5678"
        ]
       ],
       "shape": {
        "columns": 11,
        "rows": 5
       }
      },
      "text/html": [
       "<div>\n",
       "<style scoped>\n",
       "    .dataframe tbody tr th:only-of-type {\n",
       "        vertical-align: middle;\n",
       "    }\n",
       "\n",
       "    .dataframe tbody tr th {\n",
       "        vertical-align: top;\n",
       "    }\n",
       "\n",
       "    .dataframe thead th {\n",
       "        text-align: right;\n",
       "    }\n",
       "</style>\n",
       "<table border=\"1\" class=\"dataframe\">\n",
       "  <thead>\n",
       "    <tr style=\"text-align: right;\">\n",
       "      <th></th>\n",
       "      <th>Transporteur</th>\n",
       "      <th>Origine</th>\n",
       "      <th>Origine_uic</th>\n",
       "      <th>Destination</th>\n",
       "      <th>Destination_uic</th>\n",
       "      <th>Distance</th>\n",
       "      <th>Train</th>\n",
       "      <th>Autocar</th>\n",
       "      <th>Avion</th>\n",
       "      <th>Voiture électrique</th>\n",
       "      <th>Voiture thermique</th>\n",
       "    </tr>\n",
       "  </thead>\n",
       "  <tbody>\n",
       "    <tr>\n",
       "      <th>0</th>\n",
       "      <td>TGV</td>\n",
       "      <td>Paris Est</td>\n",
       "      <td>87113001</td>\n",
       "      <td>Metz</td>\n",
       "      <td>87192039</td>\n",
       "      <td>352.0</td>\n",
       "      <td>1.0208</td>\n",
       "      <td>11.4540</td>\n",
       "      <td>NaN</td>\n",
       "      <td>15.604</td>\n",
       "      <td>35.7896</td>\n",
       "    </tr>\n",
       "    <tr>\n",
       "      <th>1</th>\n",
       "      <td>TGV</td>\n",
       "      <td>Aeroport CDG2 TGV Roissy</td>\n",
       "      <td>87271494</td>\n",
       "      <td>Lille Europe</td>\n",
       "      <td>87223263</td>\n",
       "      <td>203.0</td>\n",
       "      <td>0.5887</td>\n",
       "      <td>6.9345</td>\n",
       "      <td>NaN</td>\n",
       "      <td>9.447</td>\n",
       "      <td>21.6678</td>\n",
       "    </tr>\n",
       "    <tr>\n",
       "      <th>2</th>\n",
       "      <td>International</td>\n",
       "      <td>Paris Nord</td>\n",
       "      <td>88194060</td>\n",
       "      <td>Bruxelles N Aero</td>\n",
       "      <td>88194060</td>\n",
       "      <td>314.0</td>\n",
       "      <td>2.4178</td>\n",
       "      <td>10.7640</td>\n",
       "      <td>37.9745</td>\n",
       "      <td>14.664</td>\n",
       "      <td>33.6336</td>\n",
       "    </tr>\n",
       "    <tr>\n",
       "      <th>3</th>\n",
       "      <td>International</td>\n",
       "      <td>Paris Gare de Lyon</td>\n",
       "      <td>87686006</td>\n",
       "      <td>Geneve</td>\n",
       "      <td>85010082</td>\n",
       "      <td>503.0</td>\n",
       "      <td>1.7102</td>\n",
       "      <td>18.6645</td>\n",
       "      <td>59.0396</td>\n",
       "      <td>25.427</td>\n",
       "      <td>58.3198</td>\n",
       "    </tr>\n",
       "    <tr>\n",
       "      <th>4</th>\n",
       "      <td>TGV</td>\n",
       "      <td>Marne la Vallee Chessy</td>\n",
       "      <td>87111849</td>\n",
       "      <td>Avignon TGV</td>\n",
       "      <td>87318964</td>\n",
       "      <td>646.0</td>\n",
       "      <td>1.8734</td>\n",
       "      <td>24.1845</td>\n",
       "      <td>NaN</td>\n",
       "      <td>32.947</td>\n",
       "      <td>75.5678</td>\n",
       "    </tr>\n",
       "  </tbody>\n",
       "</table>\n",
       "</div>"
      ],
      "text/plain": [
       "    Transporteur                   Origine  Origine_uic       Destination  \\\n",
       "0            TGV                 Paris Est     87113001              Metz   \n",
       "1            TGV  Aeroport CDG2 TGV Roissy     87271494      Lille Europe   \n",
       "2  International                Paris Nord     88194060  Bruxelles N Aero   \n",
       "3  International        Paris Gare de Lyon     87686006            Geneve   \n",
       "4            TGV    Marne la Vallee Chessy     87111849       Avignon TGV   \n",
       "\n",
       "   Destination_uic  Distance   Train  Autocar    Avion  Voiture électrique  \\\n",
       "0         87192039     352.0  1.0208  11.4540      NaN              15.604   \n",
       "1         87223263     203.0  0.5887   6.9345      NaN               9.447   \n",
       "2         88194060     314.0  2.4178  10.7640  37.9745              14.664   \n",
       "3         85010082     503.0  1.7102  18.6645  59.0396              25.427   \n",
       "4         87318964     646.0  1.8734  24.1845      NaN              32.947   \n",
       "\n",
       "   Voiture thermique  \n",
       "0            35.7896  \n",
       "1            21.6678  \n",
       "2            33.6336  \n",
       "3            58.3198  \n",
       "4            75.5678  "
      ]
     },
     "execution_count": 14,
     "metadata": {},
     "output_type": "execute_result"
    }
   ],
   "source": [
    "emissions = rename_columns(emissions)\n",
    "emissions.head()"
   ]
  },
  {
   "cell_type": "markdown",
   "metadata": {},
   "source": [
    "On doit également filtrer les lignes qui sont des trains internationaux qui ne sont pas forcément sur le réseau français."
   ]
  },
  {
   "cell_type": "code",
   "execution_count": 15,
   "metadata": {},
   "outputs": [
    {
     "name": "stdout",
     "output_type": "stream",
     "text": [
      "['TGV' 'International' 'TER' 'Intercités']\n"
     ]
    }
   ],
   "source": [
    "print(emissions[\"Transporteur\"].unique())"
   ]
  },
  {
   "cell_type": "code",
   "execution_count": 16,
   "metadata": {},
   "outputs": [],
   "source": [
    "def filter_transporteur(emissions_df):\n",
    "    emissions_df = emissions_df.query(\"Transporteur != 'International'\")\n",
    "    return emissions_df\n",
    "\n",
    "emissions = filter_transporteur(emissions)"
   ]
  },
  {
   "cell_type": "code",
   "execution_count": 17,
   "metadata": {},
   "outputs": [],
   "source": [
    "color_palette = [\"#af2bbf\",\"#8770bf\",\"#6c91bf\",\"#5fb0b7\",\"#5bc8af\"]\n",
    "#color_palette = [\"#bbdef0\",\"#00a6a6\",\"#efca08\",\"#f49f0a\",\"#f08700\"]\n"
   ]
  },
  {
   "cell_type": "code",
   "execution_count": 18,
   "metadata": {},
   "outputs": [],
   "source": [
    "colors_moyens_de_transport = {\"Train\":color_palette[0], \"Autocar\":color_palette[1], \"Avion\":color_palette[2], \"Voiture thermique\":color_palette[3], \"Voiture électrique\":color_palette[4]}"
   ]
  },
  {
   "cell_type": "code",
   "execution_count": 19,
   "metadata": {},
   "outputs": [
    {
     "data": {
      "application/vnd.plotly.v1+json": {
       "config": {
        "plotlyServerURL": "https://plot.ly"
       },
       "data": [
        {
         "hovertemplate": "<b>%{hovertext}</b><extra></extra>",
         "hovertext": [
          "Arcachon - Bordeaux Saint-Jean",
          "Paris Nord - Compiègne",
          "Le Havre Gare locale - Rouen Rive Droite",
          "Belfort - Besançon-Viotte",
          "Bayonne - Pau",
          "Chambéry-Challes-les-Eaux - Lyon Part-Dieu",
          "Lille Europe - Bruxelles Midi Brussel Zuid",
          "Paris Austerlitz - Orléans",
          "Grenoble - Lyon Part-Dieu",
          "Paris-Nord - Amiens",
          "Agen - Bordeaux Saint-Jean",
          "Paris Saint-Lazare - Rouen Rive Droite",
          "Paris Est - Reims",
          "Nancy Ville - Strasbourg Ville",
          "Geneve - Lyon Perrache",
          "Paris-Est - Champagne-Ardenne-TGV",
          "Paris Nord - Arras",
          "Dijon Ville - Lyon Part-Dieu",
          "Bayonne - Bordeaux Saint-Jean",
          "Paris Gare du Nord - Lens",
          "Brive-la-Gaillarde - Bordeaux Saint-Jean",
          "Paris Montparnasse - Le Mans",
          "Aeroport CDG2 TGV Roissy - Lille Europe",
          "Paris Gare du Nord - Douai",
          "Toulouse-Matabiau - Perpignan",
          "Paris Saint-Lazare - Trouville-Deauville",
          "Paris Montparnasse - Saint-Pierre-des-Corps",
          "Marseille Saint-Charles - Nice Ville",
          "Paris Gare du Nord - Lille Europe",
          "Marne-la-Vallée-Chessy - Lille Europe",
          "Paris Saint-Lazare - Le Havre Gare locale",
          "Paris Gare du Nord - Valenciennes",
          "Paris Saint-Lazare - Caen",
          "Rennes - Brest",
          "Bordeaux Saint-Jean - Toulouse-Matabiau",
          "Paris Gare de Lyon - Dijon",
          "Aéroport Charles de Gaulle 2 TGV - Bruxelles Midi Brussel Zuid",
          "Paris Montparnasse - Angers-St-Laud",
          "Paris Gare du Nord - Dunkerque",
          "Lyon Part Dieu - Montpellier Saint-Roch",
          "Paris Montparnasse - Poitiers",
          "Bayonne - Toulouse-Matabiau",
          "Lyon Part Dieu - Marseille Saint-Charles",
          "Paris Nord - Calais Ville",
          "Metz Ville - Strasbourg Ville",
          "Paris Est - Metz",
          "Paris Montparnasse - Rennes",
          "Paris Gare de Lyon - Vichy",
          "Paris Est - Nancy",
          "Paris Gare de Lyon - Besançon Franche Comté",
          "Paris Gare de Lyon - Mâcon Loché TGV",
          "Paris Saint-Lazare - Cherbourg",
          "Paris Montparnasse - Nantes",
          "Paris-Austerlitz - Limoges-Bénédictins",
          "Paris-Gare-de-Lyon - Clermont-Ferrand",
          "Aéroport Charles de Gaulle 2 TGV - Rennes",
          "Marseille Saint-Charles - Toulouse-Matabiau",
          "Paris Montparnasse - Angoulême",
          "Paris Gare de Lyon - Lyon Part Dieu",
          "Aéroport Charles de Gaulle 2 TGV - Lyon Part Dieu",
          "Paris Gare de Lyon - Belfort-Montbéliard TGV",
          "Paris Est - Strasbourg",
          "Paris Montparnasse - La Rochelle",
          "Paris Montparnasse - Vannes",
          "Paris Est - Mulhouse",
          "Paris-Austerlitz - Brive-la-Gaillarde",
          "Massy-TGV - Bordeaux Saint-Jean",
          "Bordeaux Saint-Jean - Nantes",
          "Paris Gare de Lyon - Chambéry - Challes-les-Eaux",
          "Paris Gare de Lyon - Valence TGV Rhône-Alpes Sud",
          "Paris Montparnasse - Bordeaux Saint-Jean",
          "Paris Gare de Lyon - Annecy",
          "Paris Gare de Lyon - Grenoble",
          "Paris Montparnasse - Arcachon",
          "Paris Montparnasse - Brest",
          "Lille Europe - Lyon Part Dieu",
          "Marne la Vallee Chessy - Avignon TGV",
          "Paris-Austerlitz - Rodez",
          "Marseille Saint-Charles - Bordeaux Saint-Jean",
          "Marne la Vallee Chessy - Aix en Provence TGV",
          "Bruxelles Midi Brussel Zuid - Lyon Part Dieu",
          "Paris Montparnasse - Bayonne",
          "Paris Gare de Lyon - Montpellier Saint-Roch",
          "Paris Montparnasse - Biarritz",
          "Paris Gare de Lyon - Marseille Saint-Charles",
          "Paris Montparnasse - Toulouse Matabiau",
          "Paris Gare de Lyon - Toulon",
          "Lyon-Part-Dieu - Nantes",
          "Strasbourg Ville - Nantes",
          "Paris Gare de Lyon - Saint-Raphaël",
          "Paris Gare de Lyon - Nice"
         ],
         "opacity": 0,
         "showlegend": false,
         "type": "scatter",
         "x": {
          "bdata": "AAAAAAAATUAAAAAAAABVQAAAAAAAAFZAAAAAAAAAWEAAAAAAAIBaQAAAAAAAwFpAAAAAAADAWkAAAAAAAEBeQAAAAAAAYGBAAAAAAABgYEAAAAAAAOBgQAAAAAAAYGFAokW28/1EYkAAAAAAAMBiQAAAAAAAQGRAAAAAAADgZUAAAAAAAGBmQAAAAAAAAGhAAAAAAADAaEAAAAAAAMBoQAAAAAAAAGlAAAAAAABAaUAAAAAAAGBpQAAAAAAAgGlAAAAAAABAakAAAAAAAGBrQAAAAAAAoGtAAAAAAAAAbECHFtnO9ydsQAAAAAAAYGxAAAAAAACAbEAAAAAAAKBtQAAAAAAA4G1AAAAAAAAgb0AAAAAAABBwQAAAAAAAIHJAAAAAAAAwckAAAAAAAPByQAAAAAAAEHNAAAAAAACgc0AAAAAAAAB0QAAAAAAAEHRAAAAAAABQdEAAAAAAAPB0QAAAAAAAAHZAAAAAAAAAdkCsHFpkO792QAAAAAAAwHZAAAAAAADwdkAAAAAAAPB2QAAAAAAAEHdAAAAAAAAwd0D6fmq8dB14QAAAAAAAAHlAAAAAAAAwekAAAAAAAFB6QAAAAAAAcHpAAAAAAADAekAOLbKd79d6QAAAAAAAoHtAAAAAAAAQfEDhehSuRyl8QAAAAAAAwHxAAAAAAACQfkAAAAAAAPB+QAAAAAAAIH9AAAAAAABYgEAAAAAAAGiAQPhT46Wbn4BAAAAAAAC4gEDXo3A9CsmAQAAAAAAACIFAH4XrUbhggUAAAAAAAJiCQAAAAAAAKINAAiuHFtkqhEAAAAAAADCEQAAAAAAAoIRAAAAAAABAhUAAAAAAAICGQAAAAAAA6IZA8tJNYhD2hkDZzvdT4xaHQIcW2c73Q4dAyXa+nxpxh0Bt5/up8c+IQAAAAAAAYIlAAAAAAABgiUAAAAAAABCKQDMzMzMzZYxAPQrXo3BdjkA=",
          "dtype": "f8"
         },
         "y": {
          "bdata": "hclUwaik9j+EDU+vlGUAQAXFjzF3LQFABTQRNjy9AkBYObTIdr7nP6UsQxzr4gRAJLn8h/Tb0z/lriXkg54HQKd5xyk6kglAp3nHKTqSCUA9CtejcD3uP6foSC7/IQtA6DAV0WUg2z9I4XoUrkcNQMgHPZtVnw9APQrXo3A94D+xUGuad5zgPwQ0ETY8vRJApb3BFyZTE0BVn6ut2F/iP4XrUbgehRNAyeU/pN++4j9l9+RhodbiPwMJih9j7uI/5dAi2/l+FEBWn6ut2F8VQG40gLdAguQ/BRIUP8bcFUA5yJAIMufkPxueXinLEOU/xm00gLdAFkA7TtGRXP7lPxZqTfOOUxdAdk8eFmpNGEBiEFg5tMj8P7bz/dR46eo/UwWjkjoB6z+t2F92Tx7sP+f7qfHSTew/a5p3nKIj7T8ZBFYOLbLtP2Dl0CLb+QFAKVyPwvUo7j9KDAIrhxbvP9obfGEyVfA/2ht8YTJV8D8mXCPdKuPwP/yp8dJNYgRA8x/Sb18H8T/zH9JvXwfxP48xdy0hH/E/7Z48LNQaIkAwjtt5LOfxP2ZmZmZmZgZAEFg5tMh2B0B/+zpwzojzP+Olm8QgsAdAJLn8h/Tb8z87mF6sue3zP240gLdAgvQ/EvJBz2bV9D+WWYRiK+j0P/LSTWIQWPU/VFInoImw9j8rhxbZzvf2PxfZzvdT4wtAv30dOGdE+D9mZmZmZmYNQBio1gy6rvg/bef7qfHS+D/Is8u3Puz4P30/NV66Sfk/843onnXN+T/P91PjpZv7P1OWIY51cfw/Yng29cvx/T/vOEVHcvn9P3sUrkfhehJACtejcD0KE0BOYhBYObQAQIzbaABvAQFAXgE77d8LAUC27LVFPiQBQCB3tuy1RQFA47FVODhnAUDLd9/nrmsCQGb35GGh1gJAI9v5fmq8FkBF2PD0SlkDQPhwyXGnFAVATYOieQCLBkA=",
          "dtype": "f8"
         }
        },
        {
         "connectgaps": true,
         "hovertemplate": "<b>%{hovertext}</b> : %{y:.2f} kgCO2e <extra></extra>",
         "hovertext": [
          "TER",
          "TER",
          "TER",
          "TER",
          "Intercités",
          "TER",
          "TGV",
          "TER",
          "TER",
          "TER",
          "Intercités",
          "TER",
          "TGV",
          "TER",
          "TER",
          "TGV",
          "TGV",
          "TER",
          "TER",
          "TGV",
          "TER",
          "TGV",
          "TGV",
          "TGV",
          "TER",
          "TER",
          "TGV",
          "TER",
          "TGV",
          "TGV",
          "TER",
          "TGV",
          "TER",
          "TER",
          "Intercités",
          "TGV",
          "TGV",
          "TGV",
          "TGV",
          "TGV",
          "TGV",
          "Intercités",
          "TGV",
          "TGV",
          "TGV",
          "TGV",
          "TGV",
          "Intercités",
          "TGV",
          "TGV",
          "TGV",
          "TER",
          "TGV",
          "Intercités",
          "Intercités",
          "TGV",
          "Intercités",
          "TGV",
          "TGV",
          "TGV",
          "TGV",
          "TGV",
          "TGV",
          "TGV",
          "TGV",
          "Intercités",
          "TGV",
          "Intercités",
          "TGV",
          "TGV",
          "TGV",
          "TGV",
          "TGV",
          "TGV",
          "TGV",
          "TGV",
          "TGV",
          "Intercités",
          "Intercités",
          "TGV",
          "TGV",
          "TGV",
          "TGV",
          "TGV",
          "TGV",
          "TGV",
          "TGV",
          "Intercités",
          "TGV",
          "TGV",
          "TGV"
         ],
         "marker": {
          "color": "#af2bbf"
         },
         "mode": "lines+markers",
         "name": "Train",
         "type": "scatter",
         "x": {
          "bdata": "AAAAAAAATUAAAAAAAABVQAAAAAAAAFZAAAAAAAAAWEAAAAAAAIBaQAAAAAAAwFpAAAAAAADAWkAAAAAAAEBeQAAAAAAAYGBAAAAAAABgYEAAAAAAAOBgQAAAAAAAYGFAokW28/1EYkAAAAAAAMBiQAAAAAAAQGRAAAAAAADgZUAAAAAAAGBmQAAAAAAAAGhAAAAAAADAaEAAAAAAAMBoQAAAAAAAAGlAAAAAAABAaUAAAAAAAGBpQAAAAAAAgGlAAAAAAABAakAAAAAAAGBrQAAAAAAAoGtAAAAAAAAAbECHFtnO9ydsQAAAAAAAYGxAAAAAAACAbEAAAAAAAKBtQAAAAAAA4G1AAAAAAAAgb0AAAAAAABBwQAAAAAAAIHJAAAAAAAAwckAAAAAAAPByQAAAAAAAEHNAAAAAAACgc0AAAAAAAAB0QAAAAAAAEHRAAAAAAABQdEAAAAAAAPB0QAAAAAAAAHZAAAAAAAAAdkCsHFpkO792QAAAAAAAwHZAAAAAAADwdkAAAAAAAPB2QAAAAAAAEHdAAAAAAAAwd0D6fmq8dB14QAAAAAAAAHlAAAAAAAAwekAAAAAAAFB6QAAAAAAAcHpAAAAAAADAekAOLbKd79d6QAAAAAAAoHtAAAAAAAAQfEDhehSuRyl8QAAAAAAAwHxAAAAAAACQfkAAAAAAAPB+QAAAAAAAIH9AAAAAAABYgEAAAAAAAGiAQPhT46Wbn4BAAAAAAAC4gEDXo3A9CsmAQAAAAAAACIFAH4XrUbhggUAAAAAAAJiCQAAAAAAAKINAAiuHFtkqhEAAAAAAADCEQAAAAAAAoIRAAAAAAABAhUAAAAAAAICGQAAAAAAA6IZA8tJNYhD2hkDZzvdT4xaHQIcW2c73Q4dAyXa+nxpxh0Bt5/up8c+IQAAAAAAAYIlAAAAAAABgiUAAAAAAABCKQDMzMzMzZYxAPQrXo3BdjkA=",
          "dtype": "f8"
         },
         "y": {
          "bdata": "hclUwaik9j+EDU+vlGUAQAXFjzF3LQFABTQRNjy9AkBYObTIdr7nP6UsQxzr4gRAJLn8h/Tb0z/lriXkg54HQKd5xyk6kglAp3nHKTqSCUA9CtejcD3uP6foSC7/IQtA6DAV0WUg2z9I4XoUrkcNQMgHPZtVnw9APQrXo3A94D+xUGuad5zgPwQ0ETY8vRJApb3BFyZTE0BVn6ut2F/iP4XrUbgehRNAyeU/pN++4j9l9+RhodbiPwMJih9j7uI/5dAi2/l+FEBWn6ut2F8VQG40gLdAguQ/BRIUP8bcFUA5yJAIMufkPxueXinLEOU/xm00gLdAFkA7TtGRXP7lPxZqTfOOUxdAdk8eFmpNGEBiEFg5tMj8P7bz/dR46eo/UwWjkjoB6z+t2F92Tx7sP+f7qfHSTew/a5p3nKIj7T8ZBFYOLbLtP2Dl0CLb+QFAKVyPwvUo7j9KDAIrhxbvP9obfGEyVfA/2ht8YTJV8D8mXCPdKuPwP/yp8dJNYgRA8x/Sb18H8T/zH9JvXwfxP48xdy0hH/E/7Z48LNQaIkAwjtt5LOfxP2ZmZmZmZgZAEFg5tMh2B0B/+zpwzojzP+Olm8QgsAdAJLn8h/Tb8z87mF6sue3zP240gLdAgvQ/EvJBz2bV9D+WWYRiK+j0P/LSTWIQWPU/VFInoImw9j8rhxbZzvf2PxfZzvdT4wtAv30dOGdE+D9mZmZmZmYNQBio1gy6rvg/bef7qfHS+D/Is8u3Puz4P30/NV66Sfk/843onnXN+T/P91PjpZv7P1OWIY51cfw/Yng29cvx/T/vOEVHcvn9P3sUrkfhehJACtejcD0KE0BOYhBYObQAQIzbaABvAQFAXgE77d8LAUC27LVFPiQBQCB3tuy1RQFA47FVODhnAUDLd9/nrmsCQGb35GGh1gJAI9v5fmq8FkBF2PD0SlkDQPhwyXGnFAVATYOieQCLBkA=",
          "dtype": "f8"
         }
        },
        {
         "connectgaps": true,
         "hovertemplate": "%{y:.2f} kgCO2e",
         "marker": {
          "color": "#8770bf"
         },
         "mode": "lines+markers",
         "name": "Autocar",
         "type": "scatter",
         "x": {
          "bdata": "AAAAAAAATUAAAAAAAABVQAAAAAAAAFZAAAAAAAAAWEAAAAAAAIBaQAAAAAAAwFpAAAAAAADAWkAAAAAAAEBeQAAAAAAAYGBAAAAAAABgYEAAAAAAAOBgQAAAAAAAYGFAokW28/1EYkAAAAAAAMBiQAAAAAAAQGRAAAAAAADgZUAAAAAAAGBmQAAAAAAAAGhAAAAAAADAaEAAAAAAAMBoQAAAAAAAAGlAAAAAAABAaUAAAAAAAGBpQAAAAAAAgGlAAAAAAABAakAAAAAAAGBrQAAAAAAAoGtAAAAAAAAAbECHFtnO9ydsQAAAAAAAYGxAAAAAAACAbEAAAAAAAKBtQAAAAAAA4G1AAAAAAAAgb0AAAAAAABBwQAAAAAAAIHJAAAAAAAAwckAAAAAAAPByQAAAAAAAEHNAAAAAAACgc0AAAAAAAAB0QAAAAAAAEHRAAAAAAABQdEAAAAAAAPB0QAAAAAAAAHZAAAAAAAAAdkCsHFpkO792QAAAAAAAwHZAAAAAAADwdkAAAAAAAPB2QAAAAAAAEHdAAAAAAAAwd0D6fmq8dB14QAAAAAAAAHlAAAAAAAAwekAAAAAAAFB6QAAAAAAAcHpAAAAAAADAekAOLbKd79d6QAAAAAAAoHtAAAAAAAAQfEDhehSuRyl8QAAAAAAAwHxAAAAAAACQfkAAAAAAAPB+QAAAAAAAIH9AAAAAAABYgEAAAAAAAGiAQPhT46Wbn4BAAAAAAAC4gEDXo3A9CsmAQAAAAAAACIFAH4XrUbhggUAAAAAAAJiCQAAAAAAAKINAAiuHFtkqhEAAAAAAADCEQAAAAAAAoIRAAAAAAABAhUAAAAAAAICGQAAAAAAA6IZA8tJNYhD2hkDZzvdT4xaHQIcW2c73Q4dAyXa+nxpxh0Bt5/up8c+IQAAAAAAAYIlAAAAAAABgiUAAAAAAABCKQDMzMzMzZYxAPQrXo3BdjkA=",
          "dtype": "f8"
         },
         "y": {
          "bdata": "BoGVQ4tsBEBvEoPAyqEGQDEIrBxaZAlAbef7qfFSC0DjpZvEIDAPQC/dJAaBFQ5AtvP91HjpDkD4U+Olm8QSQOOlm8QgMA9AaJHtfD91E0A730+Nly4TQNnO91PjJRRAw/UoXI8CFEDRItv5fqoVQDMzMzMzsxRABoGVQ4tsFEC4HoXrUTgaQBKDwMqhxRpAz/dT46VbGkDVeOkmMYgdQMdLN4lB4BtAZDvfT43XHECwcmiR7bwbQG3n+6nxUhtAN4lBYOWQHEC+nxov3WQdQARWDi2yfSBAN4lBYOWQHEA9CtejcL0fQDEIrBxaxCBAke18PzUeHUCoxks3iUEdQHWTGARWLiFAvHSTGATWIEC8dJMYBNYgQFyPwvUovCVAN4lBYOXwI0C+nxov3cQkQL6fGi/dxCRA1XjpJjHoJECBlUOLbIcnQKjGSzeJoSRAXI/C9Si8JUCR7Xw/NX4kQJzEILBy6CZAnMQgsHLoJkCq8dJNYkA0QH9qvHSTOCxA/Knx0k2iKkBOYhBYObQsQDvfT42XzitAXrpJDAKrKUD8qfHSTaIqQD81XrpJDCtAqMZLN4lBLUDP91PjpVsqQFK4HoXr8StAzczMzMwML0DByqFFthMwQLpJDAIrNzFA6SYxCKwcMUC8dJMYBNYwQJzEILBy6CZANV66SQwCMEAnMQisHKoyQKabxCCwsjBAxSCwcmihM0CTGARWDm0oQFCNl24SszNAmG4Sg8CqN0Cq8dJNYkA0QFK4HoXrUTNArBxaZDvfM0AAAAAAAIAzQAaBlUOLbDRAObTIdr7fN0CsHFpkOy84QIXrUbgexTZA/Knx0k1SNkBxPQrXo5A6QAaBlUOLvDhAcT0K16OQOkC6SQwCK9c5QPp+arx0AztAzczMzMy8OkCwcmiR7Ww3QDVeukkM8jxAmG4Sg8CqN0BI4XoUrtc9QIts5/upQT5ABoGVQ4scQEA=",
          "dtype": "f8"
         }
        },
        {
         "connectgaps": true,
         "hovertemplate": "%{y:.2f} kgCO2e",
         "marker": {
          "color": "#5bc8af"
         },
         "mode": "lines+markers",
         "name": "Voiture électrique",
         "type": "scatter",
         "x": {
          "bdata": "AAAAAAAATUAAAAAAAABVQAAAAAAAAFZAAAAAAAAAWEAAAAAAAIBaQAAAAAAAwFpAAAAAAADAWkAAAAAAAEBeQAAAAAAAYGBAAAAAAABgYEAAAAAAAOBgQAAAAAAAYGFAokW28/1EYkAAAAAAAMBiQAAAAAAAQGRAAAAAAADgZUAAAAAAAGBmQAAAAAAAAGhAAAAAAADAaEAAAAAAAMBoQAAAAAAAAGlAAAAAAABAaUAAAAAAAGBpQAAAAAAAgGlAAAAAAABAakAAAAAAAGBrQAAAAAAAoGtAAAAAAAAAbECHFtnO9ydsQAAAAAAAYGxAAAAAAACAbEAAAAAAAKBtQAAAAAAA4G1AAAAAAAAgb0AAAAAAABBwQAAAAAAAIHJAAAAAAAAwckAAAAAAAPByQAAAAAAAEHNAAAAAAACgc0AAAAAAAAB0QAAAAAAAEHRAAAAAAABQdEAAAAAAAPB0QAAAAAAAAHZAAAAAAAAAdkCsHFpkO792QAAAAAAAwHZAAAAAAADwdkAAAAAAAPB2QAAAAAAAEHdAAAAAAAAwd0D6fmq8dB14QAAAAAAAAHlAAAAAAAAwekAAAAAAAFB6QAAAAAAAcHpAAAAAAADAekAOLbKd79d6QAAAAAAAoHtAAAAAAAAQfEDhehSuRyl8QAAAAAAAwHxAAAAAAACQfkAAAAAAAPB+QAAAAAAAIH9AAAAAAABYgEAAAAAAAGiAQPhT46Wbn4BAAAAAAAC4gEDXo3A9CsmAQAAAAAAACIFAH4XrUbhggUAAAAAAAJiCQAAAAAAAKINAAiuHFtkqhEAAAAAAADCEQAAAAAAAoIRAAAAAAABAhUAAAAAAAICGQAAAAAAA6IZA8tJNYhD2hkDZzvdT4xaHQIcW2c73Q4dAyXa+nxpxh0Bt5/up8c+IQAAAAAAAYIlAAAAAAABgiUAAAAAAABCKQDMzMzMzZYxAPQrXo3BdjkA=",
          "dtype": "f8"
         },
         "y": {
          "bdata": "bef7qfHSC0CiRbbz/dQOQLKd76fGSxFA6SYxCKycEkBYObTIdj4VQMuhRbbzfRRAdZMYBFYOFUDFILByaJEZQFg5tMh2PhVANV66SQyCGkBvEoPAyiEaQKabxCCwchtAw/UoXI9CG0BqvHSTGIQdQDMzMzMzMxxAbef7qfHSG0Bcj8L1KNwhQCPb+X5qPCJATmIQWDn0IUAEVg4tsh0kQLByaJHt/CJATDeJQWClI0C+nxov3eQiQOkmMQisnCJAaJHtfD91I0ASg8DKoQUkQJ7vp8ZLdyZAaJHtfD91I0AfhetRuJ4lQGQ730+N1yZAL90kBoHVI0AhsHJoke0jQA4tsp3vZydAVg4tsp3vJkBWDi2yne8mQFyPwvUonC1A0SLb+X4qK0AlBoGVQ0ssQCUGgZVDSyxACKwcWmR7LED0/dR46QYwQEJg5dAiGyxAXI/C9SicLUBeukkMAusrQGiR7Xw/NS9AaJHtfD81L0AQWDm0yJY7QAwCK4cWOTNAMQisHFokMkBaZDvfT40zQDeJQWDl8DJAlkOLbOd7MUAxCKwcWiQyQAaBlUOLbDJAIbByaJHtM0BOYhBYOfQxQClcj8L1CDNAZmZmZmYmNUB7FK5H4do1QIcW2c73czdAHVpkO99PN0CamZmZmek2QGiR7Xw/NS9AAiuHFtnONUBaZDvfT205QHNoke18vzZAke18PzW+OkAX2c73U6MwQIPAyqFF1jpA5dAi2/keQEAQWDm0yJY7QFK4HoXrUTpA30+Nl24SO0DNzMzMzIw+QG3n+6nx0jtAUI2XbhJDQEDwp8ZLN3lAQIXrUbgeBT9AYhBYObRoPkC4HoXrURhCQLbz/dR42UBAuB6F61EYQkBEi2zn+5lBQEoMAiuHZkJAZmZmZmY2QkB9PzVeuuk/QIGVQ4tst0NA5dAi2/keQECkcD0K11NEQHnpJjEInERAbef7qfHyRUA=",
          "dtype": "f8"
         }
        },
        {
         "connectgaps": true,
         "hovertemplate": "%{y:.2f} kgCO2e",
         "marker": {
          "color": "#5fb0b7"
         },
         "mode": "lines+markers",
         "name": "Voiture thermique",
         "type": "scatter",
         "x": {
          "bdata": "AAAAAAAATUAAAAAAAABVQAAAAAAAAFZAAAAAAAAAWEAAAAAAAIBaQAAAAAAAwFpAAAAAAADAWkAAAAAAAEBeQAAAAAAAYGBAAAAAAABgYEAAAAAAAOBgQAAAAAAAYGFAokW28/1EYkAAAAAAAMBiQAAAAAAAQGRAAAAAAADgZUAAAAAAAGBmQAAAAAAAAGhAAAAAAADAaEAAAAAAAMBoQAAAAAAAAGlAAAAAAABAaUAAAAAAAGBpQAAAAAAAgGlAAAAAAABAakAAAAAAAGBrQAAAAAAAoGtAAAAAAAAAbECHFtnO9ydsQAAAAAAAYGxAAAAAAACAbEAAAAAAAKBtQAAAAAAA4G1AAAAAAAAgb0AAAAAAABBwQAAAAAAAIHJAAAAAAAAwckAAAAAAAPByQAAAAAAAEHNAAAAAAACgc0AAAAAAAAB0QAAAAAAAEHRAAAAAAABQdEAAAAAAAPB0QAAAAAAAAHZAAAAAAAAAdkCsHFpkO792QAAAAAAAwHZAAAAAAADwdkAAAAAAAPB2QAAAAAAAEHdAAAAAAAAwd0D6fmq8dB14QAAAAAAAAHlAAAAAAAAwekAAAAAAAFB6QAAAAAAAcHpAAAAAAADAekAOLbKd79d6QAAAAAAAoHtAAAAAAAAQfEDhehSuRyl8QAAAAAAAwHxAAAAAAACQfkAAAAAAAPB+QAAAAAAAIH9AAAAAAABYgEAAAAAAAGiAQPhT46Wbn4BAAAAAAAC4gEDXo3A9CsmAQAAAAAAACIFAH4XrUbhggUAAAAAAAJiCQAAAAAAAKINAAiuHFtkqhEAAAAAAADCEQAAAAAAAoIRAAAAAAABAhUAAAAAAAICGQAAAAAAA6IZA8tJNYhD2hkDZzvdT4xaHQIcW2c73Q4dAyXa+nxpxh0Bt5/up8c+IQAAAAAAAYIlAAAAAAABgiUAAAAAAABCKQDMzMzMzZYxAPQrXo3BdjkA=",
          "dtype": "f8"
         },
         "y": {
          "bdata": "1JrmHafoH0B2cRsN4K0hQISezarP1SNADb4wmSpYJUAi/fZ14FwoQBzr4jYagCdAofgx5q4lKEDDZKpgVFItQCL99nXgXChASnuDL0xmLkBHcvkP6fctQNGRXP5Dei9AUI2XbhJDL0Cw4emVsuwwQOxRuB6FKzBA1JrmHafoL0AIrBxaZHs0QAu1pnnH6TRASS7/If2WNEAZ4lgXtxE3QBHHuriNxjVA1lbsL7uHNkDQRNjw9Ko1QA6+MJkqWDVAVFInoIlQNkDZX3ZPHvY2QGuad5yiwzlAVFInoIlQNkAlBoGVQ8s4QG6jAbwFMjpAV1uxv+y+NkCY3ZOHhdo2QPKwUGua1zpAryXkg55NOkCvJeSDnk06QNEi2/l++kBADwu1pnknP0AMk6mCUTlAQAyTqYJROUBATRWMSupUQEAawFsgQWFCQMsQx7q4HUBA0SLb+X76QECKjuTyHwJAQPd14JwR5UFA93XgnBHlQUAyVTAqqaNPQLMMcayLC0ZAyjLEsS7ORECU1AloImxGQPCFyVTBuEVABaOSOgENREDKMsSxLs5EQIy5awn5IEVAmN2Th4XaRkBJLv8h/ZZEQDEIrBxa1EVA4XoUrkdBSEDmjCjtDR5JQBPyQc9m5UpAsi5uowG8SkCvJeSDnk1KQPd14JwR5UFApgpGJXUCSUBiodY07yhNQC0hH/RsFkpA7MA5I0qrTkC/DpwzohRDQC1DHOvixk5AW0I+6Nl8UkAyVTAqqaNPQMl2vp8aL05AzojS3uALT0AUrkfheoRRQNSa5h2n6E9AuwUSFD+mUkDOqs/VVuRSQLbz/dR4yVFAY8xdS8hvUUCq8dJNYsBUQNCzWfW5UlNAqvHSTWLAVEDWxW00gC9UQPwYc9cSGlVAexSuR+HiVEBp3nGKjkxSQIY41sVtnFZAW0I+6Nl8UkArhxbZzk9XQO0NvjCZoldAB84ZUdorWUA=",
          "dtype": "f8"
         }
        },
        {
         "connectgaps": true,
         "hovertemplate": "%{y:.2f} kgCO2e",
         "marker": {
          "color": "#6c91bf"
         },
         "mode": "lines+markers",
         "name": "Avion",
         "type": "scatter",
         "x": {
          "bdata": "AAAAAAAATUAAAAAAAABVQAAAAAAAAFZAAAAAAAAAWEAAAAAAAIBaQAAAAAAAwFpAAAAAAADAWkAAAAAAAEBeQAAAAAAAYGBAAAAAAABgYEAAAAAAAOBgQAAAAAAAYGFAokW28/1EYkAAAAAAAMBiQAAAAAAAQGRAAAAAAADgZUAAAAAAAGBmQAAAAAAAAGhAAAAAAADAaEAAAAAAAMBoQAAAAAAAAGlAAAAAAABAaUAAAAAAAGBpQAAAAAAAgGlAAAAAAABAakAAAAAAAGBrQAAAAAAAoGtAAAAAAAAAbECHFtnO9ydsQAAAAAAAYGxAAAAAAACAbEAAAAAAAKBtQAAAAAAA4G1AAAAAAAAgb0AAAAAAABBwQAAAAAAAIHJAAAAAAAAwckAAAAAAAPByQAAAAAAAEHNAAAAAAACgc0AAAAAAAAB0QAAAAAAAEHRAAAAAAABQdEAAAAAAAPB0QAAAAAAAAHZAAAAAAAAAdkCsHFpkO792QAAAAAAAwHZAAAAAAADwdkAAAAAAAPB2QAAAAAAAEHdAAAAAAAAwd0D6fmq8dB14QAAAAAAAAHlAAAAAAAAwekAAAAAAAFB6QAAAAAAAcHpAAAAAAADAekAOLbKd79d6QAAAAAAAoHtAAAAAAAAQfEDhehSuRyl8QAAAAAAAwHxAAAAAAACQfkAAAAAAAPB+QAAAAAAAIH9AAAAAAABYgEAAAAAAAGiAQPhT46Wbn4BAAAAAAAC4gEDXo3A9CsmAQAAAAAAACIFAH4XrUbhggUAAAAAAAJiCQAAAAAAAKINAAiuHFtkqhEAAAAAAADCEQAAAAAAAoIRAAAAAAABAhUAAAAAAAICGQAAAAAAA6IZA8tJNYhD2hkDZzvdT4xaHQIcW2c73Q4dAyXa+nxpxh0Bt5/up8c+IQAAAAAAAYIlAAAAAAABgiUAAAAAAABCKQDMzMzMzZYxAPQrXo3BdjkA=",
          "dtype": "f8"
         },
         "y": {
          "bdata": "AAAAAAAA+H8AAAAAAAD4fwAAAAAAAPh/AAAAAAAA+H8AAAAAAAD4fwAAAAAAAPh/AAAAAAAA+H8AAAAAAAD4fwAAAAAAAPh/AAAAAAAA+H8AAAAAAAD4fwAAAAAAAPh/AAAAAAAA+H8AAAAAAAD4fwAAAAAAAPh/AAAAAAAA+H8AAAAAAAD4fwAAAAAAAPh/AAAAAAAA+H8AAAAAAAD4fwAAAAAAAPh/AAAAAAAA+H8AAAAAAAD4fwAAAAAAAPh/AAAAAAAA+H8AAAAAAAD4fwAAAAAAAPh/AAAAAAAA+H8AAAAAAAD4fwAAAAAAAPh/AAAAAAAA+H8AAAAAAAD4fwAAAAAAAPh/AAAAAAAA+H8AAAAAAAD4fwAAAAAAAPh/L26jAbxdT0AAAAAAAAD4fwAAAAAAAPh/AAAAAAAA+H8AAAAAAAD4fwAAAAAAAPh/7g2+MJkGUkAAAAAAAAD4fwAAAAAAAPh/AAAAAAAA+H901xLyQddRQAAAAAAAAPh/AAAAAAAA+H8AAAAAAAD4fwAAAAAAAPh/AAAAAAAA+H9KnYAmwm5IQAAAAAAAAPh/V+wvuyfvSEB8gy9MppJHQAAAAAAAAPh/AAAAAAAA+H8kKH6MuaNZQEjhehSuB1pAAAAAAAAA+H8AAAAAAAD4fwAAAAAAAPh/AAAAAAAA+H/2SlmGOBZMQAAAAAAAAPh/AAAAAAAA+H8AAAAAAAD4fwAAAAAAAPh/AAAAAAAA+H9HA3gLJDRgQAAAAAAAAPh/AAAAAAAA+H8AAAAAAAD4f9S84xQdBVJAAAAAAAAA+H8AAAAAAAD4f8FbIEHx+1FADeAtkKAgUkAAAAAAAAD4f5eQD3o2e2JAAAAAAAAA+H/qlbIMcWRjQE+vlGWI91dALpCg+DGKZUBMWYY41hlVQBPyQc9mpWZAzqrP1VZ8UkC8dJMYBBpnQAAAAAAAAPh/vjCZKhhrZkA=",
          "dtype": "f8"
         }
        }
       ],
       "layout": {
        "hovermode": "x unified",
        "legend": {
         "title": {
          "text": "Moyen de transport"
         }
        },
        "template": {
         "data": {
          "bar": [
           {
            "error_x": {
             "color": "#2a3f5f"
            },
            "error_y": {
             "color": "#2a3f5f"
            },
            "marker": {
             "line": {
              "color": "#E5ECF6",
              "width": 0.5
             },
             "pattern": {
              "fillmode": "overlay",
              "size": 10,
              "solidity": 0.2
             }
            },
            "type": "bar"
           }
          ],
          "barpolar": [
           {
            "marker": {
             "line": {
              "color": "#E5ECF6",
              "width": 0.5
             },
             "pattern": {
              "fillmode": "overlay",
              "size": 10,
              "solidity": 0.2
             }
            },
            "type": "barpolar"
           }
          ],
          "carpet": [
           {
            "aaxis": {
             "endlinecolor": "#2a3f5f",
             "gridcolor": "white",
             "linecolor": "white",
             "minorgridcolor": "white",
             "startlinecolor": "#2a3f5f"
            },
            "baxis": {
             "endlinecolor": "#2a3f5f",
             "gridcolor": "white",
             "linecolor": "white",
             "minorgridcolor": "white",
             "startlinecolor": "#2a3f5f"
            },
            "type": "carpet"
           }
          ],
          "choropleth": [
           {
            "colorbar": {
             "outlinewidth": 0,
             "ticks": ""
            },
            "type": "choropleth"
           }
          ],
          "contour": [
           {
            "colorbar": {
             "outlinewidth": 0,
             "ticks": ""
            },
            "colorscale": [
             [
              0,
              "#0d0887"
             ],
             [
              0.1111111111111111,
              "#46039f"
             ],
             [
              0.2222222222222222,
              "#7201a8"
             ],
             [
              0.3333333333333333,
              "#9c179e"
             ],
             [
              0.4444444444444444,
              "#bd3786"
             ],
             [
              0.5555555555555556,
              "#d8576b"
             ],
             [
              0.6666666666666666,
              "#ed7953"
             ],
             [
              0.7777777777777778,
              "#fb9f3a"
             ],
             [
              0.8888888888888888,
              "#fdca26"
             ],
             [
              1,
              "#f0f921"
             ]
            ],
            "type": "contour"
           }
          ],
          "contourcarpet": [
           {
            "colorbar": {
             "outlinewidth": 0,
             "ticks": ""
            },
            "type": "contourcarpet"
           }
          ],
          "heatmap": [
           {
            "colorbar": {
             "outlinewidth": 0,
             "ticks": ""
            },
            "colorscale": [
             [
              0,
              "#0d0887"
             ],
             [
              0.1111111111111111,
              "#46039f"
             ],
             [
              0.2222222222222222,
              "#7201a8"
             ],
             [
              0.3333333333333333,
              "#9c179e"
             ],
             [
              0.4444444444444444,
              "#bd3786"
             ],
             [
              0.5555555555555556,
              "#d8576b"
             ],
             [
              0.6666666666666666,
              "#ed7953"
             ],
             [
              0.7777777777777778,
              "#fb9f3a"
             ],
             [
              0.8888888888888888,
              "#fdca26"
             ],
             [
              1,
              "#f0f921"
             ]
            ],
            "type": "heatmap"
           }
          ],
          "histogram": [
           {
            "marker": {
             "pattern": {
              "fillmode": "overlay",
              "size": 10,
              "solidity": 0.2
             }
            },
            "type": "histogram"
           }
          ],
          "histogram2d": [
           {
            "colorbar": {
             "outlinewidth": 0,
             "ticks": ""
            },
            "colorscale": [
             [
              0,
              "#0d0887"
             ],
             [
              0.1111111111111111,
              "#46039f"
             ],
             [
              0.2222222222222222,
              "#7201a8"
             ],
             [
              0.3333333333333333,
              "#9c179e"
             ],
             [
              0.4444444444444444,
              "#bd3786"
             ],
             [
              0.5555555555555556,
              "#d8576b"
             ],
             [
              0.6666666666666666,
              "#ed7953"
             ],
             [
              0.7777777777777778,
              "#fb9f3a"
             ],
             [
              0.8888888888888888,
              "#fdca26"
             ],
             [
              1,
              "#f0f921"
             ]
            ],
            "type": "histogram2d"
           }
          ],
          "histogram2dcontour": [
           {
            "colorbar": {
             "outlinewidth": 0,
             "ticks": ""
            },
            "colorscale": [
             [
              0,
              "#0d0887"
             ],
             [
              0.1111111111111111,
              "#46039f"
             ],
             [
              0.2222222222222222,
              "#7201a8"
             ],
             [
              0.3333333333333333,
              "#9c179e"
             ],
             [
              0.4444444444444444,
              "#bd3786"
             ],
             [
              0.5555555555555556,
              "#d8576b"
             ],
             [
              0.6666666666666666,
              "#ed7953"
             ],
             [
              0.7777777777777778,
              "#fb9f3a"
             ],
             [
              0.8888888888888888,
              "#fdca26"
             ],
             [
              1,
              "#f0f921"
             ]
            ],
            "type": "histogram2dcontour"
           }
          ],
          "mesh3d": [
           {
            "colorbar": {
             "outlinewidth": 0,
             "ticks": ""
            },
            "type": "mesh3d"
           }
          ],
          "parcoords": [
           {
            "line": {
             "colorbar": {
              "outlinewidth": 0,
              "ticks": ""
             }
            },
            "type": "parcoords"
           }
          ],
          "pie": [
           {
            "automargin": true,
            "type": "pie"
           }
          ],
          "scatter": [
           {
            "fillpattern": {
             "fillmode": "overlay",
             "size": 10,
             "solidity": 0.2
            },
            "type": "scatter"
           }
          ],
          "scatter3d": [
           {
            "line": {
             "colorbar": {
              "outlinewidth": 0,
              "ticks": ""
             }
            },
            "marker": {
             "colorbar": {
              "outlinewidth": 0,
              "ticks": ""
             }
            },
            "type": "scatter3d"
           }
          ],
          "scattercarpet": [
           {
            "marker": {
             "colorbar": {
              "outlinewidth": 0,
              "ticks": ""
             }
            },
            "type": "scattercarpet"
           }
          ],
          "scattergeo": [
           {
            "marker": {
             "colorbar": {
              "outlinewidth": 0,
              "ticks": ""
             }
            },
            "type": "scattergeo"
           }
          ],
          "scattergl": [
           {
            "marker": {
             "colorbar": {
              "outlinewidth": 0,
              "ticks": ""
             }
            },
            "type": "scattergl"
           }
          ],
          "scattermap": [
           {
            "marker": {
             "colorbar": {
              "outlinewidth": 0,
              "ticks": ""
             }
            },
            "type": "scattermap"
           }
          ],
          "scattermapbox": [
           {
            "marker": {
             "colorbar": {
              "outlinewidth": 0,
              "ticks": ""
             }
            },
            "type": "scattermapbox"
           }
          ],
          "scatterpolar": [
           {
            "marker": {
             "colorbar": {
              "outlinewidth": 0,
              "ticks": ""
             }
            },
            "type": "scatterpolar"
           }
          ],
          "scatterpolargl": [
           {
            "marker": {
             "colorbar": {
              "outlinewidth": 0,
              "ticks": ""
             }
            },
            "type": "scatterpolargl"
           }
          ],
          "scatterternary": [
           {
            "marker": {
             "colorbar": {
              "outlinewidth": 0,
              "ticks": ""
             }
            },
            "type": "scatterternary"
           }
          ],
          "surface": [
           {
            "colorbar": {
             "outlinewidth": 0,
             "ticks": ""
            },
            "colorscale": [
             [
              0,
              "#0d0887"
             ],
             [
              0.1111111111111111,
              "#46039f"
             ],
             [
              0.2222222222222222,
              "#7201a8"
             ],
             [
              0.3333333333333333,
              "#9c179e"
             ],
             [
              0.4444444444444444,
              "#bd3786"
             ],
             [
              0.5555555555555556,
              "#d8576b"
             ],
             [
              0.6666666666666666,
              "#ed7953"
             ],
             [
              0.7777777777777778,
              "#fb9f3a"
             ],
             [
              0.8888888888888888,
              "#fdca26"
             ],
             [
              1,
              "#f0f921"
             ]
            ],
            "type": "surface"
           }
          ],
          "table": [
           {
            "cells": {
             "fill": {
              "color": "#EBF0F8"
             },
             "line": {
              "color": "white"
             }
            },
            "header": {
             "fill": {
              "color": "#C8D4E3"
             },
             "line": {
              "color": "white"
             }
            },
            "type": "table"
           }
          ]
         },
         "layout": {
          "annotationdefaults": {
           "arrowcolor": "#2a3f5f",
           "arrowhead": 0,
           "arrowwidth": 1
          },
          "autotypenumbers": "strict",
          "coloraxis": {
           "colorbar": {
            "outlinewidth": 0,
            "ticks": ""
           }
          },
          "colorscale": {
           "diverging": [
            [
             0,
             "#8e0152"
            ],
            [
             0.1,
             "#c51b7d"
            ],
            [
             0.2,
             "#de77ae"
            ],
            [
             0.3,
             "#f1b6da"
            ],
            [
             0.4,
             "#fde0ef"
            ],
            [
             0.5,
             "#f7f7f7"
            ],
            [
             0.6,
             "#e6f5d0"
            ],
            [
             0.7,
             "#b8e186"
            ],
            [
             0.8,
             "#7fbc41"
            ],
            [
             0.9,
             "#4d9221"
            ],
            [
             1,
             "#276419"
            ]
           ],
           "sequential": [
            [
             0,
             "#0d0887"
            ],
            [
             0.1111111111111111,
             "#46039f"
            ],
            [
             0.2222222222222222,
             "#7201a8"
            ],
            [
             0.3333333333333333,
             "#9c179e"
            ],
            [
             0.4444444444444444,
             "#bd3786"
            ],
            [
             0.5555555555555556,
             "#d8576b"
            ],
            [
             0.6666666666666666,
             "#ed7953"
            ],
            [
             0.7777777777777778,
             "#fb9f3a"
            ],
            [
             0.8888888888888888,
             "#fdca26"
            ],
            [
             1,
             "#f0f921"
            ]
           ],
           "sequentialminus": [
            [
             0,
             "#0d0887"
            ],
            [
             0.1111111111111111,
             "#46039f"
            ],
            [
             0.2222222222222222,
             "#7201a8"
            ],
            [
             0.3333333333333333,
             "#9c179e"
            ],
            [
             0.4444444444444444,
             "#bd3786"
            ],
            [
             0.5555555555555556,
             "#d8576b"
            ],
            [
             0.6666666666666666,
             "#ed7953"
            ],
            [
             0.7777777777777778,
             "#fb9f3a"
            ],
            [
             0.8888888888888888,
             "#fdca26"
            ],
            [
             1,
             "#f0f921"
            ]
           ]
          },
          "colorway": [
           "#636efa",
           "#EF553B",
           "#00cc96",
           "#ab63fa",
           "#FFA15A",
           "#19d3f3",
           "#FF6692",
           "#B6E880",
           "#FF97FF",
           "#FECB52"
          ],
          "font": {
           "color": "#2a3f5f"
          },
          "geo": {
           "bgcolor": "white",
           "lakecolor": "white",
           "landcolor": "#E5ECF6",
           "showlakes": true,
           "showland": true,
           "subunitcolor": "white"
          },
          "hoverlabel": {
           "align": "left"
          },
          "hovermode": "closest",
          "mapbox": {
           "style": "light"
          },
          "paper_bgcolor": "white",
          "plot_bgcolor": "#E5ECF6",
          "polar": {
           "angularaxis": {
            "gridcolor": "white",
            "linecolor": "white",
            "ticks": ""
           },
           "bgcolor": "#E5ECF6",
           "radialaxis": {
            "gridcolor": "white",
            "linecolor": "white",
            "ticks": ""
           }
          },
          "scene": {
           "xaxis": {
            "backgroundcolor": "#E5ECF6",
            "gridcolor": "white",
            "gridwidth": 2,
            "linecolor": "white",
            "showbackground": true,
            "ticks": "",
            "zerolinecolor": "white"
           },
           "yaxis": {
            "backgroundcolor": "#E5ECF6",
            "gridcolor": "white",
            "gridwidth": 2,
            "linecolor": "white",
            "showbackground": true,
            "ticks": "",
            "zerolinecolor": "white"
           },
           "zaxis": {
            "backgroundcolor": "#E5ECF6",
            "gridcolor": "white",
            "gridwidth": 2,
            "linecolor": "white",
            "showbackground": true,
            "ticks": "",
            "zerolinecolor": "white"
           }
          },
          "shapedefaults": {
           "line": {
            "color": "#2a3f5f"
           }
          },
          "ternary": {
           "aaxis": {
            "gridcolor": "white",
            "linecolor": "white",
            "ticks": ""
           },
           "baxis": {
            "gridcolor": "white",
            "linecolor": "white",
            "ticks": ""
           },
           "bgcolor": "#E5ECF6",
           "caxis": {
            "gridcolor": "white",
            "linecolor": "white",
            "ticks": ""
           }
          },
          "title": {
           "x": 0.05
          },
          "xaxis": {
           "automargin": true,
           "gridcolor": "white",
           "linecolor": "white",
           "ticks": "",
           "title": {
            "standoff": 15
           },
           "zerolinecolor": "white",
           "zerolinewidth": 2
          },
          "yaxis": {
           "automargin": true,
           "gridcolor": "white",
           "linecolor": "white",
           "ticks": "",
           "title": {
            "standoff": 15
           },
           "zerolinecolor": "white",
           "zerolinewidth": 2
          }
         }
        },
        "title": {
         "text": "Émissions de CO2 par moyen de transport en fonction de la distance"
        },
        "xaxis": {
         "title": {
          "text": "Distance entre les gares (km)"
         }
        },
        "yaxis": {
         "title": {
          "text": "CO2 émis en fonction de la distance"
         }
        }
       }
      }
     },
     "metadata": {},
     "output_type": "display_data"
    }
   ],
   "source": [
    "def generate_line_chart(emissions_df, log_scale=False):\n",
    "    fig = go.Figure()\n",
    "    # On ajoute les courbes pour chaque moyen de transport\n",
    "    emissions_df = emissions_df.sort_values(by='Distance')\n",
    "    moyens_transport = [\"Autocar\", \"Voiture électrique\", \"Voiture thermique\", \"Avion\"]\n",
    "    \n",
    "    # Solutionn inspirée de https://github.com/plotly/plotly.py/issues/4278 pour afficher l'origine et la destination des trajets dans le hover\n",
    "    # On ajoute une courbe invisible pour chaque moyen de transport, et on change son hovertext pour afficher l'origine et la destination\n",
    "    fig.add_trace(go.Scatter(\n",
    "        x=emissions_df['Distance'], \n",
    "        y=emissions_df['Train'], \n",
    "        opacity=0, \n",
    "        showlegend=False,\n",
    "        hovertext=emissions_df['Origine'] + ' - ' + emissions_df['Destination'],\n",
    "        hovertemplate='<b>%{hovertext}</b><extra></extra>'\n",
    "        ))\n",
    "\n",
    "    # On ajoute les courbes pour les trains, en montrant le transporteur dans le hover\n",
    "    fig.add_trace(go.Scatter(\n",
    "        x=emissions_df['Distance'],\n",
    "        y=emissions_df['Train'],\n",
    "        mode='lines+markers',\n",
    "        name='Train',\n",
    "        connectgaps=True,\n",
    "        hovertext=emissions_df['Transporteur'],\n",
    "        hovertemplate='<b>%{hovertext}</b> : %{y:.2f} kgCO2e <extra></extra>',\n",
    "        marker=dict(color=colors_moyens_de_transport['Train'])\n",
    "    ))\n",
    "    for column in moyens_transport:\n",
    "        fig.add_trace(go.Scatter(\n",
    "            x=emissions_df['Distance'],\n",
    "            y=emissions_df[column],\n",
    "            mode='lines+markers',\n",
    "            name=column,\n",
    "            connectgaps=True,\n",
    "            hovertemplate='%{y:.2f} kgCO2e',\n",
    "            marker=dict(color=colors_moyens_de_transport[column])\n",
    "        ))\n",
    "    \n",
    "    fig.update_layout(\n",
    "        title='Émissions de CO2 par moyen de transport en fonction de la distance',\n",
    "        xaxis_title='Distance entre les gares (km)',\n",
    "        yaxis_title='CO2 émis en fonction de la distance',\n",
    "        legend_title='Moyen de transport',\n",
    "        hovermode='x unified'\n",
    "    )\n",
    "    \n",
    "    if log_scale:\n",
    "        fig.update_layout(title='Émissions de CO2 par moyen de transport en fonction de la distance (échelle logarithmique)')\n",
    "        fig.update_yaxes(\n",
    "            title='CO2 émis en fonction de la distance (échelle logarithmique)', \n",
    "            type=\"log\"\n",
    "    )\n",
    "    \n",
    "    return fig\n",
    "\n",
    "generate_line_chart(emissions,False)    "
   ]
  },
  {
   "cell_type": "code",
   "execution_count": 20,
   "metadata": {},
   "outputs": [
    {
     "data": {
      "application/vnd.plotly.v1+json": {
       "config": {
        "plotlyServerURL": "https://plot.ly"
       },
       "data": [
        {
         "marker": {
          "color": "#af2bbf"
         },
         "name": "Train",
         "type": "bar",
         "x": [
          "Intercités",
          "TER",
          "TGV"
         ],
         "xaxis": "x",
         "y": {
          "bdata": "eekmMQisfD8G8BZIUPyYP+GcEaW9wWc/",
          "dtype": "f8"
         },
         "yaxis": "y"
        },
        {
         "marker": {
          "color": "#8770bf"
         },
         "name": "Autocar",
         "type": "bar",
         "x": [
          "Autocar"
         ],
         "xaxis": "x2",
         "y": [
          0.03503020266844051
         ],
         "yaxis": "y2"
        },
        {
         "marker": {
          "color": "#6c91bf"
         },
         "name": "Avion",
         "type": "bar",
         "x": [
          "Avion"
         ],
         "xaxis": "x2",
         "y": [
          0.17047070331634592
         ],
         "yaxis": "y2"
        },
        {
         "marker": {
          "color": "#5fb0b7"
         },
         "name": "Voiture thermique",
         "type": "bar",
         "x": [
          "Voiture thermique"
         ],
         "xaxis": "x2",
         "y": [
          0.10962548919042467
         ],
         "yaxis": "y2"
        },
        {
         "marker": {
          "color": "#5bc8af"
         },
         "name": "Voiture électrique",
         "type": "bar",
         "x": [
          "Voiture électrique"
         ],
         "xaxis": "x2",
         "y": [
          0.0477941240739864
         ],
         "yaxis": "y2"
        }
       ],
       "layout": {
        "annotations": [
         {
          "font": {
           "size": 16
          },
          "showarrow": false,
          "text": "Train",
          "x": 0.1,
          "xanchor": "center",
          "xref": "paper",
          "y": 1,
          "yanchor": "bottom",
          "yref": "paper"
         },
         {
          "font": {
           "size": 16
          },
          "showarrow": false,
          "text": "Autres moyens de transport",
          "x": 0.6,
          "xanchor": "center",
          "xref": "paper",
          "y": 1,
          "yanchor": "bottom",
          "yref": "paper"
         }
        ],
        "barcornerradius": 15,
        "legend": {
         "title": {
          "text": "Moyen de transport"
         }
        },
        "template": {
         "data": {
          "bar": [
           {
            "error_x": {
             "color": "#2a3f5f"
            },
            "error_y": {
             "color": "#2a3f5f"
            },
            "marker": {
             "line": {
              "color": "#E5ECF6",
              "width": 0.5
             },
             "pattern": {
              "fillmode": "overlay",
              "size": 10,
              "solidity": 0.2
             }
            },
            "type": "bar"
           }
          ],
          "barpolar": [
           {
            "marker": {
             "line": {
              "color": "#E5ECF6",
              "width": 0.5
             },
             "pattern": {
              "fillmode": "overlay",
              "size": 10,
              "solidity": 0.2
             }
            },
            "type": "barpolar"
           }
          ],
          "carpet": [
           {
            "aaxis": {
             "endlinecolor": "#2a3f5f",
             "gridcolor": "white",
             "linecolor": "white",
             "minorgridcolor": "white",
             "startlinecolor": "#2a3f5f"
            },
            "baxis": {
             "endlinecolor": "#2a3f5f",
             "gridcolor": "white",
             "linecolor": "white",
             "minorgridcolor": "white",
             "startlinecolor": "#2a3f5f"
            },
            "type": "carpet"
           }
          ],
          "choropleth": [
           {
            "colorbar": {
             "outlinewidth": 0,
             "ticks": ""
            },
            "type": "choropleth"
           }
          ],
          "contour": [
           {
            "colorbar": {
             "outlinewidth": 0,
             "ticks": ""
            },
            "colorscale": [
             [
              0,
              "#0d0887"
             ],
             [
              0.1111111111111111,
              "#46039f"
             ],
             [
              0.2222222222222222,
              "#7201a8"
             ],
             [
              0.3333333333333333,
              "#9c179e"
             ],
             [
              0.4444444444444444,
              "#bd3786"
             ],
             [
              0.5555555555555556,
              "#d8576b"
             ],
             [
              0.6666666666666666,
              "#ed7953"
             ],
             [
              0.7777777777777778,
              "#fb9f3a"
             ],
             [
              0.8888888888888888,
              "#fdca26"
             ],
             [
              1,
              "#f0f921"
             ]
            ],
            "type": "contour"
           }
          ],
          "contourcarpet": [
           {
            "colorbar": {
             "outlinewidth": 0,
             "ticks": ""
            },
            "type": "contourcarpet"
           }
          ],
          "heatmap": [
           {
            "colorbar": {
             "outlinewidth": 0,
             "ticks": ""
            },
            "colorscale": [
             [
              0,
              "#0d0887"
             ],
             [
              0.1111111111111111,
              "#46039f"
             ],
             [
              0.2222222222222222,
              "#7201a8"
             ],
             [
              0.3333333333333333,
              "#9c179e"
             ],
             [
              0.4444444444444444,
              "#bd3786"
             ],
             [
              0.5555555555555556,
              "#d8576b"
             ],
             [
              0.6666666666666666,
              "#ed7953"
             ],
             [
              0.7777777777777778,
              "#fb9f3a"
             ],
             [
              0.8888888888888888,
              "#fdca26"
             ],
             [
              1,
              "#f0f921"
             ]
            ],
            "type": "heatmap"
           }
          ],
          "histogram": [
           {
            "marker": {
             "pattern": {
              "fillmode": "overlay",
              "size": 10,
              "solidity": 0.2
             }
            },
            "type": "histogram"
           }
          ],
          "histogram2d": [
           {
            "colorbar": {
             "outlinewidth": 0,
             "ticks": ""
            },
            "colorscale": [
             [
              0,
              "#0d0887"
             ],
             [
              0.1111111111111111,
              "#46039f"
             ],
             [
              0.2222222222222222,
              "#7201a8"
             ],
             [
              0.3333333333333333,
              "#9c179e"
             ],
             [
              0.4444444444444444,
              "#bd3786"
             ],
             [
              0.5555555555555556,
              "#d8576b"
             ],
             [
              0.6666666666666666,
              "#ed7953"
             ],
             [
              0.7777777777777778,
              "#fb9f3a"
             ],
             [
              0.8888888888888888,
              "#fdca26"
             ],
             [
              1,
              "#f0f921"
             ]
            ],
            "type": "histogram2d"
           }
          ],
          "histogram2dcontour": [
           {
            "colorbar": {
             "outlinewidth": 0,
             "ticks": ""
            },
            "colorscale": [
             [
              0,
              "#0d0887"
             ],
             [
              0.1111111111111111,
              "#46039f"
             ],
             [
              0.2222222222222222,
              "#7201a8"
             ],
             [
              0.3333333333333333,
              "#9c179e"
             ],
             [
              0.4444444444444444,
              "#bd3786"
             ],
             [
              0.5555555555555556,
              "#d8576b"
             ],
             [
              0.6666666666666666,
              "#ed7953"
             ],
             [
              0.7777777777777778,
              "#fb9f3a"
             ],
             [
              0.8888888888888888,
              "#fdca26"
             ],
             [
              1,
              "#f0f921"
             ]
            ],
            "type": "histogram2dcontour"
           }
          ],
          "mesh3d": [
           {
            "colorbar": {
             "outlinewidth": 0,
             "ticks": ""
            },
            "type": "mesh3d"
           }
          ],
          "parcoords": [
           {
            "line": {
             "colorbar": {
              "outlinewidth": 0,
              "ticks": ""
             }
            },
            "type": "parcoords"
           }
          ],
          "pie": [
           {
            "automargin": true,
            "type": "pie"
           }
          ],
          "scatter": [
           {
            "fillpattern": {
             "fillmode": "overlay",
             "size": 10,
             "solidity": 0.2
            },
            "type": "scatter"
           }
          ],
          "scatter3d": [
           {
            "line": {
             "colorbar": {
              "outlinewidth": 0,
              "ticks": ""
             }
            },
            "marker": {
             "colorbar": {
              "outlinewidth": 0,
              "ticks": ""
             }
            },
            "type": "scatter3d"
           }
          ],
          "scattercarpet": [
           {
            "marker": {
             "colorbar": {
              "outlinewidth": 0,
              "ticks": ""
             }
            },
            "type": "scattercarpet"
           }
          ],
          "scattergeo": [
           {
            "marker": {
             "colorbar": {
              "outlinewidth": 0,
              "ticks": ""
             }
            },
            "type": "scattergeo"
           }
          ],
          "scattergl": [
           {
            "marker": {
             "colorbar": {
              "outlinewidth": 0,
              "ticks": ""
             }
            },
            "type": "scattergl"
           }
          ],
          "scattermap": [
           {
            "marker": {
             "colorbar": {
              "outlinewidth": 0,
              "ticks": ""
             }
            },
            "type": "scattermap"
           }
          ],
          "scattermapbox": [
           {
            "marker": {
             "colorbar": {
              "outlinewidth": 0,
              "ticks": ""
             }
            },
            "type": "scattermapbox"
           }
          ],
          "scatterpolar": [
           {
            "marker": {
             "colorbar": {
              "outlinewidth": 0,
              "ticks": ""
             }
            },
            "type": "scatterpolar"
           }
          ],
          "scatterpolargl": [
           {
            "marker": {
             "colorbar": {
              "outlinewidth": 0,
              "ticks": ""
             }
            },
            "type": "scatterpolargl"
           }
          ],
          "scatterternary": [
           {
            "marker": {
             "colorbar": {
              "outlinewidth": 0,
              "ticks": ""
             }
            },
            "type": "scatterternary"
           }
          ],
          "surface": [
           {
            "colorbar": {
             "outlinewidth": 0,
             "ticks": ""
            },
            "colorscale": [
             [
              0,
              "#0d0887"
             ],
             [
              0.1111111111111111,
              "#46039f"
             ],
             [
              0.2222222222222222,
              "#7201a8"
             ],
             [
              0.3333333333333333,
              "#9c179e"
             ],
             [
              0.4444444444444444,
              "#bd3786"
             ],
             [
              0.5555555555555556,
              "#d8576b"
             ],
             [
              0.6666666666666666,
              "#ed7953"
             ],
             [
              0.7777777777777778,
              "#fb9f3a"
             ],
             [
              0.8888888888888888,
              "#fdca26"
             ],
             [
              1,
              "#f0f921"
             ]
            ],
            "type": "surface"
           }
          ],
          "table": [
           {
            "cells": {
             "fill": {
              "color": "#EBF0F8"
             },
             "line": {
              "color": "white"
             }
            },
            "header": {
             "fill": {
              "color": "#C8D4E3"
             },
             "line": {
              "color": "white"
             }
            },
            "type": "table"
           }
          ]
         },
         "layout": {
          "annotationdefaults": {
           "arrowcolor": "#2a3f5f",
           "arrowhead": 0,
           "arrowwidth": 1
          },
          "autotypenumbers": "strict",
          "coloraxis": {
           "colorbar": {
            "outlinewidth": 0,
            "ticks": ""
           }
          },
          "colorscale": {
           "diverging": [
            [
             0,
             "#8e0152"
            ],
            [
             0.1,
             "#c51b7d"
            ],
            [
             0.2,
             "#de77ae"
            ],
            [
             0.3,
             "#f1b6da"
            ],
            [
             0.4,
             "#fde0ef"
            ],
            [
             0.5,
             "#f7f7f7"
            ],
            [
             0.6,
             "#e6f5d0"
            ],
            [
             0.7,
             "#b8e186"
            ],
            [
             0.8,
             "#7fbc41"
            ],
            [
             0.9,
             "#4d9221"
            ],
            [
             1,
             "#276419"
            ]
           ],
           "sequential": [
            [
             0,
             "#0d0887"
            ],
            [
             0.1111111111111111,
             "#46039f"
            ],
            [
             0.2222222222222222,
             "#7201a8"
            ],
            [
             0.3333333333333333,
             "#9c179e"
            ],
            [
             0.4444444444444444,
             "#bd3786"
            ],
            [
             0.5555555555555556,
             "#d8576b"
            ],
            [
             0.6666666666666666,
             "#ed7953"
            ],
            [
             0.7777777777777778,
             "#fb9f3a"
            ],
            [
             0.8888888888888888,
             "#fdca26"
            ],
            [
             1,
             "#f0f921"
            ]
           ],
           "sequentialminus": [
            [
             0,
             "#0d0887"
            ],
            [
             0.1111111111111111,
             "#46039f"
            ],
            [
             0.2222222222222222,
             "#7201a8"
            ],
            [
             0.3333333333333333,
             "#9c179e"
            ],
            [
             0.4444444444444444,
             "#bd3786"
            ],
            [
             0.5555555555555556,
             "#d8576b"
            ],
            [
             0.6666666666666666,
             "#ed7953"
            ],
            [
             0.7777777777777778,
             "#fb9f3a"
            ],
            [
             0.8888888888888888,
             "#fdca26"
            ],
            [
             1,
             "#f0f921"
            ]
           ]
          },
          "colorway": [
           "#636efa",
           "#EF553B",
           "#00cc96",
           "#ab63fa",
           "#FFA15A",
           "#19d3f3",
           "#FF6692",
           "#B6E880",
           "#FF97FF",
           "#FECB52"
          ],
          "font": {
           "color": "#2a3f5f"
          },
          "geo": {
           "bgcolor": "white",
           "lakecolor": "white",
           "landcolor": "#E5ECF6",
           "showlakes": true,
           "showland": true,
           "subunitcolor": "white"
          },
          "hoverlabel": {
           "align": "left"
          },
          "hovermode": "closest",
          "mapbox": {
           "style": "light"
          },
          "paper_bgcolor": "white",
          "plot_bgcolor": "#E5ECF6",
          "polar": {
           "angularaxis": {
            "gridcolor": "white",
            "linecolor": "white",
            "ticks": ""
           },
           "bgcolor": "#E5ECF6",
           "radialaxis": {
            "gridcolor": "white",
            "linecolor": "white",
            "ticks": ""
           }
          },
          "scene": {
           "xaxis": {
            "backgroundcolor": "#E5ECF6",
            "gridcolor": "white",
            "gridwidth": 2,
            "linecolor": "white",
            "showbackground": true,
            "ticks": "",
            "zerolinecolor": "white"
           },
           "yaxis": {
            "backgroundcolor": "#E5ECF6",
            "gridcolor": "white",
            "gridwidth": 2,
            "linecolor": "white",
            "showbackground": true,
            "ticks": "",
            "zerolinecolor": "white"
           },
           "zaxis": {
            "backgroundcolor": "#E5ECF6",
            "gridcolor": "white",
            "gridwidth": 2,
            "linecolor": "white",
            "showbackground": true,
            "ticks": "",
            "zerolinecolor": "white"
           }
          },
          "shapedefaults": {
           "line": {
            "color": "#2a3f5f"
           }
          },
          "ternary": {
           "aaxis": {
            "gridcolor": "white",
            "linecolor": "white",
            "ticks": ""
           },
           "baxis": {
            "gridcolor": "white",
            "linecolor": "white",
            "ticks": ""
           },
           "bgcolor": "#E5ECF6",
           "caxis": {
            "gridcolor": "white",
            "linecolor": "white",
            "ticks": ""
           }
          },
          "title": {
           "x": 0.05
          },
          "xaxis": {
           "automargin": true,
           "gridcolor": "white",
           "linecolor": "white",
           "ticks": "",
           "title": {
            "standoff": 15
           },
           "zerolinecolor": "white",
           "zerolinewidth": 2
          },
          "yaxis": {
           "automargin": true,
           "gridcolor": "white",
           "linecolor": "white",
           "ticks": "",
           "title": {
            "standoff": 15
           },
           "zerolinecolor": "white",
           "zerolinewidth": 2
          }
         }
        },
        "title": {
         "text": "Empreinte carbone moyenne par km pour chaque moyen de transport"
        },
        "xaxis": {
         "anchor": "y",
         "domain": [
          0,
          0.2
         ]
        },
        "xaxis2": {
         "anchor": "y2",
         "domain": [
          0.2,
          1
         ]
        },
        "yaxis": {
         "anchor": "x",
         "domain": [
          0,
          1
         ],
         "title": {
          "text": "Empreinte carbone moyenne (kgCO2e/km)"
         }
        },
        "yaxis2": {
         "anchor": "x2",
         "domain": [
          0,
          1
         ],
         "matches": "y",
         "showticklabels": false
        }
       }
      }
     },
     "metadata": {},
     "output_type": "display_data"
    }
   ],
   "source": [
    "def generate_bar_chart(emissions_df):\n",
    "    emissions_df_reduced = emissions_df[[\"Transporteur\",\"Distance\",\"Train\",\"Autocar\",\"Avion\",\"Voiture électrique\",\"Voiture thermique\"]].copy()\n",
    "    # On divise les émissions par la distance pour obtenir l'empreinte carbone par km\n",
    "    emissions_df_reduced[\"Train\"] = emissions_df_reduced[\"Train\"] / emissions_df_reduced[\"Distance\"]\n",
    "    emissions_df_reduced[\"Autocar\"] = emissions_df_reduced[\"Autocar\"] / emissions_df_reduced[\"Distance\"]\n",
    "    emissions_df_reduced[\"Avion\"] = emissions_df_reduced[\"Avion\"] / emissions_df_reduced[\"Distance\"]\n",
    "    emissions_df_reduced[\"Voiture électrique\"] = emissions_df_reduced[\"Voiture électrique\"] / emissions_df_reduced[\"Distance\"]\n",
    "    emissions_df_reduced[\"Voiture thermique\"] = emissions_df_reduced[\"Voiture thermique\"] / emissions_df_reduced[\"Distance\"]\n",
    "    emissions_df_reduced = emissions_df_reduced.drop(columns=[\"Distance\"])\n",
    "    \n",
    "    # On fait un melt pour avoir une colonne pour chaque moyen de transport. On a donc une dataframe longue avec une colonne \n",
    "    # pour le moyen de transport et une colonne pour l'empreinte carbone\n",
    "    emissions_df_reduced = emissions_df_reduced.melt(id_vars=[\"Transporteur\"], var_name=\"Moyen_de_transport\", value_name=\"Empreinte carbone\")\n",
    "    \n",
    "    emissions_df_reduced_train = emissions_df_reduced.query(\"Moyen_de_transport == 'Train'\")\n",
    "    emissions_df_reduced_train = emissions_df_reduced_train[[\"Transporteur\",\"Empreinte carbone\"]].groupby([\"Transporteur\"]).mean().reset_index()\n",
    "    emissions_df_reduced_train = emissions_df_reduced_train.rename(columns={\"Transporteur\":\"Moyen_de_transport\"})\n",
    "    \n",
    "    emissions_df_reduced_other = emissions_df_reduced.query(\"Moyen_de_transport != 'Train'\")\n",
    "    emissions_df_reduced_other = emissions_df_reduced_other[[\"Moyen_de_transport\",\"Empreinte carbone\"]].groupby([\"Moyen_de_transport\"]).mean().reset_index()\n",
    "    \n",
    "    # On doit faire des subplots afin de pouvoir avoir des largeurs de colonnes différentes selon si c'est un train ou un autre moyen de transport\n",
    "    fig = make_subplots(rows=1, cols=2, subplot_titles=[\"Train\", \"Autres moyens de transport\"], shared_yaxes=True, column_widths=[1, 4], horizontal_spacing=0)\n",
    "    fig.add_trace(go.Bar(\n",
    "        x=emissions_df_reduced_train[\"Moyen_de_transport\"],\n",
    "        y=emissions_df_reduced_train[\"Empreinte carbone\"],\n",
    "        name='Train',\n",
    "        marker_color=colors_moyens_de_transport['Train']\n",
    "    ), row=1, col=1)\n",
    "    \n",
    "    for index, row in emissions_df_reduced_other.iterrows():\n",
    "        fig.add_trace(go.Bar(\n",
    "            x=[row[\"Moyen_de_transport\"]],\n",
    "            y=[row[\"Empreinte carbone\"]],\n",
    "            name=row[\"Moyen_de_transport\"],\n",
    "            marker_color=colors_moyens_de_transport[row[\"Moyen_de_transport\"]]\n",
    "        ), row=1, col=2)\n",
    "        \n",
    "    fig.update_layout(\n",
    "        barcornerradius=15,\n",
    "        yaxis_title='Empreinte carbone moyenne (kgCO2e/km)',\n",
    "        legend_title='Moyen de transport',\n",
    "        title='Empreinte carbone moyenne par km pour chaque moyen de transport',\n",
    "    )\n",
    "    \n",
    "    return fig\n",
    "generate_bar_chart(emissions)"
   ]
  }
 ],
 "metadata": {
  "kernelspec": {
   "display_name": "python-data",
   "language": "python",
   "name": "python3"
  },
  "language_info": {
   "codemirror_mode": {
    "name": "ipython",
    "version": 3
   },
   "file_extension": ".py",
   "mimetype": "text/x-python",
   "name": "python",
   "nbconvert_exporter": "python",
   "pygments_lexer": "ipython3",
   "version": "3.12.5"
  }
 },
 "nbformat": 4,
 "nbformat_minor": 2
}
