{
 "cells": [
  {
   "cell_type": "code",
   "execution_count": 1,
   "metadata": {},
   "outputs": [],
   "source": [
    "import numpy as np\n",
    "import pandas as pd\n",
    "import geopandas as gpd\n",
    "import plotly.express as px\n",
    "import plotly.graph_objects as go\n",
    "from plotly.subplots import make_subplots"
   ]
  },
  {
   "cell_type": "markdown",
   "metadata": {},
   "source": [
    "# Exploration des émissions de co2"
   ]
  },
  {
   "cell_type": "code",
   "execution_count": 2,
   "metadata": {},
   "outputs": [
    {
     "ename": "FileNotFoundError",
     "evalue": "[Errno 2] No such file or directory: '../data/emission-co2-perimetre-complet.csv'",
     "output_type": "error",
     "traceback": [
      "\u001b[0;31m---------------------------------------------------------------------------\u001b[0m",
      "\u001b[0;31mFileNotFoundError\u001b[0m                         Traceback (most recent call last)",
      "Cell \u001b[0;32mIn[2], line 1\u001b[0m\n\u001b[0;32m----> 1\u001b[0m emissions \u001b[38;5;241m=\u001b[39m \u001b[43mpd\u001b[49m\u001b[38;5;241;43m.\u001b[39;49m\u001b[43mread_csv\u001b[49m\u001b[43m(\u001b[49m\u001b[38;5;124;43m'\u001b[39;49m\u001b[38;5;124;43m../data/emission-co2-perimetre-complet.csv\u001b[39;49m\u001b[38;5;124;43m'\u001b[39;49m\u001b[43m,\u001b[49m\u001b[43msep\u001b[49m\u001b[38;5;241;43m=\u001b[39;49m\u001b[38;5;124;43m'\u001b[39;49m\u001b[38;5;124;43m;\u001b[39;49m\u001b[38;5;124;43m'\u001b[39;49m\u001b[43m)\u001b[49m\n\u001b[1;32m      2\u001b[0m \u001b[38;5;28mprint\u001b[39m(emissions\u001b[38;5;241m.\u001b[39mshape)\n\u001b[1;32m      3\u001b[0m emissions\u001b[38;5;241m.\u001b[39mhead()\n",
      "File \u001b[0;32m/usr/local/Caskroom/miniconda/base/envs/python-data/lib/python3.12/site-packages/pandas/io/parsers/readers.py:1026\u001b[0m, in \u001b[0;36mread_csv\u001b[0;34m(filepath_or_buffer, sep, delimiter, header, names, index_col, usecols, dtype, engine, converters, true_values, false_values, skipinitialspace, skiprows, skipfooter, nrows, na_values, keep_default_na, na_filter, verbose, skip_blank_lines, parse_dates, infer_datetime_format, keep_date_col, date_parser, date_format, dayfirst, cache_dates, iterator, chunksize, compression, thousands, decimal, lineterminator, quotechar, quoting, doublequote, escapechar, comment, encoding, encoding_errors, dialect, on_bad_lines, delim_whitespace, low_memory, memory_map, float_precision, storage_options, dtype_backend)\u001b[0m\n\u001b[1;32m   1013\u001b[0m kwds_defaults \u001b[38;5;241m=\u001b[39m _refine_defaults_read(\n\u001b[1;32m   1014\u001b[0m     dialect,\n\u001b[1;32m   1015\u001b[0m     delimiter,\n\u001b[0;32m   (...)\u001b[0m\n\u001b[1;32m   1022\u001b[0m     dtype_backend\u001b[38;5;241m=\u001b[39mdtype_backend,\n\u001b[1;32m   1023\u001b[0m )\n\u001b[1;32m   1024\u001b[0m kwds\u001b[38;5;241m.\u001b[39mupdate(kwds_defaults)\n\u001b[0;32m-> 1026\u001b[0m \u001b[38;5;28;01mreturn\u001b[39;00m \u001b[43m_read\u001b[49m\u001b[43m(\u001b[49m\u001b[43mfilepath_or_buffer\u001b[49m\u001b[43m,\u001b[49m\u001b[43m \u001b[49m\u001b[43mkwds\u001b[49m\u001b[43m)\u001b[49m\n",
      "File \u001b[0;32m/usr/local/Caskroom/miniconda/base/envs/python-data/lib/python3.12/site-packages/pandas/io/parsers/readers.py:620\u001b[0m, in \u001b[0;36m_read\u001b[0;34m(filepath_or_buffer, kwds)\u001b[0m\n\u001b[1;32m    617\u001b[0m _validate_names(kwds\u001b[38;5;241m.\u001b[39mget(\u001b[38;5;124m\"\u001b[39m\u001b[38;5;124mnames\u001b[39m\u001b[38;5;124m\"\u001b[39m, \u001b[38;5;28;01mNone\u001b[39;00m))\n\u001b[1;32m    619\u001b[0m \u001b[38;5;66;03m# Create the parser.\u001b[39;00m\n\u001b[0;32m--> 620\u001b[0m parser \u001b[38;5;241m=\u001b[39m \u001b[43mTextFileReader\u001b[49m\u001b[43m(\u001b[49m\u001b[43mfilepath_or_buffer\u001b[49m\u001b[43m,\u001b[49m\u001b[43m \u001b[49m\u001b[38;5;241;43m*\u001b[39;49m\u001b[38;5;241;43m*\u001b[39;49m\u001b[43mkwds\u001b[49m\u001b[43m)\u001b[49m\n\u001b[1;32m    622\u001b[0m \u001b[38;5;28;01mif\u001b[39;00m chunksize \u001b[38;5;129;01mor\u001b[39;00m iterator:\n\u001b[1;32m    623\u001b[0m     \u001b[38;5;28;01mreturn\u001b[39;00m parser\n",
      "File \u001b[0;32m/usr/local/Caskroom/miniconda/base/envs/python-data/lib/python3.12/site-packages/pandas/io/parsers/readers.py:1620\u001b[0m, in \u001b[0;36mTextFileReader.__init__\u001b[0;34m(self, f, engine, **kwds)\u001b[0m\n\u001b[1;32m   1617\u001b[0m     \u001b[38;5;28mself\u001b[39m\u001b[38;5;241m.\u001b[39moptions[\u001b[38;5;124m\"\u001b[39m\u001b[38;5;124mhas_index_names\u001b[39m\u001b[38;5;124m\"\u001b[39m] \u001b[38;5;241m=\u001b[39m kwds[\u001b[38;5;124m\"\u001b[39m\u001b[38;5;124mhas_index_names\u001b[39m\u001b[38;5;124m\"\u001b[39m]\n\u001b[1;32m   1619\u001b[0m \u001b[38;5;28mself\u001b[39m\u001b[38;5;241m.\u001b[39mhandles: IOHandles \u001b[38;5;241m|\u001b[39m \u001b[38;5;28;01mNone\u001b[39;00m \u001b[38;5;241m=\u001b[39m \u001b[38;5;28;01mNone\u001b[39;00m\n\u001b[0;32m-> 1620\u001b[0m \u001b[38;5;28mself\u001b[39m\u001b[38;5;241m.\u001b[39m_engine \u001b[38;5;241m=\u001b[39m \u001b[38;5;28;43mself\u001b[39;49m\u001b[38;5;241;43m.\u001b[39;49m\u001b[43m_make_engine\u001b[49m\u001b[43m(\u001b[49m\u001b[43mf\u001b[49m\u001b[43m,\u001b[49m\u001b[43m \u001b[49m\u001b[38;5;28;43mself\u001b[39;49m\u001b[38;5;241;43m.\u001b[39;49m\u001b[43mengine\u001b[49m\u001b[43m)\u001b[49m\n",
      "File \u001b[0;32m/usr/local/Caskroom/miniconda/base/envs/python-data/lib/python3.12/site-packages/pandas/io/parsers/readers.py:1880\u001b[0m, in \u001b[0;36mTextFileReader._make_engine\u001b[0;34m(self, f, engine)\u001b[0m\n\u001b[1;32m   1878\u001b[0m     \u001b[38;5;28;01mif\u001b[39;00m \u001b[38;5;124m\"\u001b[39m\u001b[38;5;124mb\u001b[39m\u001b[38;5;124m\"\u001b[39m \u001b[38;5;129;01mnot\u001b[39;00m \u001b[38;5;129;01min\u001b[39;00m mode:\n\u001b[1;32m   1879\u001b[0m         mode \u001b[38;5;241m+\u001b[39m\u001b[38;5;241m=\u001b[39m \u001b[38;5;124m\"\u001b[39m\u001b[38;5;124mb\u001b[39m\u001b[38;5;124m\"\u001b[39m\n\u001b[0;32m-> 1880\u001b[0m \u001b[38;5;28mself\u001b[39m\u001b[38;5;241m.\u001b[39mhandles \u001b[38;5;241m=\u001b[39m \u001b[43mget_handle\u001b[49m\u001b[43m(\u001b[49m\n\u001b[1;32m   1881\u001b[0m \u001b[43m    \u001b[49m\u001b[43mf\u001b[49m\u001b[43m,\u001b[49m\n\u001b[1;32m   1882\u001b[0m \u001b[43m    \u001b[49m\u001b[43mmode\u001b[49m\u001b[43m,\u001b[49m\n\u001b[1;32m   1883\u001b[0m \u001b[43m    \u001b[49m\u001b[43mencoding\u001b[49m\u001b[38;5;241;43m=\u001b[39;49m\u001b[38;5;28;43mself\u001b[39;49m\u001b[38;5;241;43m.\u001b[39;49m\u001b[43moptions\u001b[49m\u001b[38;5;241;43m.\u001b[39;49m\u001b[43mget\u001b[49m\u001b[43m(\u001b[49m\u001b[38;5;124;43m\"\u001b[39;49m\u001b[38;5;124;43mencoding\u001b[39;49m\u001b[38;5;124;43m\"\u001b[39;49m\u001b[43m,\u001b[49m\u001b[43m \u001b[49m\u001b[38;5;28;43;01mNone\u001b[39;49;00m\u001b[43m)\u001b[49m\u001b[43m,\u001b[49m\n\u001b[1;32m   1884\u001b[0m \u001b[43m    \u001b[49m\u001b[43mcompression\u001b[49m\u001b[38;5;241;43m=\u001b[39;49m\u001b[38;5;28;43mself\u001b[39;49m\u001b[38;5;241;43m.\u001b[39;49m\u001b[43moptions\u001b[49m\u001b[38;5;241;43m.\u001b[39;49m\u001b[43mget\u001b[49m\u001b[43m(\u001b[49m\u001b[38;5;124;43m\"\u001b[39;49m\u001b[38;5;124;43mcompression\u001b[39;49m\u001b[38;5;124;43m\"\u001b[39;49m\u001b[43m,\u001b[49m\u001b[43m \u001b[49m\u001b[38;5;28;43;01mNone\u001b[39;49;00m\u001b[43m)\u001b[49m\u001b[43m,\u001b[49m\n\u001b[1;32m   1885\u001b[0m \u001b[43m    \u001b[49m\u001b[43mmemory_map\u001b[49m\u001b[38;5;241;43m=\u001b[39;49m\u001b[38;5;28;43mself\u001b[39;49m\u001b[38;5;241;43m.\u001b[39;49m\u001b[43moptions\u001b[49m\u001b[38;5;241;43m.\u001b[39;49m\u001b[43mget\u001b[49m\u001b[43m(\u001b[49m\u001b[38;5;124;43m\"\u001b[39;49m\u001b[38;5;124;43mmemory_map\u001b[39;49m\u001b[38;5;124;43m\"\u001b[39;49m\u001b[43m,\u001b[49m\u001b[43m \u001b[49m\u001b[38;5;28;43;01mFalse\u001b[39;49;00m\u001b[43m)\u001b[49m\u001b[43m,\u001b[49m\n\u001b[1;32m   1886\u001b[0m \u001b[43m    \u001b[49m\u001b[43mis_text\u001b[49m\u001b[38;5;241;43m=\u001b[39;49m\u001b[43mis_text\u001b[49m\u001b[43m,\u001b[49m\n\u001b[1;32m   1887\u001b[0m \u001b[43m    \u001b[49m\u001b[43merrors\u001b[49m\u001b[38;5;241;43m=\u001b[39;49m\u001b[38;5;28;43mself\u001b[39;49m\u001b[38;5;241;43m.\u001b[39;49m\u001b[43moptions\u001b[49m\u001b[38;5;241;43m.\u001b[39;49m\u001b[43mget\u001b[49m\u001b[43m(\u001b[49m\u001b[38;5;124;43m\"\u001b[39;49m\u001b[38;5;124;43mencoding_errors\u001b[39;49m\u001b[38;5;124;43m\"\u001b[39;49m\u001b[43m,\u001b[49m\u001b[43m \u001b[49m\u001b[38;5;124;43m\"\u001b[39;49m\u001b[38;5;124;43mstrict\u001b[39;49m\u001b[38;5;124;43m\"\u001b[39;49m\u001b[43m)\u001b[49m\u001b[43m,\u001b[49m\n\u001b[1;32m   1888\u001b[0m \u001b[43m    \u001b[49m\u001b[43mstorage_options\u001b[49m\u001b[38;5;241;43m=\u001b[39;49m\u001b[38;5;28;43mself\u001b[39;49m\u001b[38;5;241;43m.\u001b[39;49m\u001b[43moptions\u001b[49m\u001b[38;5;241;43m.\u001b[39;49m\u001b[43mget\u001b[49m\u001b[43m(\u001b[49m\u001b[38;5;124;43m\"\u001b[39;49m\u001b[38;5;124;43mstorage_options\u001b[39;49m\u001b[38;5;124;43m\"\u001b[39;49m\u001b[43m,\u001b[49m\u001b[43m \u001b[49m\u001b[38;5;28;43;01mNone\u001b[39;49;00m\u001b[43m)\u001b[49m\u001b[43m,\u001b[49m\n\u001b[1;32m   1889\u001b[0m \u001b[43m\u001b[49m\u001b[43m)\u001b[49m\n\u001b[1;32m   1890\u001b[0m \u001b[38;5;28;01massert\u001b[39;00m \u001b[38;5;28mself\u001b[39m\u001b[38;5;241m.\u001b[39mhandles \u001b[38;5;129;01mis\u001b[39;00m \u001b[38;5;129;01mnot\u001b[39;00m \u001b[38;5;28;01mNone\u001b[39;00m\n\u001b[1;32m   1891\u001b[0m f \u001b[38;5;241m=\u001b[39m \u001b[38;5;28mself\u001b[39m\u001b[38;5;241m.\u001b[39mhandles\u001b[38;5;241m.\u001b[39mhandle\n",
      "File \u001b[0;32m/usr/local/Caskroom/miniconda/base/envs/python-data/lib/python3.12/site-packages/pandas/io/common.py:873\u001b[0m, in \u001b[0;36mget_handle\u001b[0;34m(path_or_buf, mode, encoding, compression, memory_map, is_text, errors, storage_options)\u001b[0m\n\u001b[1;32m    868\u001b[0m \u001b[38;5;28;01melif\u001b[39;00m \u001b[38;5;28misinstance\u001b[39m(handle, \u001b[38;5;28mstr\u001b[39m):\n\u001b[1;32m    869\u001b[0m     \u001b[38;5;66;03m# Check whether the filename is to be opened in binary mode.\u001b[39;00m\n\u001b[1;32m    870\u001b[0m     \u001b[38;5;66;03m# Binary mode does not support 'encoding' and 'newline'.\u001b[39;00m\n\u001b[1;32m    871\u001b[0m     \u001b[38;5;28;01mif\u001b[39;00m ioargs\u001b[38;5;241m.\u001b[39mencoding \u001b[38;5;129;01mand\u001b[39;00m \u001b[38;5;124m\"\u001b[39m\u001b[38;5;124mb\u001b[39m\u001b[38;5;124m\"\u001b[39m \u001b[38;5;129;01mnot\u001b[39;00m \u001b[38;5;129;01min\u001b[39;00m ioargs\u001b[38;5;241m.\u001b[39mmode:\n\u001b[1;32m    872\u001b[0m         \u001b[38;5;66;03m# Encoding\u001b[39;00m\n\u001b[0;32m--> 873\u001b[0m         handle \u001b[38;5;241m=\u001b[39m \u001b[38;5;28;43mopen\u001b[39;49m\u001b[43m(\u001b[49m\n\u001b[1;32m    874\u001b[0m \u001b[43m            \u001b[49m\u001b[43mhandle\u001b[49m\u001b[43m,\u001b[49m\n\u001b[1;32m    875\u001b[0m \u001b[43m            \u001b[49m\u001b[43mioargs\u001b[49m\u001b[38;5;241;43m.\u001b[39;49m\u001b[43mmode\u001b[49m\u001b[43m,\u001b[49m\n\u001b[1;32m    876\u001b[0m \u001b[43m            \u001b[49m\u001b[43mencoding\u001b[49m\u001b[38;5;241;43m=\u001b[39;49m\u001b[43mioargs\u001b[49m\u001b[38;5;241;43m.\u001b[39;49m\u001b[43mencoding\u001b[49m\u001b[43m,\u001b[49m\n\u001b[1;32m    877\u001b[0m \u001b[43m            \u001b[49m\u001b[43merrors\u001b[49m\u001b[38;5;241;43m=\u001b[39;49m\u001b[43merrors\u001b[49m\u001b[43m,\u001b[49m\n\u001b[1;32m    878\u001b[0m \u001b[43m            \u001b[49m\u001b[43mnewline\u001b[49m\u001b[38;5;241;43m=\u001b[39;49m\u001b[38;5;124;43m\"\u001b[39;49m\u001b[38;5;124;43m\"\u001b[39;49m\u001b[43m,\u001b[49m\n\u001b[1;32m    879\u001b[0m \u001b[43m        \u001b[49m\u001b[43m)\u001b[49m\n\u001b[1;32m    880\u001b[0m     \u001b[38;5;28;01melse\u001b[39;00m:\n\u001b[1;32m    881\u001b[0m         \u001b[38;5;66;03m# Binary mode\u001b[39;00m\n\u001b[1;32m    882\u001b[0m         handle \u001b[38;5;241m=\u001b[39m \u001b[38;5;28mopen\u001b[39m(handle, ioargs\u001b[38;5;241m.\u001b[39mmode)\n",
      "\u001b[0;31mFileNotFoundError\u001b[0m: [Errno 2] No such file or directory: '../data/emission-co2-perimetre-complet.csv'"
     ]
    }
   ],
   "source": [
    "emissions = pd.read_csv('../data/emission-co2-perimetre-complet.csv',sep=';')\n",
    "print(emissions.shape)\n",
    "emissions.head()"
   ]
  },
  {
   "cell_type": "code",
   "execution_count": null,
   "metadata": {},
   "outputs": [],
   "source": [
    "def rename_columns(emissions_df):\n",
    "    emissions_df.rename(columns={\n",
    "        'Distance entre les gares':'Distance', \n",
    "        \"Train - Empreinte carbone (kgCO2e)\":\"Train\", \n",
    "        \"Autocar longue distance - Empreinte carbone (kgCO2e)\": \"Autocar\", \n",
    "        \"Avion - Empreinte carbone (kgCO2e)\":\"Avion\", \n",
    "        \"Voiture électrique (2,2 pers.) - Empreinte carbone (kgCO2e)\":\"Voiture électrique\", \n",
    "        \"Voiture thermique (2,2 pers.) - Empreinte carbone (kgCO2e)\":\"Voiture thermique\"\n",
    "    }, inplace=True)\n",
    "    return emissions_df"
   ]
  },
  {
   "cell_type": "code",
   "execution_count": null,
   "metadata": {},
   "outputs": [
    {
     "data": {
      "text/html": [
       "<div>\n",
       "<style scoped>\n",
       "    .dataframe tbody tr th:only-of-type {\n",
       "        vertical-align: middle;\n",
       "    }\n",
       "\n",
       "    .dataframe tbody tr th {\n",
       "        vertical-align: top;\n",
       "    }\n",
       "\n",
       "    .dataframe thead th {\n",
       "        text-align: right;\n",
       "    }\n",
       "</style>\n",
       "<table border=\"1\" class=\"dataframe\">\n",
       "  <thead>\n",
       "    <tr style=\"text-align: right;\">\n",
       "      <th></th>\n",
       "      <th>Transporteur</th>\n",
       "      <th>Origine</th>\n",
       "      <th>Origine_uic</th>\n",
       "      <th>Destination</th>\n",
       "      <th>Destination_uic</th>\n",
       "      <th>Distance</th>\n",
       "      <th>Train</th>\n",
       "      <th>Autocar</th>\n",
       "      <th>Avion</th>\n",
       "      <th>Voiture électrique</th>\n",
       "      <th>Voiture thermique</th>\n",
       "    </tr>\n",
       "  </thead>\n",
       "  <tbody>\n",
       "    <tr>\n",
       "      <th>0</th>\n",
       "      <td>TGV</td>\n",
       "      <td>Paris Est</td>\n",
       "      <td>87113001</td>\n",
       "      <td>Metz</td>\n",
       "      <td>87192039</td>\n",
       "      <td>352.0</td>\n",
       "      <td>1.0208</td>\n",
       "      <td>11.4540</td>\n",
       "      <td>NaN</td>\n",
       "      <td>15.604</td>\n",
       "      <td>35.7896</td>\n",
       "    </tr>\n",
       "    <tr>\n",
       "      <th>1</th>\n",
       "      <td>TGV</td>\n",
       "      <td>Aeroport CDG2 TGV Roissy</td>\n",
       "      <td>87271494</td>\n",
       "      <td>Lille Europe</td>\n",
       "      <td>87223263</td>\n",
       "      <td>203.0</td>\n",
       "      <td>0.5887</td>\n",
       "      <td>6.9345</td>\n",
       "      <td>NaN</td>\n",
       "      <td>9.447</td>\n",
       "      <td>21.6678</td>\n",
       "    </tr>\n",
       "    <tr>\n",
       "      <th>2</th>\n",
       "      <td>International</td>\n",
       "      <td>Paris Nord</td>\n",
       "      <td>88194060</td>\n",
       "      <td>Bruxelles N Aero</td>\n",
       "      <td>88194060</td>\n",
       "      <td>314.0</td>\n",
       "      <td>2.4178</td>\n",
       "      <td>10.7640</td>\n",
       "      <td>37.9745</td>\n",
       "      <td>14.664</td>\n",
       "      <td>33.6336</td>\n",
       "    </tr>\n",
       "    <tr>\n",
       "      <th>3</th>\n",
       "      <td>International</td>\n",
       "      <td>Paris Gare de Lyon</td>\n",
       "      <td>87686006</td>\n",
       "      <td>Geneve</td>\n",
       "      <td>85010082</td>\n",
       "      <td>503.0</td>\n",
       "      <td>1.7102</td>\n",
       "      <td>18.6645</td>\n",
       "      <td>59.0396</td>\n",
       "      <td>25.427</td>\n",
       "      <td>58.3198</td>\n",
       "    </tr>\n",
       "    <tr>\n",
       "      <th>4</th>\n",
       "      <td>TGV</td>\n",
       "      <td>Marne la Vallee Chessy</td>\n",
       "      <td>87111849</td>\n",
       "      <td>Avignon TGV</td>\n",
       "      <td>87318964</td>\n",
       "      <td>646.0</td>\n",
       "      <td>1.8734</td>\n",
       "      <td>24.1845</td>\n",
       "      <td>NaN</td>\n",
       "      <td>32.947</td>\n",
       "      <td>75.5678</td>\n",
       "    </tr>\n",
       "  </tbody>\n",
       "</table>\n",
       "</div>"
      ],
      "text/plain": [
       "    Transporteur                   Origine  Origine_uic       Destination  \\\n",
       "0            TGV                 Paris Est     87113001              Metz   \n",
       "1            TGV  Aeroport CDG2 TGV Roissy     87271494      Lille Europe   \n",
       "2  International                Paris Nord     88194060  Bruxelles N Aero   \n",
       "3  International        Paris Gare de Lyon     87686006            Geneve   \n",
       "4            TGV    Marne la Vallee Chessy     87111849       Avignon TGV   \n",
       "\n",
       "   Destination_uic  Distance   Train  Autocar    Avion  Voiture électrique  \\\n",
       "0         87192039     352.0  1.0208  11.4540      NaN              15.604   \n",
       "1         87223263     203.0  0.5887   6.9345      NaN               9.447   \n",
       "2         88194060     314.0  2.4178  10.7640  37.9745              14.664   \n",
       "3         85010082     503.0  1.7102  18.6645  59.0396              25.427   \n",
       "4         87318964     646.0  1.8734  24.1845      NaN              32.947   \n",
       "\n",
       "   Voiture thermique  \n",
       "0            35.7896  \n",
       "1            21.6678  \n",
       "2            33.6336  \n",
       "3            58.3198  \n",
       "4            75.5678  "
      ]
     },
     "execution_count": 50,
     "metadata": {},
     "output_type": "execute_result"
    }
   ],
   "source": [
    "emissions = rename_columns(emissions)\n",
    "emissions.head()"
   ]
  },
  {
   "cell_type": "markdown",
   "metadata": {},
   "source": [
    "On doit également filtrer les lignes qui sont des trains internationaux qui ne sont pas forcément sur le réseau français."
   ]
  },
  {
   "cell_type": "code",
   "execution_count": null,
   "metadata": {},
   "outputs": [
    {
     "name": "stdout",
     "output_type": "stream",
     "text": [
      "['TGV' 'International' 'TER' 'Intercités']\n"
     ]
    }
   ],
   "source": [
    "print(emissions[\"Transporteur\"].unique())"
   ]
  },
  {
   "cell_type": "code",
   "execution_count": null,
   "metadata": {},
   "outputs": [],
   "source": [
    "def filter_transporteur(emissions_df):\n",
    "    emissions_df = emissions_df.query(\"Transporteur != 'International'\")\n",
    "    return emissions_df\n",
    "\n",
    "emissions = filter_transporteur(emissions)"
   ]
  },
  {
   "cell_type": "code",
   "execution_count": null,
   "metadata": {},
   "outputs": [],
   "source": [
    "color_palette = [\"#af2bbf\",\"#8770bf\",\"#6c91bf\",\"#5fb0b7\",\"#5bc8af\"]\n",
    "#color_palette = [\"#bbdef0\",\"#00a6a6\",\"#efca08\",\"#f49f0a\",\"#f08700\"]\n"
   ]
  },
  {
   "cell_type": "code",
   "execution_count": null,
   "metadata": {},
   "outputs": [],
   "source": [
    "colors_moyens_de_transport = {\"Train\":color_palette[0], \"Autocar\":color_palette[1], \"Avion\":color_palette[2], \"Voiture thermique\":color_palette[3], \"Voiture électrique\":color_palette[4]}"
   ]
  },
  {
   "cell_type": "code",
   "execution_count": null,
   "metadata": {},
   "outputs": [
    {
     "data": {
      "application/vnd.plotly.v1+json": {
       "config": {
        "plotlyServerURL": "https://plot.ly"
       },
       "data": [
        {
         "hovertemplate": "<b>%{hovertext}</b><extra></extra>",
         "hovertext": [
          "Arcachon - Bordeaux Saint-Jean",
          "Paris Nord - Compiègne",
          "Le Havre Gare locale - Rouen Rive Droite",
          "Belfort - Besançon-Viotte",
          "Bayonne - Pau",
          "Lille Europe - Bruxelles Midi Brussel Zuid",
          "Chambéry-Challes-les-Eaux - Lyon Part-Dieu",
          "Paris Austerlitz - Orléans",
          "Grenoble - Lyon Part-Dieu",
          "Paris-Nord - Amiens",
          "Agen - Bordeaux Saint-Jean",
          "Paris Saint-Lazare - Rouen Rive Droite",
          "Paris Est - Reims",
          "Nancy Ville - Strasbourg Ville",
          "Geneve - Lyon Perrache",
          "Paris-Est - Champagne-Ardenne-TGV",
          "Paris Nord - Arras",
          "Dijon Ville - Lyon Part-Dieu",
          "Paris Gare du Nord - Lens",
          "Bayonne - Bordeaux Saint-Jean",
          "Brive-la-Gaillarde - Bordeaux Saint-Jean",
          "Paris Montparnasse - Le Mans",
          "Aeroport CDG2 TGV Roissy - Lille Europe",
          "Paris Gare du Nord - Douai",
          "Toulouse-Matabiau - Perpignan",
          "Paris Saint-Lazare - Trouville-Deauville",
          "Paris Montparnasse - Saint-Pierre-des-Corps",
          "Marseille Saint-Charles - Nice Ville",
          "Paris Gare du Nord - Lille Europe",
          "Marne-la-Vallée-Chessy - Lille Europe",
          "Paris Saint-Lazare - Le Havre Gare locale",
          "Paris Gare du Nord - Valenciennes",
          "Paris Saint-Lazare - Caen",
          "Rennes - Brest",
          "Bordeaux Saint-Jean - Toulouse-Matabiau",
          "Paris Gare de Lyon - Dijon",
          "Aéroport Charles de Gaulle 2 TGV - Bruxelles Midi Brussel Zuid",
          "Paris Montparnasse - Angers-St-Laud",
          "Paris Gare du Nord - Dunkerque",
          "Lyon Part Dieu - Montpellier Saint-Roch",
          "Paris Montparnasse - Poitiers",
          "Bayonne - Toulouse-Matabiau",
          "Lyon Part Dieu - Marseille Saint-Charles",
          "Paris Nord - Calais Ville",
          "Paris Est - Metz",
          "Metz Ville - Strasbourg Ville",
          "Paris Montparnasse - Rennes",
          "Paris Gare de Lyon - Vichy",
          "Paris Est - Nancy",
          "Paris Gare de Lyon - Besançon Franche Comté",
          "Paris Gare de Lyon - Mâcon Loché TGV",
          "Paris Saint-Lazare - Cherbourg",
          "Paris Montparnasse - Nantes",
          "Paris-Austerlitz - Limoges-Bénédictins",
          "Paris-Gare-de-Lyon - Clermont-Ferrand",
          "Aéroport Charles de Gaulle 2 TGV - Rennes",
          "Marseille Saint-Charles - Toulouse-Matabiau",
          "Paris Montparnasse - Angoulême",
          "Paris Gare de Lyon - Lyon Part Dieu",
          "Aéroport Charles de Gaulle 2 TGV - Lyon Part Dieu",
          "Paris Gare de Lyon - Belfort-Montbéliard TGV",
          "Paris Est - Strasbourg",
          "Paris Montparnasse - La Rochelle",
          "Paris Montparnasse - Vannes",
          "Paris Est - Mulhouse",
          "Paris-Austerlitz - Brive-la-Gaillarde",
          "Massy-TGV - Bordeaux Saint-Jean",
          "Bordeaux Saint-Jean - Nantes",
          "Paris Gare de Lyon - Chambéry - Challes-les-Eaux",
          "Paris Gare de Lyon - Valence TGV Rhône-Alpes Sud",
          "Paris Montparnasse - Bordeaux Saint-Jean",
          "Paris Gare de Lyon - Annecy",
          "Paris Gare de Lyon - Grenoble",
          "Paris Montparnasse - Arcachon",
          "Paris Montparnasse - Brest",
          "Lille Europe - Lyon Part Dieu",
          "Marne la Vallee Chessy - Avignon TGV",
          "Paris-Austerlitz - Rodez",
          "Marseille Saint-Charles - Bordeaux Saint-Jean",
          "Marne la Vallee Chessy - Aix en Provence TGV",
          "Bruxelles Midi Brussel Zuid - Lyon Part Dieu",
          "Paris Montparnasse - Bayonne",
          "Paris Gare de Lyon - Montpellier Saint-Roch",
          "Paris Montparnasse - Biarritz",
          "Paris Gare de Lyon - Marseille Saint-Charles",
          "Paris Montparnasse - Toulouse Matabiau",
          "Lyon-Part-Dieu - Nantes",
          "Paris Gare de Lyon - Toulon",
          "Strasbourg Ville - Nantes",
          "Paris Gare de Lyon - Saint-Raphaël",
          "Paris Gare de Lyon - Nice"
         ],
         "opacity": 0,
         "showlegend": false,
         "type": "scatter",
         "x": [
          58,
          84,
          88,
          96,
          106,
          107,
          107,
          121,
          131,
          131,
          135,
          139,
          146.156,
          150,
          162,
          175,
          179,
          192,
          198,
          198,
          200,
          202,
          203,
          204,
          210,
          219,
          221,
          224,
          225.249,
          227,
          228,
          237,
          239,
          249,
          257,
          290,
          291,
          303,
          305,
          314,
          320,
          321,
          325,
          335,
          352,
          352,
          363.952,
          364,
          367,
          367,
          369,
          371,
          385.841,
          400,
          419,
          421,
          423,
          428,
          429.496,
          442,
          449,
          450.58,
          460,
          489,
          495,
          498,
          523,
          525,
          531.951,
          535,
          537.13,
          545,
          556.09,
          595,
          613,
          645.356,
          646,
          660,
          680,
          720,
          733,
          734.758,
          738.861,
          744.496,
          750.138,
          793.993,
          812,
          812,
          834,
          908.65,
          971.68
         ],
         "y": [
          1.4151999999999998,
          2.0496,
          2.1472,
          2.3424,
          0.742,
          0.3103,
          2.6108,
          2.9523999999999995,
          3.1964,
          3.1964,
          0.945,
          3.3916,
          0.4238523999999999,
          3.66,
          3.9528,
          0.5075,
          0.5191,
          4.684799999999999,
          0.5741999999999999,
          4.8312,
          4.88,
          0.5858,
          0.5886999999999999,
          0.5916,
          5.124,
          5.3436,
          0.6409,
          5.465599999999999,
          0.6532220999999999,
          0.6583,
          5.5632,
          0.6872999999999999,
          5.8316,
          6.0756,
          1.799,
          0.841,
          0.8439,
          0.8786999999999999,
          0.8845,
          0.9106,
          0.928,
          2.247,
          0.9425,
          0.9715,
          1.0208,
          1.0208,
          1.0554608,
          2.548,
          1.0643,
          1.0643,
          1.0700999999999998,
          9.0524,
          1.1189388999999998,
          2.8,
          2.933,
          1.2209,
          2.961,
          1.2412,
          1.2455383999999998,
          1.2818,
          1.3020999999999998,
          1.306682,
          1.334,
          1.4181,
          1.4355,
          3.486,
          1.5167,
          3.675,
          1.5426579,
          1.5515,
          1.557677,
          1.5805,
          1.612661,
          1.7255,
          1.7777,
          1.8715324,
          1.8734,
          4.62,
          4.76,
          2.088,
          2.1257,
          2.1307982,
          2.1426969,
          2.1590384,
          2.1754002,
          2.3025797000000003,
          5.684,
          2.3548,
          2.4186,
          2.635085,
          2.817872
         ]
        },
        {
         "connectgaps": true,
         "hovertemplate": "<b>%{hovertext}</b> : %{y:.2f} kgCO2e <extra></extra>",
         "hovertext": [
          "TER",
          "TER",
          "TER",
          "TER",
          "Intercités",
          "TGV",
          "TER",
          "TER",
          "TER",
          "TER",
          "Intercités",
          "TER",
          "TGV",
          "TER",
          "TER",
          "TGV",
          "TGV",
          "TER",
          "TGV",
          "TER",
          "TER",
          "TGV",
          "TGV",
          "TGV",
          "TER",
          "TER",
          "TGV",
          "TER",
          "TGV",
          "TGV",
          "TER",
          "TGV",
          "TER",
          "TER",
          "Intercités",
          "TGV",
          "TGV",
          "TGV",
          "TGV",
          "TGV",
          "TGV",
          "Intercités",
          "TGV",
          "TGV",
          "TGV",
          "TGV",
          "TGV",
          "Intercités",
          "TGV",
          "TGV",
          "TGV",
          "TER",
          "TGV",
          "Intercités",
          "Intercités",
          "TGV",
          "Intercités",
          "TGV",
          "TGV",
          "TGV",
          "TGV",
          "TGV",
          "TGV",
          "TGV",
          "TGV",
          "Intercités",
          "TGV",
          "Intercités",
          "TGV",
          "TGV",
          "TGV",
          "TGV",
          "TGV",
          "TGV",
          "TGV",
          "TGV",
          "TGV",
          "Intercités",
          "Intercités",
          "TGV",
          "TGV",
          "TGV",
          "TGV",
          "TGV",
          "TGV",
          "TGV",
          "Intercités",
          "TGV",
          "TGV",
          "TGV",
          "TGV"
         ],
         "marker": {
          "color": "#af2bbf"
         },
         "mode": "lines+markers",
         "name": "Train",
         "type": "scatter",
         "x": [
          58,
          84,
          88,
          96,
          106,
          107,
          107,
          121,
          131,
          131,
          135,
          139,
          146.156,
          150,
          162,
          175,
          179,
          192,
          198,
          198,
          200,
          202,
          203,
          204,
          210,
          219,
          221,
          224,
          225.249,
          227,
          228,
          237,
          239,
          249,
          257,
          290,
          291,
          303,
          305,
          314,
          320,
          321,
          325,
          335,
          352,
          352,
          363.952,
          364,
          367,
          367,
          369,
          371,
          385.841,
          400,
          419,
          421,
          423,
          428,
          429.496,
          442,
          449,
          450.58,
          460,
          489,
          495,
          498,
          523,
          525,
          531.951,
          535,
          537.13,
          545,
          556.09,
          595,
          613,
          645.356,
          646,
          660,
          680,
          720,
          733,
          734.758,
          738.861,
          744.496,
          750.138,
          793.993,
          812,
          812,
          834,
          908.65,
          971.68
         ],
         "y": [
          1.4151999999999998,
          2.0496,
          2.1472,
          2.3424,
          0.742,
          0.3103,
          2.6108,
          2.9523999999999995,
          3.1964,
          3.1964,
          0.945,
          3.3916,
          0.4238523999999999,
          3.66,
          3.9528,
          0.5075,
          0.5191,
          4.684799999999999,
          0.5741999999999999,
          4.8312,
          4.88,
          0.5858,
          0.5886999999999999,
          0.5916,
          5.124,
          5.3436,
          0.6409,
          5.465599999999999,
          0.6532220999999999,
          0.6583,
          5.5632,
          0.6872999999999999,
          5.8316,
          6.0756,
          1.799,
          0.841,
          0.8439,
          0.8786999999999999,
          0.8845,
          0.9106,
          0.928,
          2.247,
          0.9425,
          0.9715,
          1.0208,
          1.0208,
          1.0554608,
          2.548,
          1.0643,
          1.0643,
          1.0700999999999998,
          9.0524,
          1.1189388999999998,
          2.8,
          2.933,
          1.2209,
          2.961,
          1.2412,
          1.2455383999999998,
          1.2818,
          1.3020999999999998,
          1.306682,
          1.334,
          1.4181,
          1.4355,
          3.486,
          1.5167,
          3.675,
          1.5426579,
          1.5515,
          1.557677,
          1.5805,
          1.612661,
          1.7255,
          1.7777,
          1.8715324,
          1.8734,
          4.62,
          4.76,
          2.088,
          2.1257,
          2.1307982,
          2.1426969,
          2.1590384,
          2.1754002,
          2.3025797000000003,
          5.684,
          2.3548,
          2.4186,
          2.635085,
          2.817872
         ]
        },
        {
         "connectgaps": true,
         "hovertemplate": "%{y:.2f} kgCO2e",
         "marker": {
          "color": "#8770bf"
         },
         "mode": "lines+markers",
         "name": "Autocar",
         "type": "scatter",
         "x": [
          58,
          84,
          88,
          96,
          106,
          107,
          107,
          121,
          131,
          131,
          135,
          139,
          146.156,
          150,
          162,
          175,
          179,
          192,
          198,
          198,
          200,
          202,
          203,
          204,
          210,
          219,
          221,
          224,
          225.249,
          227,
          228,
          237,
          239,
          249,
          257,
          290,
          291,
          303,
          305,
          314,
          320,
          321,
          325,
          335,
          352,
          352,
          363.952,
          364,
          367,
          367,
          369,
          371,
          385.841,
          400,
          419,
          421,
          423,
          428,
          429.496,
          442,
          449,
          450.58,
          460,
          489,
          495,
          498,
          523,
          525,
          531.951,
          535,
          537.13,
          545,
          556.09,
          595,
          613,
          645.356,
          646,
          660,
          680,
          720,
          733,
          734.758,
          738.861,
          744.496,
          750.138,
          793.993,
          812,
          812,
          834,
          908.65,
          971.68
         ],
         "y": [
          2.553,
          2.829,
          3.174,
          3.4155,
          3.8985,
          3.864,
          3.7605,
          4.692,
          3.8985,
          4.8645,
          4.7955,
          5.037,
          5.0025,
          5.4165,
          5.175,
          5.106,
          6.555,
          6.693,
          7.383,
          6.5895,
          6.969,
          7.2105,
          6.9345,
          6.831,
          7.1415,
          7.3485,
          8.2455,
          7.1415,
          7.935,
          8.3835,
          7.2795,
          7.314,
          8.5905,
          8.418,
          8.418,
          10.8675,
          9.9705,
          10.3845,
          10.3845,
          10.4535,
          11.7645,
          10.3155,
          10.8675,
          10.2465,
          11.454,
          11.454,
          20.2515,
          14.1105,
          13.317,
          14.352,
          13.9035,
          12.834,
          13.317,
          13.524,
          14.628,
          13.179,
          13.9725,
          15.525,
          16.077,
          17.2155,
          17.112,
          16.836,
          11.454,
          16.008,
          18.6645,
          16.698,
          19.6305,
          12.213,
          19.6995,
          23.667,
          20.2515,
          19.32,
          19.872,
          19.5,
          20.424,
          23.874,
          24.1845,
          22.77,
          22.3215,
          26.565,
          24.7365,
          26.565,
          25.8405,
          27.0135,
          26.7375,
          23.4255,
          23.667,
          28.9455,
          29.8425,
          30.2565,
          32.223
         ]
        },
        {
         "connectgaps": true,
         "hovertemplate": "%{y:.2f} kgCO2e",
         "marker": {
          "color": "#5bc8af"
         },
         "mode": "lines+markers",
         "name": "Voiture électrique",
         "type": "scatter",
         "x": [
          58,
          84,
          88,
          96,
          106,
          107,
          107,
          121,
          131,
          131,
          135,
          139,
          146.156,
          150,
          162,
          175,
          179,
          192,
          198,
          198,
          200,
          202,
          203,
          204,
          210,
          219,
          221,
          224,
          225.249,
          227,
          228,
          237,
          239,
          249,
          257,
          290,
          291,
          303,
          305,
          314,
          320,
          321,
          325,
          335,
          352,
          352,
          363.952,
          364,
          367,
          367,
          369,
          371,
          385.841,
          400,
          419,
          421,
          423,
          428,
          429.496,
          442,
          449,
          450.58,
          460,
          489,
          495,
          498,
          523,
          525,
          531.951,
          535,
          537.13,
          545,
          556.09,
          595,
          613,
          645.356,
          646,
          660,
          680,
          720,
          733,
          734.758,
          738.861,
          744.496,
          750.138,
          793.993,
          812,
          812,
          834,
          908.65,
          971.68
         ],
         "y": [
          3.478,
          3.854,
          4.324,
          4.653,
          5.311,
          5.264,
          5.123,
          6.392,
          5.311,
          6.627,
          6.533,
          6.862,
          6.815,
          7.379,
          7.05,
          6.956,
          8.93,
          9.118,
          10.058,
          8.977,
          9.494,
          9.823,
          9.447,
          9.306,
          9.729,
          10.011,
          11.233,
          9.729,
          10.81,
          11.421,
          9.917,
          9.964,
          11.703,
          11.468,
          11.468,
          14.805,
          13.583,
          14.147,
          14.147,
          14.241,
          16.027,
          14.053,
          14.805,
          13.959,
          15.604,
          15.604,
          27.589,
          19.223,
          18.142,
          19.552,
          18.941,
          17.484,
          18.142,
          18.424,
          19.928,
          17.954,
          19.035,
          21.15,
          21.855,
          23.453,
          23.312,
          22.9125,
          15.604,
          21.808,
          25.427,
          22.748,
          26.743,
          16.638,
          26.837,
          32.242,
          27.589,
          26.32,
          27.072,
          30.55,
          27.824,
          32.524,
          32.947,
          31.02,
          30.409,
          36.19,
          33.699,
          36.19,
          35.203,
          36.801,
          36.425,
          31.913,
          32.242,
          39.433,
          40.655,
          41.219,
          43.898
         ]
        },
        {
         "connectgaps": true,
         "hovertemplate": "%{y:.2f} kgCO2e",
         "marker": {
          "color": "#5fb0b7"
         },
         "mode": "lines+markers",
         "name": "Voiture thermique",
         "type": "scatter",
         "x": [
          58,
          84,
          88,
          96,
          106,
          107,
          107,
          121,
          131,
          131,
          135,
          139,
          146.156,
          150,
          162,
          175,
          179,
          192,
          198,
          198,
          200,
          202,
          203,
          204,
          210,
          219,
          221,
          224,
          225.249,
          227,
          228,
          237,
          239,
          249,
          257,
          290,
          291,
          303,
          305,
          314,
          320,
          321,
          325,
          335,
          352,
          352,
          363.952,
          364,
          367,
          367,
          369,
          371,
          385.841,
          400,
          419,
          421,
          423,
          428,
          429.496,
          442,
          449,
          450.58,
          460,
          489,
          495,
          498,
          523,
          525,
          531.951,
          535,
          537.13,
          545,
          556.09,
          595,
          613,
          645.356,
          646,
          660,
          680,
          720,
          733,
          734.758,
          738.861,
          744.496,
          750.138,
          793.993,
          812,
          812,
          834,
          908.65,
          971.68
         ],
         "y": [
          7.9772,
          8.8396,
          9.9176,
          10.672199999999998,
          12.1814,
          12.0736,
          11.7502,
          14.6608,
          12.1814,
          15.1998,
          14.9842,
          15.7388,
          15.631,
          16.924599999999998,
          16.17,
          15.9544,
          20.482,
          20.9132,
          23.0692,
          20.5898,
          21.7756,
          22.5302,
          21.6678,
          21.3444,
          22.3146,
          22.9614,
          25.7642,
          22.3146,
          24.794,
          26.1954,
          22.7458,
          22.8536,
          26.8422,
          26.3032,
          26.3032,
          33.957,
          31.1542,
          32.4478,
          32.4478,
          32.6634,
          36.7598,
          32.2322,
          33.957,
          32.0166,
          35.7896,
          35.7896,
          63.2786,
          44.0902,
          41.6108,
          44.84479999999999,
          43.4434,
          40.1016,
          41.6108,
          42.2576,
          45.7072,
          41.1796,
          43.659,
          48.51,
          50.23479999999999,
          53.7922,
          53.4688,
          52.6064,
          35.7896,
          50.0192,
          58.3198,
          52.1752,
          61.3382,
          38.1612,
          61.5538,
          73.9508,
          63.2786,
          60.368,
          62.0928,
          70.07,
          63.8176,
          74.59759999999999,
          75.5678,
          71.148,
          69.74659999999999,
          83.006,
          77.2926,
          83.006,
          80.7422,
          84.4074,
          83.545,
          73.19619999999999,
          73.9508,
          90.4442,
          93.247,
          94.5406,
          100.6852
         ]
        },
        {
         "connectgaps": true,
         "hovertemplate": "%{y:.2f} kgCO2e",
         "marker": {
          "color": "#6c91bf"
         },
         "mode": "lines+markers",
         "name": "Avion",
         "type": "scatter",
         "x": [
          58,
          84,
          88,
          96,
          106,
          107,
          107,
          121,
          131,
          131,
          135,
          139,
          146.156,
          150,
          162,
          175,
          179,
          192,
          198,
          198,
          200,
          202,
          203,
          204,
          210,
          219,
          221,
          224,
          225.249,
          227,
          228,
          237,
          239,
          249,
          257,
          290,
          291,
          303,
          305,
          314,
          320,
          321,
          325,
          335,
          352,
          352,
          363.952,
          364,
          367,
          367,
          369,
          371,
          385.841,
          400,
          419,
          421,
          423,
          428,
          429.496,
          442,
          449,
          450.58,
          460,
          489,
          495,
          498,
          523,
          525,
          531.951,
          535,
          537.13,
          545,
          556.09,
          595,
          613,
          645.356,
          646,
          660,
          680,
          720,
          733,
          734.758,
          738.861,
          744.496,
          750.138,
          793.993,
          812,
          812,
          834,
          908.65,
          971.68
         ],
         "y": [
          null,
          null,
          null,
          null,
          null,
          null,
          null,
          null,
          null,
          null,
          null,
          null,
          null,
          null,
          null,
          null,
          null,
          null,
          null,
          null,
          null,
          null,
          null,
          null,
          null,
          null,
          null,
          null,
          null,
          null,
          null,
          null,
          null,
          null,
          null,
          null,
          62.7323,
          null,
          null,
          null,
          null,
          null,
          72.10310000000001,
          null,
          null,
          null,
          71.36340000000001,
          null,
          null,
          null,
          null,
          null,
          48.865300000000005,
          null,
          49.8684,
          47.145700000000005,
          null,
          null,
          102.5582,
          104.12,
          null,
          null,
          null,
          null,
          56.17360000000001,
          null,
          null,
          null,
          null,
          null,
          129.6294,
          null,
          null,
          null,
          72.07990000000001,
          null,
          null,
          71.93660000000001,
          72.5098,
          null,
          147.8504,
          null,
          155.1388,
          95.8677,
          172.3186,
          84.40370000000001,
          73.9428,
          181.1688,
          184.813,
          null,
          179.3467
         ]
        }
       ],
       "layout": {
        "hovermode": "x unified",
        "legend": {
         "title": {
          "text": "Moyen de transport"
         }
        },
        "template": {
         "data": {
          "bar": [
           {
            "error_x": {
             "color": "#2a3f5f"
            },
            "error_y": {
             "color": "#2a3f5f"
            },
            "marker": {
             "line": {
              "color": "#E5ECF6",
              "width": 0.5
             },
             "pattern": {
              "fillmode": "overlay",
              "size": 10,
              "solidity": 0.2
             }
            },
            "type": "bar"
           }
          ],
          "barpolar": [
           {
            "marker": {
             "line": {
              "color": "#E5ECF6",
              "width": 0.5
             },
             "pattern": {
              "fillmode": "overlay",
              "size": 10,
              "solidity": 0.2
             }
            },
            "type": "barpolar"
           }
          ],
          "carpet": [
           {
            "aaxis": {
             "endlinecolor": "#2a3f5f",
             "gridcolor": "white",
             "linecolor": "white",
             "minorgridcolor": "white",
             "startlinecolor": "#2a3f5f"
            },
            "baxis": {
             "endlinecolor": "#2a3f5f",
             "gridcolor": "white",
             "linecolor": "white",
             "minorgridcolor": "white",
             "startlinecolor": "#2a3f5f"
            },
            "type": "carpet"
           }
          ],
          "choropleth": [
           {
            "colorbar": {
             "outlinewidth": 0,
             "ticks": ""
            },
            "type": "choropleth"
           }
          ],
          "contour": [
           {
            "colorbar": {
             "outlinewidth": 0,
             "ticks": ""
            },
            "colorscale": [
             [
              0,
              "#0d0887"
             ],
             [
              0.1111111111111111,
              "#46039f"
             ],
             [
              0.2222222222222222,
              "#7201a8"
             ],
             [
              0.3333333333333333,
              "#9c179e"
             ],
             [
              0.4444444444444444,
              "#bd3786"
             ],
             [
              0.5555555555555556,
              "#d8576b"
             ],
             [
              0.6666666666666666,
              "#ed7953"
             ],
             [
              0.7777777777777778,
              "#fb9f3a"
             ],
             [
              0.8888888888888888,
              "#fdca26"
             ],
             [
              1,
              "#f0f921"
             ]
            ],
            "type": "contour"
           }
          ],
          "contourcarpet": [
           {
            "colorbar": {
             "outlinewidth": 0,
             "ticks": ""
            },
            "type": "contourcarpet"
           }
          ],
          "heatmap": [
           {
            "colorbar": {
             "outlinewidth": 0,
             "ticks": ""
            },
            "colorscale": [
             [
              0,
              "#0d0887"
             ],
             [
              0.1111111111111111,
              "#46039f"
             ],
             [
              0.2222222222222222,
              "#7201a8"
             ],
             [
              0.3333333333333333,
              "#9c179e"
             ],
             [
              0.4444444444444444,
              "#bd3786"
             ],
             [
              0.5555555555555556,
              "#d8576b"
             ],
             [
              0.6666666666666666,
              "#ed7953"
             ],
             [
              0.7777777777777778,
              "#fb9f3a"
             ],
             [
              0.8888888888888888,
              "#fdca26"
             ],
             [
              1,
              "#f0f921"
             ]
            ],
            "type": "heatmap"
           }
          ],
          "heatmapgl": [
           {
            "colorbar": {
             "outlinewidth": 0,
             "ticks": ""
            },
            "colorscale": [
             [
              0,
              "#0d0887"
             ],
             [
              0.1111111111111111,
              "#46039f"
             ],
             [
              0.2222222222222222,
              "#7201a8"
             ],
             [
              0.3333333333333333,
              "#9c179e"
             ],
             [
              0.4444444444444444,
              "#bd3786"
             ],
             [
              0.5555555555555556,
              "#d8576b"
             ],
             [
              0.6666666666666666,
              "#ed7953"
             ],
             [
              0.7777777777777778,
              "#fb9f3a"
             ],
             [
              0.8888888888888888,
              "#fdca26"
             ],
             [
              1,
              "#f0f921"
             ]
            ],
            "type": "heatmapgl"
           }
          ],
          "histogram": [
           {
            "marker": {
             "pattern": {
              "fillmode": "overlay",
              "size": 10,
              "solidity": 0.2
             }
            },
            "type": "histogram"
           }
          ],
          "histogram2d": [
           {
            "colorbar": {
             "outlinewidth": 0,
             "ticks": ""
            },
            "colorscale": [
             [
              0,
              "#0d0887"
             ],
             [
              0.1111111111111111,
              "#46039f"
             ],
             [
              0.2222222222222222,
              "#7201a8"
             ],
             [
              0.3333333333333333,
              "#9c179e"
             ],
             [
              0.4444444444444444,
              "#bd3786"
             ],
             [
              0.5555555555555556,
              "#d8576b"
             ],
             [
              0.6666666666666666,
              "#ed7953"
             ],
             [
              0.7777777777777778,
              "#fb9f3a"
             ],
             [
              0.8888888888888888,
              "#fdca26"
             ],
             [
              1,
              "#f0f921"
             ]
            ],
            "type": "histogram2d"
           }
          ],
          "histogram2dcontour": [
           {
            "colorbar": {
             "outlinewidth": 0,
             "ticks": ""
            },
            "colorscale": [
             [
              0,
              "#0d0887"
             ],
             [
              0.1111111111111111,
              "#46039f"
             ],
             [
              0.2222222222222222,
              "#7201a8"
             ],
             [
              0.3333333333333333,
              "#9c179e"
             ],
             [
              0.4444444444444444,
              "#bd3786"
             ],
             [
              0.5555555555555556,
              "#d8576b"
             ],
             [
              0.6666666666666666,
              "#ed7953"
             ],
             [
              0.7777777777777778,
              "#fb9f3a"
             ],
             [
              0.8888888888888888,
              "#fdca26"
             ],
             [
              1,
              "#f0f921"
             ]
            ],
            "type": "histogram2dcontour"
           }
          ],
          "mesh3d": [
           {
            "colorbar": {
             "outlinewidth": 0,
             "ticks": ""
            },
            "type": "mesh3d"
           }
          ],
          "parcoords": [
           {
            "line": {
             "colorbar": {
              "outlinewidth": 0,
              "ticks": ""
             }
            },
            "type": "parcoords"
           }
          ],
          "pie": [
           {
            "automargin": true,
            "type": "pie"
           }
          ],
          "scatter": [
           {
            "fillpattern": {
             "fillmode": "overlay",
             "size": 10,
             "solidity": 0.2
            },
            "type": "scatter"
           }
          ],
          "scatter3d": [
           {
            "line": {
             "colorbar": {
              "outlinewidth": 0,
              "ticks": ""
             }
            },
            "marker": {
             "colorbar": {
              "outlinewidth": 0,
              "ticks": ""
             }
            },
            "type": "scatter3d"
           }
          ],
          "scattercarpet": [
           {
            "marker": {
             "colorbar": {
              "outlinewidth": 0,
              "ticks": ""
             }
            },
            "type": "scattercarpet"
           }
          ],
          "scattergeo": [
           {
            "marker": {
             "colorbar": {
              "outlinewidth": 0,
              "ticks": ""
             }
            },
            "type": "scattergeo"
           }
          ],
          "scattergl": [
           {
            "marker": {
             "colorbar": {
              "outlinewidth": 0,
              "ticks": ""
             }
            },
            "type": "scattergl"
           }
          ],
          "scattermapbox": [
           {
            "marker": {
             "colorbar": {
              "outlinewidth": 0,
              "ticks": ""
             }
            },
            "type": "scattermapbox"
           }
          ],
          "scatterpolar": [
           {
            "marker": {
             "colorbar": {
              "outlinewidth": 0,
              "ticks": ""
             }
            },
            "type": "scatterpolar"
           }
          ],
          "scatterpolargl": [
           {
            "marker": {
             "colorbar": {
              "outlinewidth": 0,
              "ticks": ""
             }
            },
            "type": "scatterpolargl"
           }
          ],
          "scatterternary": [
           {
            "marker": {
             "colorbar": {
              "outlinewidth": 0,
              "ticks": ""
             }
            },
            "type": "scatterternary"
           }
          ],
          "surface": [
           {
            "colorbar": {
             "outlinewidth": 0,
             "ticks": ""
            },
            "colorscale": [
             [
              0,
              "#0d0887"
             ],
             [
              0.1111111111111111,
              "#46039f"
             ],
             [
              0.2222222222222222,
              "#7201a8"
             ],
             [
              0.3333333333333333,
              "#9c179e"
             ],
             [
              0.4444444444444444,
              "#bd3786"
             ],
             [
              0.5555555555555556,
              "#d8576b"
             ],
             [
              0.6666666666666666,
              "#ed7953"
             ],
             [
              0.7777777777777778,
              "#fb9f3a"
             ],
             [
              0.8888888888888888,
              "#fdca26"
             ],
             [
              1,
              "#f0f921"
             ]
            ],
            "type": "surface"
           }
          ],
          "table": [
           {
            "cells": {
             "fill": {
              "color": "#EBF0F8"
             },
             "line": {
              "color": "white"
             }
            },
            "header": {
             "fill": {
              "color": "#C8D4E3"
             },
             "line": {
              "color": "white"
             }
            },
            "type": "table"
           }
          ]
         },
         "layout": {
          "annotationdefaults": {
           "arrowcolor": "#2a3f5f",
           "arrowhead": 0,
           "arrowwidth": 1
          },
          "autotypenumbers": "strict",
          "coloraxis": {
           "colorbar": {
            "outlinewidth": 0,
            "ticks": ""
           }
          },
          "colorscale": {
           "diverging": [
            [
             0,
             "#8e0152"
            ],
            [
             0.1,
             "#c51b7d"
            ],
            [
             0.2,
             "#de77ae"
            ],
            [
             0.3,
             "#f1b6da"
            ],
            [
             0.4,
             "#fde0ef"
            ],
            [
             0.5,
             "#f7f7f7"
            ],
            [
             0.6,
             "#e6f5d0"
            ],
            [
             0.7,
             "#b8e186"
            ],
            [
             0.8,
             "#7fbc41"
            ],
            [
             0.9,
             "#4d9221"
            ],
            [
             1,
             "#276419"
            ]
           ],
           "sequential": [
            [
             0,
             "#0d0887"
            ],
            [
             0.1111111111111111,
             "#46039f"
            ],
            [
             0.2222222222222222,
             "#7201a8"
            ],
            [
             0.3333333333333333,
             "#9c179e"
            ],
            [
             0.4444444444444444,
             "#bd3786"
            ],
            [
             0.5555555555555556,
             "#d8576b"
            ],
            [
             0.6666666666666666,
             "#ed7953"
            ],
            [
             0.7777777777777778,
             "#fb9f3a"
            ],
            [
             0.8888888888888888,
             "#fdca26"
            ],
            [
             1,
             "#f0f921"
            ]
           ],
           "sequentialminus": [
            [
             0,
             "#0d0887"
            ],
            [
             0.1111111111111111,
             "#46039f"
            ],
            [
             0.2222222222222222,
             "#7201a8"
            ],
            [
             0.3333333333333333,
             "#9c179e"
            ],
            [
             0.4444444444444444,
             "#bd3786"
            ],
            [
             0.5555555555555556,
             "#d8576b"
            ],
            [
             0.6666666666666666,
             "#ed7953"
            ],
            [
             0.7777777777777778,
             "#fb9f3a"
            ],
            [
             0.8888888888888888,
             "#fdca26"
            ],
            [
             1,
             "#f0f921"
            ]
           ]
          },
          "colorway": [
           "#636efa",
           "#EF553B",
           "#00cc96",
           "#ab63fa",
           "#FFA15A",
           "#19d3f3",
           "#FF6692",
           "#B6E880",
           "#FF97FF",
           "#FECB52"
          ],
          "font": {
           "color": "#2a3f5f"
          },
          "geo": {
           "bgcolor": "white",
           "lakecolor": "white",
           "landcolor": "#E5ECF6",
           "showlakes": true,
           "showland": true,
           "subunitcolor": "white"
          },
          "hoverlabel": {
           "align": "left"
          },
          "hovermode": "closest",
          "mapbox": {
           "style": "light"
          },
          "paper_bgcolor": "white",
          "plot_bgcolor": "#E5ECF6",
          "polar": {
           "angularaxis": {
            "gridcolor": "white",
            "linecolor": "white",
            "ticks": ""
           },
           "bgcolor": "#E5ECF6",
           "radialaxis": {
            "gridcolor": "white",
            "linecolor": "white",
            "ticks": ""
           }
          },
          "scene": {
           "xaxis": {
            "backgroundcolor": "#E5ECF6",
            "gridcolor": "white",
            "gridwidth": 2,
            "linecolor": "white",
            "showbackground": true,
            "ticks": "",
            "zerolinecolor": "white"
           },
           "yaxis": {
            "backgroundcolor": "#E5ECF6",
            "gridcolor": "white",
            "gridwidth": 2,
            "linecolor": "white",
            "showbackground": true,
            "ticks": "",
            "zerolinecolor": "white"
           },
           "zaxis": {
            "backgroundcolor": "#E5ECF6",
            "gridcolor": "white",
            "gridwidth": 2,
            "linecolor": "white",
            "showbackground": true,
            "ticks": "",
            "zerolinecolor": "white"
           }
          },
          "shapedefaults": {
           "line": {
            "color": "#2a3f5f"
           }
          },
          "ternary": {
           "aaxis": {
            "gridcolor": "white",
            "linecolor": "white",
            "ticks": ""
           },
           "baxis": {
            "gridcolor": "white",
            "linecolor": "white",
            "ticks": ""
           },
           "bgcolor": "#E5ECF6",
           "caxis": {
            "gridcolor": "white",
            "linecolor": "white",
            "ticks": ""
           }
          },
          "title": {
           "x": 0.05
          },
          "xaxis": {
           "automargin": true,
           "gridcolor": "white",
           "linecolor": "white",
           "ticks": "",
           "title": {
            "standoff": 15
           },
           "zerolinecolor": "white",
           "zerolinewidth": 2
          },
          "yaxis": {
           "automargin": true,
           "gridcolor": "white",
           "linecolor": "white",
           "ticks": "",
           "title": {
            "standoff": 15
           },
           "zerolinecolor": "white",
           "zerolinewidth": 2
          }
         }
        },
        "title": {
         "text": "Émissions de CO2 par moyen de transport en fonction de la distance"
        },
        "xaxis": {
         "title": {
          "text": "Distance entre les gares (km)"
         }
        },
        "yaxis": {
         "title": {
          "text": "CO2 émis en fonction de la distance"
         }
        }
       }
      }
     },
     "metadata": {},
     "output_type": "display_data"
    }
   ],
   "source": [
    "def generate_line_chart(emissions_df, log_scale=False):\n",
    "    fig = go.Figure()\n",
    "    # On ajoute les courbes pour chaque moyen de transport\n",
    "    emissions_df = emissions_df.sort_values(by='Distance')\n",
    "    moyens_transport = [\"Autocar\", \"Voiture électrique\", \"Voiture thermique\", \"Avion\"]\n",
    "    \n",
    "    # Solutionn inspirée de https://github.com/plotly/plotly.py/issues/4278 pour afficher l'origine et la destination des trajets dans le hover\n",
    "    # On ajoute une courbe invisible pour chaque moyen de transport, et on change son hovertext pour afficher l'origine et la destination\n",
    "    fig.add_trace(go.Scatter(\n",
    "        x=emissions_df['Distance'], \n",
    "        y=emissions_df['Train'], \n",
    "        opacity=0, \n",
    "        showlegend=False,\n",
    "        hovertext=emissions_df['Origine'] + ' - ' + emissions_df['Destination'],\n",
    "        hovertemplate='<b>%{hovertext}</b><extra></extra>'\n",
    "        ))\n",
    "\n",
    "    # On ajoute les courbes pour les trains, en montrant le transporteur dans le hover\n",
    "    fig.add_trace(go.Scatter(\n",
    "        x=emissions_df['Distance'],\n",
    "        y=emissions_df['Train'],\n",
    "        mode='lines+markers',\n",
    "        name='Train',\n",
    "        connectgaps=True,\n",
    "        hovertext=emissions_df['Transporteur'],\n",
    "        hovertemplate='<b>%{hovertext}</b> : %{y:.2f} kgCO2e <extra></extra>',\n",
    "        marker=dict(color=colors_moyens_de_transport['Train'])\n",
    "    ))\n",
    "    for column in moyens_transport:\n",
    "        fig.add_trace(go.Scatter(\n",
    "            x=emissions_df['Distance'],\n",
    "            y=emissions_df[column],\n",
    "            mode='lines+markers',\n",
    "            name=column,\n",
    "            connectgaps=True,\n",
    "            hovertemplate='%{y:.2f} kgCO2e',\n",
    "            marker=dict(color=colors_moyens_de_transport[column])\n",
    "        ))\n",
    "    \n",
    "    fig.update_layout(\n",
    "        title='Émissions de CO2 par moyen de transport en fonction de la distance',\n",
    "        xaxis_title='Distance entre les gares (km)',\n",
    "        yaxis_title='CO2 émis en fonction de la distance',\n",
    "        legend_title='Moyen de transport',\n",
    "        hovermode='x unified'\n",
    "    )\n",
    "    \n",
    "    if log_scale:\n",
    "        fig.update_layout(title='Émissions de CO2 par moyen de transport en fonction de la distance (échelle logarithmique)')\n",
    "        fig.update_yaxes(\n",
    "            title='CO2 émis en fonction de la distance (échelle logarithmique)', \n",
    "            type=\"log\"\n",
    "    )\n",
    "    \n",
    "    return fig\n",
    "\n",
    "generate_line_chart(emissions,False)    "
   ]
  },
  {
   "cell_type": "code",
   "execution_count": null,
   "metadata": {},
   "outputs": [
    {
     "data": {
      "application/vnd.plotly.v1+json": {
       "config": {
        "plotlyServerURL": "https://plot.ly"
       },
       "data": [
        {
         "marker": {
          "color": "#af2bbf"
         },
         "name": "Train",
         "type": "bar",
         "x": [
          "Intercités",
          "TER",
          "TGV"
         ],
         "xaxis": "x",
         "y": [
          0.007,
          0.024399999999999998,
          0.0029000000000000002
         ],
         "yaxis": "y"
        },
        {
         "marker": {
          "color": "#8770bf"
         },
         "name": "Autocar",
         "type": "bar",
         "x": [
          "Autocar"
         ],
         "xaxis": "x2",
         "y": [
          0.03503020266844051
         ],
         "yaxis": "y2"
        },
        {
         "marker": {
          "color": "#6c91bf"
         },
         "name": "Avion",
         "type": "bar",
         "x": [
          "Avion"
         ],
         "xaxis": "x2",
         "y": [
          0.17047070331634592
         ],
         "yaxis": "y2"
        },
        {
         "marker": {
          "color": "#5fb0b7"
         },
         "name": "Voiture thermique",
         "type": "bar",
         "x": [
          "Voiture thermique"
         ],
         "xaxis": "x2",
         "y": [
          0.10962548919042467
         ],
         "yaxis": "y2"
        },
        {
         "marker": {
          "color": "#5bc8af"
         },
         "name": "Voiture électrique",
         "type": "bar",
         "x": [
          "Voiture électrique"
         ],
         "xaxis": "x2",
         "y": [
          0.0477941240739864
         ],
         "yaxis": "y2"
        }
       ],
       "layout": {
        "annotations": [
         {
          "font": {
           "size": 16
          },
          "showarrow": false,
          "text": "Train",
          "x": 0.1,
          "xanchor": "center",
          "xref": "paper",
          "y": 1,
          "yanchor": "bottom",
          "yref": "paper"
         },
         {
          "font": {
           "size": 16
          },
          "showarrow": false,
          "text": "Autres moyens de transport",
          "x": 0.6,
          "xanchor": "center",
          "xref": "paper",
          "y": 1,
          "yanchor": "bottom",
          "yref": "paper"
         }
        ],
        "barcornerradius": 15,
        "legend": {
         "title": {
          "text": "Moyen de transport"
         }
        },
        "template": {
         "data": {
          "bar": [
           {
            "error_x": {
             "color": "#2a3f5f"
            },
            "error_y": {
             "color": "#2a3f5f"
            },
            "marker": {
             "line": {
              "color": "#E5ECF6",
              "width": 0.5
             },
             "pattern": {
              "fillmode": "overlay",
              "size": 10,
              "solidity": 0.2
             }
            },
            "type": "bar"
           }
          ],
          "barpolar": [
           {
            "marker": {
             "line": {
              "color": "#E5ECF6",
              "width": 0.5
             },
             "pattern": {
              "fillmode": "overlay",
              "size": 10,
              "solidity": 0.2
             }
            },
            "type": "barpolar"
           }
          ],
          "carpet": [
           {
            "aaxis": {
             "endlinecolor": "#2a3f5f",
             "gridcolor": "white",
             "linecolor": "white",
             "minorgridcolor": "white",
             "startlinecolor": "#2a3f5f"
            },
            "baxis": {
             "endlinecolor": "#2a3f5f",
             "gridcolor": "white",
             "linecolor": "white",
             "minorgridcolor": "white",
             "startlinecolor": "#2a3f5f"
            },
            "type": "carpet"
           }
          ],
          "choropleth": [
           {
            "colorbar": {
             "outlinewidth": 0,
             "ticks": ""
            },
            "type": "choropleth"
           }
          ],
          "contour": [
           {
            "colorbar": {
             "outlinewidth": 0,
             "ticks": ""
            },
            "colorscale": [
             [
              0,
              "#0d0887"
             ],
             [
              0.1111111111111111,
              "#46039f"
             ],
             [
              0.2222222222222222,
              "#7201a8"
             ],
             [
              0.3333333333333333,
              "#9c179e"
             ],
             [
              0.4444444444444444,
              "#bd3786"
             ],
             [
              0.5555555555555556,
              "#d8576b"
             ],
             [
              0.6666666666666666,
              "#ed7953"
             ],
             [
              0.7777777777777778,
              "#fb9f3a"
             ],
             [
              0.8888888888888888,
              "#fdca26"
             ],
             [
              1,
              "#f0f921"
             ]
            ],
            "type": "contour"
           }
          ],
          "contourcarpet": [
           {
            "colorbar": {
             "outlinewidth": 0,
             "ticks": ""
            },
            "type": "contourcarpet"
           }
          ],
          "heatmap": [
           {
            "colorbar": {
             "outlinewidth": 0,
             "ticks": ""
            },
            "colorscale": [
             [
              0,
              "#0d0887"
             ],
             [
              0.1111111111111111,
              "#46039f"
             ],
             [
              0.2222222222222222,
              "#7201a8"
             ],
             [
              0.3333333333333333,
              "#9c179e"
             ],
             [
              0.4444444444444444,
              "#bd3786"
             ],
             [
              0.5555555555555556,
              "#d8576b"
             ],
             [
              0.6666666666666666,
              "#ed7953"
             ],
             [
              0.7777777777777778,
              "#fb9f3a"
             ],
             [
              0.8888888888888888,
              "#fdca26"
             ],
             [
              1,
              "#f0f921"
             ]
            ],
            "type": "heatmap"
           }
          ],
          "heatmapgl": [
           {
            "colorbar": {
             "outlinewidth": 0,
             "ticks": ""
            },
            "colorscale": [
             [
              0,
              "#0d0887"
             ],
             [
              0.1111111111111111,
              "#46039f"
             ],
             [
              0.2222222222222222,
              "#7201a8"
             ],
             [
              0.3333333333333333,
              "#9c179e"
             ],
             [
              0.4444444444444444,
              "#bd3786"
             ],
             [
              0.5555555555555556,
              "#d8576b"
             ],
             [
              0.6666666666666666,
              "#ed7953"
             ],
             [
              0.7777777777777778,
              "#fb9f3a"
             ],
             [
              0.8888888888888888,
              "#fdca26"
             ],
             [
              1,
              "#f0f921"
             ]
            ],
            "type": "heatmapgl"
           }
          ],
          "histogram": [
           {
            "marker": {
             "pattern": {
              "fillmode": "overlay",
              "size": 10,
              "solidity": 0.2
             }
            },
            "type": "histogram"
           }
          ],
          "histogram2d": [
           {
            "colorbar": {
             "outlinewidth": 0,
             "ticks": ""
            },
            "colorscale": [
             [
              0,
              "#0d0887"
             ],
             [
              0.1111111111111111,
              "#46039f"
             ],
             [
              0.2222222222222222,
              "#7201a8"
             ],
             [
              0.3333333333333333,
              "#9c179e"
             ],
             [
              0.4444444444444444,
              "#bd3786"
             ],
             [
              0.5555555555555556,
              "#d8576b"
             ],
             [
              0.6666666666666666,
              "#ed7953"
             ],
             [
              0.7777777777777778,
              "#fb9f3a"
             ],
             [
              0.8888888888888888,
              "#fdca26"
             ],
             [
              1,
              "#f0f921"
             ]
            ],
            "type": "histogram2d"
           }
          ],
          "histogram2dcontour": [
           {
            "colorbar": {
             "outlinewidth": 0,
             "ticks": ""
            },
            "colorscale": [
             [
              0,
              "#0d0887"
             ],
             [
              0.1111111111111111,
              "#46039f"
             ],
             [
              0.2222222222222222,
              "#7201a8"
             ],
             [
              0.3333333333333333,
              "#9c179e"
             ],
             [
              0.4444444444444444,
              "#bd3786"
             ],
             [
              0.5555555555555556,
              "#d8576b"
             ],
             [
              0.6666666666666666,
              "#ed7953"
             ],
             [
              0.7777777777777778,
              "#fb9f3a"
             ],
             [
              0.8888888888888888,
              "#fdca26"
             ],
             [
              1,
              "#f0f921"
             ]
            ],
            "type": "histogram2dcontour"
           }
          ],
          "mesh3d": [
           {
            "colorbar": {
             "outlinewidth": 0,
             "ticks": ""
            },
            "type": "mesh3d"
           }
          ],
          "parcoords": [
           {
            "line": {
             "colorbar": {
              "outlinewidth": 0,
              "ticks": ""
             }
            },
            "type": "parcoords"
           }
          ],
          "pie": [
           {
            "automargin": true,
            "type": "pie"
           }
          ],
          "scatter": [
           {
            "fillpattern": {
             "fillmode": "overlay",
             "size": 10,
             "solidity": 0.2
            },
            "type": "scatter"
           }
          ],
          "scatter3d": [
           {
            "line": {
             "colorbar": {
              "outlinewidth": 0,
              "ticks": ""
             }
            },
            "marker": {
             "colorbar": {
              "outlinewidth": 0,
              "ticks": ""
             }
            },
            "type": "scatter3d"
           }
          ],
          "scattercarpet": [
           {
            "marker": {
             "colorbar": {
              "outlinewidth": 0,
              "ticks": ""
             }
            },
            "type": "scattercarpet"
           }
          ],
          "scattergeo": [
           {
            "marker": {
             "colorbar": {
              "outlinewidth": 0,
              "ticks": ""
             }
            },
            "type": "scattergeo"
           }
          ],
          "scattergl": [
           {
            "marker": {
             "colorbar": {
              "outlinewidth": 0,
              "ticks": ""
             }
            },
            "type": "scattergl"
           }
          ],
          "scattermapbox": [
           {
            "marker": {
             "colorbar": {
              "outlinewidth": 0,
              "ticks": ""
             }
            },
            "type": "scattermapbox"
           }
          ],
          "scatterpolar": [
           {
            "marker": {
             "colorbar": {
              "outlinewidth": 0,
              "ticks": ""
             }
            },
            "type": "scatterpolar"
           }
          ],
          "scatterpolargl": [
           {
            "marker": {
             "colorbar": {
              "outlinewidth": 0,
              "ticks": ""
             }
            },
            "type": "scatterpolargl"
           }
          ],
          "scatterternary": [
           {
            "marker": {
             "colorbar": {
              "outlinewidth": 0,
              "ticks": ""
             }
            },
            "type": "scatterternary"
           }
          ],
          "surface": [
           {
            "colorbar": {
             "outlinewidth": 0,
             "ticks": ""
            },
            "colorscale": [
             [
              0,
              "#0d0887"
             ],
             [
              0.1111111111111111,
              "#46039f"
             ],
             [
              0.2222222222222222,
              "#7201a8"
             ],
             [
              0.3333333333333333,
              "#9c179e"
             ],
             [
              0.4444444444444444,
              "#bd3786"
             ],
             [
              0.5555555555555556,
              "#d8576b"
             ],
             [
              0.6666666666666666,
              "#ed7953"
             ],
             [
              0.7777777777777778,
              "#fb9f3a"
             ],
             [
              0.8888888888888888,
              "#fdca26"
             ],
             [
              1,
              "#f0f921"
             ]
            ],
            "type": "surface"
           }
          ],
          "table": [
           {
            "cells": {
             "fill": {
              "color": "#EBF0F8"
             },
             "line": {
              "color": "white"
             }
            },
            "header": {
             "fill": {
              "color": "#C8D4E3"
             },
             "line": {
              "color": "white"
             }
            },
            "type": "table"
           }
          ]
         },
         "layout": {
          "annotationdefaults": {
           "arrowcolor": "#2a3f5f",
           "arrowhead": 0,
           "arrowwidth": 1
          },
          "autotypenumbers": "strict",
          "coloraxis": {
           "colorbar": {
            "outlinewidth": 0,
            "ticks": ""
           }
          },
          "colorscale": {
           "diverging": [
            [
             0,
             "#8e0152"
            ],
            [
             0.1,
             "#c51b7d"
            ],
            [
             0.2,
             "#de77ae"
            ],
            [
             0.3,
             "#f1b6da"
            ],
            [
             0.4,
             "#fde0ef"
            ],
            [
             0.5,
             "#f7f7f7"
            ],
            [
             0.6,
             "#e6f5d0"
            ],
            [
             0.7,
             "#b8e186"
            ],
            [
             0.8,
             "#7fbc41"
            ],
            [
             0.9,
             "#4d9221"
            ],
            [
             1,
             "#276419"
            ]
           ],
           "sequential": [
            [
             0,
             "#0d0887"
            ],
            [
             0.1111111111111111,
             "#46039f"
            ],
            [
             0.2222222222222222,
             "#7201a8"
            ],
            [
             0.3333333333333333,
             "#9c179e"
            ],
            [
             0.4444444444444444,
             "#bd3786"
            ],
            [
             0.5555555555555556,
             "#d8576b"
            ],
            [
             0.6666666666666666,
             "#ed7953"
            ],
            [
             0.7777777777777778,
             "#fb9f3a"
            ],
            [
             0.8888888888888888,
             "#fdca26"
            ],
            [
             1,
             "#f0f921"
            ]
           ],
           "sequentialminus": [
            [
             0,
             "#0d0887"
            ],
            [
             0.1111111111111111,
             "#46039f"
            ],
            [
             0.2222222222222222,
             "#7201a8"
            ],
            [
             0.3333333333333333,
             "#9c179e"
            ],
            [
             0.4444444444444444,
             "#bd3786"
            ],
            [
             0.5555555555555556,
             "#d8576b"
            ],
            [
             0.6666666666666666,
             "#ed7953"
            ],
            [
             0.7777777777777778,
             "#fb9f3a"
            ],
            [
             0.8888888888888888,
             "#fdca26"
            ],
            [
             1,
             "#f0f921"
            ]
           ]
          },
          "colorway": [
           "#636efa",
           "#EF553B",
           "#00cc96",
           "#ab63fa",
           "#FFA15A",
           "#19d3f3",
           "#FF6692",
           "#B6E880",
           "#FF97FF",
           "#FECB52"
          ],
          "font": {
           "color": "#2a3f5f"
          },
          "geo": {
           "bgcolor": "white",
           "lakecolor": "white",
           "landcolor": "#E5ECF6",
           "showlakes": true,
           "showland": true,
           "subunitcolor": "white"
          },
          "hoverlabel": {
           "align": "left"
          },
          "hovermode": "closest",
          "mapbox": {
           "style": "light"
          },
          "paper_bgcolor": "white",
          "plot_bgcolor": "#E5ECF6",
          "polar": {
           "angularaxis": {
            "gridcolor": "white",
            "linecolor": "white",
            "ticks": ""
           },
           "bgcolor": "#E5ECF6",
           "radialaxis": {
            "gridcolor": "white",
            "linecolor": "white",
            "ticks": ""
           }
          },
          "scene": {
           "xaxis": {
            "backgroundcolor": "#E5ECF6",
            "gridcolor": "white",
            "gridwidth": 2,
            "linecolor": "white",
            "showbackground": true,
            "ticks": "",
            "zerolinecolor": "white"
           },
           "yaxis": {
            "backgroundcolor": "#E5ECF6",
            "gridcolor": "white",
            "gridwidth": 2,
            "linecolor": "white",
            "showbackground": true,
            "ticks": "",
            "zerolinecolor": "white"
           },
           "zaxis": {
            "backgroundcolor": "#E5ECF6",
            "gridcolor": "white",
            "gridwidth": 2,
            "linecolor": "white",
            "showbackground": true,
            "ticks": "",
            "zerolinecolor": "white"
           }
          },
          "shapedefaults": {
           "line": {
            "color": "#2a3f5f"
           }
          },
          "ternary": {
           "aaxis": {
            "gridcolor": "white",
            "linecolor": "white",
            "ticks": ""
           },
           "baxis": {
            "gridcolor": "white",
            "linecolor": "white",
            "ticks": ""
           },
           "bgcolor": "#E5ECF6",
           "caxis": {
            "gridcolor": "white",
            "linecolor": "white",
            "ticks": ""
           }
          },
          "title": {
           "x": 0.05
          },
          "xaxis": {
           "automargin": true,
           "gridcolor": "white",
           "linecolor": "white",
           "ticks": "",
           "title": {
            "standoff": 15
           },
           "zerolinecolor": "white",
           "zerolinewidth": 2
          },
          "yaxis": {
           "automargin": true,
           "gridcolor": "white",
           "linecolor": "white",
           "ticks": "",
           "title": {
            "standoff": 15
           },
           "zerolinecolor": "white",
           "zerolinewidth": 2
          }
         }
        },
        "title": {
         "text": "Empreinte carbone moyenne par km pour chaque moyen de transport"
        },
        "xaxis": {
         "anchor": "y",
         "domain": [
          0,
          0.2
         ]
        },
        "xaxis2": {
         "anchor": "y2",
         "domain": [
          0.2,
          1
         ]
        },
        "yaxis": {
         "anchor": "x",
         "domain": [
          0,
          1
         ],
         "title": {
          "text": "Empreinte carbone moyenne (kgCO2e/km)"
         }
        },
        "yaxis2": {
         "anchor": "x2",
         "domain": [
          0,
          1
         ],
         "matches": "y",
         "showticklabels": false
        }
       }
      }
     },
     "metadata": {},
     "output_type": "display_data"
    }
   ],
   "source": [
    "def generate_bar_chart(emissions_df):\n",
    "    emissions_df_reduced = emissions_df[[\"Transporteur\",\"Distance\",\"Train\",\"Autocar\",\"Avion\",\"Voiture électrique\",\"Voiture thermique\"]].copy()\n",
    "    # On divise les émissions par la distance pour obtenir l'empreinte carbone par km\n",
    "    emissions_df_reduced[\"Train\"] = emissions_df_reduced[\"Train\"] / emissions_df_reduced[\"Distance\"]\n",
    "    emissions_df_reduced[\"Autocar\"] = emissions_df_reduced[\"Autocar\"] / emissions_df_reduced[\"Distance\"]\n",
    "    emissions_df_reduced[\"Avion\"] = emissions_df_reduced[\"Avion\"] / emissions_df_reduced[\"Distance\"]\n",
    "    emissions_df_reduced[\"Voiture électrique\"] = emissions_df_reduced[\"Voiture électrique\"] / emissions_df_reduced[\"Distance\"]\n",
    "    emissions_df_reduced[\"Voiture thermique\"] = emissions_df_reduced[\"Voiture thermique\"] / emissions_df_reduced[\"Distance\"]\n",
    "    emissions_df_reduced = emissions_df_reduced.drop(columns=[\"Distance\"])\n",
    "    \n",
    "    emissions_df_reduced = emissions_df_reduced.melt(id_vars=[\"Transporteur\"], var_name=\"Moyen_de_transport\", value_name=\"Empreinte carbone\")\n",
    "    \n",
    "    emissions_df_reduced_train = emissions_df_reduced.query(\"Moyen_de_transport == 'Train'\")\n",
    "    emissions_df_reduced_train = emissions_df_reduced_train[[\"Transporteur\",\"Empreinte carbone\"]].groupby([\"Transporteur\"]).mean().reset_index()\n",
    "    emissions_df_reduced_train = emissions_df_reduced_train.rename(columns={\"Transporteur\":\"Moyen_de_transport\"})\n",
    "    \n",
    "    emissions_df_reduced_other = emissions_df_reduced.query(\"Moyen_de_transport != 'Train'\")\n",
    "    emissions_df_reduced_other = emissions_df_reduced_other[[\"Moyen_de_transport\",\"Empreinte carbone\"]].groupby([\"Moyen_de_transport\"]).mean().reset_index()\n",
    "    \n",
    "    # On doit faire des subplots afin de pouvoir avoir des largeurs de colonnes différentes selon si c'est un train ou un autre moyen de transport\n",
    "    fig = make_subplots(rows=1, cols=2, subplot_titles=[\"Train\", \"Autres moyens de transport\"], shared_yaxes=True, column_widths=[1, 4], horizontal_spacing=0)\n",
    "    fig.add_trace(go.Bar(\n",
    "        x=emissions_df_reduced_train[\"Moyen_de_transport\"],\n",
    "        y=emissions_df_reduced_train[\"Empreinte carbone\"],\n",
    "        name='Train',\n",
    "        marker_color=colors_moyens_de_transport['Train']\n",
    "    ), row=1, col=1)\n",
    "    \n",
    "    for index, row in emissions_df_reduced_other.iterrows():\n",
    "        fig.add_trace(go.Bar(\n",
    "            x=[row[\"Moyen_de_transport\"]],\n",
    "            y=[row[\"Empreinte carbone\"]],\n",
    "            name=row[\"Moyen_de_transport\"],\n",
    "            marker_color=colors_moyens_de_transport[row[\"Moyen_de_transport\"]]\n",
    "        ), row=1, col=2)\n",
    "        \n",
    "    fig.update_layout(\n",
    "        barcornerradius=15,\n",
    "        yaxis_title='Empreinte carbone moyenne (kgCO2e/km)',\n",
    "        legend_title='Moyen de transport',\n",
    "        title='Empreinte carbone moyenne par km pour chaque moyen de transport',\n",
    "    )\n",
    "    \n",
    "    return fig\n",
    "generate_bar_chart(emissions)"
   ]
  }
 ],
 "metadata": {
  "kernelspec": {
   "display_name": "python-data",
   "language": "python",
   "name": "python3"
  },
  "language_info": {
   "codemirror_mode": {
    "name": "ipython",
    "version": 3
   },
   "file_extension": ".py",
   "mimetype": "text/x-python",
   "name": "python",
   "nbconvert_exporter": "python",
   "pygments_lexer": "ipython3",
   "version": "3.12.5"
  }
 },
 "nbformat": 4,
 "nbformat_minor": 2
}
