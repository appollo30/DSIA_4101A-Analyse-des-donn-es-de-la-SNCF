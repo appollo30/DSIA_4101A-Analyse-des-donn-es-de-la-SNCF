{
 "cells": [
  {
   "cell_type": "code",
   "execution_count": 1,
   "id": "c1c943ad",
   "metadata": {},
   "outputs": [],
   "source": [
    "import pandas as pd\n",
    "import numpy as np\n",
    "import geopandas as gpd\n",
    "import plotly.express as px"
   ]
  },
  {
   "cell_type": "markdown",
   "id": "e10f522b",
   "metadata": {},
   "source": [
    "# Merging des fichiers des gares et de leurs fréquentations\n",
    "\n",
    "On charge les fichiers de formes et des vitesses (voir ```4_frequentation_gares.ipynb``` et ```5_liste_gares.ipynb```) "
   ]
  },
  {
   "cell_type": "code",
   "execution_count": 2,
   "id": "993abb4c",
   "metadata": {},
   "outputs": [
    {
     "name": "stdout",
     "output_type": "stream",
     "text": [
      "(27090, 6)\n"
     ]
    },
    {
     "data": {
      "application/vnd.microsoft.datawrangler.viewer.v0+json": {
       "columns": [
        {
         "name": "index",
         "rawType": "int64",
         "type": "integer"
        },
        {
         "name": "code_uic",
         "rawType": "int64",
         "type": "integer"
        },
        {
         "name": "Code postal",
         "rawType": "object",
         "type": "string"
        },
        {
         "name": "Segmentation DRG",
         "rawType": "object",
         "type": "string"
        },
        {
         "name": "Total Voyageurs",
         "rawType": "int64",
         "type": "integer"
        },
        {
         "name": "Total Voyageurs + Non Voyageurs",
         "rawType": "int64",
         "type": "integer"
        },
        {
         "name": "Année",
         "rawType": "object",
         "type": "string"
        }
       ],
       "ref": "5c1d2a04-ce3a-4f9a-b7ea-51a7432acaa4",
       "rows": [
        [
         "0",
         "87313759",
         "60220",
         "C",
         "39720",
         "39720",
         "2015"
        ],
        [
         "1",
         "87313759",
         "60220",
         "C",
         "41096",
         "41096",
         "2016"
        ],
        [
         "2",
         "87313759",
         "60220",
         "C",
         "43760",
         "43760",
         "2017"
        ],
        [
         "3",
         "87313759",
         "60220",
         "C",
         "40228",
         "40228",
         "2018"
        ],
        [
         "4",
         "87313759",
         "60220",
         "C",
         "42685",
         "42685",
         "2019"
        ]
       ],
       "shape": {
        "columns": 6,
        "rows": 5
       }
      },
      "text/html": [
       "<div>\n",
       "<style scoped>\n",
       "    .dataframe tbody tr th:only-of-type {\n",
       "        vertical-align: middle;\n",
       "    }\n",
       "\n",
       "    .dataframe tbody tr th {\n",
       "        vertical-align: top;\n",
       "    }\n",
       "\n",
       "    .dataframe thead th {\n",
       "        text-align: right;\n",
       "    }\n",
       "</style>\n",
       "<table border=\"1\" class=\"dataframe\">\n",
       "  <thead>\n",
       "    <tr style=\"text-align: right;\">\n",
       "      <th></th>\n",
       "      <th>code_uic</th>\n",
       "      <th>Code postal</th>\n",
       "      <th>Segmentation DRG</th>\n",
       "      <th>Total Voyageurs</th>\n",
       "      <th>Total Voyageurs + Non Voyageurs</th>\n",
       "      <th>Année</th>\n",
       "    </tr>\n",
       "  </thead>\n",
       "  <tbody>\n",
       "    <tr>\n",
       "      <th>0</th>\n",
       "      <td>87313759</td>\n",
       "      <td>60220</td>\n",
       "      <td>C</td>\n",
       "      <td>39720</td>\n",
       "      <td>39720</td>\n",
       "      <td>2015</td>\n",
       "    </tr>\n",
       "    <tr>\n",
       "      <th>1</th>\n",
       "      <td>87313759</td>\n",
       "      <td>60220</td>\n",
       "      <td>C</td>\n",
       "      <td>41096</td>\n",
       "      <td>41096</td>\n",
       "      <td>2016</td>\n",
       "    </tr>\n",
       "    <tr>\n",
       "      <th>2</th>\n",
       "      <td>87313759</td>\n",
       "      <td>60220</td>\n",
       "      <td>C</td>\n",
       "      <td>43760</td>\n",
       "      <td>43760</td>\n",
       "      <td>2017</td>\n",
       "    </tr>\n",
       "    <tr>\n",
       "      <th>3</th>\n",
       "      <td>87313759</td>\n",
       "      <td>60220</td>\n",
       "      <td>C</td>\n",
       "      <td>40228</td>\n",
       "      <td>40228</td>\n",
       "      <td>2018</td>\n",
       "    </tr>\n",
       "    <tr>\n",
       "      <th>4</th>\n",
       "      <td>87313759</td>\n",
       "      <td>60220</td>\n",
       "      <td>C</td>\n",
       "      <td>42685</td>\n",
       "      <td>42685</td>\n",
       "      <td>2019</td>\n",
       "    </tr>\n",
       "  </tbody>\n",
       "</table>\n",
       "</div>"
      ],
      "text/plain": [
       "   code_uic Code postal Segmentation DRG  Total Voyageurs  \\\n",
       "0  87313759       60220                C            39720   \n",
       "1  87313759       60220                C            41096   \n",
       "2  87313759       60220                C            43760   \n",
       "3  87313759       60220                C            40228   \n",
       "4  87313759       60220                C            42685   \n",
       "\n",
       "   Total Voyageurs + Non Voyageurs Année  \n",
       "0                            39720  2015  \n",
       "1                            41096  2016  \n",
       "2                            43760  2017  \n",
       "3                            40228  2018  \n",
       "4                            42685  2019  "
      ]
     },
     "execution_count": 2,
     "metadata": {},
     "output_type": "execute_result"
    }
   ],
   "source": [
    "def process_frequentations(frequentations_df : pd.DataFrame) -> pd.DataFrame:\n",
    "    \"\"\"\n",
    "    Voir notebooks/4_frequentation_gares.ipynb\n",
    "    Traitement des données de frequentation-gares.csv\n",
    "    \n",
    "    La transformation consiste à passer d'un format large, où chaque année est une colonne distincte, \n",
    "    à un format long, où chaque année est une ligne distincte. Cela facilite les comparaisons et l'analyse \n",
    "    des données sur plusieurs années.\n",
    "    \n",
    "    Args:\n",
    "        frequentations_df (pd.DataFrame): DataFrame contenant les données de frequentation-gares.csv\n",
    "    Returns:\n",
    "        pd.DataFrame: Dataframe traitée.\n",
    "    \"\"\"\n",
    "    years = [str(year) for year in range(2015, 2024)]\n",
    "    frequentations_df_processed = pd.DataFrame()\n",
    "    for year in years:\n",
    "        year_df = frequentations_df[[\"Nom de la gare\", \"Code UIC\", \"Code postal\", \"Segmentation DRG\", f\"Total Voyageurs {year}\", f\"Total Voyageurs + Non voyageurs {year}\"]]\n",
    "        year_df = year_df.assign(Année=year) # On peut faire year_df[\"Année\"] = year mais c'est moins propre, on a le warning SettingWithCopyWarning.\n",
    "        year_df = year_df.rename(columns={f\"Total Voyageurs {year}\":\"Total Voyageurs\", f\"Total Voyageurs + Non voyageurs {year}\":\"Total Voyageurs + Non Voyageurs\"})\n",
    "        frequentations_df_processed = pd.concat([frequentations_df_processed, year_df])\n",
    "    frequentations_df_processed = frequentations_df_processed.sort_values(by=[\"Nom de la gare\", \"Année\"]) # On trie par nom de gare et année pour avoir un affichage plus lisible\n",
    "    frequentations_df_processed = frequentations_df_processed.rename(columns={\"Code UIC\":\"code_uic\"}) # On renomme la colonne \"Code UIC\" en \"code_uic\" pour correspondre à liste-des-gares.geojson\n",
    "    frequentations_df_processed[\"Code postal\"] = frequentations_df_processed[\"Code postal\"].astype(str) # On convertit le code postal en chaîne de caractères pour éviter les problèmes de formatage\n",
    "    frequentations_df_processed = frequentations_df_processed.drop(columns=[\"Nom de la gare\"])\n",
    "    frequentations_df_processed = frequentations_df_processed.reset_index(drop=True)\n",
    "    return frequentations_df_processed\n",
    "\n",
    "frequentations = pd.read_csv('../data/raw/frequentation-gares.csv', sep=';')\n",
    "frequentations_processed = process_frequentations(frequentations)\n",
    "print(frequentations_processed.shape)\n",
    "frequentations_processed.head()"
   ]
  },
  {
   "cell_type": "code",
   "execution_count": 3,
   "id": "08aa21c7",
   "metadata": {},
   "outputs": [
    {
     "name": "stdout",
     "output_type": "stream",
     "text": [
      "(2974, 5)\n"
     ]
    },
    {
     "data": {
      "text/html": [
       "<div>\n",
       "<style scoped>\n",
       "    .dataframe tbody tr th:only-of-type {\n",
       "        vertical-align: middle;\n",
       "    }\n",
       "\n",
       "    .dataframe tbody tr th {\n",
       "        vertical-align: top;\n",
       "    }\n",
       "\n",
       "    .dataframe thead th {\n",
       "        text-align: right;\n",
       "    }\n",
       "</style>\n",
       "<table border=\"1\" class=\"dataframe\">\n",
       "  <thead>\n",
       "    <tr style=\"text-align: right;\">\n",
       "      <th></th>\n",
       "      <th>code_uic</th>\n",
       "      <th>libelle</th>\n",
       "      <th>fret</th>\n",
       "      <th>code_ligne</th>\n",
       "      <th>geometry</th>\n",
       "    </tr>\n",
       "  </thead>\n",
       "  <tbody>\n",
       "    <tr>\n",
       "      <th>0</th>\n",
       "      <td>87009696</td>\n",
       "      <td>La Douzillère</td>\n",
       "      <td>False</td>\n",
       "      <td>594000</td>\n",
       "      <td>POINT (0.653 47.33866)</td>\n",
       "    </tr>\n",
       "    <tr>\n",
       "      <th>1</th>\n",
       "      <td>87382218</td>\n",
       "      <td>La Défense</td>\n",
       "      <td>False</td>\n",
       "      <td>973000</td>\n",
       "      <td>POINT (2.23847 48.89344)</td>\n",
       "    </tr>\n",
       "    <tr>\n",
       "      <th>2</th>\n",
       "      <td>87718122</td>\n",
       "      <td>Byans</td>\n",
       "      <td>False</td>\n",
       "      <td>871000</td>\n",
       "      <td>POINT (5.85209 47.11833)</td>\n",
       "    </tr>\n",
       "    <tr>\n",
       "      <th>3</th>\n",
       "      <td>87721829</td>\n",
       "      <td>Chamelet</td>\n",
       "      <td>False</td>\n",
       "      <td>775000</td>\n",
       "      <td>POINT (4.50702 45.98167)</td>\n",
       "    </tr>\n",
       "    <tr>\n",
       "      <th>4</th>\n",
       "      <td>87471060</td>\n",
       "      <td>L'Hermitage-Mordelles</td>\n",
       "      <td>True</td>\n",
       "      <td>420000</td>\n",
       "      <td>POINT (-1.81921 48.12334)</td>\n",
       "    </tr>\n",
       "  </tbody>\n",
       "</table>\n",
       "</div>"
      ],
      "text/plain": [
       "   code_uic                libelle   fret code_ligne  \\\n",
       "0  87009696          La Douzillère  False     594000   \n",
       "1  87382218             La Défense  False     973000   \n",
       "2  87718122                  Byans  False     871000   \n",
       "3  87721829               Chamelet  False     775000   \n",
       "4  87471060  L'Hermitage-Mordelles   True     420000   \n",
       "\n",
       "                    geometry  \n",
       "0     POINT (0.653 47.33866)  \n",
       "1   POINT (2.23847 48.89344)  \n",
       "2   POINT (5.85209 47.11833)  \n",
       "3   POINT (4.50702 45.98167)  \n",
       "4  POINT (-1.81921 48.12334)  "
      ]
     },
     "execution_count": 3,
     "metadata": {},
     "output_type": "execute_result"
    }
   ],
   "source": [
    "def process_gares(gares_df : pd.DataFrame) -> pd.DataFrame:\n",
    "    \"\"\"\n",
    "    Voir notebooks/5_liste_gares.ipynb\n",
    "    Traitement des données de liste-des-gares.geojson\n",
    "    On ne garde que les gares qui sont ouvertes aux voyageurs et qui sont exploitées par la SNCF.\n",
    "    \n",
    "    Args:\n",
    "        gares_df (pd.DataFrame): DataFrame contenant les données de liste-des-gares.geojson\n",
    "    Returns:\n",
    "        pd.DataFrame: Dataframe traitée.\n",
    "    \"\"\"\n",
    "    gares_processed_df = gares_df.query(\"voyageurs == 'O'\")\n",
    "    gares_processed_df = gares_processed_df.drop(columns=[\"voyageurs\"])\n",
    "    gares_processed_df = gares_processed_df.reset_index(drop=True)\n",
    "    gares_processed_df[\"fret\"] = gares_processed_df[\"fret\"].apply(lambda x: x == \"O\") # Par défaut, la colonne fret est un object, on la convertit en booléen\n",
    "    # fret contient des valeurs \"O\" et \"N\", on les remplace par True et False\n",
    "\n",
    "    # On ne garde que les colonnes qui nous intéressent\n",
    "    relevant_columns = [\"code_uic\", \"libelle\", \"fret\", \"code_ligne\", \"geometry\"]\n",
    "    gares_processed_df = gares_processed_df[relevant_columns].copy() # On garde une copie pour éviter de modifier l'original\n",
    "    gares_processed_df = gares_processed_df.drop_duplicates(subset=[\"code_uic\"]) # On supprime les doublons sur le code UIC, car il y a parfois plusieurs lignes pour une même gare\n",
    "    gares_processed_df[\"code_uic\"] = gares_processed_df[\"code_uic\"].astype(\"Int64\") # On convertit le code UIC en entier pour éviter les problèmes de type\n",
    "    return gares_processed_df\n",
    "\n",
    "gares = gpd.read_file('../data/raw/liste-des-gares.geojson')\n",
    "gares_processed = process_gares(gares)\n",
    "print(gares_processed.shape)\n",
    "gares_processed.head()"
   ]
  },
  {
   "cell_type": "markdown",
   "id": "e56c1327",
   "metadata": {},
   "source": [
    "## Merging des gares et de leurs fréquentations"
   ]
  },
  {
   "cell_type": "code",
   "execution_count": 4,
   "id": "ebd2a712",
   "metadata": {},
   "outputs": [
    {
     "name": "stdout",
     "output_type": "stream",
     "text": [
      "(26438, 10)\n"
     ]
    },
    {
     "data": {
      "text/html": [
       "<div>\n",
       "<style scoped>\n",
       "    .dataframe tbody tr th:only-of-type {\n",
       "        vertical-align: middle;\n",
       "    }\n",
       "\n",
       "    .dataframe tbody tr th {\n",
       "        vertical-align: top;\n",
       "    }\n",
       "\n",
       "    .dataframe thead th {\n",
       "        text-align: right;\n",
       "    }\n",
       "</style>\n",
       "<table border=\"1\" class=\"dataframe\">\n",
       "  <thead>\n",
       "    <tr style=\"text-align: right;\">\n",
       "      <th></th>\n",
       "      <th>code_uic</th>\n",
       "      <th>libelle</th>\n",
       "      <th>fret</th>\n",
       "      <th>code_ligne</th>\n",
       "      <th>geometry</th>\n",
       "      <th>code_postal</th>\n",
       "      <th>Segmentation DRG</th>\n",
       "      <th>Total Voyageurs</th>\n",
       "      <th>Total Voyageurs + Non Voyageurs</th>\n",
       "      <th>Année</th>\n",
       "    </tr>\n",
       "  </thead>\n",
       "  <tbody>\n",
       "    <tr>\n",
       "      <th>0</th>\n",
       "      <td>87009696</td>\n",
       "      <td>La Douzillère</td>\n",
       "      <td>False</td>\n",
       "      <td>594000</td>\n",
       "      <td>POINT (0.653 47.33866)</td>\n",
       "      <td>37300</td>\n",
       "      <td>C</td>\n",
       "      <td>17749.0</td>\n",
       "      <td>17749.0</td>\n",
       "      <td>2015</td>\n",
       "    </tr>\n",
       "    <tr>\n",
       "      <th>1</th>\n",
       "      <td>87009696</td>\n",
       "      <td>La Douzillère</td>\n",
       "      <td>False</td>\n",
       "      <td>594000</td>\n",
       "      <td>POINT (0.653 47.33866)</td>\n",
       "      <td>37300</td>\n",
       "      <td>C</td>\n",
       "      <td>13502.0</td>\n",
       "      <td>13502.0</td>\n",
       "      <td>2016</td>\n",
       "    </tr>\n",
       "    <tr>\n",
       "      <th>2</th>\n",
       "      <td>87009696</td>\n",
       "      <td>La Douzillère</td>\n",
       "      <td>False</td>\n",
       "      <td>594000</td>\n",
       "      <td>POINT (0.653 47.33866)</td>\n",
       "      <td>37300</td>\n",
       "      <td>C</td>\n",
       "      <td>11507.0</td>\n",
       "      <td>11507.0</td>\n",
       "      <td>2017</td>\n",
       "    </tr>\n",
       "    <tr>\n",
       "      <th>3</th>\n",
       "      <td>87009696</td>\n",
       "      <td>La Douzillère</td>\n",
       "      <td>False</td>\n",
       "      <td>594000</td>\n",
       "      <td>POINT (0.653 47.33866)</td>\n",
       "      <td>37300</td>\n",
       "      <td>C</td>\n",
       "      <td>11104.0</td>\n",
       "      <td>11104.0</td>\n",
       "      <td>2018</td>\n",
       "    </tr>\n",
       "    <tr>\n",
       "      <th>4</th>\n",
       "      <td>87009696</td>\n",
       "      <td>La Douzillère</td>\n",
       "      <td>False</td>\n",
       "      <td>594000</td>\n",
       "      <td>POINT (0.653 47.33866)</td>\n",
       "      <td>37300</td>\n",
       "      <td>C</td>\n",
       "      <td>10886.0</td>\n",
       "      <td>10886.0</td>\n",
       "      <td>2019</td>\n",
       "    </tr>\n",
       "  </tbody>\n",
       "</table>\n",
       "</div>"
      ],
      "text/plain": [
       "   code_uic        libelle   fret code_ligne                geometry  \\\n",
       "0  87009696  La Douzillère  False     594000  POINT (0.653 47.33866)   \n",
       "1  87009696  La Douzillère  False     594000  POINT (0.653 47.33866)   \n",
       "2  87009696  La Douzillère  False     594000  POINT (0.653 47.33866)   \n",
       "3  87009696  La Douzillère  False     594000  POINT (0.653 47.33866)   \n",
       "4  87009696  La Douzillère  False     594000  POINT (0.653 47.33866)   \n",
       "\n",
       "   code_postal Segmentation DRG  Total Voyageurs  \\\n",
       "0        37300                C          17749.0   \n",
       "1        37300                C          13502.0   \n",
       "2        37300                C          11507.0   \n",
       "3        37300                C          11104.0   \n",
       "4        37300                C          10886.0   \n",
       "\n",
       "   Total Voyageurs + Non Voyageurs Année  \n",
       "0                          17749.0  2015  \n",
       "1                          13502.0  2016  \n",
       "2                          11507.0  2017  \n",
       "3                          11104.0  2018  \n",
       "4                          10886.0  2019  "
      ]
     },
     "execution_count": 4,
     "metadata": {},
     "output_type": "execute_result"
    }
   ],
   "source": [
    "def merge_gares_frequentations(gares_df : pd.DataFrame, frequentations_df : pd.DataFrame) -> gpd.GeoDataFrame:\n",
    "    merged_df = gares_df.merge(frequentations_df, on=\"code_uic\", how=\"left\") \n",
    "    merged_df = merged_df.rename(columns={\"Code postal\":\"code_postal\"})\n",
    "    merged_df[\"code_postal\"] = merged_df[\"code_postal\"].astype(\"Int64\") # On convertit le code postal en entier pour éviter les problèmes de type\n",
    "    merged_df = gpd.GeoDataFrame(merged_df, geometry=merged_df.geometry) # On convertit le DataFrame en GeoDataFrame\n",
    "    return merged_df\n",
    "\n",
    "gares_frequentations = merge_gares_frequentations(gares_processed, frequentations_processed)\n",
    "print(gares_frequentations.shape)\n",
    "gares_frequentations.head()    "
   ]
  },
  {
   "cell_type": "markdown",
   "id": "41331941",
   "metadata": {},
   "source": [
    "## Communes de France\n",
    "\n",
    "On aimerait également utiliser la liste des communes de france et leur population pour exploiter les différences entre la fréquentation des gares et la population des communes. Les fichiers contenant ces données sont ```20230823-communes-departement-region.csv``` et ```insee-pop-communes.csv```.\n",
    "On va donc les charger et les fusionner avec le fichier des gares et des fréquentations."
   ]
  },
  {
   "cell_type": "code",
   "execution_count": 5,
   "id": "79c14c06",
   "metadata": {},
   "outputs": [
    {
     "name": "stdout",
     "output_type": "stream",
     "text": [
      "(39201, 15)\n"
     ]
    },
    {
     "data": {
      "application/vnd.microsoft.datawrangler.viewer.v0+json": {
       "columns": [
        {
         "name": "index",
         "rawType": "int64",
         "type": "integer"
        },
        {
         "name": "code_commune_INSEE",
         "rawType": "object",
         "type": "string"
        },
        {
         "name": "nom_commune_postal",
         "rawType": "object",
         "type": "string"
        },
        {
         "name": "code_postal",
         "rawType": "int64",
         "type": "integer"
        },
        {
         "name": "libelle_acheminement",
         "rawType": "object",
         "type": "string"
        },
        {
         "name": "ligne_5",
         "rawType": "object",
         "type": "unknown"
        },
        {
         "name": "latitude",
         "rawType": "float64",
         "type": "float"
        },
        {
         "name": "longitude",
         "rawType": "float64",
         "type": "float"
        },
        {
         "name": "code_commune",
         "rawType": "float64",
         "type": "float"
        },
        {
         "name": "article",
         "rawType": "object",
         "type": "unknown"
        },
        {
         "name": "nom_commune",
         "rawType": "object",
         "type": "string"
        },
        {
         "name": "nom_commune_complet",
         "rawType": "object",
         "type": "string"
        },
        {
         "name": "code_departement",
         "rawType": "object",
         "type": "string"
        },
        {
         "name": "nom_departement",
         "rawType": "object",
         "type": "string"
        },
        {
         "name": "code_region",
         "rawType": "float64",
         "type": "float"
        },
        {
         "name": "nom_region",
         "rawType": "object",
         "type": "string"
        }
       ],
       "ref": "572a1ad7-1e76-4344-b083-04b922ec888d",
       "rows": [
        [
         "0",
         "1001",
         "L ABERGEMENT CLEMENCIAT",
         "1400",
         "L ABERGEMENT CLEMENCIAT",
         null,
         "46.1534255214",
         "4.92611354223",
         "1.0",
         "L'",
         "Abergement-Clémenciat",
         "L'Abergement-Clémenciat",
         "1",
         "Ain",
         "84.0",
         "Auvergne-Rhône-Alpes"
        ],
        [
         "1",
         "1002",
         "L ABERGEMENT DE VAREY",
         "1640",
         "L ABERGEMENT DE VAREY",
         null,
         "46.0091878776",
         "5.42801696363",
         "2.0",
         "L'",
         "Abergement-de-Varey",
         "L'Abergement-de-Varey",
         "1",
         "Ain",
         "84.0",
         "Auvergne-Rhône-Alpes"
        ],
        [
         "2",
         "1004",
         "AMBERIEU EN BUGEY",
         "1500",
         "AMBERIEU EN BUGEY",
         null,
         "45.9608475114",
         "5.3729257777",
         "4.0",
         null,
         "Ambérieu-en-Bugey",
         "Ambérieu-en-Bugey",
         "1",
         "Ain",
         "84.0",
         "Auvergne-Rhône-Alpes"
        ],
        [
         "3",
         "1005",
         "AMBERIEUX EN DOMBES",
         "1330",
         "AMBERIEUX EN DOMBES",
         null,
         "45.9961799872",
         "4.91227250796",
         "5.0",
         null,
         "Ambérieux-en-Dombes",
         "Ambérieux-en-Dombes",
         "1",
         "Ain",
         "84.0",
         "Auvergne-Rhône-Alpes"
        ],
        [
         "4",
         "1006",
         "AMBLEON",
         "1300",
         "AMBLEON",
         null,
         "45.7494989044",
         "5.59432017366",
         "6.0",
         null,
         "Ambléon",
         "Ambléon",
         "1",
         "Ain",
         "84.0",
         "Auvergne-Rhône-Alpes"
        ]
       ],
       "shape": {
        "columns": 15,
        "rows": 5
       }
      },
      "text/html": [
       "<div>\n",
       "<style scoped>\n",
       "    .dataframe tbody tr th:only-of-type {\n",
       "        vertical-align: middle;\n",
       "    }\n",
       "\n",
       "    .dataframe tbody tr th {\n",
       "        vertical-align: top;\n",
       "    }\n",
       "\n",
       "    .dataframe thead th {\n",
       "        text-align: right;\n",
       "    }\n",
       "</style>\n",
       "<table border=\"1\" class=\"dataframe\">\n",
       "  <thead>\n",
       "    <tr style=\"text-align: right;\">\n",
       "      <th></th>\n",
       "      <th>code_commune_INSEE</th>\n",
       "      <th>nom_commune_postal</th>\n",
       "      <th>code_postal</th>\n",
       "      <th>libelle_acheminement</th>\n",
       "      <th>ligne_5</th>\n",
       "      <th>latitude</th>\n",
       "      <th>longitude</th>\n",
       "      <th>code_commune</th>\n",
       "      <th>article</th>\n",
       "      <th>nom_commune</th>\n",
       "      <th>nom_commune_complet</th>\n",
       "      <th>code_departement</th>\n",
       "      <th>nom_departement</th>\n",
       "      <th>code_region</th>\n",
       "      <th>nom_region</th>\n",
       "    </tr>\n",
       "  </thead>\n",
       "  <tbody>\n",
       "    <tr>\n",
       "      <th>0</th>\n",
       "      <td>1001</td>\n",
       "      <td>L ABERGEMENT CLEMENCIAT</td>\n",
       "      <td>1400</td>\n",
       "      <td>L ABERGEMENT CLEMENCIAT</td>\n",
       "      <td>NaN</td>\n",
       "      <td>46.153426</td>\n",
       "      <td>4.926114</td>\n",
       "      <td>1.0</td>\n",
       "      <td>L'</td>\n",
       "      <td>Abergement-Clémenciat</td>\n",
       "      <td>L'Abergement-Clémenciat</td>\n",
       "      <td>1</td>\n",
       "      <td>Ain</td>\n",
       "      <td>84.0</td>\n",
       "      <td>Auvergne-Rhône-Alpes</td>\n",
       "    </tr>\n",
       "    <tr>\n",
       "      <th>1</th>\n",
       "      <td>1002</td>\n",
       "      <td>L ABERGEMENT DE VAREY</td>\n",
       "      <td>1640</td>\n",
       "      <td>L ABERGEMENT DE VAREY</td>\n",
       "      <td>NaN</td>\n",
       "      <td>46.009188</td>\n",
       "      <td>5.428017</td>\n",
       "      <td>2.0</td>\n",
       "      <td>L'</td>\n",
       "      <td>Abergement-de-Varey</td>\n",
       "      <td>L'Abergement-de-Varey</td>\n",
       "      <td>1</td>\n",
       "      <td>Ain</td>\n",
       "      <td>84.0</td>\n",
       "      <td>Auvergne-Rhône-Alpes</td>\n",
       "    </tr>\n",
       "    <tr>\n",
       "      <th>2</th>\n",
       "      <td>1004</td>\n",
       "      <td>AMBERIEU EN BUGEY</td>\n",
       "      <td>1500</td>\n",
       "      <td>AMBERIEU EN BUGEY</td>\n",
       "      <td>NaN</td>\n",
       "      <td>45.960848</td>\n",
       "      <td>5.372926</td>\n",
       "      <td>4.0</td>\n",
       "      <td>NaN</td>\n",
       "      <td>Ambérieu-en-Bugey</td>\n",
       "      <td>Ambérieu-en-Bugey</td>\n",
       "      <td>1</td>\n",
       "      <td>Ain</td>\n",
       "      <td>84.0</td>\n",
       "      <td>Auvergne-Rhône-Alpes</td>\n",
       "    </tr>\n",
       "    <tr>\n",
       "      <th>3</th>\n",
       "      <td>1005</td>\n",
       "      <td>AMBERIEUX EN DOMBES</td>\n",
       "      <td>1330</td>\n",
       "      <td>AMBERIEUX EN DOMBES</td>\n",
       "      <td>NaN</td>\n",
       "      <td>45.996180</td>\n",
       "      <td>4.912273</td>\n",
       "      <td>5.0</td>\n",
       "      <td>NaN</td>\n",
       "      <td>Ambérieux-en-Dombes</td>\n",
       "      <td>Ambérieux-en-Dombes</td>\n",
       "      <td>1</td>\n",
       "      <td>Ain</td>\n",
       "      <td>84.0</td>\n",
       "      <td>Auvergne-Rhône-Alpes</td>\n",
       "    </tr>\n",
       "    <tr>\n",
       "      <th>4</th>\n",
       "      <td>1006</td>\n",
       "      <td>AMBLEON</td>\n",
       "      <td>1300</td>\n",
       "      <td>AMBLEON</td>\n",
       "      <td>NaN</td>\n",
       "      <td>45.749499</td>\n",
       "      <td>5.594320</td>\n",
       "      <td>6.0</td>\n",
       "      <td>NaN</td>\n",
       "      <td>Ambléon</td>\n",
       "      <td>Ambléon</td>\n",
       "      <td>1</td>\n",
       "      <td>Ain</td>\n",
       "      <td>84.0</td>\n",
       "      <td>Auvergne-Rhône-Alpes</td>\n",
       "    </tr>\n",
       "  </tbody>\n",
       "</table>\n",
       "</div>"
      ],
      "text/plain": [
       "  code_commune_INSEE       nom_commune_postal  code_postal  \\\n",
       "0               1001  L ABERGEMENT CLEMENCIAT         1400   \n",
       "1               1002    L ABERGEMENT DE VAREY         1640   \n",
       "2               1004        AMBERIEU EN BUGEY         1500   \n",
       "3               1005      AMBERIEUX EN DOMBES         1330   \n",
       "4               1006                  AMBLEON         1300   \n",
       "\n",
       "      libelle_acheminement ligne_5   latitude  longitude  code_commune  \\\n",
       "0  L ABERGEMENT CLEMENCIAT     NaN  46.153426   4.926114           1.0   \n",
       "1    L ABERGEMENT DE VAREY     NaN  46.009188   5.428017           2.0   \n",
       "2        AMBERIEU EN BUGEY     NaN  45.960848   5.372926           4.0   \n",
       "3      AMBERIEUX EN DOMBES     NaN  45.996180   4.912273           5.0   \n",
       "4                  AMBLEON     NaN  45.749499   5.594320           6.0   \n",
       "\n",
       "  article            nom_commune      nom_commune_complet code_departement  \\\n",
       "0      L'  Abergement-Clémenciat  L'Abergement-Clémenciat                1   \n",
       "1      L'    Abergement-de-Varey    L'Abergement-de-Varey                1   \n",
       "2     NaN      Ambérieu-en-Bugey        Ambérieu-en-Bugey                1   \n",
       "3     NaN    Ambérieux-en-Dombes      Ambérieux-en-Dombes                1   \n",
       "4     NaN                Ambléon                  Ambléon                1   \n",
       "\n",
       "  nom_departement  code_region            nom_region  \n",
       "0             Ain         84.0  Auvergne-Rhône-Alpes  \n",
       "1             Ain         84.0  Auvergne-Rhône-Alpes  \n",
       "2             Ain         84.0  Auvergne-Rhône-Alpes  \n",
       "3             Ain         84.0  Auvergne-Rhône-Alpes  \n",
       "4             Ain         84.0  Auvergne-Rhône-Alpes  "
      ]
     },
     "execution_count": 5,
     "metadata": {},
     "output_type": "execute_result"
    }
   ],
   "source": [
    "communes = pd.read_csv('../data/raw/20230823-communes-departement-region.csv')\n",
    "print(communes.shape)\n",
    "communes.head()"
   ]
  },
  {
   "cell_type": "code",
   "execution_count": 6,
   "id": "138a4de7",
   "metadata": {},
   "outputs": [
    {
     "name": "stdout",
     "output_type": "stream",
     "text": [
      "(34995, 5)\n"
     ]
    },
    {
     "data": {
      "application/vnd.microsoft.datawrangler.viewer.v0+json": {
       "columns": [
        {
         "name": "index",
         "rawType": "int64",
         "type": "integer"
        },
        {
         "name": "DEPCOM",
         "rawType": "object",
         "type": "string"
        },
        {
         "name": "COM",
         "rawType": "object",
         "type": "string"
        },
        {
         "name": "PMUN",
         "rawType": "int64",
         "type": "integer"
        },
        {
         "name": "PCAP",
         "rawType": "int64",
         "type": "integer"
        },
        {
         "name": "PTOT",
         "rawType": "int64",
         "type": "integer"
        }
       ],
       "ref": "57701526-2dcc-4bd8-9ef7-1d246948a276",
       "rows": [
        [
         "0",
         "01001",
         "L' Abergement-Clémenciat",
         "776",
         "18",
         "794"
        ],
        [
         "1",
         "01002",
         "L' Abergement-de-Varey",
         "248",
         "1",
         "249"
        ],
        [
         "2",
         "01004",
         "Ambérieu-en-Bugey",
         "14035",
         "393",
         "14428"
        ],
        [
         "3",
         "01005",
         "Ambérieux-en-Dombes",
         "1689",
         "34",
         "1723"
        ],
        [
         "4",
         "01006",
         "Ambléon",
         "111",
         "6",
         "117"
        ]
       ],
       "shape": {
        "columns": 5,
        "rows": 5
       }
      },
      "text/html": [
       "<div>\n",
       "<style scoped>\n",
       "    .dataframe tbody tr th:only-of-type {\n",
       "        vertical-align: middle;\n",
       "    }\n",
       "\n",
       "    .dataframe tbody tr th {\n",
       "        vertical-align: top;\n",
       "    }\n",
       "\n",
       "    .dataframe thead th {\n",
       "        text-align: right;\n",
       "    }\n",
       "</style>\n",
       "<table border=\"1\" class=\"dataframe\">\n",
       "  <thead>\n",
       "    <tr style=\"text-align: right;\">\n",
       "      <th></th>\n",
       "      <th>DEPCOM</th>\n",
       "      <th>COM</th>\n",
       "      <th>PMUN</th>\n",
       "      <th>PCAP</th>\n",
       "      <th>PTOT</th>\n",
       "    </tr>\n",
       "  </thead>\n",
       "  <tbody>\n",
       "    <tr>\n",
       "      <th>0</th>\n",
       "      <td>01001</td>\n",
       "      <td>L' Abergement-Clémenciat</td>\n",
       "      <td>776</td>\n",
       "      <td>18</td>\n",
       "      <td>794</td>\n",
       "    </tr>\n",
       "    <tr>\n",
       "      <th>1</th>\n",
       "      <td>01002</td>\n",
       "      <td>L' Abergement-de-Varey</td>\n",
       "      <td>248</td>\n",
       "      <td>1</td>\n",
       "      <td>249</td>\n",
       "    </tr>\n",
       "    <tr>\n",
       "      <th>2</th>\n",
       "      <td>01004</td>\n",
       "      <td>Ambérieu-en-Bugey</td>\n",
       "      <td>14035</td>\n",
       "      <td>393</td>\n",
       "      <td>14428</td>\n",
       "    </tr>\n",
       "    <tr>\n",
       "      <th>3</th>\n",
       "      <td>01005</td>\n",
       "      <td>Ambérieux-en-Dombes</td>\n",
       "      <td>1689</td>\n",
       "      <td>34</td>\n",
       "      <td>1723</td>\n",
       "    </tr>\n",
       "    <tr>\n",
       "      <th>4</th>\n",
       "      <td>01006</td>\n",
       "      <td>Ambléon</td>\n",
       "      <td>111</td>\n",
       "      <td>6</td>\n",
       "      <td>117</td>\n",
       "    </tr>\n",
       "  </tbody>\n",
       "</table>\n",
       "</div>"
      ],
      "text/plain": [
       "  DEPCOM                       COM   PMUN  PCAP   PTOT\n",
       "0  01001  L' Abergement-Clémenciat    776    18    794\n",
       "1  01002    L' Abergement-de-Varey    248     1    249\n",
       "2  01004         Ambérieu-en-Bugey  14035   393  14428\n",
       "3  01005       Ambérieux-en-Dombes   1689    34   1723\n",
       "4  01006                   Ambléon    111     6    117"
      ]
     },
     "execution_count": 6,
     "metadata": {},
     "output_type": "execute_result"
    }
   ],
   "source": [
    "population = pd.read_csv('../data/raw/insee-pop-communes.csv', sep=';')\n",
    "print(population.shape)\n",
    "population.head()"
   ]
  },
  {
   "cell_type": "markdown",
   "id": "e2104e2f",
   "metadata": {},
   "source": [
    "La colonne ```PTOT``` désigne la population totale de la commune."
   ]
  },
  {
   "cell_type": "markdown",
   "id": "8d228177",
   "metadata": {},
   "source": [
    "On effectue un merging des deux dataframes sur la colonne ```code_commune_INSEE```, ou ```DEPCOM```."
   ]
  },
  {
   "cell_type": "code",
   "execution_count": null,
   "id": "41884b62",
   "metadata": {},
   "outputs": [
    {
     "name": "stdout",
     "output_type": "stream",
     "text": [
      "(39201, 7)\n"
     ]
    },
    {
     "data": {
      "application/vnd.microsoft.datawrangler.viewer.v0+json": {
       "columns": [
        {
         "name": "index",
         "rawType": "int64",
         "type": "integer"
        },
        {
         "name": "code_commune_INSEE",
         "rawType": "object",
         "type": "string"
        },
        {
         "name": "nom_commune",
         "rawType": "object",
         "type": "string"
        },
        {
         "name": "code_postal",
         "rawType": "int64",
         "type": "integer"
        },
        {
         "name": "code_departement",
         "rawType": "object",
         "type": "string"
        },
        {
         "name": "nom_departement",
         "rawType": "object",
         "type": "string"
        },
        {
         "name": "nom_region",
         "rawType": "object",
         "type": "string"
        },
        {
         "name": "PTOT",
         "rawType": "float64",
         "type": "float"
        }
       ],
       "ref": "81522243-27d4-4ff4-b29a-e98e05e675a9",
       "rows": [
        [
         "0",
         "01001",
         "Abergement-Clémenciat",
         "1400",
         "1",
         "Ain",
         "Auvergne-Rhône-Alpes",
         "794.0"
        ],
        [
         "1",
         "01002",
         "Abergement-de-Varey",
         "1640",
         "1",
         "Ain",
         "Auvergne-Rhône-Alpes",
         "249.0"
        ],
        [
         "2",
         "01004",
         "Ambérieu-en-Bugey",
         "1500",
         "1",
         "Ain",
         "Auvergne-Rhône-Alpes",
         "14428.0"
        ],
        [
         "3",
         "01005",
         "Ambérieux-en-Dombes",
         "1330",
         "1",
         "Ain",
         "Auvergne-Rhône-Alpes",
         "1723.0"
        ],
        [
         "4",
         "01006",
         "Ambléon",
         "1300",
         "1",
         "Ain",
         "Auvergne-Rhône-Alpes",
         "117.0"
        ]
       ],
       "shape": {
        "columns": 7,
        "rows": 5
       }
      },
      "text/html": [
       "<div>\n",
       "<style scoped>\n",
       "    .dataframe tbody tr th:only-of-type {\n",
       "        vertical-align: middle;\n",
       "    }\n",
       "\n",
       "    .dataframe tbody tr th {\n",
       "        vertical-align: top;\n",
       "    }\n",
       "\n",
       "    .dataframe thead th {\n",
       "        text-align: right;\n",
       "    }\n",
       "</style>\n",
       "<table border=\"1\" class=\"dataframe\">\n",
       "  <thead>\n",
       "    <tr style=\"text-align: right;\">\n",
       "      <th></th>\n",
       "      <th>code_commune_INSEE</th>\n",
       "      <th>nom_commune</th>\n",
       "      <th>code_postal</th>\n",
       "      <th>code_departement</th>\n",
       "      <th>nom_departement</th>\n",
       "      <th>nom_region</th>\n",
       "      <th>PTOT</th>\n",
       "    </tr>\n",
       "  </thead>\n",
       "  <tbody>\n",
       "    <tr>\n",
       "      <th>0</th>\n",
       "      <td>01001</td>\n",
       "      <td>Abergement-Clémenciat</td>\n",
       "      <td>1400</td>\n",
       "      <td>1</td>\n",
       "      <td>Ain</td>\n",
       "      <td>Auvergne-Rhône-Alpes</td>\n",
       "      <td>794.0</td>\n",
       "    </tr>\n",
       "    <tr>\n",
       "      <th>1</th>\n",
       "      <td>01002</td>\n",
       "      <td>Abergement-de-Varey</td>\n",
       "      <td>1640</td>\n",
       "      <td>1</td>\n",
       "      <td>Ain</td>\n",
       "      <td>Auvergne-Rhône-Alpes</td>\n",
       "      <td>249.0</td>\n",
       "    </tr>\n",
       "    <tr>\n",
       "      <th>2</th>\n",
       "      <td>01004</td>\n",
       "      <td>Ambérieu-en-Bugey</td>\n",
       "      <td>1500</td>\n",
       "      <td>1</td>\n",
       "      <td>Ain</td>\n",
       "      <td>Auvergne-Rhône-Alpes</td>\n",
       "      <td>14428.0</td>\n",
       "    </tr>\n",
       "    <tr>\n",
       "      <th>3</th>\n",
       "      <td>01005</td>\n",
       "      <td>Ambérieux-en-Dombes</td>\n",
       "      <td>1330</td>\n",
       "      <td>1</td>\n",
       "      <td>Ain</td>\n",
       "      <td>Auvergne-Rhône-Alpes</td>\n",
       "      <td>1723.0</td>\n",
       "    </tr>\n",
       "    <tr>\n",
       "      <th>4</th>\n",
       "      <td>01006</td>\n",
       "      <td>Ambléon</td>\n",
       "      <td>1300</td>\n",
       "      <td>1</td>\n",
       "      <td>Ain</td>\n",
       "      <td>Auvergne-Rhône-Alpes</td>\n",
       "      <td>117.0</td>\n",
       "    </tr>\n",
       "  </tbody>\n",
       "</table>\n",
       "</div>"
      ],
      "text/plain": [
       "  code_commune_INSEE            nom_commune  code_postal code_departement  \\\n",
       "0              01001  Abergement-Clémenciat         1400                1   \n",
       "1              01002    Abergement-de-Varey         1640                1   \n",
       "2              01004      Ambérieu-en-Bugey         1500                1   \n",
       "3              01005    Ambérieux-en-Dombes         1330                1   \n",
       "4              01006                Ambléon         1300                1   \n",
       "\n",
       "  nom_departement            nom_region     PTOT  \n",
       "0             Ain  Auvergne-Rhône-Alpes    794.0  \n",
       "1             Ain  Auvergne-Rhône-Alpes    249.0  \n",
       "2             Ain  Auvergne-Rhône-Alpes  14428.0  \n",
       "3             Ain  Auvergne-Rhône-Alpes   1723.0  \n",
       "4             Ain  Auvergne-Rhône-Alpes    117.0  "
      ]
     },
     "execution_count": 7,
     "metadata": {},
     "output_type": "execute_result"
    }
   ],
   "source": [
    "def treat_and_merge_communes_population(communes_df : pd.DataFrame, population_df : pd.DataFrame) -> pd.DataFrame:\n",
    "    communes_df = communes_df.copy()\n",
    "    population_df = population_df.copy()\n",
    "    \n",
    "    population_df = population_df.rename(columns={\"DEPCOM\" : \"code_commune_INSEE\"})\n",
    "    \n",
    "    communes_df[\"code_commune_INSEE\"] = communes_df[\"code_commune_INSEE\"].astype(str).str.zfill(5) # On s'assure que le code commune est bien au format 5 chiffres\n",
    "    \n",
    "    communes_population_df = communes_df.merge(population_df, how=\"left\", on=\"code_commune_INSEE\")\n",
    "    \n",
    "    relevant_columns = [\"code_commune_INSEE\", \"nom_commune\", \"code_postal\", \"code_departement\", \"nom_departement\", \"nom_region\", \"PTOT\"]\n",
    "    \n",
    "    communes_population_df = communes_population_df[relevant_columns].copy() # On garde une copie pour éviter de modifier l'original\n",
    "    \n",
    "    return communes_population_df\n",
    "\n",
    "communes_population = treat_and_merge_communes_population(communes, population)\n",
    "print(communes_population.shape)\n",
    "communes_population.head()"
   ]
  },
  {
   "cell_type": "markdown",
   "id": "59946bfa",
   "metadata": {},
   "source": [
    "## Merging des fréquentations des gares et des communes"
   ]
  },
  {
   "cell_type": "code",
   "execution_count": 8,
   "id": "86a29671",
   "metadata": {},
   "outputs": [
    {
     "name": "stdout",
     "output_type": "stream",
     "text": [
      "(26438, 16)\n"
     ]
    },
    {
     "data": {
      "text/html": [
       "<div>\n",
       "<style scoped>\n",
       "    .dataframe tbody tr th:only-of-type {\n",
       "        vertical-align: middle;\n",
       "    }\n",
       "\n",
       "    .dataframe tbody tr th {\n",
       "        vertical-align: top;\n",
       "    }\n",
       "\n",
       "    .dataframe thead th {\n",
       "        text-align: right;\n",
       "    }\n",
       "</style>\n",
       "<table border=\"1\" class=\"dataframe\">\n",
       "  <thead>\n",
       "    <tr style=\"text-align: right;\">\n",
       "      <th></th>\n",
       "      <th>code_uic</th>\n",
       "      <th>libelle</th>\n",
       "      <th>fret</th>\n",
       "      <th>code_ligne</th>\n",
       "      <th>geometry</th>\n",
       "      <th>code_postal</th>\n",
       "      <th>Segmentation DRG</th>\n",
       "      <th>Total Voyageurs</th>\n",
       "      <th>Total Voyageurs + Non Voyageurs</th>\n",
       "      <th>Année</th>\n",
       "      <th>code_commune_INSEE</th>\n",
       "      <th>nom_commune</th>\n",
       "      <th>code_departement</th>\n",
       "      <th>nom_departement</th>\n",
       "      <th>nom_region</th>\n",
       "      <th>PTOT</th>\n",
       "    </tr>\n",
       "  </thead>\n",
       "  <tbody>\n",
       "    <tr>\n",
       "      <th>0</th>\n",
       "      <td>87009696</td>\n",
       "      <td>La Douzillère</td>\n",
       "      <td>False</td>\n",
       "      <td>594000</td>\n",
       "      <td>POINT (0.653 47.33866)</td>\n",
       "      <td>37300</td>\n",
       "      <td>C</td>\n",
       "      <td>17749.0</td>\n",
       "      <td>17749.0</td>\n",
       "      <td>2015</td>\n",
       "      <td>37122</td>\n",
       "      <td>Joué-lès-Tours</td>\n",
       "      <td>37</td>\n",
       "      <td>Indre-et-Loire</td>\n",
       "      <td>Centre-Val de Loire</td>\n",
       "      <td>38340.0</td>\n",
       "    </tr>\n",
       "    <tr>\n",
       "      <th>1</th>\n",
       "      <td>87009696</td>\n",
       "      <td>La Douzillère</td>\n",
       "      <td>False</td>\n",
       "      <td>594000</td>\n",
       "      <td>POINT (0.653 47.33866)</td>\n",
       "      <td>37300</td>\n",
       "      <td>C</td>\n",
       "      <td>13502.0</td>\n",
       "      <td>13502.0</td>\n",
       "      <td>2016</td>\n",
       "      <td>37122</td>\n",
       "      <td>Joué-lès-Tours</td>\n",
       "      <td>37</td>\n",
       "      <td>Indre-et-Loire</td>\n",
       "      <td>Centre-Val de Loire</td>\n",
       "      <td>38340.0</td>\n",
       "    </tr>\n",
       "    <tr>\n",
       "      <th>2</th>\n",
       "      <td>87009696</td>\n",
       "      <td>La Douzillère</td>\n",
       "      <td>False</td>\n",
       "      <td>594000</td>\n",
       "      <td>POINT (0.653 47.33866)</td>\n",
       "      <td>37300</td>\n",
       "      <td>C</td>\n",
       "      <td>11507.0</td>\n",
       "      <td>11507.0</td>\n",
       "      <td>2017</td>\n",
       "      <td>37122</td>\n",
       "      <td>Joué-lès-Tours</td>\n",
       "      <td>37</td>\n",
       "      <td>Indre-et-Loire</td>\n",
       "      <td>Centre-Val de Loire</td>\n",
       "      <td>38340.0</td>\n",
       "    </tr>\n",
       "    <tr>\n",
       "      <th>3</th>\n",
       "      <td>87009696</td>\n",
       "      <td>La Douzillère</td>\n",
       "      <td>False</td>\n",
       "      <td>594000</td>\n",
       "      <td>POINT (0.653 47.33866)</td>\n",
       "      <td>37300</td>\n",
       "      <td>C</td>\n",
       "      <td>11104.0</td>\n",
       "      <td>11104.0</td>\n",
       "      <td>2018</td>\n",
       "      <td>37122</td>\n",
       "      <td>Joué-lès-Tours</td>\n",
       "      <td>37</td>\n",
       "      <td>Indre-et-Loire</td>\n",
       "      <td>Centre-Val de Loire</td>\n",
       "      <td>38340.0</td>\n",
       "    </tr>\n",
       "    <tr>\n",
       "      <th>4</th>\n",
       "      <td>87009696</td>\n",
       "      <td>La Douzillère</td>\n",
       "      <td>False</td>\n",
       "      <td>594000</td>\n",
       "      <td>POINT (0.653 47.33866)</td>\n",
       "      <td>37300</td>\n",
       "      <td>C</td>\n",
       "      <td>10886.0</td>\n",
       "      <td>10886.0</td>\n",
       "      <td>2019</td>\n",
       "      <td>37122</td>\n",
       "      <td>Joué-lès-Tours</td>\n",
       "      <td>37</td>\n",
       "      <td>Indre-et-Loire</td>\n",
       "      <td>Centre-Val de Loire</td>\n",
       "      <td>38340.0</td>\n",
       "    </tr>\n",
       "  </tbody>\n",
       "</table>\n",
       "</div>"
      ],
      "text/plain": [
       "   code_uic        libelle   fret code_ligne                geometry  \\\n",
       "0  87009696  La Douzillère  False     594000  POINT (0.653 47.33866)   \n",
       "1  87009696  La Douzillère  False     594000  POINT (0.653 47.33866)   \n",
       "2  87009696  La Douzillère  False     594000  POINT (0.653 47.33866)   \n",
       "3  87009696  La Douzillère  False     594000  POINT (0.653 47.33866)   \n",
       "4  87009696  La Douzillère  False     594000  POINT (0.653 47.33866)   \n",
       "\n",
       "   code_postal Segmentation DRG  Total Voyageurs  \\\n",
       "0        37300                C          17749.0   \n",
       "1        37300                C          13502.0   \n",
       "2        37300                C          11507.0   \n",
       "3        37300                C          11104.0   \n",
       "4        37300                C          10886.0   \n",
       "\n",
       "   Total Voyageurs + Non Voyageurs Année code_commune_INSEE     nom_commune  \\\n",
       "0                          17749.0  2015              37122  Joué-lès-Tours   \n",
       "1                          13502.0  2016              37122  Joué-lès-Tours   \n",
       "2                          11507.0  2017              37122  Joué-lès-Tours   \n",
       "3                          11104.0  2018              37122  Joué-lès-Tours   \n",
       "4                          10886.0  2019              37122  Joué-lès-Tours   \n",
       "\n",
       "  code_departement nom_departement           nom_region     PTOT  \n",
       "0               37  Indre-et-Loire  Centre-Val de Loire  38340.0  \n",
       "1               37  Indre-et-Loire  Centre-Val de Loire  38340.0  \n",
       "2               37  Indre-et-Loire  Centre-Val de Loire  38340.0  \n",
       "3               37  Indre-et-Loire  Centre-Val de Loire  38340.0  \n",
       "4               37  Indre-et-Loire  Centre-Val de Loire  38340.0  "
      ]
     },
     "execution_count": 8,
     "metadata": {},
     "output_type": "execute_result"
    }
   ],
   "source": [
    "def merge_gares_communes(gares_frequentations_df: gpd.GeoDataFrame, communes_population_df: pd.DataFrame) -> gpd.GeoDataFrame:\n",
    "    merged_df = gares_frequentations_df.merge(communes_population_df, on=\"code_postal\", how=\"left\")\n",
    "    merged_df = merged_df.drop_duplicates(subset=[\"code_uic\", \"Année\"])\n",
    "    return merged_df\n",
    "\n",
    "gares_communes = merge_gares_communes(gares_frequentations, communes_population)\n",
    "print(gares_communes.shape)\n",
    "gares_communes.head()\n"
   ]
  },
  {
   "cell_type": "markdown",
   "id": "293f1f0d",
   "metadata": {},
   "source": [
    "## BONUS Simples visualisations"
   ]
  },
  {
   "cell_type": "code",
   "execution_count": 15,
   "id": "e4a73ea2",
   "metadata": {},
   "outputs": [
    {
     "data": {
      "application/vnd.plotly.v1+json": {
       "config": {
        "plotlyServerURL": "https://plot.ly"
       },
       "data": [
        {
         "alignmentgroup": "True",
         "boxpoints": "all",
         "customdata": [
          [
           "La Douzillère",
           "Joué-lès-Tours"
          ],
          [
           "Lucé",
           "Lucé"
          ],
          [
           "Dreux",
           "Dreux"
          ],
          [
           "Les Aubrais-Orléans",
           "Chanteau"
          ],
          [
           "Neuillé-Pont-Pierre",
           "Beaumont-Louestault"
          ],
          [
           "Pruniers",
           "Loreux"
          ],
          [
           "Chouzy",
           "Chaumont-sur-Loire"
          ],
          [
           "Loreux",
           "Loreux"
          ],
          [
           "Marmagne",
           "Allouis"
          ],
          [
           "Marchezais-Broué",
           "Abondant"
          ],
          [
           "St-Aubin-St-Luperce",
           "Amilly"
          ],
          [
           "Loches",
           "Beaulieu-lès-Loches"
          ],
          [
           "Auneau",
           "Ardelu"
          ],
          [
           "Maintenon",
           "Bouglainval"
          ],
          [
           "Faubourg-d'Orléans",
           "Loreux"
          ],
          [
           "Onzain-Chaumont-sur-Loire",
           "Chaumont-sur-Loire"
          ],
          [
           "Mer",
           "Avaray"
          ],
          [
           "La Membrolle-sur-Choisille",
           "Saint-Cyr-sur-Loire"
          ],
          [
           "La Taye",
           "Lucé"
          ],
          [
           "Montbazon",
           "Montbazon"
          ],
          [
           "Vendôme",
           "Areines"
          ],
          [
           "Joué-lès-Tours",
           "Joué-lès-Tours"
          ],
          [
           "Véretz-Montlouis",
           "Athée-sur-Cher"
          ],
          [
           "Courcay-Tauxigny",
           "Azay-sur-Indre"
          ],
          [
           "Lamotte-Beuvron",
           "Chaon"
          ],
          [
           "Bourges",
           "Bourges"
          ],
          [
           "Chambourg",
           "Azay-sur-Indre"
          ],
          [
           "Briare",
           "Breteau"
          ],
          [
           "St-Antoine-du-Rocher",
           "Beaumont-Louestault"
          ],
          [
           "Gièvres",
           "Billy"
          ],
          [
           "St-Martin-le-Beau",
           "Athée-sur-Cher"
          ],
          [
           "Veigné",
           "Montbazon"
          ],
          [
           "Beaugency",
           "Beaugency"
          ],
          [
           "Bléré-la-Croix",
           "Bléré"
          ],
          [
           "Arrou",
           "Commune nouvelle d'Arrou"
          ],
          [
           "Nogent-sur-Vernisson",
           "Boismorand"
          ],
          [
           "Azay-sur-Cher",
           "Athée-sur-Cher"
          ],
          [
           "Villeperdue",
           "Artannes-sur-Indre"
          ],
          [
           "Illiers-Combray",
           "Bailleau-le-Pin"
          ],
          [
           "St-Pierre-des-Corps",
           "Saint-Pierre-des-Corps"
          ],
          [
           "Luant",
           "Luant"
          ],
          [
           "Vierzon-Ville",
           "Méry-sur-Cher"
          ],
          [
           "Romorantin (Voie étroite)",
           "Loreux"
          ],
          [
           "Azay-le-Rideau",
           "Azay-le-Rideau"
          ],
          [
           "Châteauroux",
           "Châteauroux"
          ],
          [
           "Meung-sur-Loire",
           "Baccon"
          ],
          [
           "Langeais",
           "Bréhémont"
          ],
          [
           "Thésée",
           "Méhers"
          ],
          [
           "Pezou",
           "Areines"
          ],
          [
           "La Villette-St-Prest",
           "Amilly"
          ],
          [
           "Toury",
           "Allaines-Mervilliers"
          ],
          [
           "Maillé",
           "Antogny-le-Tillac"
          ],
          [
           "Cinq-Mars-la-Pile",
           "Bréhémont"
          ],
          [
           "La Chapelle-sur-Loire",
           "Benais"
          ],
          [
           "Tours",
           "Tours"
          ],
          [
           "Gien",
           "Autry-le-Châtel"
          ],
          [
           "Selles-sur-Cher",
           "Billy"
          ],
          [
           "Base Aérienne",
           "Loreux"
          ],
          [
           "Boisseaux",
           "Andonville"
          ],
          [
           "Dordives",
           "Dordives"
          ],
          [
           "Orléans",
           "Orléans"
          ],
          [
           "Reuilly",
           "Diou"
          ],
          [
           "Port-de-Piles",
           "Abilly"
          ],
          [
           "Château-Renault",
           "Autrèche"
          ],
          [
           "Malesherbes",
           "Augerville-la-Rivière"
          ],
          [
           "Montrichard",
           "Angé"
          ],
          [
           "Suèvres",
           "Avaray"
          ],
          [
           "Esvres",
           "Cormery"
          ],
          [
           "Montlouis",
           "Athée-sur-Cher"
          ],
          [
           "St-Piat",
           "Bouglainval"
          ],
          [
           "Savonnières",
           "Ballan-Miré"
          ],
          [
           "St-Ay",
           "Baccon"
          ],
          [
           "Bigny",
           "Chambon"
          ],
          [
           "Neuvy-Pailloux",
           "Bordes"
          ],
          [
           "Ste-Lizaigne",
           "Diou"
          ],
          [
           "Veuves-Monteaux",
           "Chaumont-sur-Loire"
          ],
          [
           "La Chaussée-St-Victor",
           "Chaussée-Saint-Victor"
          ],
          [
           "Chissay-en-Touraine",
           "Angé"
          ],
          [
           "Valençay",
           "Fontguenand"
          ],
          [
           "La Guerche-sur-l'Aubois",
           "Apremont-sur-Allier"
          ],
          [
           "St-Germain-du-Puy",
           "Moulins-sur-Yèvre"
          ],
          [
           "Chabris",
           "Anjouin"
          ],
          [
           "Bailleau-le-Pin",
           "Bailleau-le-Pin"
          ],
          [
           "Ste-Maure-Noyant",
           "Antogny-le-Tillac"
          ],
          [
           "Artenay",
           "Artenay"
          ],
          [
           "Druye",
           "Azay-le-Rideau"
          ],
          [
           "St-Amand-de-Vendôme",
           "Ambloy"
          ],
          [
           "Ballan",
           "Ballan-Miré"
          ],
          [
           "St-Amand-Montrond-Orval",
           "Ainay-le-Vieil"
          ],
          [
           "St-Aignan-Noyers",
           "Châteauvieux"
          ],
          [
           "Nérondes",
           "Blet"
          ],
          [
           "Bengy",
           "Avord"
          ],
          [
           "Monnaie",
           "Crotelles"
          ],
          [
           "St-Paterne",
           "Bueil-en-Touraine"
          ],
          [
           "Mennetou-sur-Cher",
           "Chapelle-Montmartin"
          ],
          [
           "St-Cyr-en-Val-La Source",
           "Saint-Cyr-en-Val"
          ],
          [
           "Chabenet",
           "Chasseneuil"
          ],
          [
           "St-Genouph",
           "Ballan-Miré"
          ],
          [
           "Luçay-le-Mâle",
           "Faverolles-en-Berry"
          ],
          [
           "Amboise",
           "Amboise"
          ],
          [
           "Les Quatre-Roues",
           "Loreux"
          ],
          [
           "Baule",
           "Baccon"
          ],
          [
           "Chevilly",
           "Cercottes"
          ],
          [
           "Varennes-sur-Fouzon",
           "Anjouin"
          ],
          [
           "Magny-Blandainville",
           "Bailleau-le-Pin"
          ],
          [
           "Rivarennes",
           "Azay-le-Rideau"
          ],
          [
           "Vendôme-Villiers-sur-Loir",
           "Areines"
          ],
          [
           "Cloyes",
           "Autheuil"
          ],
          [
           "St-Florent-sur-Cher",
           "Lunery"
          ],
          [
           "Montargis",
           "Amilly"
          ],
          [
           "Port-Boulet",
           "Antogny-le-Tillac"
          ],
          [
           "Villeherviers",
           "Loreux"
          ],
          [
           "Notre-Dame-d'Oé",
           "Cerelles"
          ],
          [
           "Épernon",
           "Droue-sur-Drouette"
          ],
          [
           "Voves",
           "Allonnes"
          ],
          [
           "Lothiers",
           "Luant"
          ],
          [
           "Limeray",
           "Cangey"
          ],
          [
           "Vierzon-Forges",
           "Méry-sur-Cher"
          ],
          [
           "Bonneval",
           "Alluyes"
          ],
          [
           "Ferrières-Fontenay",
           "Bazoches-sur-le-Betz"
          ],
          [
           "Blois-Chambord",
           "Blois"
          ],
          [
           "Theillay",
           "Ferté-Imbault"
          ],
          [
           "Salbris",
           "Ferté-Imbault"
          ],
          [
           "Urçay",
           "Ainay-le-Vieil"
          ],
          [
           "Chenonceaux-Chisseaux",
           "Bléré"
          ],
          [
           "Cormery",
           "Cormery"
          ],
          [
           "Châteaudun",
           "Chapelle-du-Noyer"
          ],
          [
           "Cercottes",
           "Cercottes"
          ],
          [
           "Courtalain-St-Pellerin",
           "Commune nouvelle d'Arrou"
          ],
          [
           "Nouan-le-Fuzelier",
           "Chaon"
          ],
          [
           "Menars",
           "Avaray"
          ],
          [
           "Amilly-Ouerray",
           "Amilly"
          ],
          [
           "Chartres",
           "Chartres"
          ],
          [
           "Villefranche-sur-Cher",
           "Loreux"
          ],
          [
           "Lunery",
           "Lunery"
          ],
          [
           "La Chapelle-St-Mesmin",
           "Chaingy"
          ],
          [
           "Argenton-sur-Creuse",
           "Argenton-sur-Creuse"
          ],
          [
           "Jouy",
           "Amilly"
          ],
          [
           "Monts",
           "Artannes-sur-Indre"
          ],
          [
           "Chaingy-Fourneaux-Plage",
           "Chaingy"
          ],
          [
           "Issoudun",
           "Bordes"
          ],
          [
           "Foëcy",
           "Allouis"
          ],
          [
           "Noizay",
           "Chançay"
          ],
          [
           "Châteauneuf-sur-Cher",
           "Chambon"
          ],
          [
           "Reignac",
           "Azay-sur-Indre"
          ],
          [
           "Chinon",
           "Anché"
          ],
          [
           "Avord",
           "Avord"
          ],
          [
           "Château-Gaillard",
           "Boullay-Mivoye"
          ],
          [
           "Nogent-le-Rotrou",
           "Brunelles"
          ],
          [
           "Brou",
           "Brou"
          ],
          [
           "La Loupe",
           "Belhomert-Guéhouville"
          ],
          [
           "Fréteval-Morée",
           "Brévainville"
          ],
          [
           "St-Patrice",
           "Bréhémont"
          ],
          [
           "La Ferté-St-Aubin",
           "Ferté-Saint-Aubin"
          ],
          [
           "Éguzon",
           "Baraize"
          ],
          [
           "Selles-St-Denis",
           "Ferté-Imbault"
          ],
          [
           "Courville-sur-Eure",
           "Billancelles"
          ],
          [
           "Pontgouin",
           "Billancelles"
          ],
          [
           "La Ferté-Imbault",
           "Ferté-Imbault"
          ],
          [
           "Mehun-sur-Yèvre",
           "Allouis"
          ]
         ],
         "hovertemplate": "nom_region=Centre-Val de Loire<br>Total Voyageurs=%{y}<br>libelle=%{customdata[0]}<br>nom_commune=%{customdata[1]}<extra></extra>",
         "legendgroup": "Centre-Val de Loire",
         "marker": {
          "color": "#636efa"
         },
         "name": "Centre-Val de Loire",
         "notched": false,
         "offsetgroup": "Centre-Val de Loire",
         "orientation": "v",
         "showlegend": true,
         "type": "box",
         "x0": " ",
         "xaxis": "x",
         "y": [
          6573,
          11847,
          2047477,
          1332373,
          12525,
          7181,
          1010,
          11957,
          7874,
          171105,
          21617,
          149223,
          24940,
          1353829,
          122051,
          276247,
          332984,
          1295,
          8898,
          17874,
          118004,
          62174,
          42836,
          4326,
          256759,
          1227943,
          3374,
          68797,
          19637,
          62989,
          53012,
          14516,
          508170,
          203033,
          10185,
          77468,
          19583,
          67146,
          228807,
          4252582,
          1743,
          1300450,
          138084,
          109627,
          734307,
          440380,
          290667,
          2356,
          4087,
          100086,
          142426,
          42442,
          176011,
          3121,
          6506313,
          152554,
          35813,
          2714,
          9182,
          154759,
          4853108,
          30196,
          53551,
          100907,
          358162,
          109261,
          81,
          30689,
          93548,
          192959,
          2333,
          29124,
          219,
          13750,
          3399,
          1713,
          995,
          14892,
          29348,
          43456,
          8305,
          26213,
          89886,
          144500,
          92086,
          22574,
          7962,
          37300,
          67241,
          88819,
          33743,
          29517,
          49516,
          20475,
          1639,
          85657,
          187,
          473,
          21786,
          834653,
          4110,
          25967,
          60397,
          4971,
          11900,
          24198,
          488009,
          21144,
          11154,
          1798582,
          165076,
          13841,
          4406,
          1578352,
          54012,
          202,
          10038,
          4886,
          89288,
          123090,
          1927554,
          18856,
          286327,
          1076,
          70593,
          41175,
          209757,
          52274,
          4479,
          39796,
          687,
          26458,
          3365226,
          31470,
          657,
          10561,
          206897,
          116457,
          183016,
          22905,
          210981,
          29631,
          6269,
          13957,
          6908,
          164710,
          69482,
          5363,
          611628,
          88456,
          550963,
          5804,
          15601,
          226786,
          12866,
          29700,
          435138,
          35006,
          19444,
          92551
         ],
         "y0": " ",
         "yaxis": "y"
        },
        {
         "alignmentgroup": "True",
         "boxpoints": "all",
         "customdata": [
          [
           "Byans",
           "Abbans-Dessous"
          ],
          [
           "Flez-Cuzy-Tannay",
           "Amazy"
          ],
          [
           "Ste-Colombe",
           "Alliés"
          ],
          [
           "Crêches-sur-Saône",
           "Crêches-sur-Saône"
          ],
          [
           "Montbéliard",
           "Bethoncourt"
          ],
          [
           "Tracy-Sancerre",
           "Garchy"
          ],
          [
           "Pontarlier",
           "Alliés"
          ],
          [
           "Arc-et-Senans",
           "Arc-et-Senans"
          ],
          [
           "St-Lothain",
           "Bois-de-Gand"
          ],
          [
           "Montceau-les-Mines",
           "Gourdon"
          ],
          [
           "Arbois",
           "Abergement-le-Grand"
          ],
          [
           "La Charité-sur-Loire",
           "Bulcy"
          ],
          [
           "Le Creusot-Montceau-Montchanin",
           "Écuisses"
          ],
          [
           "Héricourt",
           "Belverne"
          ],
          [
           "Colombier-Fontaine",
           "Colombier-Fontaine"
          ],
          [
           "Laissey",
           "Laissey"
          ],
          [
           "Sermizelles-Vézelay",
           "Annay-la-Côte"
          ],
          [
           "St-Léger-sur-Dheune",
           "Aluze"
          ],
          [
           "Franois",
           "Franois"
          ],
          [
           "Châtel-Censoir",
           "Asnières-sous-Bois"
          ],
          [
           "Les Perrières",
           "Varennes-Vauzelles"
          ],
          [
           "Belfort",
           "Belfort"
          ],
          [
           "Ciry-le-Noble",
           "Ciry-le-Noble"
          ],
          [
           "Sens",
           "Collemiers"
          ],
          [
           "Nuits-sous-Ravières",
           "Aisy-sur-Armançon"
          ],
          [
           "Andelot",
           "Andelot-Morval"
          ],
          [
           "Galuzot",
           "Pouilloux"
          ],
          [
           "Le Creusot",
           "Creusot"
          ],
          [
           "Cravant-Bazarnes",
           "Accolay"
          ],
          [
           "Trois-Chênes",
           "Belfort"
          ],
          [
           "Vauzelles",
           "Varennes-Vauzelles"
          ],
          [
           "Lantenay",
           "Lantenay"
          ],
          [
           "Clamecy",
           "Armes"
          ],
          [
           "St-Claude",
           "Avignon-lès-Saint-Claude"
          ],
          [
           "St-Symphorien-de-Marmagne",
           "Bizots"
          ],
          [
           "Montbarrey",
           "Augerans"
          ],
          [
           "Fourchambault",
           "Fourchambault"
          ],
          [
           "Roche-lez-Beaupré",
           "Amagney"
          ],
          [
           "Lons-le-Saunier",
           "Lons-le-Saunier"
          ],
          [
           "Grandvillars",
           "Grandvillars"
          ],
          [
           "Gilly-sur-Loire",
           "Digoin"
          ],
          [
           "Blaisy-Bas",
           "Aubigny-lès-Sombernon"
          ],
          [
           "Paray-le-Monial",
           "Hautefond"
          ],
          [
           "Collonges",
           "Aiserey"
          ],
          [
           "Is-sur-Tille",
           "Avelanges"
          ],
          [
           "Gemeaux",
           "Avelanges"
          ],
          [
           "Étang",
           "Brion"
          ],
          [
           "Belfort-Montbéliard-TGV",
           "Andelnans"
          ],
          [
           "Tronsanges",
           "Bulcy"
          ],
          [
           "Blanzy",
           "Blanzy"
          ],
          [
           "St-Jean-de-Losne",
           "Aubigny-en-Plaine"
          ],
          [
           "St-Agnan",
           "Digoin"
          ],
          [
           "Auxerre-St-Gervais",
           "Auxerre"
          ],
          [
           "Voujeaucourt",
           "Bart"
          ],
          [
           "Mouchard",
           "Mouchard"
          ],
          [
           "Montbard",
           "Arrans"
          ],
          [
           "Novillars",
           "Amagney"
          ],
          [
           "Dijon-Ville",
           "Dijon"
          ],
          [
           "Chauffailles",
           "Anglure-sous-Dun"
          ],
          [
           "Coulanges-sur-Yonne",
           "Andryes"
          ],
          [
           "Chaugey",
           "Aubigny-en-Plaine"
          ],
          [
           "St-Florentin-Vergigny",
           "Chéu"
          ],
          [
           "Corbigny",
           "Anthien"
          ],
          [
           "Chèvremont",
           "Chèvremont"
          ],
          [
           "Bas-Évette",
           "Évette-Salbert"
          ],
          [
           "Paul-Émile-Victor",
           "Ardon"
          ],
          [
           "Luxeuil-les-Bains",
           "Abelcourt"
          ],
          [
           "Garchizy",
           "Fourchambault"
          ],
          [
           "Villeneuve-sur-Yonne",
           "Armeau"
          ],
          [
           "Fontaines-Mercurey",
           "Bouzeron"
          ],
          [
           "Le Valdahon",
           "Épenoy"
          ],
          [
           "Morre",
           "Fontain"
          ],
          [
           "Villeneuve-la-Guyard",
           "Champigny"
          ],
          [
           "Chagny",
           "Bouzeron"
          ],
          [
           "Vougeot-Gilly-lès-Cîteaux",
           "Flagey-Echézeaux"
          ],
          [
           "Aillevillers",
           "Aillevillers-et-Lyaumont"
          ],
          [
           "Gevrey-Chambertin",
           "Bévy"
          ],
          [
           "Bretigny-Norges",
           "Bellefond"
          ],
          [
           "Mesvres",
           "Brion"
          ],
          [
           "Autun",
           "Antully"
          ],
          [
           "Mailly-la-Ville",
           "Arcy-sur-Cure"
          ],
          [
           "Le Valdahon Camp Militaire",
           "Épenoy"
          ],
          [
           "Pougues-les-Eaux",
           "Germigny-sur-Loire"
          ],
          [
           "Digoin",
           "Digoin"
          ],
          [
           "Chantenay-St-Imbert",
           "Azy-le-Vif"
          ],
          [
           "Verrey",
           "Aubigny-lès-Sombernon"
          ],
          [
           "Les Laumes-Alésia",
           "Alise-Sainte-Reine"
          ],
          [
           "Mâcon-Ville",
           "Mâcon"
          ],
          [
           "Delle",
           "Boron"
          ],
          [
           "St-Pierre-le-Moûtier",
           "Azy-le-Vif"
          ],
          [
           "Besançon-Viotte",
           "Besançon"
          ],
          [
           "St-Vit",
           "Berthelange"
          ],
          [
           "Morteau",
           "Bélieu"
          ],
          [
           "Pontanevaux",
           "Chaintré"
          ],
          [
           "Petit-Croix",
           "Bretagne"
          ],
          [
           "Brion-Laizy",
           "Brion"
          ],
          [
           "Nevers",
           "Challuy"
          ],
          [
           "Velars",
           "Lantenay"
          ],
          [
           "Béard",
           "Béard"
          ],
          [
           "Morez",
           "Bellefontaine"
          ],
          [
           "Les Longevilles-Rochejean",
           "Fourcatier-et-Maison-Neuve"
          ],
          [
           "Saulon",
           "Barges"
          ],
          [
           "La Chaux-des-Crotenay",
           "Bois-de-Gand"
          ],
          [
           "Mervans",
           "Chapelle-Saint-Sauveur"
          ],
          [
           "Lure",
           "Adelans-et-le-Val-de-Bithaine"
          ],
          [
           "St-Julien-Clénay",
           "Bellefond"
          ],
          [
           "Rully",
           "Bouzeron"
          ],
          [
           "La Rivière",
           "Bannans"
          ],
          [
           "Dole",
           "Authume"
          ],
          [
           "Mâcon-Loché-TGV",
           "Mâcon"
          ],
          [
           "Cousance",
           "Augea"
          ],
          [
           "Laroche-Migennes",
           "Bassou"
          ],
          [
           "Auxonne",
           "Athée"
          ],
          [
           "L'Hôpital-du-Grosbois",
           "Charbonnières-les-Sapins"
          ],
          [
           "Génelard",
           "Ciry-le-Noble"
          ],
          [
           "Genlis",
           "Aiserey"
          ],
          [
           "Frasne",
           "Bannans"
          ],
          [
           "Luzy",
           "Avrée"
          ],
          [
           "Ranchot",
           "Amange"
          ],
          [
           "Santenay-les-Bains",
           "Santenay"
          ],
          [
           "Seurre",
           "Auvillars-sur-Saône"
          ],
          [
           "Liesle",
           "Abbans-Dessus"
          ],
          [
           "Beaune",
           "Beaune"
          ],
          [
           "Sennecey-le-Grand",
           "Beaumont-sur-Grosne"
          ],
          [
           "Morbier",
           "Bellefontaine"
          ],
          [
           "Dannemarie-Velesmes",
           "Berthelange"
          ],
          [
           "Meroux",
           "Andelnans"
          ],
          [
           "Decize",
           "Avril-sur-Loire"
          ],
          [
           "Pouilly-sur-Loire",
           "Garchy"
          ],
          [
           "La Marche",
           "Bulcy"
          ],
          [
           "Saincaize",
           "Gimouille"
          ],
          [
           "Besançon-Mouillère",
           "Besançon"
          ],
          [
           "Montchanin",
           "Écuisses"
          ],
          [
           "Ouges",
           "Fénay"
          ],
          [
           "Corgoloin",
           "Agencourt"
          ],
          [
           "St-Laurent (Jura)",
           "Bief-des-Maisons"
          ],
          [
           "Domblans-Voiteur",
           "Arlay"
          ],
          [
           "Longecourt",
           "Allerey"
          ],
          [
           "Vesoul",
           "Andelarre"
          ],
          [
           "Meursault",
           "Auxey-Duresses"
          ],
          [
           "Ruffey",
           "Beaune"
          ],
          [
           "Marmagne-sous-Creusot",
           "Bizots"
          ],
          [
           "Senozan",
           "Azé"
          ],
          [
           "L'Isle-sur-le-Doubs",
           "Accolans"
          ],
          [
           "Besançon-Franche-Comté-TGV",
           "Auxons"
          ],
          [
           "St-Julien-du-Sault",
           "Piffonds"
          ],
          [
           "Brazey-en-Plaine",
           "Brazey-en-Plaine"
          ],
          [
           "Étigny-Véron",
           "Étigny"
          ],
          [
           "Tournus",
           "Boyer"
          ],
          [
           "Aiserey",
           "Aiserey"
          ],
          [
           "Champigny-sur-Yonne",
           "Champigny"
          ],
          [
           "Romanèche-Thorins",
           "Chaintré"
          ],
          [
           "Nevers-Le Banlay",
           "Challuy"
          ],
          [
           "Torpes-Boussières",
           "Abbans-Dessous"
          ],
          [
           "Mâlain",
           "Agey"
          ],
          [
           "Orchamps",
           "Amange"
          ],
          [
           "Joncherey",
           "Boron"
          ],
          [
           "Cercy-la-Tour",
           "Cercy-la-Tour"
          ],
          [
           "Thenissey",
           "Alise-Sainte-Reine"
          ],
          [
           "Chemilly-Appoigny",
           "Beaumont"
          ],
          [
           "La Clayette-Baudemont",
           "Amanzé"
          ],
          [
           "La Chaumusse-Fort-du-Plasne",
           "Bief-des-Maisons"
          ],
          [
           "Fleurville-Pont-de-Vaux",
           "Azé"
          ],
          [
           "Montferrand-Thoraise",
           "Abbans-Dessous"
          ],
          [
           "Deluz",
           "Deluz"
          ],
          [
           "Gilley",
           "Chaux"
          ],
          [
           "Avoudrey",
           "Avoudrey"
          ],
          [
           "Champs-St-Bris",
           "Augy"
          ],
          [
           "Nuits-St-Georges",
           "Agencourt"
          ],
          [
           "Champagney",
           "Belfahy"
          ],
          [
           "Chalon-sur-Saône",
           "Chalon-sur-Saône"
          ],
          [
           "Mesves-Bulcy",
           "Bulcy"
          ],
          [
           "St-Amour",
           "Balanod"
          ],
          [
           "Cheilly-lès-Maranges",
           "Bouzeron"
          ],
          [
           "Étalans",
           "Durnes"
          ],
          [
           "Baume-les-Dames",
           "Autechaux"
          ],
          [
           "Cosne-sur-Loire",
           "Alligny-Cosne"
          ],
          [
           "Morvillars",
           "Méziré"
          ],
          [
           "Champagnole",
           "Ardon"
          ],
          [
           "Vermenton",
           "Arcy-sur-Cure"
          ],
          [
           "Saône",
           "Fontain"
          ],
          [
           "Avallon",
           "Annay-la-Côte"
          ],
          [
           "Imphy",
           "Béard"
          ],
          [
           "Monéteau-Gurgy",
           "Monéteau"
          ],
          [
           "Broye",
           "Brion"
          ],
          [
           "Tonnerre",
           "Béru"
          ],
          [
           "Labergement-Ste-Marie",
           "Grangettes"
          ],
          [
           "Mamirolle",
           "Charbonnières-les-Sapins"
          ],
          [
           "Poligny",
           "Abergement-le-Petit"
          ],
          [
           "Ronchamp",
           "Ronchamp"
          ],
          [
           "École-Valentin",
           "École-Valentin"
          ],
          [
           "Clerval",
           "Abbenans"
          ],
          [
           "Joigny",
           "Champlay"
          ],
          [
           "Dijon-Porte-Neuve",
           "Dijon"
          ],
          [
           "Louhans",
           "Bantanges"
          ]
         ],
         "hovertemplate": "nom_region=Bourgogne-Franche-Comté<br>Total Voyageurs=%{y}<br>libelle=%{customdata[0]}<br>nom_commune=%{customdata[1]}<extra></extra>",
         "legendgroup": "Bourgogne-Franche-Comté",
         "marker": {
          "color": "#EF553B"
         },
         "name": "Bourgogne-Franche-Comté",
         "notched": false,
         "offsetgroup": "Bourgogne-Franche-Comté",
         "orientation": "v",
         "showlegend": true,
         "type": "box",
         "x0": " ",
         "xaxis": "x",
         "y": [
          5449,
          3467,
          11896,
          38344,
          632495,
          15175,
          180138,
          82982,
          3502,
          70967,
          79029,
          173644,
          689875,
          173873,
          17670,
          23085,
          17448,
          9293,
          8656,
          6920,
          409,
          1294166,
          5991,
          1300816,
          48296,
          31549,
          5835,
          113018,
          14732,
          21295,
          696,
          18750,
          40284,
          42833,
          76,
          1261,
          24836,
          6352,
          385481,
          10991,
          6564,
          45883,
          168840,
          41346,
          163850,
          23540,
          61700,
          668206,
          2946,
          10820,
          60599,
          541,
          561972,
          18462,
          172224,
          394196,
          6192,
          7653382,
          42732,
          5098,
          12885,
          98376,
          8597,
          0,
          11577,
          2663,
          20822,
          25,
          71504,
          44665,
          209409,
          6397,
          182271,
          374370,
          52191,
          4553,
          118516,
          13959,
          928,
          49667,
          8299,
          12941,
          16282,
          28459,
          6774,
          22218,
          198197,
          1436372,
          32269,
          17362,
          2725611,
          179374,
          196387,
          45548,
          25391,
          6356,
          1045312,
          6601,
          1131,
          38671,
          625,
          19378,
          3532,
          12515,
          218962,
          50999,
          37407,
          19451,
          1012445,
          465175,
          17535,
          700582,
          375248,
          18156,
          13881,
          308609,
          259678,
          24122,
          45792,
          4302,
          59749,
          11345,
          1041472,
          40725,
          8419,
          30720,
          60663,
          83999,
          14032,
          1422,
          982,
          64478,
          128362,
          11403,
          14595,
          23100,
          26165,
          4582,
          223051,
          20591,
          15566,
          43,
          11522,
          125662,
          739282,
          38671,
          45705,
          7821,
          406085,
          30881,
          102737,
          54480,
          62260,
          3124,
          59698,
          59907,
          7101,
          22145,
          3477,
          2472,
          37704,
          1344,
          19910,
          4341,
          2726,
          32457,
          27903,
          2485,
          275660,
          57942,
          1602704,
          3269,
          76149,
          14743,
          49647,
          225404,
          221961,
          9622,
          51687,
          10587,
          22583,
          60312,
          50846,
          14412,
          3590,
          155320,
          16351,
          18504,
          110532,
          43085,
          9153,
          63660,
          416504,
          97491,
          32413
         ],
         "y0": " ",
         "yaxis": "y"
        },
        {
         "alignmentgroup": "True",
         "boxpoints": "all",
         "customdata": [
          [
           "Chamelet",
           "Bagnols"
          ],
          [
           "Bellegarde",
           "Bellegarde-sur-Valserine"
          ],
          [
           "Vaudagne",
           "Houches"
          ],
          [
           "Aix-les-Bains-Le Revard",
           "Aix-les-Bains"
          ],
          [
           "Les Pélerins",
           "Chamonix-Mont-Blanc"
          ],
          [
           "Groisy-Thorens-la-Caille",
           "Aviernoz"
          ],
          [
           "Murat",
           "Albepierre-Bredons"
          ],
          [
           "St-Victor-Thizy",
           "Pradines"
          ],
          [
           "Magland",
           "Arâches-la-Frasse"
          ],
          [
           "Notre-Dame-de-Briançon",
           "Aigueblanche"
          ],
          [
           "Lyon-Jean-Macé",
           "Lyon 07"
          ],
          [
           "Aubiat",
           "Aigueperse"
          ],
          [
           "Gannat",
           "Bègues"
          ],
          [
           "Lyon-Vaise",
           "Lyon 09"
          ],
          [
           "Le Teil",
           "Alba-la-Romaine"
          ],
          [
           "Valence",
           "Valence"
          ],
          [
           "Le Méridien",
           "Charbonnières-les-Bains"
          ],
          [
           "Commentry",
           "Celle"
          ],
          [
           "Noirétable",
           "Cervières"
          ],
          [
           "St-Béron-La Bridoire",
           "Bridoire"
          ],
          [
           "Bellenaves",
           "Bellenaves"
          ],
          [
           "Riom-Châtel-Guyon",
           "Cheix"
          ],
          [
           "St-Georges-d'Aurac",
           "Chassagnes"
          ],
          [
           "L'Arbresle",
           "Arbresle"
          ],
          [
           "Écully-la-Demi-Lune",
           "Écully"
          ],
          [
           "Servas-Lent",
           "Péronnas"
          ],
          [
           "Magnette",
           "Billy"
          ],
          [
           "Culoz",
           "Anglefort"
          ],
          [
           "St-Rambert-d'Albon",
           "Albon"
          ],
          [
           "Ambérieu",
           "Ambérieu-en-Bugey"
          ],
          [
           "Givors",
           "Chassagny"
          ],
          [
           "Le Cendre-Orcet",
           "Cendre"
          ],
          [
           "Pont-de-Veyle",
           "Bey"
          ],
          [
           "Sérézin",
           "Communay"
          ],
          [
           "Sain-Bel",
           "Arbresle"
          ],
          [
           "Issoire",
           "Bergonne"
          ],
          [
           "Loriol",
           "Cliousclat"
          ],
          [
           "Vallon",
           "Audes"
          ],
          [
           "Oyonnax",
           "Apremont"
          ],
          [
           "Bourg-en-Bresse",
           "Bourg-en-Bresse"
          ],
          [
           "Échirolles",
           "Échirolles"
          ],
          [
           "Langeac",
           "Vissac-Auteyrac"
          ],
          [
           "St-Romain-de-Popey",
           "Ancy"
          ],
          [
           "St-Chamond",
           "Saint-Chamond"
          ],
          [
           "St-Hilaire-St-Nazaire",
           "Biviers"
          ],
          [
           "Pontcharra-sur-Breda-Allevard",
           "Barraux"
          ],
          [
           "Lamure-sur-Azergues",
           "Chambost-Allières"
          ],
          [
           "St-Avre-la-Chambre",
           "Chambre"
          ],
          [
           "Les Trillers",
           "Audes"
          ],
          [
           "Roanne",
           "Mably"
          ],
          [
           "Lyon-Part-Dieu",
           "Lyon 03"
          ],
          [
           "St-Étienne-Bellevue",
           "Saint-Étienne"
          ],
          [
           "Parent-Coudes-Champeix",
           "Busséol"
          ],
          [
           "Fleurieux-sur-l'Arbresle",
           "Arbresle"
          ],
          [
           "Aiguebelle",
           "Aiguebelle"
          ],
          [
           "Pontgibaud",
           "Bromont-Lamothe"
          ],
          [
           "Grésy-sur-Isère",
           "Bonvillard"
          ],
          [
           "Taconnaz",
           "Houches"
          ],
          [
           "Rive-de-Gier",
           "Chagnon"
          ],
          [
           "Ambronay-Priay",
           "Ambérieu-en-Bugey"
          ],
          [
           "Montrond-les-Bains",
           "Bellegarde-en-Forez"
          ],
          [
           "La Ville-Gozet",
           "Lavault-Sainte-Anne"
          ],
          [
           "St-Bonnet-de-Rochefort",
           "Bègues"
          ],
          [
           "Lus-la-Croix-Haute",
           "Lus-la-Croix-Haute"
          ],
          [
           "Crépieux-la-Pape",
           "Rillieux-la-Pape"
          ],
          [
           "St-Marcel-en-Dombes",
           "Civrieux"
          ],
          [
           "Les Moussoux",
           "Chamonix-Mont-Blanc"
          ],
          [
           "Grenoble",
           "Grenoble"
          ],
          [
           "St-Vincent-le-Château",
           "Beaulieu"
          ],
          [
           "St-Jodard",
           "Neulise"
          ],
          [
           "St-Gervais-les-Bains-Le Fayet",
           "Contamines-Montjoie"
          ],
          [
           "Moulins-sur-Allier",
           "Avermes"
          ],
          [
           "Bois-d'Oingt-Légny",
           "Bagnols"
          ],
          [
           "Sallanches-Combloux-Megève",
           "Cordon"
          ],
          [
           "Lyon-St-Paul",
           "Lyon 05"
          ],
          [
           "Bonneville",
           "Ayse"
          ],
          [
           "Charbonnières-les-Bains",
           "Charbonnières-les-Bains"
          ],
          [
           "Chasse-sur-Rhône",
           "Chasse-sur-Rhône"
          ],
          [
           "St-Égrève-St-Robert",
           "Fontanil-Cornillon"
          ],
          [
           "St-Étienne-Le Clapier",
           "Saint-Étienne"
          ],
          [
           "Vichy",
           "Abrest"
          ],
          [
           "La Valbonne",
           "Balan"
          ],
          [
           "St-Vallier-sur-Rhône",
           "Beausemblant"
          ],
          [
           "Chamalières-sur-Loire",
           "Beaulieu"
          ],
          [
           "Tain-l'Hermitage-Tournon",
           "Beaumont-Monteux"
          ],
          [
           "Aurillac",
           "Aurillac"
          ],
          [
           "Le Buet",
           "Vallorcine"
          ],
          [
           "Le Coteau",
           "Commelle-Vernay"
          ],
          [
           "St-Michel-Valloire",
           "Valloire"
          ],
          [
           "Pont-d'Ain",
           "Druillat"
          ],
          [
           "Cessieu",
           "Bâtie-Montgascon"
          ],
          [
           "Goncelin",
           "Cheylas"
          ],
          [
           "Lozanne",
           "Alix"
          ],
          [
           "Vorey",
           "Beaulieu"
          ],
          [
           "Anse",
           "Ambérieux"
          ],
          [
           "Chasseradès",
           "Laveyrune"
          ],
          [
           "Brion-Montréal-la-Cluse",
           "Brion"
          ],
          [
           "St-André-le-Gaz",
           "Abrets en Dauphiné"
          ],
          [
           "Livron",
           "Livron-sur-Drôme"
          ],
          [
           "St-Paul-de-Varax",
           "Certines"
          ],
          [
           "Vallorcine",
           "Vallorcine"
          ],
          [
           "Dompierre-Sept-Fons",
           "Diou"
          ],
          [
           "St-Étienne-Carnot",
           "Saint-Étienne"
          ],
          [
           "Lentilly-Charpenay",
           "Arbresle"
          ],
          [
           "La Ricamarie",
           "Ricamarie"
          ],
          [
           "St-Germain-des-Fossés",
           "Billy"
          ],
          [
           "Miribel",
           "Beynost"
          ],
          [
           "Annecy",
           "Annecy"
          ],
          [
           "Tullins-Fures",
           "Cras"
          ],
          [
           "Givors-Canal",
           "Chassagny"
          ],
          [
           "St-Étienne-La Terrasse",
           "Saint-Étienne"
          ],
          [
           "Moûtiers-Salins-Brides-les-Bains",
           "Hautecour"
          ],
          [
           "Vertaizon",
           "Bouzel"
          ],
          [
           "St-Pierre-en-Faucigny",
           "Amancy"
          ],
          [
           "Chamonix-Aiguille du Midi",
           "Chamonix-Mont-Blanc"
          ],
          [
           "Albigny-Neuville",
           "Albigny-sur-Saône"
          ],
          [
           "Brignoud",
           "Adrets"
          ],
          [
           "Vif",
           "Gua"
          ],
          [
           "Aigueperse",
           "Aigueperse"
          ],
          [
           "Volvic",
           "Chanat-la-Mouteyre"
          ],
          [
           "Francheville",
           "Francheville"
          ],
          [
           "St-Germain-au-Mont-d'Or",
           "Quincieux"
          ],
          [
           "Virieu-sur-Bourbre",
           "Blandin"
          ],
          [
           "Les Flachères",
           "Charbonnières-les-Bains"
          ],
          [
           "Viviers-du-Lac",
           "Drumettaz-Clarafond"
          ],
          [
           "Lancey",
           "Adrets"
          ],
          [
           "Valleiry",
           "Chênex"
          ],
          [
           "Estressin",
           "Chuzelles"
          ],
          [
           "Thonon-les-Bains",
           "Allinges"
          ],
          [
           "Pont-de-Lignon",
           "Champclause"
          ],
          [
           "Lentilly",
           "Arbresle"
          ],
          [
           "Grenoble-Université-Gières",
           "Gières"
          ],
          [
           "Quincieux",
           "Quincieux"
          ],
          [
           "Lyon-Gorge-de-Loup",
           "Lyon 09"
          ],
          [
           "St-André-de-Corcy",
           "Civrieux"
          ],
          [
           "Varennes-sur-Allier",
           "Boucé"
          ],
          [
           "Rives",
           "Apprieu"
          ],
          [
           "Paulhaguet",
           "Chassagnes"
          ],
          [
           "Aulnat-Aéroport",
           "Aulnat"
          ],
          [
           "Massiac",
           "Auriac-l'Église"
          ],
          [
           "Villeneuve-sur-Allier",
           "Aubigny"
          ],
          [
           "Bourg-St-Maurice",
           "Bourg-Saint-Maurice"
          ],
          [
           "Moirans-la-Galifette",
           "Moirans"
          ],
          [
           "Polliat",
           "Buellas"
          ],
          [
           "Albertville",
           "Albertville"
          ],
          [
           "Clermont-La Pardieu",
           "Clermont-Ferrand"
          ],
          [
           "Bonson",
           "Andrézieux-Bouthéon"
          ],
          [
           "St-Étienne-Châteaucreux",
           "Saint-Étienne"
          ],
          [
           "Moirans",
           "Moirans"
          ],
          [
           "Le Rouget",
           "Cayrols"
          ],
          [
           "Louroux-de-Bouble",
           "Bellenaves"
          ],
          [
           "Aurec",
           "Aurec-sur-Loire"
          ],
          [
           "Seyssel-Corbonod",
           "Chanay"
          ],
          [
           "Dardilly-les-Mouilles",
           "Dardilly"
          ],
          [
           "Épierre-St-Léger",
           "Aiguebelle"
          ],
          [
           "Feyzin",
           "Feyzin"
          ],
          [
           "Vienne",
           "Chuzelles"
          ],
          [
           "Casino-Lacroix-Laval",
           "Charbonnières-les-Bains"
          ],
          [
           "Montélimar",
           "Ancône"
          ],
          [
           "Huriel",
           "Archignat"
          ],
          [
           "Lacapelle-Viescamp",
           "Arnac"
          ],
          [
           "Chaponost",
           "Chaponost"
          ],
          [
           "St-Rambert-en-Bugey",
           "Arandas"
          ],
          [
           "Jarrie-Vizille",
           "Champ-sur-Drac"
          ],
          [
           "Les Martres-de-Veyre",
           "Corent"
          ],
          [
           "Retournac",
           "Retournac"
          ],
          [
           "Lapeyrouse",
           "Ars-les-Favets"
          ],
          [
           "Pontcharra-St-Forgeux",
           "Ancy"
          ],
          [
           "Dommartin-Lissieu",
           "Alix"
          ],
          [
           "Marlieux-Châtillon",
           "Certines"
          ],
          [
           "Sarliève-Cournon",
           "Cournon-d'Auvergne"
          ],
          [
           "Monestier-de-Clermont",
           "Avignonet"
          ],
          [
           "Firminy",
           "Firminy"
          ],
          [
           "Simandre-sur-Suran",
           "Ceyzériat"
          ],
          [
           "Le Péage-de-Roussillon",
           "Auberives-sur-Varèze"
          ],
          [
           "Sathonay-Rillieux",
           "Sathonay-Camp"
          ],
          [
           "Royat-Chamalières",
           "Royat"
          ],
          [
           "Lezoux",
           "Bort-l'Étang"
          ],
          [
           "La Bastide-St-Laurent-les-Bains",
           "Laveyrune"
          ],
          [
           "Vions-Chanaz",
           "Chanaz"
          ],
          [
           "Tassin",
           "Tassin-la-Demi-Lune"
          ],
          [
           "Durtol-Nohanent",
           "Durtol"
          ],
          [
           "Pierre-Bénite",
           "Pierre-Bénite"
          ],
          [
           "Frontenex",
           "Bonvillard"
          ],
          [
           "Aiguebelette-le-Lac",
           "Aiguebelette-le-Lac"
          ],
          [
           "Marignier",
           "Marignier"
          ],
          [
           "Darsac",
           "Allègre"
          ],
          [
           "Voiron",
           "Buisse"
          ],
          [
           "Perrignier",
           "Cervens"
          ],
          [
           "Virieu-le-Grand-Belley",
           "Armix"
          ],
          [
           "Neussargues",
           "Celles"
          ],
          [
           "Feurs",
           "Chambéon"
          ],
          [
           "Maurs",
           "Apchon"
          ],
          [
           "St-Fons",
           "Saint-Fons"
          ],
          [
           "Pontmort",
           "Cheix"
          ],
          [
           "Les Bossons",
           "Chamonix-Mont-Blanc"
          ],
          [
           "Chamousset",
           "Betton-Bettonet"
          ],
          [
           "Sury-le-Comtal",
           "Sury-le-Comtal"
          ],
          [
           "Vonnas",
           "Perrex"
          ],
          [
           "St-Flour-Chaudes-Aigues",
           "Alleuze"
          ],
          [
           "St-Pierre-d'Albigny",
           "Fréterive"
          ],
          [
           "Collonges-Fontaines",
           "Collonges-au-Mont-d'Or"
          ],
          [
           "Chamonix-Mont-Blanc",
           "Chamonix-Mont-Blanc"
          ],
          [
           "Les Abrets-Fitilieu",
           "Abrets en Dauphiné"
          ],
          [
           "Ytrac",
           "Arpajon-sur-Cère"
          ],
          [
           "Mionnay",
           "Civrieux"
          ],
          [
           "Les Houches",
           "Houches"
          ],
          [
           "La Fouillouse",
           "Fouillouse"
          ],
          [
           "Clermont-Ferrand",
           "Clermont-Ferrand"
          ],
          [
           "Romans-Bourg-de-Péage",
           "Alixan"
          ],
          [
           "La Tour-du-Pin",
           "Bâtie-Montgascon"
          ],
          [
           "Viaduc-Ste-Marie",
           "Houches"
          ],
          [
           "Réaumont-St-Cassien",
           "Apprieu"
          ],
          [
           "Les Échets",
           "Beynost"
          ],
          [
           "Montluel",
           "Boisse"
          ],
          [
           "Brassac-les-Mines-Ste-Florine",
           "Auzat-la-Combelle"
          ],
          [
           "Saillans",
           "Aubenasson"
          ],
          [
           "St-Péray",
           "Châteaubourg"
          ],
          [
           "Veauche-St-Galmier",
           "Rivas"
          ],
          [
           "St-Julien-en-Genevois",
           "Archamps"
          ],
          [
           "St-Quentin-Fallavier",
           "Saint-Quentin-Fallavier"
          ],
          [
           "Balbigny",
           "Balbigny"
          ],
          [
           "Le Grand-Lemps",
           "Belmont"
          ],
          [
           "Clermont-La Rotonde",
           "Clermont-Ferrand"
          ],
          [
           "Bourgoin-Jallieu",
           "Bourgoin-Jallieu"
          ],
          [
           "Les Tines",
           "Chamonix-Mont-Blanc"
          ],
          [
           "Luc",
           "Laveyrune"
          ],
          [
           "Villars-les-Dombes",
           "Ambérieux-en-Dombes"
          ],
          [
           "Clelles-Mens",
           "Chichilianne"
          ],
          [
           "Landry",
           "Aime-la-Plagne"
          ],
          [
           "Oullins",
           "Oullins"
          ],
          [
           "Le Breuil-sur-Couze",
           "Antoingt"
          ],
          [
           "St-Jean-de-Maurienne-Arvan",
           "Albiez-le-Jeune"
          ],
          [
           "Tarare",
           "Affoux"
          ],
          [
           "Montmélian",
           "Arbin"
          ],
          [
           "Meximieux-Pérouges",
           "Bourg-Saint-Christophe"
          ],
          [
           "Châbons",
           "Belmont"
          ],
          [
           "Pont-du-Château",
           "Martres-d'Artière"
          ],
          [
           "Pringy",
           "Argonay"
          ],
          [
           "St-Romain-le-Puy",
           "Saint-Georges-Haute-Ville"
          ],
          [
           "Boisset",
           "Boisset"
          ],
          [
           "Modane",
           "Aussois"
          ],
          [
           "Poliénas",
           "Cras"
          ],
          [
           "Servoz",
           "Houches"
          ],
          [
           "Gerzat",
           "Gerzat"
          ],
          [
           "La Joux",
           "Chamonix-Mont-Blanc"
          ],
          [
           "La Tour-de-Salvagny",
           "Tour-de-Salvagny"
          ],
          [
           "Bessay",
           "Bessay-sur-Allier"
          ],
          [
           "Argentière",
           "Chamonix-Mont-Blanc"
          ],
          [
           "Beynost",
           "Beynost"
          ],
          [
           "La Roche-sur-Foron",
           "Amancy"
          ],
          [
           "Annemasse",
           "Ambilly"
          ],
          [
           "Monistrol-d'Allier",
           "Alleyras"
          ],
          [
           "Laroquebrou",
           "Arnac"
          ],
          [
           "Chedde",
           "Passy"
          ],
          [
           "Pont-de-Claix",
           "Champagnier"
          ],
          [
           "Bouthéon",
           "Andrézieux-Bouthéon"
          ],
          [
           "La Verpillière",
           "Frontonas"
          ],
          [
           "Vic-le-Comte",
           "Busséol"
          ],
          [
           "Cize-Bolozon",
           "Ceyzériat"
          ],
          [
           "Montbrison",
           "Bard"
          ],
          [
           "Chazay-Marcilly",
           "Alix"
          ],
          [
           "Couzon-au-Mont-d'Or",
           "Cailloux-sur-Fontaines"
          ],
          [
           "St-Priest",
           "Saint-Priest"
          ],
          [
           "Die",
           "Solaure en Diois"
          ],
          [
           "Vénissieux",
           "Vénissieux"
          ],
          [
           "Bas-Monistrol",
           "Chapelle-d'Aurec"
          ],
          [
           "St-Martin-du-Mont",
           "Druillat"
          ],
          [
           "Grésy-sur-Aix",
           "Aix-les-Bains"
          ],
          [
           "Villefranche-sur-Saône",
           "Arnas"
          ],
          [
           "St-Maurice-de-Beynost",
           "Beynost"
          ],
          [
           "Dardilly-le-Jubin",
           "Dardilly"
          ],
          [
           "Luc-en-Diois",
           "Barnave"
          ],
          [
           "Le Sablon",
           "Grigny"
          ],
          [
           "St-Clair-les-Roches",
           "Roches-de-Condrieu"
          ],
          [
           "Brioude",
           "Agnat"
          ],
          [
           "Amplepuis",
           "Amplepuis"
          ],
          [
           "Régny",
           "Pradines"
          ],
          [
           "St-Georges-de-Commiers",
           "Gua"
          ],
          [
           "Châtillon-d'Azergues",
           "Alix"
          ],
          [
           "Évian-les-Bains",
           "Bernex"
          ],
          [
           "Crest",
           "Allex"
          ],
          [
           "Rumilly",
           "Bloye"
          ],
          [
           "Ceyzériat",
           "Ceyzériat"
          ],
          [
           "Voreppe",
           "Pommiers-la-Placette"
          ],
          [
           "Andrézieux",
           "Andrézieux-Bouthéon"
          ],
          [
           "Machilly",
           "Ballaison"
          ],
          [
           "Pierrelatte",
           "Garde-Adhémar"
          ],
          [
           "Lépin-le-Lac-La Bauche",
           "Aiguebelette-le-Lac"
          ],
          [
           "Alaï",
           "Francheville"
          ],
          [
           "St-Georges-de-Reneins",
           "Saint-Georges-de-Reneins"
          ],
          [
           "Cluses",
           "Arâches-la-Frasse"
          ],
          [
           "Vic-sur-Cère",
           "Badailhac"
          ],
          [
           "Vernaison",
           "Charly"
          ],
          [
           "Mézériat",
           "Chaveyriat"
          ],
          [
           "Reignier",
           "Arbusigny"
          ],
          [
           "Belleville-sur-Saône",
           "Belleville"
          ],
          [
           "Montroc-le-Planet",
           "Chamonix-Mont-Blanc"
          ],
          [
           "St-Marcellin",
           "Beauvoir-en-Royans"
          ],
          [
           "Irigny-Yvours",
           "Irigny"
          ],
          [
           "Thiers",
           "Dorat"
          ],
          [
           "Boën",
           "Ailleux"
          ],
          [
           "Le Puy-en-Velay",
           "Aiguilhe"
          ],
          [
           "Pers",
           "Cayrols"
          ],
          [
           "Le Lioran",
           "Albepierre-Bredons"
          ],
          [
           "Lyon-St-Exupéry-TGV",
           "Colombier-Saugnieu"
          ],
          [
           "Lavoûte-sur-Loire",
           "Beaulieu"
          ],
          [
           "Chessy",
           "Alix"
          ],
          [
           "Albens",
           "Entrelacs"
          ],
          [
           "Pougny-Chancy",
           "Collonges"
          ],
          [
           "Pont-de-Beauvoisin",
           "Pont-de-Beauvoisin"
          ],
          [
           "Civrieux-d'Azergues",
           "Alix"
          ],
          [
           "Donzère",
           "Donzère"
          ],
          [
           "Montluçon-Rimard",
           "Lavault-Sainte-Anne"
          ],
          [
           "L'Isle-d'Abeau",
           "Four"
          ],
          [
           "Bons-en-Chablais",
           "Bons-en-Chablais"
          ],
          [
           "Le Chambon-Feugerolles",
           "Chambon-Feugerolles"
          ],
          [
           "Arvant",
           "Bournoncle-Saint-Pierre"
          ],
          [
           "Montluçon-Ville",
           "Lavault-Sainte-Anne"
          ],
          [
           "Fraisses-Unieux",
           "Fraisses"
          ],
          [
           "Villereversure",
           "Ceyzériat"
          ],
          [
           "Aime-La Plagne",
           "Aime-la-Plagne"
          ],
          [
           "Pont-de-Dore",
           "Peschadoires"
          ],
          [
           "Alleyras",
           "Alleyras"
          ],
          [
           "Brignais",
           "Brignais"
          ],
          [
           "Chindrieux",
           "Chanaz"
          ],
          [
           "Vinay",
           "Albenc"
          ],
          [
           "Les Praz-de-Chamonix",
           "Chamonix-Mont-Blanc"
          ]
         ],
         "hovertemplate": "nom_region=Auvergne-Rhône-Alpes<br>Total Voyageurs=%{y}<br>libelle=%{customdata[0]}<br>nom_commune=%{customdata[1]}<extra></extra>",
         "legendgroup": "Auvergne-Rhône-Alpes",
         "marker": {
          "color": "#00cc96"
         },
         "name": "Auvergne-Rhône-Alpes",
         "notched": false,
         "offsetgroup": "Auvergne-Rhône-Alpes",
         "orientation": "v",
         "showlegend": true,
         "type": "box",
         "x0": " ",
         "xaxis": "x",
         "y": [
          14564,
          1723382,
          213,
          1713650,
          4693,
          118940,
          17378,
          29126,
          30197,
          12918,
          1578497,
          8171,
          93252,
          1010840,
          680,
          2564772,
          129889,
          104766,
          1000,
          13197,
          10212,
          1192180,
          9367,
          732605,
          219253,
          72041,
          917,
          273513,
          374027,
          1404224,
          911030,
          165289,
          57341,
          290258,
          179793,
          552083,
          94347,
          22087,
          128079,
          1952521,
          500121,
          36297,
          22140,
          704109,
          96987,
          724659,
          30622,
          79591,
          540,
          997055,
          40088689,
          136114,
          64958,
          130034,
          82209,
          0,
          14177,
          5405,
          757008,
          8222,
          108528,
          292,
          7791,
          5944,
          38747,
          81632,
          2487,
          8121338,
          15229,
          11942,
          371518,
          794357,
          34050,
          366452,
          1508456,
          344771,
          247616,
          241445,
          75715,
          59874,
          1416586,
          214395,
          339426,
          2822,
          567164,
          159078,
          3968,
          100209,
          114289,
          32568,
          63210,
          384902,
          376794,
          46120,
          486744,
          2512,
          45871,
          195125,
          95840,
          83955,
          39986,
          20117,
          126275,
          223242,
          15989,
          193180,
          320358,
          3000715,
          390250,
          94057,
          115984,
          406213,
          164123,
          127759,
          6823,
          356709,
          340306,
          7735,
          86794,
          18958,
          81324,
          503397,
          27792,
          762,
          12869,
          192506,
          70220,
          118897,
          714703,
          1532,
          289118,
          778848,
          94607,
          674786,
          272654,
          108982,
          337798,
          2717,
          13736,
          26604,
          437,
          432419,
          189917,
          9050,
          340193,
          320167,
          60899,
          3966356,
          795250,
          7573,
          3963,
          72511,
          85349,
          20221,
          33229,
          117300,
          2063036,
          20079,
          963113,
          506,
          150,
          91018,
          13220,
          16068,
          177337,
          50459,
          9943,
          20326,
          8814,
          143948,
          64587,
          32178,
          236609,
          12709,
          958912,
          297250,
          4243,
          88586,
          30028,
          16228,
          253775,
          1060,
          56862,
          37921,
          4394,
          177316,
          2132,
          1519335,
          107608,
          68564,
          45537,
          174287,
          11078,
          91800,
          21176,
          6418,
          44861,
          28815,
          104874,
          11386,
          158352,
          122821,
          181288,
          4674,
          339,
          100912,
          19247,
          11785,
          4514900,
          449379,
          975435,
          1272,
          137452,
          178663,
          562874,
          120753,
          16753,
          597,
          76323,
          238398,
          272270,
          85385,
          140007,
          11341,
          1947973,
          3111,
          2069,
          470245,
          35314,
          41871,
          186040,
          44561,
          306295,
          577385,
          621622,
          758108,
          76626,
          90764,
          52748,
          55249,
          474,
          206237,
          36427,
          14930,
          36460,
          776,
          162914,
          20134,
          15021,
          267635,
          612130,
          1577457,
          2612,
          4387,
          28188,
          9141,
          43090,
          1071453,
          271679,
          1447,
          145354,
          17570,
          69491,
          220601,
          78396,
          191194,
          106723,
          6807,
          107274,
          2622739,
          232748,
          19697,
          11132,
          126070,
          671449,
          109121,
          329325,
          48291,
          3803,
          19166,
          292552,
          99305,
          696431,
          5776,
          350695,
          29127,
          72138,
          282395,
          91097,
          46652,
          77859,
          581775,
          12267,
          102628,
          46674,
          180261,
          1084012,
          5335,
          564893,
          47037,
          45886,
          30674,
          302604,
          1099,
          16077,
          1813737,
          13413,
          27545,
          138278,
          3133,
          196065,
          2570,
          40040,
          10664,
          311232,
          220121,
          30550,
          55568,
          250470,
          2030,
          5776,
          123261,
          49577,
          2059,
          305259,
          33913,
          182708,
          6690
         ],
         "y0": " ",
         "yaxis": "y"
        },
        {
         "alignmentgroup": "True",
         "boxpoints": "all",
         "customdata": [
          [
           "L'Hermitage-Mordelles",
           "Chapelle-Thouarault"
          ],
          [
           "Plouaret-Trégor",
           "Lanvellec"
          ],
          [
           "Vern",
           "Vern-sur-Seiche"
          ],
          [
           "Pontrieux",
           "Ploëzal"
          ],
          [
           "Quimper",
           "Quimper"
          ],
          [
           "Quimperlé",
           "Arzano"
          ],
          [
           "Lamballe",
           "Andel"
          ],
          [
           "Corseul-Languenan",
           "Bourseul"
          ],
          [
           "Servon",
           "Brécé"
          ],
          [
           "La Roche-Maurice",
           "Forest-Landerneau"
          ],
          [
           "Dingé",
           "Dingé"
          ],
          [
           "Brandérion",
           "Brandérion"
          ],
          [
           "Bruz",
           "Bruz"
          ],
          [
           "Cesson-Sévigné",
           "Cesson-Sévigné"
          ],
          [
           "St-Médard-sur-Ille",
           "Andouillé-Neuville"
          ],
          [
           "Gestel",
           "Gestel"
          ],
          [
           "La Gouesnière-Cancale",
           "Gouesnière"
          ],
          [
           "Rosporden",
           "Melgven"
          ],
          [
           "Carnoët-Locarn",
           "Bulat-Pestivien"
          ],
          [
           "Guichen-Bourg-des-Comptes",
           "Baulon"
          ],
          [
           "Morlaix",
           "Morlaix"
          ],
          [
           "Le Theil-de-Bretagne",
           "Marcillé-Robert"
          ],
          [
           "St-Pol-de-Léon",
           "Plougoulm"
          ],
          [
           "Vannes",
           "Vannes"
          ],
          [
           "Moustéru",
           "Grâces"
          ],
          [
           "St-Armel",
           "Bourgbarré"
          ],
          [
           "Pléchâtel",
           "Bain-de-Bretagne"
          ],
          [
           "Plerguer",
           "Miniac-Morvan"
          ],
          [
           "Montauban-de-Bretagne",
           "Boisgervilly"
          ],
          [
           "Les Lacs",
           "Balazé"
          ],
          [
           "Auray",
           "Auray"
          ],
          [
           "La Forest",
           "Forest-Landerneau"
          ],
          [
           "St-Senoux-Pléchâtel",
           "Baulon"
          ],
          [
           "Plouharnel-Carnac",
           "Carnac"
          ],
          [
           "Pleudihen",
           "Pleudihen-sur-Rance"
          ],
          [
           "Landévant",
           "Landaul"
          ],
          [
           "Broons",
           "Broons"
          ],
          [
           "Pontrieux-Halte",
           "Ploëzal"
          ],
          [
           "Dirinon Loperhet",
           "Daoulas"
          ],
          [
           "Vitré",
           "Balazé"
          ],
          [
           "Lorient",
           "Lorient"
          ],
          [
           "Plouvara-Plerneuf",
           "Boqueho"
          ],
          [
           "La Brohinière",
           "Boisgervilly"
          ],
          [
           "Plouigneau",
           "Garlan"
          ],
          [
           "Plestan",
           "Malhoure"
          ],
          [
           "Caulnes",
           "Caulnes"
          ],
          [
           "Quiberon",
           "Hœdic"
          ],
          [
           "St-Brieuc",
           "Saint-Brieuc"
          ],
          [
           "Belz-Ploemel",
           "Belz"
          ],
          [
           "Laillé",
           "Bourg-des-Comptes"
          ],
          [
           "Pleyber-Christ",
           "Cloître-Saint-Thégonnec"
          ],
          [
           "Carhaix",
           "Carhaix-Plouguer"
          ],
          [
           "Ste-Anne",
           "Auray"
          ],
          [
           "Landébia",
           "Bourseul"
          ],
          [
           "Yffiniac",
           "Hillion"
          ],
          [
           "St-Thégonnec",
           "Cloître-Saint-Thégonnec"
          ],
          [
           "St-Pierre-Quiberon",
           "Saint-Pierre-Quiberon"
          ],
          [
           "Hennebont",
           "Brandérion"
          ],
          [
           "St-Jacques-de-la-Lande",
           "Saint-Jacques-de-la-Lande"
          ],
          [
           "Pont-de-Buis Lès Quimerc'h",
           "Faou"
          ],
          [
           "Montreuil-sur-Ille",
           "Dingé"
          ],
          [
           "Breteil",
           "Breteil"
          ],
          [
           "Malansac",
           "Caden"
          ],
          [
           "Roscoff",
           "Roscoff"
          ],
          [
           "Guingamp",
           "Grâces"
          ],
          [
           "Coat-Guégan",
           "Bourbriac"
          ],
          [
           "Plancoët",
           "Bourseul"
          ],
          [
           "Retiers",
           "Marcillé-Robert"
          ],
          [
           "Guimiliau",
           "Bodilis"
          ],
          [
           "Noyal-Acigné",
           "Brécé"
          ],
          [
           "Miniac",
           "Miniac-Morvan"
          ],
          [
           "Landivisiau",
           "Bodilis"
          ],
          [
           "Châtelaudren-Plouagat",
           "Boqueho"
          ],
          [
           "Les Mais",
           "Bulat-Pestivien"
          ],
          [
           "St-Germain-sur-Ille",
           "Andouillé-Neuville"
          ],
          [
           "Fougeray-Langon",
           "Dominelais"
          ],
          [
           "La Méaugon",
           "Méaugon"
          ],
          [
           "Messac-Guipry",
           "Guipry-Messac"
          ],
          [
           "Kerhostin",
           "Hœdic"
          ],
          [
           "Combourg",
           "Bonnemain"
          ],
          [
           "Plougonver",
           "Belle-Isle-en-Terre"
          ],
          [
           "Trégonneau-Squiffiec",
           "Grâces"
          ],
          [
           "Chevaigné",
           "Andouillé-Neuville"
          ],
          [
           "L'Isthme",
           "Hœdic"
          ],
          [
           "Redon",
           "Bains-sur-Oust"
          ],
          [
           "Pont-Melvez",
           "Bourbriac"
          ],
          [
           "Dol-de-Bretagne",
           "Baguer-Morvan"
          ],
          [
           "La Hisse",
           "Aucaleuc"
          ],
          [
           "Brélidy-Plouëc",
           "Bégard"
          ],
          [
           "Martigné-Ferchaud",
           "Chelun"
          ],
          [
           "Lannion",
           "Caouënnec-Lanvézéac"
          ],
          [
           "Dinan",
           "Aucaleuc"
          ],
          [
           "Plounérin",
           "Loguivy-Plougras"
          ],
          [
           "Gourland",
           "Grâces"
          ],
          [
           "Kerhuon",
           "Relecq-Kerhuon"
          ],
          [
           "Penthièvre",
           "Hœdic"
          ],
          [
           "Corps-Nuds",
           "Amanlis"
          ],
          [
           "Questembert",
           "Berric"
          ],
          [
           "La Fresnais",
           "Fresnais"
          ],
          [
           "Plénée-Jugon",
           "Malhoure"
          ],
          [
           "Ker-Lann",
           "Bruz"
          ],
          [
           "Traou-Nez",
           "Plourivo"
          ],
          [
           "Belle-Isle-Bégard",
           "Belle-Isle-en-Terre"
          ],
          [
           "Quédillac",
           "Crouais"
          ],
          [
           "Callac",
           "Bulat-Pestivien"
          ],
          [
           "Landerneau",
           "Forest-Landerneau"
          ],
          [
           "Paimpol",
           "Kerfot"
          ],
          [
           "Les Sables-Blancs",
           "Carnac"
          ],
          [
           "La Poterie",
           "Balazé"
          ],
          [
           "Betton",
           "Betton"
          ],
          [
           "St-Malo",
           "Saint-Malo"
          ],
          [
           "Lancerf",
           "Plourivo"
          ],
          [
           "Montfort-sur-Meu",
           "Breteil"
          ],
          [
           "Landaul-Mendon",
           "Landaul"
          ],
          [
           "Bonnemain",
           "Bonnemain"
          ],
          [
           "Châteaubourg",
           "Châteaubourg"
          ],
          [
           "Frynaudour",
           "Plourivo"
          ],
          [
           "Janzé",
           "Amanlis"
          ],
          [
           "Bannalec",
           "Bannalec"
          ]
         ],
         "hovertemplate": "nom_region=Bretagne<br>Total Voyageurs=%{y}<br>libelle=%{customdata[0]}<br>nom_commune=%{customdata[1]}<extra></extra>",
         "legendgroup": "Bretagne",
         "marker": {
          "color": "#ab63fa"
         },
         "name": "Bretagne",
         "notched": false,
         "offsetgroup": "Bretagne",
         "orientation": "v",
         "showlegend": true,
         "type": "box",
         "x0": " ",
         "xaxis": "x",
         "y": [
          60286,
          203798,
          12430,
          7798,
          1619395,
          446178,
          668255,
          1155,
          193883,
          19088,
          12782,
          15066,
          228627,
          182461,
          52387,
          14874,
          85333,
          272283,
          3913,
          219152,
          820551,
          33563,
          2169,
          2170614,
          984,
          11929,
          45305,
          1372,
          328539,
          22496,
          1258333,
          71398,
          24166,
          10191,
          3442,
          75349,
          65156,
          11032,
          17468,
          1094295,
          1910564,
          545,
          17901,
          4247,
          11031,
          84923,
          139301,
          1834483,
          3750,
          26072,
          6703,
          63836,
          30090,
          2916,
          29110,
          157,
          10965,
          173915,
          3344,
          45895,
          333348,
          104172,
          77853,
          13427,
          1050571,
          897,
          13206,
          83504,
          946,
          285601,
          1338,
          225533,
          18555,
          243,
          82209,
          26313,
          15,
          382957,
          3660,
          433613,
          6239,
          1360,
          78469,
          720,
          1037287,
          5285,
          605945,
          724,
          5931,
          20078,
          303522,
          90785,
          1813,
          3068,
          49527,
          3413,
          21534,
          320096,
          21884,
          16489,
          88192,
          86,
          3544,
          34501,
          41523,
          817055,
          87366,
          928,
          65660,
          93491,
          1703866,
          908,
          586031,
          41628,
          8888,
          628424,
          1142,
          253271,
          44859
         ],
         "y0": " ",
         "yaxis": "y"
        },
        {
         "alignmentgroup": "True",
         "boxpoints": "all",
         "customdata": [
          [
           "Châlons-en-Champagne",
           "Châlons-en-Champagne"
          ],
          [
           "Hoerdt",
           "Bietlenheim"
          ],
          [
           "Haguenau",
           "Batzendorf"
          ],
          [
           "Hochfelden",
           "Alteckendorf"
          ],
          [
           "Lauterbourg",
           "Lauterbourg"
          ],
          [
           "Foug",
           "Foug"
          ],
          [
           "Kogenheim",
           "Benfeld"
          ],
          [
           "Vendenheim",
           "Eckwersheim"
          ],
          [
           "St-Louis",
           "Saint-Louis"
          ],
          [
           "St-Blaise-la-Roche-Poutay",
           "Bourg-Bruche"
          ],
          [
           "Bologne",
           "Annéville-la-Prairie"
          ],
          [
           "Anzeling",
           "Alzing"
          ],
          [
           "Rilly-la-Montagne",
           "Chamery"
          ],
          [
           "Béning",
           "Béning-lès-Saint-Avold"
          ],
          [
           "Bartenheim",
           "Bartenheim"
          ],
          [
           "Bayon",
           "Bainville-aux-Miroirs"
          ],
          [
           "Hymont-Mattaincourt",
           "Ahéville"
          ],
          [
           "Bar-sur-Aube",
           "Ailleville"
          ],
          [
           "Culmont-Chalindrey",
           "Celsoy"
          ],
          [
           "Turckheim",
           "Katzenthal"
          ],
          [
           "Moyeuvre-Grande",
           "Moyeuvre-Grande"
          ],
          [
           "Gresswiller",
           "Dinsheim-sur-Bruche"
          ],
          [
           "Bouy",
           "Baconnes"
          ],
          [
           "Romilly-sur-Seine",
           "Crancey"
          ],
          [
           "Nouzonville",
           "Gespunsart"
          ],
          [
           "Sarreguemines",
           "Bliesbruck"
          ],
          [
           "Soultz-sous-Forêts",
           "Aschbach"
          ],
          [
           "Wisches",
           "Barembach"
          ],
          [
           "Pierreville",
           "Autrey"
          ],
          [
           "Vincey",
           "Bettegney-Saint-Brice"
          ],
          [
           "Sarralbe",
           "Val-de-Guéblange"
          ],
          [
           "Mont-sur-Meurthe",
           "Barbonville"
          ],
          [
           "Niederbronn-les-Bains",
           "Dambach"
          ],
          [
           "Raedersheim",
           "Ensisheim"
          ],
          [
           "Obermodern",
           "Bosselshausen"
          ],
          [
           "Erstein",
           "Bolsenheim"
          ],
          [
           "Charmes",
           "Avrainville"
          ],
          [
           "Seltz",
           "Buhl"
          ],
          [
           "Sarrebourg",
           "Buhl-Lorraine"
          ],
          [
           "Roppenheim",
           "Beinheim"
          ],
          [
           "Weyersheim",
           "Bietlenheim"
          ],
          [
           "Fismes",
           "Aougny"
          ],
          [
           "Herrlisheim",
           "Herrlisheim"
          ],
          [
           "Jarville-la-Malgrange",
           "Jarville-la-Malgrange"
          ],
          [
           "Breitenbach",
           "Breitenbach-Haut-Rhin"
          ],
          [
           "Bénestroff",
           "Albestroff"
          ],
          [
           "Colmar",
           "Colmar"
          ],
          [
           "Xertigny",
           "Dounoux"
          ],
          [
           "St-Amarin",
           "Malmerspach"
          ],
          [
           "Damblain",
           "Ainvelle"
          ],
          [
           "Lutzelbourg",
           "Dannelbourg"
          ],
          [
           "Pagny-sur-Moselle",
           "Arnaville"
          ],
          [
           "Hoelschloch",
           "Aschbach"
          ],
          [
           "Poix-Terron",
           "Baâlons"
          ],
          [
           "Farébersviller",
           "Barst"
          ],
          [
           "Pagny-sur-Meuse",
           "Bovée-sur-Barboure"
          ],
          [
           "Laveline-devant-Bruyères",
           "Aydoilles"
          ],
          [
           "Bitschwiller (Haut-Rhin)",
           "Bitschwiller-lès-Thann"
          ],
          [
           "Nançois-Tronville",
           "Bouchon-sur-Saulx"
          ],
          [
           "Schweighouse-sur-Moder",
           "Ohlungen"
          ],
          [
           "Rémilly",
           "Adaincourt"
          ],
          [
           "St-Hilaire-au-Temple",
           "Baconnes"
          ],
          [
           "Drusenheim",
           "Drusenheim"
          ],
          [
           "Mohon",
           "Ayvelles"
          ],
          [
           "Rethel",
           "Acy-Romance"
          ],
          [
           "Benfeld",
           "Benfeld"
          ],
          [
           "Limersheim",
           "Bolsenheim"
          ],
          [
           "Onville",
           "Bayonville-sur-Mad"
          ],
          [
           "Longwy",
           "Cosnes-et-Romain"
          ],
          [
           "Tantonville",
           "Praye"
          ],
          [
           "Vraincourt-Viéville",
           "Annéville-la-Prairie"
          ],
          [
           "Givet",
           "Charnois"
          ],
          [
           "Herbitzheim",
           "Altwiller"
          ],
          [
           "Magneux-Courlandon",
           "Aougny"
          ],
          [
           "Revigny",
           "Andernay"
          ],
          [
           "Lérouville",
           "Boncourt-sur-Meuse"
          ],
          [
           "Langres",
           "Bourg"
          ],
          [
           "Laifour",
           "Deville"
          ],
          [
           "Baccarat",
           "Baccarat"
          ],
          [
           "Ménil-Flin",
           "Andilly"
          ],
          [
           "Bazancourt",
           "Auménancourt"
          ],
          [
           "Commercy",
           "Boncourt-sur-Meuse"
          ],
          [
           "Sierck-les-Bains",
           "Apach"
          ],
          [
           "Froncles",
           "Cerisières"
          ],
          [
           "Fépin",
           "Fépin"
          ],
          [
           "Courcy-Brimont",
           "Berméricourt"
          ],
          [
           "Munchhausen",
           "Buhl"
          ],
          [
           "Herny",
           "Adaincourt"
          ],
          [
           "Bruyères",
           "Aydoilles"
          ],
          [
           "Haybes",
           "Fépin"
          ],
          [
           "Lamarche",
           "Ainvelle"
          ],
          [
           "Fronville",
           "Autigny-le-Grand"
          ],
          [
           "Epfig",
           "Epfig"
          ],
          [
           "Montmédy",
           "Avioth"
          ],
          [
           "Wingen-sur-Moder",
           "Erckartswiller"
          ],
          [
           "Muhlbach-sur-Munster",
           "Breitenbach-Haut-Rhin"
          ],
          [
           "Pont-à-Mousson",
           "Atton"
          ],
          [
           "Luttenbach-près-Munster",
           "Eschbach-au-Val"
          ],
          [
           "Breuil-Romain",
           "Bouvancourt"
          ],
          [
           "Meuse-TGV",
           "Heippes"
          ],
          [
           "Étival-Clairefontaine",
           "Étival-Clairefontaine"
          ],
          [
           "Strasbourg-Ville",
           "Strasbourg"
          ],
          [
           "Éloyes",
           "Éloyes"
          ],
          [
           "Saales",
           "Bourg-Bruche"
          ],
          [
           "Conflans-Jarny",
           "Abbéville-lès-Conflans"
          ],
          [
           "Dieulouard",
           "Autreville-sur-Moselle"
          ],
          [
           "St-Dié-des-Vosges",
           "Coinches"
          ],
          [
           "Illfurth",
           "Eglingen"
          ],
          [
           "Dannemarie",
           "Altenach"
          ],
          [
           "Lorraine-TGV",
           "Buchy"
          ],
          [
           "Rosières-aux-Salines",
           "Anthelupt"
          ],
          [
           "Duppigheim",
           "Altorf"
          ],
          [
           "Liart",
           "Aouste"
          ],
          [
           "Herrlisheim-près-Colmar",
           "Eguisheim"
          ],
          [
           "Hundling",
           "Hundling"
          ],
          [
           "Gertwiller",
           "Andlau"
          ],
          [
           "Rozières-sur-Mouzon",
           "Ainvelle"
          ],
          [
           "Wissembourg",
           "Cleebourg"
          ],
          [
           "Kédange",
           "Aboncourt"
          ],
          [
           "Schwindratzheim",
           "Alteckendorf"
          ],
          [
           "Docelles-Cheniménil",
           "Baffe"
          ],
          [
           "Hagondange",
           "Ay-sur-Moselle"
          ],
          [
           "Messein",
           "Méréville"
          ],
          [
           "Joigny-sur-Meuse",
           "Gespunsart"
          ],
          [
           "Châtel-Nomexy",
           "Badménil-aux-Bois"
          ],
          [
           "Diemeringen",
           "Butten"
          ],
          [
           "Oderen",
           "Oderen"
          ],
          [
           "Colmar-St-Joseph",
           "Colmar"
          ],
          [
           "Hombourg-Haut",
           "Guenviller"
          ],
          [
           "Auboué",
           "Auboué"
          ],
          [
           "Anchamps",
           "Anchamps"
          ],
          [
           "Kalhausen",
           "Achen"
          ],
          [
           "Charleville-Mézières",
           "Ayvelles"
          ],
          [
           "Habsheim",
           "Bruebach"
          ],
          [
           "Belleville",
           "Belleville"
          ],
          [
           "Liverdun",
           "Aingeray"
          ],
          [
           "Kruth",
           "Kruth"
          ],
          [
           "St-Léonard",
           "Anould"
          ],
          [
           "Rountzenheim",
           "Auenheim"
          ],
          [
           "Muizon",
           "Bouvancourt"
          ],
          [
           "St-Dizier",
           "Saint-Eulien"
          ],
          [
           "Ancy-sur-Moselle",
           "Ancy-Dornot"
          ],
          [
           "Novéant",
           "Arry"
          ],
          [
           "Corcieux-Vanémont",
           "Arrentès-de-Corcieux"
          ],
          [
           "Biffontaine",
           "Arrentès-de-Corcieux"
          ],
          [
           "Gandrange-Amnéville",
           "Gandrange"
          ],
          [
           "Epernay",
           "Épernay"
          ],
          [
           "St-Avold",
           "Saint-Avold"
          ],
          [
           "Metz-Nord",
           "Metz"
          ],
          [
           "Sierentz",
           "Geispitzen"
          ],
          [
           "Rixheim",
           "Rixheim"
          ],
          [
           "Saulxures",
           "Bourg-Bruche"
          ],
          [
           "La Wantzenau",
           "Wantzenau"
          ],
          [
           "Munster",
           "Eschbach-au-Val"
          ],
          [
           "Wilwisheim",
           "Alteckendorf"
          ],
          [
           "Lunéville",
           "Bienville-la-Petite"
          ],
          [
           "Chaumont",
           "Brethenay"
          ],
          [
           "Bertrichamps",
           "Baccarat"
          ],
          [
           "Valleroy-Moineville",
           "Valleroy"
          ],
          [
           "Marbache",
           "Marbache"
          ],
          [
           "St-Louis-la-Chaussée",
           "Saint-Louis"
          ],
          [
           "Prunay",
           "Beaumont-sur-Vesle"
          ],
          [
           "Colroy-Lubine",
           "Beulay"
          ],
          [
           "Farschviller",
           "Barst"
          ],
          [
           "Mommenheim",
           "Mommenheim"
          ],
          [
           "Hayange",
           "Hayange"
          ],
          [
           "Einvaux",
           "Barbonville"
          ],
          [
           "Mulhouse-Dornach",
           "Mulhouse"
          ],
          [
           "Mundolsheim",
           "Lampertheim"
          ],
          [
           "Vittel",
           "Belmont-sur-Vair"
          ],
          [
           "Houdemont",
           "Heillecourt"
          ],
          [
           "Gudmont",
           "Cerisières"
          ],
          [
           "Pompey",
           "Pompey"
          ],
          [
           "Dormans",
           "Anthenay"
          ],
          [
           "Reims",
           "Reims"
          ],
          [
           "Goxwiller",
           "Bernardswiller"
          ],
          [
           "Franchet-d'Esperey",
           "Reims"
          ],
          [
           "Audun-le-Roman",
           "Anderny"
          ],
          [
           "Lumes",
           "Gernelle"
          ],
          [
           "Mutzig",
           "Dinsheim-sur-Bruche"
          ],
          [
           "Courcelles-sur-Nied",
           "Ars-Laquenexy"
          ],
          [
           "Mirecourt",
           "Ahéville"
          ],
          [
           "Bayard",
           "Chevillon"
          ],
          [
           "Rémelfing",
           "Bliesbruck"
          ],
          [
           "Varangéville-St-Nicolas",
           "Anthelupt"
          ],
          [
           "Toul",
           "Andilly"
          ],
          [
           "Homécourt",
           "Homécourt"
          ],
          [
           "Sélestat",
           "Baldenheim"
          ],
          [
           "Montreux-Vieux",
           "Altenach"
          ],
          [
           "Sanry-sur-Nied",
           "Ars-Laquenexy"
          ],
          [
           "Munster-Badischhof",
           "Eschbach-au-Val"
          ],
          [
           "Verdun",
           "Beaumont-en-Verdunois"
          ],
          [
           "Vrigne-Meuse",
           "Bosseval-et-Briancourt"
          ],
          [
           "Hoffen",
           "Aschbach"
          ],
          [
           "Vieux-Thann ZI",
           "Leimbach"
          ],
          [
           "Rombas-Clouange",
           "Pierrevillers"
          ],
          [
           "Bantzenheim",
           "Bantzenheim"
          ],
          [
           "Igney",
           "Bayecourt"
          ],
          [
           "Dorlisheim",
           "Altorf"
          ],
          [
           "Merxheim",
           "Bergholtz"
          ],
          [
           "Raon-l'Étape",
           "Allarmont"
          ],
          [
           "Malling",
           "Apach"
          ],
          [
           "Mulhouse-Musées (Tram/Train)",
           "Mulhouse"
          ],
          [
           "St-Nabord",
           "Dommartin-lès-Remiremont"
          ],
          [
           "Mulhouse-Ville",
           "Mulhouse"
          ],
          [
           "Graffenstaden",
           "Illkirch-Graffenstaden"
          ],
          [
           "Hettange-Grande",
           "Entrange"
          ],
          [
           "Freistroff",
           "Alzing"
          ],
          [
           "Brumath",
           "Bernolsheim"
          ],
          [
           "Thann-St-Jacques",
           "Leimbach"
          ],
          [
           "Thionville",
           "Manom"
          ],
          [
           "Tagolsheim",
           "Eglingen"
          ],
          [
           "Woippy",
           "Maxe"
          ],
          [
           "Bar-le-Duc",
           "Bar-le-Duc"
          ],
          [
           "Revin",
           "Anchamps"
          ],
          [
           "Donchery",
           "Bosseval-et-Briancourt"
          ],
          [
           "Neuves-Maisons",
           "Chaligny"
          ],
          [
           "Vignory",
           "Cerisières"
          ],
          [
           "Willer-sur-Thur",
           "Goldbach-Altenbach"
          ],
          [
           "Cernay",
           "Aspach-le-Bas"
          ],
          [
           "Reims-Maison-Blanche",
           "Bassu"
          ],
          [
           "Dambach-la-Ville",
           "Blienschwiller"
          ],
          [
           "Frouard",
           "Frouard"
          ],
          [
           "Metz-Ville",
           "Metz"
          ],
          [
           "Nogent-sur-Seine",
           "Avant-lès-Marcilly"
          ],
          [
           "Sarre-Union",
           "Altwiller"
          ],
          [
           "Urmatt",
           "Niederhaslach"
          ],
          [
           "Kilstett",
           "Kilstett"
          ],
          [
           "Dettwiller",
           "Altenheim"
          ],
          [
           "Hasenrain",
           "Mulhouse"
          ],
          [
           "Contrexéville",
           "Aingeville"
          ],
          [
           "Uckange",
           "Richemont"
          ],
          [
           "Mullerhof",
           "Niederhaslach"
          ],
          [
           "Champagne-Ardenne-TGV",
           "Bezannes"
          ],
          [
           "Moosch",
           "Geishouse"
          ],
          [
           "Geispolsheim",
           "Geispolsheim"
          ],
          [
           "Joinville",
           "Autigny-le-Grand"
          ],
          [
           "Sillery",
           "Chamery"
          ],
          [
           "Eurville-Bienville",
           "Chamouilley"
          ],
          [
           "Vandières",
           "Vandières"
          ],
          [
           "Chenevières",
           "Azerailles"
          ],
          [
           "Aubrives",
           "Aubrives"
          ],
          [
           "Longuyon",
           "Allondrelle-la-Malmaison"
          ],
          [
           "Thaon",
           "Bayecourt"
          ],
          [
           "Dombasle-sur-Meurthe",
           "Anthelupt"
          ],
          [
           "Berthelming",
           "Berthelming"
          ],
          [
           "Hombourg-Budange",
           "Aboncourt"
          ],
          [
           "Merrey",
           "Audeloncourt"
          ],
          [
           "Bouzonville",
           "Alzing"
          ],
          [
           "Walbach",
           "Katzenthal"
          ],
          [
           "Faulquemont",
           "Adelange"
          ],
          [
           "Sessenheim",
           "Dalhunden"
          ],
          [
           "Laneuveville-devant-Nancy",
           "Laneuveville-devant-Nancy"
          ],
          [
           "Ay",
           "Avenay-Val-d'Or"
          ],
          [
           "Fellering",
           "Fellering"
          ],
          [
           "Ebersheim",
           "Baldenheim"
          ],
          [
           "Zillisheim",
           "Eglingen"
          ],
          [
           "Eichhoffen",
           "Andlau"
          ],
          [
           "Sedan",
           "Balan"
          ],
          [
           "Thann",
           "Leimbach"
          ],
          [
           "Schopperten",
           "Altwiller"
          ],
          [
           "Metzeral",
           "Breitenbach-Haut-Rhin"
          ],
          [
           "Igney-Avricourt",
           "Amenoncourt"
          ],
          [
           "Staffelfelden",
           "Staffelfelden"
          ],
          [
           "Hunspach",
           "Aschbach"
          ],
          [
           "Saverne",
           "Eckartswiller"
          ],
          [
           "Baroncourt",
           "Bouligny"
          ],
          [
           "Flaxlanden",
           "Eglingen"
          ],
          [
           "Stephansfeld",
           "Bernolsheim"
          ],
          [
           "Rosheim",
           "Rosenwiller"
          ],
          [
           "Val-de-Vesle",
           "Beaumont-sur-Vesle"
          ],
          [
           "Duttlenheim",
           "Altorf"
          ],
          [
           "Monthermé",
           "Deville"
          ],
          [
           "Praye-sous-Vaudémont",
           "Praye"
          ],
          [
           "Ludres",
           "Fléville-devant-Nancy"
          ],
          [
           "Hoenheim-Tram",
           "Bischheim"
          ],
          [
           "Peltre",
           "Chesny"
          ],
          [
           "Champigneulles",
           "Champigneulles"
          ],
          [
           "Lutterbach (Haut-Rhin)",
           "Lutterbach"
          ],
          [
           "Neufchâteau",
           "Attignéville"
          ],
          [
           "Martigny-les-Bains",
           "Ainvelle"
          ],
          [
           "Gundershoffen",
           "Dambach"
          ],
          [
           "Ars-sur-Moselle",
           "Ancy-Dornot"
          ],
          [
           "St-Gilles",
           "Wettolsheim"
          ],
          [
           "Pulligny-Autrey",
           "Autrey"
          ],
          [
           "Steinbourg",
           "Steinbourg"
          ],
          [
           "Germaine",
           "Avenay-Val-d'Or"
          ],
          [
           "Walbourg",
           "Biblisheim"
          ],
          [
           "Zu-Rhein",
           "Mulhouse"
          ],
          [
           "Ingersheim-Cité-Scolaire",
           "Ingersheim"
          ],
          [
           "Diarville",
           "Bouzanville"
          ],
          [
           "Logelbach",
           "Wintzenheim"
          ],
          [
           "Altkirch",
           "Altkirch"
          ],
          [
           "Thann-Centre",
           "Leimbach"
          ],
          [
           "Wesserling",
           "Fellering"
          ],
          [
           "Oermingen",
           "Oermingen"
          ],
          [
           "Colmar-Mésanges",
           "Colmar"
          ],
          [
           "Nouvion-sur-Meuse",
           "Balaives-et-Butz"
          ],
          [
           "Épinal",
           "Chantraine"
          ],
          [
           "Bischheim",
           "Bischheim"
          ],
          [
           "St-Michel-sur-Meurthe",
           "Bourgonce"
          ],
          [
           "Remiremont",
           "Dommartin-lès-Remiremont"
          ],
          [
           "Dachstein",
           "Altorf"
          ],
          [
           "Keskastel",
           "Altwiller"
          ],
          [
           "Loivre",
           "Berméricourt"
          ],
          [
           "Hatrize",
           "Abbéville-lès-Conflans"
          ],
          [
           "Ébersviller",
           "Alzing"
          ],
          [
           "Vireux-Molhain",
           "Aubrives"
          ],
          [
           "Bainville-sur-Madon",
           "Bainville-sur-Madon"
          ],
          [
           "Entzheim",
           "Entzheim"
          ],
          [
           "Montbré",
           "Chamery"
          ],
          [
           "Marienthal",
           "Batzendorf"
          ],
          [
           "Étain",
           "Abaucourt-Hautecourt"
          ],
          [
           "Kurtzenhouse",
           "Bischwiller"
          ],
          [
           "Mourmelon-le-Petit",
           "Baconnes"
          ],
          [
           "Mothern",
           "Buhl"
          ],
          [
           "Sept-Saulx",
           "Baconnes"
          ],
          [
           "Pont-St-Vincent",
           "Bainville-sur-Madon"
          ],
          [
           "Pouxeux",
           "Jarménil"
          ],
          [
           "Molsheim",
           "Altorf"
          ],
          [
           "Riedseltz",
           "Altorf"
          ],
          [
           "Schirmeck-La Broque",
           "Barembach"
          ],
          [
           "Bourg-Bruche",
           "Bourg-Bruche"
          ],
          [
           "Lesseux-Frapelle",
           "Beulay"
          ],
          [
           "Gambsheim",
           "Gambsheim"
          ],
          [
           "Rothau",
           "Broque"
          ],
          [
           "Lépanges",
           "Aydoilles"
          ],
          [
           "Tieffenbach-Struth",
           "Erckartswiller"
          ],
          [
           "Lingolsheim",
           "Lingolsheim"
          ],
          [
           "Mertzwiller",
           "Forstheim"
          ],
          [
           "Bollwiller",
           "Bollwiller"
          ],
          [
           "Xeuilley",
           "Xeuilley"
          ],
          [
           "Strasbourg-Roethig",
           "Strasbourg"
          ],
          [
           "Chevillon",
           "Chevillon"
          ],
          [
           "Provenchères-sur-Fave",
           "Beulay"
          ],
          [
           "Vieux-Thann",
           "Leimbach"
          ],
          [
           "St-Clément-Laronxe",
           "Laronxe"
          ],
          [
           "Graffenwald",
           "Aspach-le-Bas"
          ],
          [
           "Matzenheim",
           "Bolsenheim"
          ],
          [
           "Forbach",
           "Folkling"
          ],
          [
           "Vitry-le-François",
           "Bassu"
          ],
          [
           "Wihr-au-Val-Soultzbach-les-Bains",
           "Katzenthal"
          ],
          [
           "Russ-Hersbach",
           "Barembach"
          ],
          [
           "Fontenoy-sur-Moselle",
           "Fontenoy-sur-Moselle"
          ],
          [
           "Walheim",
           "Altkirch"
          ],
          [
           "Lutzelhouse",
           "Barembach"
          ],
          [
           "Joeuf",
           "Jœuf"
          ],
          [
           "Metzervisse",
           "Metzervisse"
          ],
          [
           "Azerailles",
           "Azerailles"
          ],
          [
           "Bischwiller",
           "Bischwiller"
          ],
          [
           "Ranspach",
           "Fellering"
          ],
          [
           "Blainville-Damelevières",
           "Barbonville"
          ],
          [
           "Obernai",
           "Bernardswiller"
          ],
          [
           "Morhange",
           "Achain"
          ],
          [
           "Barr",
           "Andlau"
          ],
          [
           "Ingwiller",
           "Bischholtz"
          ],
          [
           "Amagne-Lucquy",
           "Acy-Romance"
          ],
          [
           "Donjeux",
           "Autigny-le-Grand"
          ],
          [
           "Vendeuvre (Aube)",
           "Amance"
          ],
          [
           "Bogny-sur-Meuse",
           "Bogny-sur-Meuse"
          ],
          [
           "Arches",
           "Arches"
          ],
          [
           "Avenay",
           "Avenay-Val-d'Or"
          ],
          [
           "Deville",
           "Deville"
          ],
          [
           "Fouday",
           "Barembach"
          ],
          [
           "Apach",
           "Apach"
          ],
          [
           "Rouffach",
           "Gundolsheim"
          ],
          [
           "Scherwiller",
           "Scherwiller"
          ],
          [
           "Vézelise",
           "Chaouilley"
          ],
          [
           "Gunsbach-Griesbach",
           "Eschbach-au-Val"
          ],
          [
           "Roeschwoog",
           "Auenheim"
          ],
          [
           "Trois-Puits",
           "Chamery"
          ],
          [
           "Krimmeri-Meinau",
           "Strasbourg"
          ],
          [
           "Bains-les-Bains",
           "Vôge-les-Bains"
          ],
          [
           "Fumay",
           "Fépin"
          ],
          [
           "Reichshoffen-Ville",
           "Dambach"
          ],
          [
           "Jonchery-sur-Vesle",
           "Bouvancourt"
          ],
          [
           "Carignan",
           "Blagny"
          ],
          [
           "Fegersheim-Lipsheim",
           "Fegersheim"
          ],
          [
           "Nancy-Ville",
           "Nancy"
          ]
         ],
         "hovertemplate": "nom_region=Grand Est<br>Total Voyageurs=%{y}<br>libelle=%{customdata[0]}<br>nom_commune=%{customdata[1]}<extra></extra>",
         "legendgroup": "Grand Est",
         "marker": {
          "color": "#FFA15A"
         },
         "name": "Grand Est",
         "notched": false,
         "offsetgroup": "Grand Est",
         "orientation": "v",
         "showlegend": true,
         "type": "box",
         "x0": " ",
         "xaxis": "x",
         "y": [
          1007764,
          244095,
          2061052,
          257703,
          33017,
          10238,
          36793,
          168601,
          1558677,
          57192,
          4643,
          669,
          110502,
          158615,
          129259,
          208600,
          0,
          105605,
          82318,
          49445,
          53260,
          160762,
          0,
          426999,
          56137,
          428391,
          218085,
          89057,
          0,
          82335,
          2934,
          14745,
          213944,
          62329,
          228003,
          606226,
          340567,
          52085,
          850055,
          18414,
          189583,
          279864,
          187138,
          56411,
          28551,
          15768,
          4728720,
          5185,
          72439,
          8,
          81681,
          404152,
          21391,
          109534,
          2560,
          6786,
          4957,
          37735,
          1288,
          37979,
          280750,
          0,
          133896,
          14606,
          427100,
          629402,
          101604,
          12660,
          573680,
          890,
          1503,
          146457,
          42463,
          23535,
          109048,
          7410,
          86126,
          13094,
          141749,
          2760,
          368427,
          276194,
          4202,
          51324,
          5739,
          43755,
          3227,
          9243,
          134444,
          46999,
          1998,
          299,
          44354,
          9215,
          142903,
          12413,
          1188177,
          15411,
          41472,
          290795,
          59582,
          23907864,
          49610,
          75095,
          159176,
          129235,
          514458,
          74110,
          109937,
          493670,
          306965,
          101787,
          0,
          75686,
          13909,
          32632,
          357,
          253716,
          5604,
          86652,
          8708,
          1327883,
          13524,
          13652,
          158207,
          129082,
          29665,
          77046,
          15670,
          2047,
          9409,
          14170,
          1471075,
          222700,
          31805,
          39115,
          32742,
          11,
          45257,
          132055,
          214622,
          58712,
          145849,
          1190,
          53,
          3775,
          973775,
          274180,
          64870,
          261901,
          196073,
          158,
          37979,
          270683,
          52980,
          1055305,
          417780,
          5103,
          8602,
          26885,
          68943,
          8111,
          0,
          23096,
          317382,
          5227,
          6028,
          234086,
          82235,
          80786,
          13353,
          462,
          88779,
          150439,
          4970676,
          30767,
          156995,
          7728,
          22799,
          248085,
          35081,
          116549,
          66,
          2847,
          395548,
          390891,
          36090,
          2702636,
          82688,
          9558,
          18955,
          218513,
          8000,
          14864,
          26367,
          66116,
          6682,
          18946,
          101569,
          78126,
          126526,
          46,
          0,
          11437,
          5637668,
          44905,
          512538,
          1718,
          693528,
          216223,
          3557047,
          44,
          181738,
          478077,
          236154,
          44536,
          46245,
          2009,
          41410,
          561765,
          141272,
          26459,
          66735,
          9407728,
          253163,
          152350,
          139984,
          107114,
          144719,
          0,
          40125,
          743560,
          11813,
          1323545,
          51869,
          69330,
          78684,
          0,
          85,
          9321,
          1843,
          16205,
          56171,
          356634,
          355471,
          21961,
          200,
          0,
          22660,
          3249,
          210639,
          101239,
          9257,
          57371,
          27219,
          21882,
          35233,
          10232,
          466520,
          202260,
          14668,
          59233,
          26601,
          86402,
          903,
          1440295,
          43344,
          12104,
          45087,
          217360,
          25972,
          169940,
          134853,
          1094,
          24159,
          67165,
          31720,
          22816,
          71747,
          83289,
          12552,
          107044,
          109060,
          128021,
          0,
          25742,
          24110,
          43842,
          0,
          9424,
          2507,
          37333,
          337401,
          60669,
          51976,
          33538,
          4665,
          86678,
          1497345,
          50471,
          2937,
          363176,
          113800,
          50298,
          51678,
          597,
          49,
          91208,
          7,
          368262,
          0,
          72487,
          133682,
          106934,
          104083,
          4999,
          25521,
          63942,
          24513,
          1739819,
          9902,
          348289,
          8721,
          0,
          207661,
          162798,
          858,
          73264,
          75809,
          147944,
          367349,
          2,
          83569,
          3835,
          6877,
          206559,
          30776,
          103033,
          51545,
          346914,
          241108,
          44552,
          82758,
          3827,
          7958,
          147238,
          43872,
          3139,
          11407,
          716006,
          18532,
          313619,
          938744,
          122693,
          361280,
          260436,
          87838,
          7209,
          61877,
          86934,
          101977,
          39109,
          34834,
          13105,
          2745,
          317532,
          12805,
          16410,
          29458,
          72974,
          0,
          198650,
          5336,
          102999,
          206465,
          141386,
          19644,
          142375,
          9228582
         ],
         "y0": " ",
         "yaxis": "y"
        },
        {
         "alignmentgroup": "True",
         "boxpoints": "all",
         "customdata": [
          [
           "Cadaujac",
           "Cadaujac"
          ],
          [
           "St-Léon-sur-l'Isle",
           "Bourrou"
          ],
          [
           "Bugeat",
           "Bonnefond"
          ],
          [
           "Biarritz",
           "Arcangues"
          ],
          [
           "La Tricherie",
           "Beaumont Saint-Cyr"
          ],
          [
           "Iteuil",
           "Croutelle"
          ],
          [
           "Ondres",
           "Ondres"
          ],
          [
           "Ste-Eulalie-Carbon-Blanc",
           "Carbon-Blanc"
          ],
          [
           "Mussidan",
           "Beaupouyet"
          ],
          [
           "Jonzac",
           "Agudelle"
          ],
          [
           "Orthez",
           "Argagnon"
          ],
          [
           "Bruges",
           "Bruges"
          ],
          [
           "St-Cyprien-en-Dordogne",
           "Allas-les-Mines"
          ],
          [
           "Soulac-sur-Mer",
           "Soulac-sur-Mer"
          ],
          [
           "Ygos",
           "Dax"
          ],
          [
           "Rouillé",
           "Rouillé"
          ],
          [
           "Sarlat",
           "Carsac-Aillac"
          ],
          [
           "Milhac-d'Auberoche",
           "Bassillac et Auberoche"
          ],
          [
           "Mignaloux-Nouaillé",
           "Mignaloux-Beauvoir"
          ],
          [
           "Luxé",
           "Cellettes"
          ],
          [
           "Lafarge",
           "Pierre-Buffière"
          ],
          [
           "Le Buisson",
           "Alles-sur-Dordogne"
          ],
          [
           "Taillebourg",
           "Annepont"
          ],
          [
           "St-Médard-de-Guizières",
           "Abzac"
          ],
          [
           "Dissay",
           "Dissay"
          ],
          [
           "Buzy-en-Béarn",
           "Arudy"
          ],
          [
           "Caudéran-Mérignac",
           "Mérignac"
          ],
          [
           "Halsou-Larressore",
           "Halsou"
          ],
          [
           "Bords",
           "Bords"
          ],
          [
           "Coussac-Bonneval",
           "Chalard"
          ],
          [
           "Dangé",
           "Dangé-Saint-Romain"
          ],
          [
           "Lurbe-St-Christau",
           "Asasp-Arros"
          ],
          [
           "Aytré-Plage",
           "Aytré"
          ],
          [
           "St-Laurent-de-la-Prée",
           "Fouras"
          ],
          [
           "Parsac-Gouzon",
           "Blaudeix"
          ],
          [
           "Château-l'Évêque",
           "Agonac"
          ],
          [
           "La Rochelle-Ville",
           "Rochelle"
          ],
          [
           "Solignac-Le Vigen",
           "Bosmie-l'Aiguille"
          ],
          [
           "Ambazac",
           "Ambazac"
          ],
          [
           "Saubusse-les-Bains",
           "Bénesse-lès-Dax"
          ],
          [
           "Montaut-Bétharram",
           "Arros-de-Nay"
          ],
          [
           "Rochefort",
           "Rochefort"
          ],
          [
           "Ruelle",
           "Magnac-sur-Touvre"
          ],
          [
           "St-Yrieix",
           "Chalard"
          ],
          [
           "St-Médard-d'Eyrans",
           "Cabanac-et-Villagrains"
          ],
          [
           "Felletin",
           "Clairavaux"
          ],
          [
           "Aubazine-St-Hilaire",
           "Albignac"
          ],
          [
           "Ste-Bazeille",
           "Castelnau-sur-Gupie"
          ],
          [
           "Urt",
           "Ayherre"
          ],
          [
           "Chasseneuil-sur-Bonnieure",
           "Cellefrouin"
          ],
          [
           "Cenon",
           "Cenon"
          ],
          [
           "Ruffec",
           "Adjots"
          ],
          [
           "Jassonneix",
           "Ambrugeat"
          ],
          [
           "Ogeu-les-Bains",
           "Buziet"
          ],
          [
           "La Réole",
           "Bagas"
          ],
          [
           "Aiguillon",
           "Aiguillon"
          ],
          [
           "Ossès-St-Martin-d'Arrossa",
           "Bidarray"
          ],
          [
           "St-Junien",
           "Chaillac-sur-Vienne"
          ],
          [
           "Lussac-les-Châteaux",
           "Civaux"
          ],
          [
           "Siorac-en-Périgord",
           "Pays de Belvès"
          ],
          [
           "Aubusson",
           "Alleyrat"
          ],
          [
           "Dax",
           "Dax"
          ],
          [
           "Trémolat",
           "Limeuil"
          ],
          [
           "Vélines",
           "Bonneville-et-Saint-Avit-de-Fumadières"
          ],
          [
           "Anché-Voulon",
           "Anché"
          ],
          [
           "Montendre",
           "Chamouillac"
          ],
          [
           "Fontaines-d'Ozillac",
           "Agudelle"
          ],
          [
           "St-Seurin-sur-l'Isle",
           "Camps-sur-l'Isle"
          ],
          [
           "Limoges-Bénédictins",
           "Limoges"
          ],
          [
           "Boulazac",
           "Boulazac Isle Manoire"
          ],
          [
           "La Croix-du-Prince",
           "Pau"
          ],
          [
           "Lavaufranche",
           "Boussac"
          ],
          [
           "La Souterraine",
           "Noth"
          ],
          [
           "Laroque",
           "Cassignas"
          ],
          [
           "St-Jean-de-Luz-Ciboure",
           "Ciboure"
          ],
          [
           "Pessac",
           "Pessac"
          ],
          [
           "Saillat-Chassenon",
           "Saillat-sur-Vienne"
          ],
          [
           "Gironde",
           "Bagas"
          ],
          [
           "Coarraze-Nay",
           "Arros-de-Nay"
          ],
          [
           "Penne",
           "Auradou"
          ],
          [
           "La Teste",
           "Teste-de-Buch"
          ],
          [
           "St-Saviol",
           "Blanzay"
          ],
          [
           "Labenne",
           "Labenne"
          ],
          [
           "Angoulins-sur-Mer",
           "Angoulins"
          ],
          [
           "Vieilleville",
           "Arrènes"
          ],
          [
           "Aixe-sur-Vienne",
           "Aixe-sur-Vienne"
          ],
          [
           "La Crèche",
           "Crèche"
          ],
          [
           "La Rochefoucauld",
           "Agris"
          ],
          [
           "Itxassou",
           "Ainhoa"
          ],
          [
           "Cavignac",
           "Cavignac"
          ],
          [
           "Bressuire",
           "Argentonnay"
          ],
          [
           "Corrèze",
           "Bar"
          ],
          [
           "Allassac",
           "Allassac"
          ],
          [
           "St-Antoine-de-Breuilh",
           "Bonneville-et-Saint-Avit-de-Fumadières"
          ],
          [
           "Ludon",
           "Blanquefort"
          ],
          [
           "Montpon-Ménestérol",
           "Eygurande-et-Gardedeuil"
          ],
          [
           "Guéthary",
           "Ahetze"
          ],
          [
           "Thiviers",
           "Chalais"
          ],
          [
           "St-Vincent-de-Tyrosse",
           "Bénesse-Maremne"
          ],
          [
           "Montaigut",
           "Bussière-Dunoise"
          ],
          [
           "Bassens",
           "Bassens"
          ],
          [
           "La Jonchère",
           "Billanges"
          ],
          [
           "Mauzac",
           "Badefols-sur-Dordogne"
          ],
          [
           "St-Jean-d'Angély",
           "Antezant-la-Chapelle"
          ],
          [
           "Mont-de-Marsan",
           "Mont-de-Marsan"
          ],
          [
           "St-Pierre-de-Chignac",
           "Bassillac et Auberoche"
          ],
          [
           "Le Teich",
           "Gujan-Mestras"
          ],
          [
           "Monsempron-Libos",
           "Blanquefort-sur-Briolance"
          ],
          [
           "Chasseneuil (Vienne)",
           "Chasseneuil-du-Poitou"
          ],
          [
           "St-Loubès",
           "Izon"
          ],
          [
           "Saujon",
           "Balanzac"
          ],
          [
           "La Grave-d'Ambarès-Gare-Inférieure",
           "Ambarès-et-Lagrave"
          ],
          [
           "Verneuil-sur-Vienne",
           "Verneuil-sur-Vienne"
          ],
          [
           "Naintré-les-Barres",
           "Availles-en-Châtellerault"
          ],
          [
           "Vaulry",
           "Buis"
          ],
          [
           "Tulle",
           "Angles-sur-Corrèze"
          ],
          [
           "Niversac",
           "Bassillac et Auberoche"
          ],
          [
           "Larche",
           "Chartrier-Ferrière"
          ],
          [
           "Cérons",
           "Barsac"
          ],
          [
           "Neuvic",
           "Chantérac"
          ],
          [
           "Douzillac",
           "Chantérac"
          ],
          [
           "Masseret",
           "Benayes"
          ],
          [
           "Aigrefeuille-Le Thou",
           "Aigrefeuille-d'Aunis"
          ],
          [
           "Pauillac",
           "Cissac-Médoc"
          ],
          [
           "St-Sulpice-Izon",
           "Izon"
          ],
          [
           "Châtellerault",
           "Antran"
          ],
          [
           "Villeneuve-la-Comtesse",
           "Bernay-Saint-Martin"
          ],
          [
           "Cornil",
           "Chanac-les-Mines"
          ],
          [
           "La Gorp",
           "Biganos"
          ],
          [
           "Agonac",
           "Agonac"
          ],
          [
           "Port-Ste-Marie",
           "Bazens"
          ],
          [
           "Saintes",
           "Bussac-sur-Charente"
          ],
          [
           "St-Maixent-l'Ecole",
           "Augé"
          ],
          [
           "Cambo-les-Bains",
           "Ainhoa"
          ],
          [
           "Poitiers",
           "Poitiers"
          ],
          [
           "Bidarray-Pont-Noblia",
           "Bidarray"
          ],
          [
           "La Mothe-St-Héray",
           "Avon"
          ],
          [
           "La Rivière-de-Mansac",
           "Cublac"
          ],
          [
           "Lamothe-Landerron",
           "Bagas"
          ],
          [
           "Vayres",
           "Vayres"
          ],
          [
           "Les Deux Jumeaux",
           "Biriatou"
          ],
          [
           "Marsac",
           "Arrènes"
          ],
          [
           "Thenon",
           "Ajat"
          ],
          [
           "Limoges-Montjovis",
           "Limoges"
          ],
          [
           "Peyrilhac-St-Jouvent",
           "Nieul"
          ],
          [
           "Langon",
           "Bieujac"
          ],
          [
           "St-Pierre-d'Aurillac",
           "Caudrot"
          ],
          [
           "St-André-de-Cubzac",
           "Asques"
          ],
          [
           "Chalais",
           "Bardenac"
          ],
          [
           "Châtelaillon",
           "Châtelaillon-Plage"
          ],
          [
           "Objat",
           "Lascaux"
          ],
          [
           "St-Sulpice-Laurière",
           "Bersac-sur-Rivalier"
          ],
          [
           "Gujan-Mestras",
           "Gujan-Mestras"
          ],
          [
           "Les Bardys",
           "Saint-Priest-Taurion"
          ],
          [
           "Uzerche",
           "Condat-sur-Ganaveix"
          ],
          [
           "Castillon",
           "Belvès-de-Castillon"
          ],
          [
           "Bénesse-Maremne",
           "Bénesse-Maremne"
          ],
          [
           "Chabanais",
           "Chabanais"
          ],
          [
           "La Hume",
           "Gujan-Mestras"
          ],
          [
           "Épanvilliers",
           "Brux"
          ],
          [
           "Vignols-St-Solve",
           "Lascaux"
          ],
          [
           "Pont-du-Casse",
           "Bajamont"
          ],
          [
           "Ingrandes-sur-Vienne",
           "Dangé-Saint-Romain"
          ],
          [
           "Varetz",
           "Allassac"
          ],
          [
           "Nexon",
           "Burgnac"
          ],
          [
           "Lamothe-Montravel",
           "Bonneville-et-Saint-Avit-de-Fumadières"
          ],
          [
           "Tonnay-Charente",
           "Bords"
          ],
          [
           "Pamproux",
           "Avon"
          ],
          [
           "Libourne",
           "Arveyres"
          ],
          [
           "Lusignan",
           "Celle-Lévescault"
          ],
          [
           "Cubzac-les-Ponts",
           "Asques"
          ],
          [
           "Artix",
           "Artix"
          ],
          [
           "St-Astier",
           "Bourrou"
          ],
          [
           "Oloron-Ste-Marie",
           "Agnos"
          ],
          [
           "St-Geours",
           "Bénesse-Maremne"
          ],
          [
           "Nieul",
           "Nieul"
          ],
          [
           "Terrasson",
           "Beauregard-de-Terrasson"
          ],
          [
           "Niort",
           "Bessines"
          ],
          [
           "Le Verdon",
           "Verdon-sur-Mer"
          ],
          [
           "Facture-Biganos",
           "Biganos"
          ],
          [
           "Les Églisottes",
           "Abzac"
          ],
          [
           "Turenne",
           "Branceilles"
          ],
          [
           "Arcachon",
           "Arcachon"
          ],
          [
           "Peyrehorade",
           "Bélus"
          ],
          [
           "Lalinde",
           "Badefols-sur-Dordogne"
          ],
          [
           "Bergerac",
           "Bergerac"
          ],
          [
           "Arengosse",
           "Arengosse"
          ],
          [
           "Macau",
           "Arcins"
          ],
          [
           "Bussière-Galant",
           "Bussière-Galant"
          ],
          [
           "Lubersac",
           "Lubersac"
          ],
          [
           "Tonneins",
           "Fauguerolles"
          ],
          [
           "Morcenx",
           "Arengosse"
          ],
          [
           "Pierre-Buffière",
           "Pierre-Buffière"
          ],
          [
           "Pérols",
           "Bonnefond"
          ],
          [
           "Meymac",
           "Ambrugeat"
          ],
          [
           "Ste-Foy-la-Grande",
           "Fougueyrolles"
          ],
          [
           "Lamonzie-St-Martin",
           "Gardonne"
          ],
          [
           "La Bachellerie",
           "Ajat"
          ],
          [
           "Prin-Deyrançon",
           "Amuré"
          ],
          [
           "Beauvoir-sur-Niort",
           "Beauvoir-sur-Niort"
          ],
          [
           "Magnac-Vicq",
           "Château-Chervix"
          ],
          [
           "Les Ormes-sur-Vienne",
           "Dangé-Saint-Romain"
          ],
          [
           "Puyoô",
           "Arancou"
          ],
          [
           "Belvès",
           "Pays de Belvès"
          ],
          [
           "St-Priest-Taurion",
           "Saint-Priest-Taurion"
          ],
          [
           "Assat",
           "Angaïs"
          ],
          [
           "St-Martin-d'Oney",
           "Artassenx"
          ],
          [
           "Bellac",
           "Bellac"
          ],
          [
           "Les Versannes",
           "Bassillac et Auberoche"
          ],
          [
           "La Cave",
           "Carsac-Aillac"
          ],
          [
           "Bersac",
           "Bersac-sur-Rivalier"
          ],
          [
           "St-Brice-sur-Vienne",
           "Chaillac-sur-Vienne"
          ],
          [
           "Cerizay",
           "Bretignolles"
          ],
          [
           "Mérignac-Arlac",
           "Bordeaux"
          ],
          [
           "St-Sébastien",
           "Azerables"
          ],
          [
           "Jarnac",
           "Bourg-Charente"
          ],
          [
           "Le Dorat",
           "Bazeuge"
          ],
          [
           "Busseau-sur-Creuse",
           "Ahun"
          ],
          [
           "Montaignac-St-Hippolyte",
           "Chapelle-Spinasse"
          ],
          [
           "Aubie-St-Antoine",
           "Asques"
          ],
          [
           "Agen",
           "Agen"
          ],
          [
           "Pointe-de-Grave",
           "Soulac-sur-Mer"
          ],
          [
           "St-Jean-Pied-de-Port",
           "Ahaxe-Alciette-Bascassan"
          ],
          [
           "Brignac",
           "Champnétery"
          ],
          [
           "Moulis-Listrac",
           "Avensan"
          ],
          [
           "Parempuyre",
           "Blanquefort"
          ],
          [
           "Bordeaux-St-Jean",
           "Bordeaux"
          ],
          [
           "Lavaveix-les-Mines",
           "Ahun"
          ],
          [
           "Mauzé",
           "Amuré"
          ],
          [
           "Châteauneuf-Bujaleuf",
           "Bujaleuf"
          ],
          [
           "Blanquefort",
           "Blanquefort"
          ],
          [
           "Beillant",
           "Avy"
          ],
          [
           "Fors",
           "Aiffres"
          ],
          [
           "Lesparre",
           "Bégadan"
          ],
          [
           "Villenave-d'Ornon",
           "Cadaujac"
          ],
          [
           "Ychoux",
           "Gastes"
          ],
          [
           "Eymoutiers-Vassivière",
           "Augne"
          ],
          [
           "St-Germain-les-Belles",
           "Château-Chervix"
          ],
          [
           "Arbanats",
           "Arbanats"
          ],
          [
           "La Coquille",
           "Coquille"
          ],
          [
           "Alouette-France",
           "Pessac"
          ],
          [
           "Futuroscope",
           "Chasseneuil-du-Poitou"
          ],
          [
           "Couze",
           "Badefols-sur-Dordogne"
          ],
          [
           "Pompadour",
           "Estivaux"
          ],
          [
           "Villefranche-du-Périgord",
           "Besse"
          ],
          [
           "St-Denis-des-Murs",
           "Champnétery"
          ],
          [
           "Clion-sur-Seugne",
           "Bois"
          ],
          [
           "Portets",
           "Arbanats"
          ],
          [
           "Razac",
           "Annesse-et-Beaulieu"
          ],
          [
           "Montmorillon",
           "Jouhet"
          ],
          [
           "Labouheyre",
           "Commensacq"
          ],
          [
           "Gauriaguet",
           "Asques"
          ],
          [
           "Beautiran",
           "Arbanats"
          ],
          [
           "Châteauneuf-sur-Charente",
           "Angeac-Charente"
          ],
          [
           "Surgères",
           "Breuil-la-Réorte"
          ],
          [
           "Jaunay-Clan",
           "Dissay"
          ],
          [
           "Brive-la-Gaillarde",
           "Brive-la-Gaillarde"
          ],
          [
           "Hendaye",
           "Biriatou"
          ],
          [
           "St-Émilion",
           "Saint-Christophe-des-Bardes"
          ],
          [
           "Vivonne",
           "Château-Larcher"
          ],
          [
           "La Celle-Corrèze",
           "Bonnefond"
          ],
          [
           "Villefranque",
           "Lahonce"
          ],
          [
           "Preignac",
           "Bieujac"
          ],
          [
           "Pau",
           "Pau"
          ],
          [
           "Roumazières-Loubert",
           "Genouillac"
          ],
          [
           "Sarrance",
           "Accous"
          ],
          [
           "Podensac",
           "Barsac"
          ],
          [
           "Margaux",
           "Arcins"
          ],
          [
           "Gardonne",
           "Gardonne"
          ],
          [
           "Marmande",
           "Beaupuy"
          ],
          [
           "Condat-le-Lardin",
           "Condat-sur-Vézère"
          ],
          [
           "St-Aigulin-La Roche-Chalais",
           "Barde"
          ],
          [
           "Gazinet-Cestas",
           "Canéjan"
          ],
          [
           "La Jarrie",
           "Bourgneuf"
          ],
          [
           "Le Burg",
           "Allassac"
          ],
          [
           "Vigeois",
           "Estivaux"
          ],
          [
           "Cognac",
           "Boutiers-Saint-Trojan"
          ],
          [
           "Barsac",
           "Barsac"
          ],
          [
           "Pons",
           "Avy"
          ],
          [
           "St-Mariens-St-Yzan",
           "Cavignac"
          ],
          [
           "Fromental",
           "Bessines-sur-Gartempe"
          ],
          [
           "Guéret",
           "Anzême"
          ],
          [
           "Les Eyzies",
           "Eyzies-de-Tayac-Sireuil"
          ],
          [
           "Montmoreau",
           "Aignes-et-Puypéroux"
          ],
          [
           "St-Savinien-sur-Charente",
           "Annepont"
          ],
          [
           "Bussac",
           "Bussac-sur-Charente"
          ],
          [
           "Royan",
           "Royan"
          ],
          [
           "St-Denis-de-Pile",
           "Bonzac"
          ],
          [
           "La Rochelle-Porte-Dauphine",
           "Rochelle"
          ],
          [
           "St-Macaire",
           "Caudrot"
          ],
          [
           "Périgueux",
           "Périgueux"
          ],
          [
           "Thouars",
           "Brie"
          ],
          [
           "Bedous",
           "Accous"
          ],
          [
           "Lathus",
           "Bourg-Archambault"
          ],
          [
           "Mauzens-Miremont",
           "Audrix"
          ],
          [
           "Ustaritz",
           "Halsou"
          ],
          [
           "Loulay",
           "Bernay-Saint-Martin"
          ],
          [
           "St-Aulaire",
           "Lascaux"
          ],
          [
           "Coutras",
           "Abzac"
          ],
          [
           "St-Léonard-de-Noblat",
           "Champnétery"
          ],
          [
           "Bayonne",
           "Bayonne"
          ],
          [
           "Ussel",
           "Aix"
          ],
          [
           "Le Bugue",
           "Audrix"
          ],
          [
           "St-Hilaire-Brizambourg",
           "Aujac"
          ],
          [
           "Marcheprime",
           "Biganos"
          ],
          [
           "La Meyze",
           "Burgnac"
          ],
          [
           "Le Boucau",
           "Boucau"
          ],
          [
           "Négrondes",
           "Agonac"
          ],
          [
           "Bègles",
           "Bègles"
          ],
          [
           "Nantiat",
           "Buis"
          ],
          [
           "Limeyrat",
           "Ajat"
          ],
          [
           "L'Aiguille",
           "Bosmie-l'Aiguille"
          ],
          [
           "Marigny",
           "Beauvoir-sur-Niort"
          ],
          [
           "Louhossoa",
           "Ainhoa"
          ],
          [
           "Gan",
           "Aubertin"
          ],
          [
           "Sauveterre-la-Lémance",
           "Blanquefort-sur-Briolance"
          ],
          [
           "La Porcherie",
           "Château-Chervix"
          ],
          [
           "Ligugé",
           "Croutelle"
          ],
          [
           "St-Victurnien",
           "Sainte-Marie-de-Vaux"
          ],
          [
           "Égletons",
           "Chapelle-Spinasse"
          ],
          [
           "Prissé-la-Charrière",
           "Beauvoir-sur-Niort"
          ],
          [
           "Exideuil-sur-Vienne",
           "Chabanais"
          ],
          [
           "Caudrot",
           "Caudrot"
          ]
         ],
         "hovertemplate": "nom_region=Nouvelle-Aquitaine<br>Total Voyageurs=%{y}<br>libelle=%{customdata[0]}<br>nom_commune=%{customdata[1]}<extra></extra>",
         "legendgroup": "Nouvelle-Aquitaine",
         "marker": {
          "color": "#19d3f3"
         },
         "name": "Nouvelle-Aquitaine",
         "notched": false,
         "offsetgroup": "Nouvelle-Aquitaine",
         "orientation": "v",
         "showlegend": true,
         "type": "box",
         "x0": " ",
         "xaxis": "x",
         "y": [
          66894,
          23551,
          10215,
          829355,
          27027,
          18291,
          21477,
          61960,
          192487,
          148435,
          276940,
          27546,
          15474,
          73908,
          43728,
          16897,
          72932,
          0,
          5235,
          35549,
          1256,
          48018,
          0,
          67583,
          34477,
          14379,
          51052,
          8190,
          20131,
          0,
          31152,
          1828,
          15272,
          39834,
          669,
          5171,
          2925287,
          4834,
          44786,
          12950,
          338,
          643312,
          0,
          22244,
          92078,
          882,
          10482,
          2431,
          7289,
          301,
          949066,
          87227,
          1826,
          12937,
          293048,
          152744,
          8372,
          28345,
          29910,
          19450,
          1583,
          1262676,
          5524,
          71042,
          18386,
          57414,
          0,
          138864,
          1888977,
          32033,
          7338,
          988,
          203529,
          1571,
          542621,
          1150020,
          4588,
          7027,
          75278,
          14799,
          407005,
          42394,
          62827,
          16334,
          3558,
          14209,
          31068,
          0,
          3996,
          81007,
          16931,
          7311,
          35310,
          6964,
          72288,
          180284,
          47682,
          125501,
          241982,
          1747,
          66764,
          17573,
          1616,
          49530,
          481273,
          5204,
          309824,
          41002,
          20844,
          158784,
          60164,
          30196,
          0,
          32609,
          1,
          170783,
          19216,
          1,
          430947,
          52732,
          0,
          8253,
          61127,
          100429,
          133794,
          623414,
          1274,
          9924,
          162524,
          9537,
          75873,
          739640,
          214436,
          17865,
          3718607,
          3346,
          3910,
          13144,
          2115,
          73683,
          51946,
          7688,
          22300,
          18369,
          2796,
          924219,
          12813,
          690394,
          35324,
          130373,
          19923,
          43524,
          456628,
          7754,
          88045,
          203032,
          33864,
          180,
          176379,
          1220,
          0,
          0,
          10058,
          2595,
          72676,
          10450,
          31636,
          13045,
          1784433,
          53287,
          19820,
          82495,
          201212,
          121893,
          14459,
          4723,
          39148,
          1482134,
          16700,
          1189744,
          24938,
          1241,
          1256111,
          39856,
          32349,
          398081,
          4233,
          67598,
          21784,
          2,
          234949,
          265157,
          24338,
          466,
          30977,
          229625,
          7468,
          0,
          2787,
          39487,
          19854,
          5622,
          73033,
          3850,
          20498,
          1503,
          77123,
          35242,
          4049,
          4,
          5373,
          1450,
          1493,
          96885,
          5523,
          43336,
          19952,
          1632,
          2888,
          57877,
          1640325,
          2435,
          74817,
          334,
          45667,
          87572,
          22612374,
          303,
          128173,
          4556,
          133915,
          347,
          32339,
          128930,
          11083,
          219131,
          54327,
          18459,
          47658,
          18053,
          418538,
          171433,
          4,
          474,
          529,
          5419,
          0,
          137512,
          26425,
          45973,
          115897,
          70044,
          379553,
          45300,
          500836,
          25038,
          1223183,
          490981,
          158142,
          46072,
          1884,
          1862,
          6662,
          1275571,
          0,
          1236,
          99782,
          62428,
          43807,
          603172,
          33315,
          33004,
          413667,
          28546,
          2180,
          8513,
          151834,
          15481,
          44166,
          230206,
          1664,
          78837,
          19771,
          22189,
          20203,
          2192,
          272843,
          32649,
          85883,
          17365,
          1058844,
          29179,
          22697,
          3107,
          0,
          7526,
          874,
          5519,
          428616,
          38989,
          1475383,
          62274,
          13311,
          1154,
          568206,
          2651,
          14525,
          9037,
          51657,
          19639,
          2,
          2201,
          13441,
          0,
          7282,
          890,
          6865,
          15885,
          4958,
          46963,
          7482,
          0,
          11150
         ],
         "y0": " ",
         "yaxis": "y"
        },
        {
         "alignmentgroup": "True",
         "boxpoints": "all",
         "customdata": [
          [
           "Creil",
           "Creil"
          ],
          [
           "St-Roch (Somme)",
           "Amiens"
          ],
          [
           "Montreuil-sur-Mer",
           "Aix-en-Issart"
          ],
          [
           "Sallaumines",
           "Sallaumines"
          ],
          [
           "La Bouteille",
           "Bancigny"
          ],
          [
           "Tergnier",
           "Amigny-Rouy"
          ],
          [
           "Laboissière-le-Déluge",
           "Andeville"
          ],
          [
           "Vervins",
           "Bancigny"
          ],
          [
           "Valenciennes",
           "Aulnoy-lez-Valenciennes"
          ],
          [
           "Coron-de-Méricourt",
           "Méricourt"
          ],
          [
           "Vaumoise",
           "Ancienville"
          ],
          [
           "Fresnoy-le-Grand",
           "Fresnoy-le-Grand"
          ],
          [
           "Mennessis",
           "Amigny-Rouy"
          ],
          [
           "Annappes",
           "Villeneuve-d'Ascq"
          ],
          [
           "Arnèke",
           "Arnèke"
          ],
          [
           "Lesquin",
           "Lesquin"
          ],
          [
           "Renescure",
           "Blaringhem"
          ],
          [
           "Hénin-Beaumont",
           "Hénin-Beaumont"
          ],
          [
           "Avesnelles",
           "Avesnelles"
          ],
          [
           "Roubaix",
           "Roubaix"
          ],
          [
           "St-Erme",
           "Aizelles"
          ],
          [
           "Hautmont",
           "Beaufort"
          ],
          [
           "Calonne-Ricouart",
           "Calonne-Ricouart"
          ],
          [
           "Landas",
           "Aix"
          ],
          [
           "Chauny",
           "Abbécourt"
          ],
          [
           "Bornel-Belle-Église",
           "Belle-Église"
          ],
          [
           "Dunkerque",
           "Dunkerque"
          ],
          [
           "Corbie",
           "Aubigny"
          ],
          [
           "Nortkerque",
           "Audruicq"
          ],
          [
           "Milly-sur-Thérain",
           "Bonnières"
          ],
          [
           "Wimille-Wimereux",
           "Conteville-lès-Boulogne"
          ],
          [
           "Sin-le-Noble",
           "Sin-le-Noble"
          ],
          [
           "La Borne-Blanche",
           "Orry-la-Ville"
          ],
          [
           "Formerie",
           "Abancourt"
          ],
          [
           "La Faloise",
           "Ailly-sur-Noye"
          ],
          [
           "Quesnoy-le-Montant",
           "Bellancourt"
          ],
          [
           "Tincques",
           "Ambrines"
          ],
          [
           "Marquise-Rinxent",
           "Audembert"
          ],
          [
           "Rue",
           "Argoules"
          ],
          [
           "Don-Sainghin",
           "Don"
          ],
          [
           "Ormoy-Villers",
           "Auger-Saint-Vincent"
          ],
          [
           "Arras",
           "Arras"
          ],
          [
           "Montataire",
           "Montataire"
          ],
          [
           "Ronchin",
           "Ronchin"
          ],
          [
           "Sains-du-Nord",
           "Rainsars"
          ],
          [
           "Albert",
           "Albert"
          ],
          [
           "Frévin-Capelle",
           "Agnières"
          ],
          [
           "Longueil-Annel",
           "Chevincourt"
          ],
          [
           "Brimeux",
           "Aix-en-Issart"
          ],
          [
           "Salomé",
           "Hantay"
          ],
          [
           "Lavilletertre",
           "Bachivillers"
          ],
          [
           "Poix-de-Picardie",
           "Bergicourt"
          ],
          [
           "Hachette",
           "Beaudignies"
          ],
          [
           "Aulnoye-Aymeries",
           "Aulnoye-Aymeries"
          ],
          [
           "Fourmies",
           "Féron"
          ],
          [
           "Guignicourt",
           "Aguilcourt"
          ],
          [
           "Nogent-l'Artaud-Charly",
           "Bézu-le-Guéry"
          ],
          [
           "Verneuil-sur-Serre",
           "Aulnois-sous-Laon"
          ],
          [
           "Montigny-en-Ostrevent",
           "Loffre"
          ],
          [
           "Wambaix",
           "Anneux"
          ],
          [
           "Bauvin-Provin",
           "Bauvin"
          ],
          [
           "Vis-à-Marles",
           "Boiry-Notre-Dame"
          ],
          [
           "Busigny",
           "Busigny"
          ],
          [
           "Esches",
           "Amblainville"
          ],
          [
           "St-Sulpice-Auteuil",
           "Abbecourt"
          ],
          [
           "Prouvy-Thiant",
           "Haulchin"
          ],
          [
           "Amifontaine",
           "Aguilcourt"
          ],
          [
           "Hazebrouck",
           "Borre"
          ],
          [
           "St-Pol-sur-Ternoise",
           "Beauvois"
          ],
          [
           "Feuquières-Broquiers",
           "Feuquières"
          ],
          [
           "Woincourt",
           "Méneslies"
          ],
          [
           "Nomain",
           "Aix"
          ],
          [
           "Ham",
           "Breuil"
          ],
          [
           "Bourbourg",
           "Bourbourg"
          ],
          [
           "Orry-la-Ville-Coye",
           "Orry-la-Ville"
          ],
          [
           "Cassel",
           "Bavinchove"
          ],
          [
           "Corbehem",
           "Corbehem"
          ],
          [
           "Savy-Berlette",
           "Agnières"
          ],
          [
           "Longueil-Ste-Marie",
           "Longueil-Sainte-Marie"
          ],
          [
           "Hirson-Écoles",
           "Any-Martin-Rieux"
          ],
          [
           "Pont-de-Briques",
           "Baincthun"
          ],
          [
           "Phalempin",
           "Camphin-en-Carembault"
          ],
          [
           "Fouilloy",
           "Abancourt"
          ],
          [
           "Abancourt",
           "Abancourt"
          ],
          [
           "Aubigny-au-Bac",
           "Aubencheul-au-Bac"
          ],
          [
           "Bazoches",
           "Augy"
          ],
          [
           "Ailly-sur-Noye",
           "Ailly-sur-Noye"
          ],
          [
           "Lezennes",
           "Lezennes"
          ],
          [
           "Grandvilliers",
           "Beaudéduit"
          ],
          [
           "Nesle",
           "Béthencourt-sur-Somme"
          ],
          [
           "Beaurainville",
           "Beaurainville"
          ],
          [
           "Coudekerque-Branche",
           "Coudekerque-Branche"
          ],
          [
           "Compiègne",
           "Compiègne"
          ],
          [
           "Rosult",
           "Château-l'Abbaye"
          ],
          [
           "Calais-Fréthun",
           "Fréthun"
          ],
          [
           "Wattignies-Templemars",
           "Cerfontaine"
          ],
          [
           "St-Amand-les-Eaux",
           "Château-l'Abbaye"
          ],
          [
           "Escaudoeuvres",
           "Cagnoncles"
          ],
          [
           "Précy-sur-Oise",
           "Blaincourt-lès-Précy"
          ],
          [
           "Lens",
           "Éleu-dit-Leauwette"
          ],
          [
           "Pont-de-la-Deûle",
           "Flers-en-Escrebieux"
          ],
          [
           "Pont-d'Ardres",
           "Ardres"
          ],
          [
           "Chaulnes",
           "Ablaincourt-Pressoir"
          ],
          [
           "Hellemmes",
           "Lezennes"
          ],
          [
           "Beau-Marais",
           "Calais"
          ],
          [
           "Balagny-St-Épin",
           "Angy"
          ],
          [
           "Moreuil",
           "Aubercourt"
          ],
          [
           "Pont-Remy",
           "Bray-lès-Mareuil"
          ],
          [
           "Ors",
           "Bazuel"
          ],
          [
           "Cambrai",
           "Anneux"
          ],
          [
           "Avesnes",
           "Avesnelles"
          ],
          [
           "Méru",
           "Amblainville"
          ],
          [
           "Roeux",
           "Biache-Saint-Vaast"
          ],
          [
           "Hangest",
           "Belloy-sur-Somme"
          ],
          [
           "Libercourt",
           "Libercourt"
          ],
          [
           "Somain",
           "Bruille-lez-Marchiennes"
          ],
          [
           "Le Cateau",
           "Bazuel"
          ],
          [
           "Corcy",
           "Ancienville"
          ],
          [
           "Montescourt",
           "Benay"
          ],
          [
           "Loos-lez-Lille",
           "Loos"
          ],
          [
           "Buire-sur-l'Ancre",
           "Albert"
          ],
          [
           "Chepy-Valines",
           "Acheux-en-Vimeu"
          ],
          [
           "Beuvrages",
           "Beuvrages"
          ],
          [
           "Iwuy",
           "Iwuy"
          ],
          [
           "La Bassée",
           "Bassée"
          ],
          [
           "Montdidier",
           "Assainvillers"
          ],
          [
           "Dannes-Camiers",
           "Dannes"
          ],
          [
           "Bailleul-Sir-Berthoult",
           "Arleux-en-Gohelle"
          ],
          [
           "Breteuil-Embranchement",
           "Ansauvillers"
          ],
          [
           "Les Fontinettes",
           "Calais"
          ],
          [
           "Namps-Quevauvillers",
           "Quevauvillers"
          ],
          [
           "Watten-Éperlecques",
           "Bayenghem-lès-Éperlecques"
          ],
          [
           "Estrées-St-Denis",
           "Arsy"
          ],
          [
           "Beuvry (Pas-de-Calais)",
           "Beuvry"
          ],
          [
           "Clacy-Mons",
           "Aulnois-sous-Laon"
          ],
          [
           "Noyon",
           "Appilly"
          ],
          [
           "Lille-Europe",
           "Lille"
          ],
          [
           "Laigneville",
           "Cambronne-lès-Clermont"
          ],
          [
           "Rémy",
           "Arsy"
          ],
          [
           "Mouy-Bury",
           "Angy"
          ],
          [
           "Gannes",
           "Ansauvillers"
          ],
          [
           "Hermes-Berthecourt",
           "Berthecourt"
          ],
          [
           "La Fontaine",
           "Wavrin"
          ],
          [
           "Boran-sur-Oise",
           "Boran-sur-Oise"
          ],
          [
           "Jeumont",
           "Jeumont"
          ],
          [
           "Maroeuil",
           "Agnez-lès-Duisans"
          ],
          [
           "Château-Thierry",
           "Azy-sur-Marne"
          ],
          [
           "Chézy-sur-Marne",
           "Chapelle-sur-Chézy"
          ],
          [
           "Loos-en-Gohelle",
           "Loos-en-Gohelle"
          ],
          [
           "Villers-Cotterêts",
           "Ancienville"
          ],
          [
           "Hirson",
           "Any-Martin-Rieux"
          ],
          [
           "Comines",
           "Comines"
          ],
          [
           "Farbus",
           "Arleux-en-Gohelle"
          ],
          [
           "Isbergues",
           "Guarbecque"
          ],
          [
           "Ruminghem",
           "Audruicq"
          ],
          [
           "Ascq",
           "Villeneuve-d'Ascq"
          ],
          [
           "Marle-sur-Serre",
           "Autremencourt"
          ],
          [
           "Lille-Porte-de-Douai",
           "Lille"
          ],
          [
           "Bailleul",
           "Bailleul"
          ],
          [
           "Mareuil-sur-Ourcq",
           "Autheuil-en-Valois"
          ],
          [
           "Hesdin",
           "Aubin-Saint-Vaast"
          ],
          [
           "Étaples-Le Touquet",
           "Cormont"
          ],
          [
           "Denain",
           "Denain"
          ],
          [
           "Anizy-Pinon",
           "Allemant"
          ],
          [
           "Ennevelin",
           "Avelin"
          ],
          [
           "Longpré-les-Corps-Saints",
           "Cocquerel"
          ],
          [
           "Chaumont-en-Vexin",
           "Bachivillers"
          ],
          [
           "Rang-du-Fliers-Verton",
           "Airon-Notre-Dame"
          ],
          [
           "Rochy-Condé",
           "Bonlier"
          ],
          [
           "Longueau",
           "Cagny"
          ],
          [
           "Trith-St-Léger",
           "Trith-Saint-Léger"
          ],
          [
           "Chantilly-Gouvieux",
           "Chantilly"
          ],
          [
           "Douai",
           "Douai"
          ],
          [
           "Lille CHR",
           "Lille"
          ],
          [
           "Cramoisy",
           "Cires-lès-Mello"
          ],
          [
           "Thézy-Glimont",
           "Aubercourt"
          ],
          [
           "Bohain",
           "Aisonville-et-Bernoville"
          ],
          [
           "Pont-à-Vendin",
           "Annay"
          ],
          [
           "Bertry",
           "Bertry"
          ],
          [
           "St-Leu-d'Esserent",
           "Saint-Leu-d'Esserent"
          ],
          [
           "Crépy-Couvron",
           "Besny-et-Loizy"
          ],
          [
           "Meurchin",
           "Bénifontaine"
          ],
          [
           "Laon",
           "Aulnois-sous-Laon"
          ],
          [
           "Fère-en-Tardenois",
           "Arcy-Sainte-Restitue"
          ],
          [
           "Ebblinghem",
           "Blaringhem"
          ],
          [
           "Crépy-en-Valois",
           "Auger-Saint-Vincent"
          ],
          [
           "Margival",
           "Braye"
          ],
          [
           "Wallers",
           "Bellaing"
          ],
          [
           "Montreuil-sur-Thérain",
           "Montreuil-sur-Thérain"
          ],
          [
           "Clermont-de-l'Oise",
           "Agnetz"
          ],
          [
           "Boves",
           "Blangy-Tronville"
          ],
          [
           "Nieppe",
           "Nieppe"
          ],
          [
           "Maresquel",
           "Beaurainville"
          ],
          [
           "Tricot",
           "Coivrel"
          ],
          [
           "St-Remy-en-l'Eau",
           "Angivillers"
          ],
          [
           "La Fère",
           "Achery"
          ],
          [
           "Heilles-Mouchy",
           "Angy"
          ],
          [
           "Grande-Synthe",
           "Grande-Synthe"
          ],
          [
           "Vauxaillon",
           "Allemant"
          ],
          [
           "Boisleux",
           "Boiry-Saint-Martin"
          ],
          [
           "Versigny",
           "Achery"
          ],
          [
           "Audruicq",
           "Audruicq"
          ],
          [
           "Liévin",
           "Liévin"
          ],
          [
           "Courcelles-le-Comte",
           "Achiet-le-Grand"
          ],
          [
           "Mont-de-Terre",
           "Lille"
          ],
          [
           "Chocques",
           "Chocques"
          ],
          [
           "Caffiers",
           "Boursin"
          ],
          [
           "Gravelines",
           "Gravelines"
          ],
          [
           "Bergues",
           "Armbouts-Cappel"
          ],
          [
           "Billy-Montigny",
           "Billy-Montigny"
          ],
          [
           "Villers-St-Sépulcre",
           "Montreuil-sur-Thérain"
          ],
          [
           "Cattenières",
           "Bévillers"
          ],
          [
           "Boulogne-Tintelleries",
           "Boulogne-sur-Mer"
          ],
          [
           "Villers-St-Paul",
           "Brenouille"
          ],
          [
           "Raismes",
           "Raismes"
          ],
          [
           "Haubourdin",
           "Emmerin"
          ],
          [
           "Baisieux",
           "Baisieux"
          ],
          [
           "Abbeville",
           "Abbeville"
          ],
          [
           "Miraumont",
           "Albert"
          ],
          [
           "Barenton-Bugny",
           "Aulnois-sous-Laon"
          ],
          [
           "Ham-en-Artois",
           "Ames"
          ],
          [
           "Picquigny",
           "Belloy-sur-Somme"
          ],
          [
           "Pont-Ste-Maxence",
           "Ageux"
          ],
          [
           "Wacquemoulin",
           "Coivrel"
          ],
          [
           "Lourches",
           "Mastaing"
          ],
          [
           "Caudry",
           "Beaumont-en-Cambrésis"
          ],
          [
           "Mazingarbe",
           "Mazingarbe"
          ],
          [
           "Le Poirier-Université",
           "Trith-Saint-Léger"
          ],
          [
           "St-Quentin",
           "Essigny-le-Petit"
          ],
          [
           "Aubin-St-Vaast",
           "Aubin-Saint-Vaast"
          ],
          [
           "Cires-lès-Mello",
           "Cires-lès-Mello"
          ],
          [
           "Pont-de-Sallaumines",
           "Sallaumines"
          ],
          [
           "Dourges",
           "Dourges"
          ],
          [
           "Sérifontaine",
           "Boutencourt"
          ],
          [
           "Acheux-Franleu",
           "Acheux-en-Amiénois"
          ],
          [
           "Templeuve",
           "Cappelle-en-Pévèle"
          ],
          [
           "Rosières",
           "Bayonvillers"
          ],
          [
           "Maubeuge",
           "Assevent"
          ],
          [
           "Pérenchies",
           "Lompret"
          ],
          [
           "Vierzy",
           "Armentières-sur-Ourcq"
          ],
          [
           "Wambrechies",
           "Wambrechies"
          ],
          [
           "Flavy-le-Martel",
           "Flavy-le-Martel"
          ],
          [
           "Marquette",
           "Marcq-en-Ostrevent"
          ],
          [
           "Biache-St-Vaast",
           "Biache-Saint-Vaast"
          ],
          [
           "St-André",
           "Saint-André-lez-Lille"
          ],
          [
           "Origny-en-Thiérache",
           "Origny-en-Thiérache"
          ],
          [
           "Loison-sous-Lens",
           "Loison-sous-Lens"
          ],
          [
           "Marquillies",
           "Marquillies"
          ],
          [
           "Pihen",
           "Andres"
          ],
          [
           "Strazeele",
           "Bailleul"
          ],
          [
           "Landrecies",
           "Beaurepaire-sur-Sambre"
          ],
          [
           "Chevrières",
           "Chevrières"
          ],
          [
           "Lillers",
           "Ames"
          ],
          [
           "Voyenne",
           "Autremencourt"
          ],
          [
           "Rieux-Angicourt",
           "Brenouille"
          ],
          [
           "Thourotte",
           "Chevincourt"
          ],
          [
           "Esquelbecq",
           "Bambecque"
          ],
          [
           "Liancourt-Rantigny",
           "Bailleval"
          ],
          [
           "TGV Haute-Picardie",
           "Aizecourt-le-Haut"
          ],
          [
           "Les Bons-Pères",
           "Rousies"
          ],
          [
           "Le Haut-Banc",
           "Audembert"
          ],
          [
           "Longpont",
           "Ancienville"
          ],
          [
           "Le Plessis-Belleville",
           "Ève"
          ],
          [
           "Leval",
           "Aulnoye-Aymeries"
          ],
          [
           "St-Omer",
           "Boisdinghem"
          ],
          [
           "Dommartin-Remiencourt",
           "Blangy-Tronville"
          ],
          [
           "Feuquerolles",
           "Béthencourt-sur-Somme"
          ],
          [
           "Tourcoing",
           "Tourcoing"
          ],
          [
           "Steenbecque",
           "Boëseghem"
          ],
          [
           "Trie-Château",
           "Boutencourt"
          ],
          [
           "Daours",
           "Aubigny"
          ],
          [
           "La Madeleine",
           "Madeleine"
          ],
          [
           "Blangy-sur-Ternoise",
           "Auchy-lès-Hesdin"
          ],
          [
           "Bouchain",
           "Bouchain"
          ],
          [
           "Brebières-Sud",
           "Brebières"
          ],
          [
           "Hargicourt-Pierrepont",
           "Assainvillers"
          ],
          [
           "Brunémont",
           "Arleux"
          ],
          [
           "Louvroil",
           "Louvroil"
          ],
          [
           "St-Just-en-Chaussée",
           "Angivillers"
          ],
          [
           "La Ferté-Milon",
           "Ferté-Milon"
          ],
          [
           "Dercy-Froidmont",
           "Assis-sur-Serre"
          ],
          [
           "Vitry-en-Artois",
           "Bellonne"
          ],
          [
           "Anor",
           "Anor"
          ],
          [
           "Dompierre",
           "Avesnelles"
          ],
          [
           "Bully-Grenay",
           "Aix-Noulette"
          ],
          [
           "Aubigny-en-Artois",
           "Agnières"
          ],
          [
           "Cuinchy",
           "Annequin"
          ],
          [
           "Seclin",
           "Seclin"
          ],
          [
           "Hesdigneul",
           "Hesdigneul-lès-Béthune"
          ],
          [
           "Ste-Marguerite",
           "Haverskerque"
          ],
          [
           "Liancourt-St-Pierre",
           "Bachivillers"
          ],
          [
           "Soissons",
           "Acy"
          ],
          [
           "Le Meux-la-Croix-St-Ouen",
           "Armancourt"
          ],
          [
           "Nanteuil-le-Haudouin",
           "Boissy-Fresnoy"
          ],
          [
           "Orchies",
           "Aix"
          ],
          [
           "Croix-Wasquehal",
           "Croix"
          ],
          [
           "Crouy",
           "Braye"
          ],
          [
           "Marseille-en-Beauvaisis",
           "Blicourt"
          ],
          [
           "Ailly-sur-Somme",
           "Ailly-sur-Somme"
          ],
          [
           "Deûlémont",
           "Deûlémont"
          ],
          [
           "Ribécourt",
           "Bailly"
          ],
          [
           "St-Omer-en-Chaussée",
           "Blicourt"
          ],
          [
           "Fretin",
           "Fretin"
          ],
          [
           "Herchies",
           "Bonnières"
          ],
          [
           "Santes",
           "Santes"
          ],
          [
           "Avion",
           "Avion"
          ],
          [
           "Neufchâtel-Hardelot",
           "Nesles"
          ],
          [
           "Sous-le-Bois",
           "Assevent"
          ],
          [
           "Fouquereuil",
           "Annezin"
          ],
          [
           "Anvin",
           "Anvin"
          ],
          [
           "Le Quesnoy",
           "Beaudignies"
          ],
          [
           "Ourscamps",
           "Chiry-Ourscamp"
          ],
          [
           "Auchy-lès-Hesdin",
           "Auchy-lès-Hesdin"
          ],
          [
           "Croix-l'Allumette",
           "Croix"
          ],
          [
           "Lille-Flandres",
           "Lille"
          ],
          [
           "Armentières",
           "Armentières"
          ],
          [
           "Beauvais",
           "Allonne"
          ],
          [
           "Steenwerck",
           "Steenwerck"
          ],
          [
           "Cantin",
           "Cantin"
          ],
          [
           "Coucy-lès-Eppes",
           "Athies-sous-Laon"
          ],
          [
           "Calais-Ville",
           "Calais"
          ],
          [
           "Aguilcourt-Variscourt",
           "Aguilcourt"
          ],
          [
           "Noeux-les-Mines",
           "Aubrometz"
          ],
          [
           "St-Hilaire",
           "Saint-Hilaire-lez-Cambrai"
          ],
          [
           "Leforest",
           "Leforest"
          ],
          [
           "Feuquières-Fressenneville",
           "Acheux-en-Vimeu"
          ],
          [
           "Wavrin",
           "Wavrin"
          ],
          [
           "Chambly",
           "Chambly"
          ],
          [
           "Thiennes",
           "Boëseghem"
          ],
          [
           "Viry-Noureuil",
           "Abbécourt"
          ],
          [
           "Béthune",
           "Béthune"
          ],
          [
           "Méricourt-Ribemont",
           "Bray-sur-Somme"
          ],
          [
           "Avrechy",
           "Angivillers"
          ],
          [
           "Maurois",
           "Bertry"
          ],
          [
           "Appilly",
           "Appilly"
          ],
          [
           "Arleux",
           "Arleux"
          ],
          [
           "Recquignies",
           "Recquignies"
          ],
          [
           "Vimy",
           "Arleux-en-Gohelle"
          ],
          [
           "Berlaimont",
           "Berlaimont"
          ],
          [
           "Jaux",
           "Armancourt"
          ],
          [
           "Ostricourt",
           "Ostricourt"
          ],
          [
           "Pernes-Camblain",
           "Aumerval"
          ],
          [
           "Achiet",
           "Achiet-le-Grand"
          ],
          [
           "Pont-de-Bois",
           "Villeneuve-d'Ascq"
          ],
          [
           "Quesnoy-sur-Deûle",
           "Deûlémont"
          ]
         ],
         "hovertemplate": "nom_region=Hauts-de-France<br>Total Voyageurs=%{y}<br>libelle=%{customdata[0]}<br>nom_commune=%{customdata[1]}<extra></extra>",
         "legendgroup": "Hauts-de-France",
         "marker": {
          "color": "#FF6692"
         },
         "name": "Hauts-de-France",
         "notched": false,
         "offsetgroup": "Hauts-de-France",
         "orientation": "v",
         "showlegend": true,
         "type": "box",
         "x0": " ",
         "xaxis": "x",
         "y": [
          5392059,
          72582,
          48213,
          15135,
          4135,
          531177,
          58907,
          82376,
          3144191,
          18002,
          5422,
          31356,
          15122,
          1217,
          128509,
          160619,
          14902,
          527729,
          3358,
          127293,
          92904,
          55845,
          33978,
          79417,
          575095,
          319556,
          2042446,
          398540,
          8070,
          10090,
          35330,
          18815,
          148582,
          14393,
          12440,
          0,
          20403,
          144743,
          191427,
          164588,
          35167,
          4454183,
          55887,
          65916,
          50051,
          600665,
          7637,
          27737,
          3722,
          10781,
          16787,
          154026,
          184,
          679990,
          177248,
          166350,
          583297,
          8008,
          144760,
          418,
          125309,
          21418,
          73720,
          51756,
          152935,
          2380,
          17239,
          1822071,
          187706,
          31951,
          639,
          2100,
          181300,
          22835,
          2070795,
          134927,
          26133,
          53928,
          34598,
          42788,
          831,
          257305,
          4677,
          77974,
          27464,
          2959,
          158871,
          1855,
          88243,
          100044,
          24306,
          9750,
          2537416,
          74691,
          743226,
          58212,
          805429,
          2102,
          83661,
          1682652,
          25078,
          6607,
          142192,
          400,
          3364,
          9835,
          212537,
          21237,
          544,
          704456,
          146849,
          953660,
          25223,
          48759,
          886480,
          375718,
          29666,
          30,
          17265,
          47194,
          3293,
          107,
          1804,
          6276,
          310510,
          194631,
          7815,
          566,
          47637,
          28315,
          642,
          115840,
          64751,
          13296,
          830,
          638091,
          6721133,
          167618,
          8698,
          204405,
          2969,
          132485,
          3183,
          49424,
          76439,
          8403,
          1874036,
          148629,
          4593,
          408057,
          157237,
          455,
          614,
          164956,
          34404,
          22382,
          71908,
          36478,
          1169248,
          92246,
          57469,
          524304,
          21034,
          116605,
          2219,
          164696,
          305958,
          311769,
          10804,
          455948,
          15877,
          2762384,
          3221478,
          349246,
          3601,
          15910,
          139743,
          113378,
          5096,
          123708,
          3634,
          47118,
          875832,
          162,
          14778,
          1641932,
          31,
          10771,
          3049,
          1062992,
          15539,
          67428,
          1814,
          61346,
          236,
          135802,
          5133,
          11507,
          7639,
          1857,
          2038,
          306468,
          44885,
          1197,
          532,
          2510,
          1479,
          37070,
          180746,
          192694,
          11325,
          17,
          232431,
          86012,
          31894,
          69690,
          56211,
          922376,
          14826,
          11265,
          2176,
          92474,
          882979,
          1863,
          9126,
          142437,
          1929,
          84969,
          1319977,
          1416,
          130883,
          3646,
          229321,
          5949,
          0,
          662620,
          151492,
          562000,
          98953,
          965,
          14,
          14799,
          44,
          69391,
          23034,
          6501,
          9749,
          15475,
          577,
          57054,
          12310,
          38607,
          173074,
          9864,
          152756,
          55167,
          158634,
          281095,
          337464,
          1318,
          1658,
          295,
          784687,
          2749,
          942826,
          12092,
          0,
          710223,
          581,
          34716,
          33546,
          19529,
          1941,
          27510,
          88579,
          22416,
          3057,
          3612,
          519462,
          127956,
          8927,
          77456,
          21929,
          2245,
          127427,
          54133,
          37588,
          363457,
          24774,
          12,
          23216,
          643245,
          44755,
          474083,
          1109770,
          4507,
          1035,
          70620,
          158414,
          254,
          151136,
          13013,
          73016,
          10027,
          43712,
          54549,
          18941,
          8,
          1338,
          11319,
          469159,
          3086,
          19455,
          2546,
          24118203,
          970659,
          1842796,
          47312,
          14741,
          10669,
          1212461,
          13464,
          79176,
          24,
          225241,
          924,
          73136,
          738540,
          575,
          840,
          1690091,
          57762,
          4345,
          258,
          9135,
          28195,
          2332,
          23936,
          6501,
          12901,
          196089,
          17239,
          82597,
          42987,
          37
         ],
         "y0": " ",
         "yaxis": "y"
        },
        {
         "alignmentgroup": "True",
         "boxpoints": "all",
         "customdata": [
          [
           "Champagné",
           "Champagné"
          ],
          [
           "Belleville-Vendée",
           "Beaufou"
          ],
          [
           "La Hutte-Coulombiers",
           "Assé-le-Boisne"
          ],
          [
           "Ste-Pazanne",
           "Chaumes-en-Retz"
          ],
          [
           "Mauves-sur-Loire",
           "Carquefou"
          ],
          [
           "Domfront",
           "Bernay-en-Champagne"
          ],
          [
           "Laigné-St-Gervais",
           "Écommoy"
          ],
          [
           "Le Croisic",
           "Croisic"
          ],
          [
           "Arnage",
           "Arnage"
          ],
          [
           "St-Mars-la-Brière",
           "Champagné"
          ],
          [
           "La Ferté-Bernard",
           "Avezé"
          ],
          [
           "Château-du-Loir",
           "Beaumont-Pied-de-Bœuf"
          ],
          [
           "St-Étienne-de-Montluc",
           "Cordemais"
          ],
          [
           "Pouzauges",
           "Sèvremont"
          ],
          [
           "Pontchâteau",
           "Besné"
          ],
          [
           "La Roche-sur-Yon",
           "Mouilleron-le-Captif"
          ],
          [
           "Luçon",
           "Chasnais"
          ],
          [
           "Évron",
           "Assé-le-Bérenger"
          ],
          [
           "La Ménitré",
           "Beaufort-en-Anjou"
          ],
          [
           "La Bohalle",
           "Loire-Authion"
          ],
          [
           "Montoir-de-Bretagne",
           "Montoir-de-Bretagne"
          ],
          [
           "Penhoët",
           "Saint-Nazaire"
          ],
          [
           "Cholet",
           "Mazières-en-Mauges"
          ],
          [
           "Tiercé",
           "Briollay"
          ],
          [
           "St-Hilaire-de-Riez",
           "Notre-Dame-de-Riez"
          ],
          [
           "La Mothe-Achard",
           "Chapelle-Achard"
          ],
          [
           "Couëron",
           "Couëron"
          ],
          [
           "Batz-sur-Mer",
           "Batz-sur-Mer"
          ],
          [
           "Connerré-Beillé",
           "Beillé"
          ],
          [
           "Le Mans",
           "Mans"
          ],
          [
           "Bouaye",
           "Bouaye"
          ],
          [
           "St-Gilles-Croix-de-Vie",
           "Fenouiller"
          ],
          [
           "Louverné",
           "Chapelle-Anthenaise"
          ],
          [
           "Abbaretz",
           "Abbaretz"
          ],
          [
           "Teillé",
           "Ballon-Saint Mars"
          ],
          [
           "La Possonnière",
           "Béhuard"
          ],
          [
           "St-Nazaire",
           "Saint-Nazaire"
          ],
          [
           "La Chapelle-Centre",
           "Chapelle-sur-Erdre"
          ],
          [
           "Chantonnay",
           "Chantonnay"
          ],
          [
           "Savenay",
           "Bouée"
          ],
          [
           "Thouaré",
           "Carquefou"
          ],
          [
           "Mayet",
           "Mayet"
          ],
          [
           "Torfou",
           "Sèvremoine"
          ],
          [
           "Cugand",
           "Bernardière"
          ],
          [
           "Laval",
           "Laval"
          ],
          [
           "Varades-St-Florent-le-Vieil",
           "Montrelais"
          ],
          [
           "Issé",
           "Grand-Auverné"
          ],
          [
           "Babinière",
           "Chapelle-sur-Erdre"
          ],
          [
           "Neau",
           "Brée"
          ],
          [
           "Beslé",
           "Conquereuil"
          ],
          [
           "Gorges",
           "Boussay"
          ],
          [
           "La Suze",
           "Chemiré-le-Gaudin"
          ],
          [
           "Challans",
           "Challans"
          ],
          [
           "Saumur",
           "Chacé"
          ],
          [
           "Rezé-Pont-Rousseau",
           "Rezé"
          ],
          [
           "Rouessé-Vassé",
           "Crissé"
          ],
          [
           "Sceaux-Boësse",
           "Avezé"
          ],
          [
           "Port-St-Père-St-Mars",
           "Port-Saint-Père"
          ],
          [
           "Le Pouliguen",
           "Pouliguen"
          ],
          [
           "Écommoy",
           "Écommoy"
          ],
          [
           "St-Mathurin",
           "Beaufort-en-Anjou"
          ],
          [
           "La Croix-de-Méan",
           "Saint-Nazaire"
          ],
          [
           "Le Cellier",
           "Cellier"
          ],
          [
           "Sillé-le-Guillaume",
           "Crissé"
          ],
          [
           "Chantenay",
           "Nantes"
          ],
          [
           "Angers-St-Laud",
           "Angers"
          ],
          [
           "La Basse-Indre-St-Herblain",
           "Indre"
          ],
          [
           "St-Hilaire-de-Chaléons",
           "Chaumes-en-Retz"
          ],
          [
           "Cordemais",
           "Cordemais"
          ],
          [
           "Montsûrs",
           "Brée"
          ],
          [
           "Noyen",
           "Asnières-sur-Vègre"
          ],
          [
           "La Chapelle-Aulnay",
           "Chapelle-sur-Erdre"
          ],
          [
           "Ancenis",
           "Ancenis"
          ],
          [
           "Chalonnes",
           "Chalonnes-sur-Loire"
          ],
          [
           "Sablé-sur-Sarthe",
           "Auvers-le-Hamon"
          ],
          [
           "Bourgneuf-en-Retz",
           "Villeneuve-en-Retz"
          ],
          [
           "La Guierche",
           "Guierche"
          ],
          [
           "Massérac",
           "Conquereuil"
          ],
          [
           "Clisson",
           "Boussay"
          ],
          [
           "Vertou",
           "Vertou"
          ],
          [
           "Montfort-le-Gesnois",
           "Lombron"
          ],
          [
           "Morannes",
           "Daumeray"
          ],
          [
           "St-Pierre-la-Cour",
           "Bourgneuf-la-Forêt"
          ],
          [
           "St-Sébastien-Frêne-Rond",
           "Saint-Sébastien-sur-Loire"
          ],
          [
           "Erdre-Active",
           "Chapelle-sur-Erdre"
          ],
          [
           "Voutré",
           "Assé-le-Bérenger"
          ],
          [
           "Angers-Maître-École",
           "Angers"
          ],
          [
           "St-Gildas-des-Bois",
           "Drefféac"
          ],
          [
           "Crissé",
           "Crissé"
          ],
          [
           "Ingrandes-sur-Loire",
           "Champtocé-sur-Loire"
          ],
          [
           "Savennières-Béhuard",
           "Béhuard"
          ],
          [
           "Oudon",
           "Couffé"
          ],
          [
           "Étriché-Châteauneuf",
           "Brissarthe"
          ],
          [
           "Fougeré",
           "Bournezeau"
          ],
          [
           "Montaigu-Vendée",
           "Boissière-de-Montaigu"
          ],
          [
           "Montreuil-Bellay",
           "Antoigné"
          ],
          [
           "St-Sébastien-Pas-Enchantés",
           "Saint-Sébastien-sur-Loire"
          ],
          [
           "Châteaubriant",
           "Châteaubriant"
          ],
          [
           "Vivoin-Beaumont",
           "Assé-le-Riboul"
          ],
          [
           "Les Sables-d'Olonne",
           "Sables-d'Olonne"
          ],
          [
           "Montbizot",
           "Guierche"
          ],
          [
           "La Haie-Fouassière",
           "Château-Thébaud"
          ],
          [
           "Bournezeau",
           "Bournezeau"
          ],
          [
           "Pornichet",
           "Pornichet"
          ],
          [
           "Voivres",
           "Chemiré-le-Gaudin"
          ],
          [
           "Le Pallet",
           "Chapelle-Heulin"
          ],
          [
           "Haluchère-Batignolles",
           "Nantes"
          ],
          [
           "Conlie",
           "Bernay-en-Champagne"
          ],
          [
           "Sucé-sur-Erdre",
           "Chapelle-sur-Erdre"
          ],
          [
           "Drefféac",
           "Drefféac"
          ],
          [
           "La Bernerie-en-Retz",
           "Bernerie-en-Retz"
          ],
          [
           "Donges",
           "Donges"
          ],
          [
           "Sévérac",
           "Drefféac"
          ],
          [
           "Les Moutiers-en-Retz",
           "Villeneuve-en-Retz"
          ],
          [
           "Champtocé-sur-Loire",
           "Champtocé-sur-Loire"
          ],
          [
           "Port-Brillet",
           "Bourgneuf-la-Forêt"
          ],
          [
           "Boussay-La Bruffière",
           "Boussay"
          ],
          [
           "Les Rosiers-sur-Loire",
           "Gennes"
          ],
          [
           "Aubigné-Racan",
           "Aubigné-Racan"
          ],
          [
           "Olonne-sur-Mer",
           "Île-d'Olonne"
          ],
          [
           "Chemillé",
           "Chemillé-en-Anjou"
          ],
          [
           "La Chaize-le-Vicomte",
           "Chaize-le-Vicomte"
          ],
          [
           "Neuville-sur-Sarthe",
           "Coulaines"
          ],
          [
           "Le Vieux-Briollay",
           "Briollay"
          ],
          [
           "Écouflant",
           "Angers"
          ],
          [
           "Le Genest",
           "Ahuillé"
          ],
          [
           "Vaas",
           "Beaumont-Pied-de-Bœuf"
          ],
          [
           "La Baule-Escoublac",
           "Baule-Escoublac"
          ],
          [
           "La Baule-les-Pins",
           "Baule-Escoublac"
          ],
          [
           "Nort-sur-Erdre",
           "Casson"
          ],
          [
           "Machecoul",
           "Machecoul-Saint-Même"
          ]
         ],
         "hovertemplate": "nom_region=Pays de la Loire<br>Total Voyageurs=%{y}<br>libelle=%{customdata[0]}<br>nom_commune=%{customdata[1]}<extra></extra>",
         "legendgroup": "Pays de la Loire",
         "marker": {
          "color": "#B6E880"
         },
         "name": "Pays de la Loire",
         "notched": false,
         "offsetgroup": "Pays de la Loire",
         "orientation": "v",
         "showlegend": true,
         "type": "box",
         "x0": " ",
         "xaxis": "x",
         "y": [
          15911,
          134484,
          25280,
          223977,
          40253,
          6164,
          30452,
          144558,
          11351,
          5268,
          276215,
          149322,
          164786,
          2133,
          202706,
          1178900,
          93967,
          167670,
          165402,
          26194,
          48996,
          74474,
          669711,
          116837,
          73875,
          89208,
          66646,
          32028,
          102928,
          5302246,
          59405,
          148819,
          915,
          54862,
          4648,
          143293,
          1254867,
          36734,
          16351,
          787338,
          59014,
          27067,
          56730,
          52757,
          1585924,
          120948,
          29195,
          61788,
          5550,
          52652,
          86385,
          129267,
          223880,
          904742,
          213334,
          1613,
          8542,
          67201,
          115430,
          84622,
          87205,
          8675,
          77857,
          105128,
          54655,
          6781537,
          34686,
          28757,
          54058,
          32715,
          40504,
          35538,
          1150015,
          177974,
          617312,
          26345,
          23550,
          10345,
          1095662,
          109672,
          16883,
          38275,
          49919,
          37530,
          50768,
          4733,
          44330,
          40376,
          684,
          96386,
          38421,
          138177,
          42859,
          1383,
          442736,
          10506,
          46149,
          170704,
          43826,
          553077,
          39769,
          167174,
          1988,
          197348,
          19420,
          267132,
          125764,
          65904,
          190164,
          9969,
          55080,
          26802,
          20088,
          33727,
          68877,
          42895,
          44026,
          73278,
          16583,
          15420,
          184247,
          1686,
          10455,
          25140,
          0,
          23415,
          5885,
          570861,
          40000,
          390785,
          111610
         ],
         "y0": " ",
         "yaxis": "y"
        },
        {
         "alignmentgroup": "True",
         "boxpoints": "all",
         "customdata": [
          [
           "Vergèze-Codognan",
           "Vergèze"
          ],
          [
           "Caussade",
           "Caussade"
          ],
          [
           "Elne",
           "Alénya"
          ],
          [
           "Montpellier Sud-de-France",
           "Montpellier"
          ],
          [
           "Vic-Mireval",
           "Frontignan"
          ],
          [
           "Collioure",
           "Collioure"
          ],
          [
           "Le Monastier",
           "Antrenas"
          ],
          [
           "Bram",
           "Bram"
          ],
          [
           "St-Césaire",
           "Nîmes"
          ],
          [
           "Chamborigaud",
           "Chamborigaud"
          ],
          [
           "Pommevic",
           "Castelsagrat"
          ],
          [
           "Montauban-Ville-Bourbon",
           "Montauban"
          ],
          [
           "Le Cailar",
           "Cailar"
          ],
          [
           "Sète",
           "Sète"
          ],
          [
           "Les Salelles",
           "Chanac"
          ],
          [
           "St-Jory",
           "Saint-Jory"
          ],
          [
           "Fenouillet-St-Alban",
           "Bruguières"
          ],
          [
           "Barjac",
           "Badaroux"
          ],
          [
           "Bourg-Madame",
           "Angoustrine-Villeneuve-des-Escaldes"
          ],
          [
           "Lamagistère",
           "Lamagistère"
          ],
          [
           "Marseillan-Plage",
           "Marseillan"
          ],
          [
           "St-Georges-de-Luzençon",
           "Comprégnac"
          ],
          [
           "Saléchan-Siradan",
           "Anla"
          ],
          [
           "Lacourtensourt",
           "Toulouse"
          ],
          [
           "Carcassonne",
           "Berriac"
          ],
          [
           "Fauga",
           "Capens"
          ],
          [
           "Salses",
           "Calce"
          ],
          [
           "Villefort",
           "Altier"
          ],
          [
           "Rivesaltes",
           "Calce"
          ],
          [
           "St-Martin-du-Touch",
           "Toulouse"
          ],
          [
           "Lunel-Viel",
           "Lunel"
          ],
          [
           "Gourdon",
           "Anglars-Nozac"
          ],
          [
           "Bagnols-Chadenet",
           "Allenc"
          ],
          [
           "Lalande-Église",
           "Toulouse"
          ],
          [
           "Labège-Innopole",
           "Labège"
          ],
          [
           "St-Denis-près-Martel",
           "Baladou"
          ],
          [
           "Boussens",
           "Arnaud-Guilhem"
          ],
          [
           "Lexos",
           "Ginals"
          ],
          [
           "Tarascon-sur-Ariège",
           "Alliat"
          ],
          [
           "Villefranche-de-Rouergue",
           "Bas Ségala"
          ],
          [
           "Roquesérière",
           "Azas"
          ],
          [
           "Mérenvielle",
           "Bellegarde-Sainte-Marie"
          ],
          [
           "Err",
           "Err"
          ],
          [
           "Salles-Courbatiès",
           "Ambeyrac"
          ],
          [
           "L'Isle-Jourdain",
           "Auradé"
          ],
          [
           "Souillac",
           "Lacave"
          ],
          [
           "Vayrac",
           "Bétaille"
          ],
          [
           "Saillagouse",
           "Err"
          ],
          [
           "Olette-Canaveilles-les-Bains",
           "Ayguatébia-Talau"
          ],
          [
           "Lavilledieu",
           "Albefeuille-Lagarde"
          ],
          [
           "Montaudran",
           "Toulouse"
          ],
          [
           "Pibrac",
           "Pibrac"
          ],
          [
           "Luchon",
           "Antignac"
          ],
          [
           "Villefranche-de-Lauragais",
           "Avignonet-Lauragais"
          ],
          [
           "Belvezet",
           "Arzenc-de-Randon"
          ],
          [
           "Marignac-St-Béat",
           "Argut-Dessous"
          ],
          [
           "Martres-Tolosane",
           "Cazères"
          ],
          [
           "Lunel",
           "Lunel"
          ],
          [
           "Serdinya",
           "Ayguatébia-Talau"
          ],
          [
           "Golfech",
           "Castelsagrat"
          ],
          [
           "Tessonnières",
           "Aussac"
          ],
          [
           "Coursan",
           "Armissan"
          ],
          [
           "Boucoiran",
           "Aubussargues"
          ],
          [
           "Muret",
           "Eaunes"
          ],
          [
           "St-Jean-de-Verges",
           "Arabaux"
          ],
          [
           "Labarthe-Inard",
           "Aspret-Sarrat"
          ],
          [
           "Rocamadour-Padirac",
           "Albiac"
          ],
          [
           "L'Hospitalet-près-l'Andorre",
           "Hospitalet-près-l'Andorre"
          ],
          [
           "Ste-Léocadie",
           "Err"
          ],
          [
           "Lisle-sur-Tarn",
           "Lisle-sur-Tarn"
          ],
          [
           "Mazamet",
           "Aiguefonde"
          ],
          [
           "St-Gaudens",
           "Aspret-Sarrat"
          ],
          [
           "Aimargues",
           "Aimargues"
          ],
          [
           "Allenc",
           "Allenc"
          ],
          [
           "Latour-de-Carol-Enveitg",
           "Angoustrine-Villeneuve-des-Escaldes"
          ],
          [
           "Gramat",
           "Albiac"
          ],
          [
           "Ria",
           "Campôme"
          ],
          [
           "Ille-sur-Têt",
           "Boule-d'Amont"
          ],
          [
           "Banassac-La Canourgue",
           "Banassac-Canilhac"
          ],
          [
           "Saverdun",
           "Bastide-de-Lordat"
          ],
          [
           "Perpignan",
           "Perpignan"
          ],
          [
           "Bédarieux",
           "Aires"
          ],
          [
           "Cahors",
           "Cahors"
          ],
          [
           "Montlaur",
           "Ayguesvives"
          ],
          [
           "Uchaud",
           "Aubord"
          ],
          [
           "Montbartier",
           "Bourret"
          ],
          [
           "Baillargues",
           "Baillargues"
          ],
          [
           "Bretenoux-Biars",
           "Belmont-Bretenoux"
          ],
          [
           "Les Quatre-Routes",
           "Bétaille"
          ],
          [
           "Les Ramassiers",
           "Toulouse"
          ],
          [
           "Langogne",
           "Chastanier"
          ],
          [
           "Thuès-les-Bains",
           "Ayguatébia-Talau"
          ],
          [
           "Damiatte-St-Paul",
           "Damiatte"
          ],
          [
           "Gallargues",
           "Gallargues-le-Montueux"
          ],
          [
           "Milhaud",
           "Milhaud"
          ],
          [
           "Sévérac-le-Château",
           "Sévérac d'Aveyron"
          ],
          [
           "Baraqueville-Carcenac-Peyralès",
           "Boussac"
          ],
          [
           "Thuès",
           "Ayguatébia-Talau"
          ],
          [
           "Colomiers-Lycée-International",
           "Colomiers"
          ],
          [
           "Rodez",
           "Druelle Balsac"
          ],
          [
           "St-Sulpice",
           "Saint-Sulpice-la-Pointe"
          ],
          [
           "Cerbère",
           "Cerbère"
          ],
          [
           "Lannemezan",
           "Campistrous"
          ],
          [
           "Toulouse-Matabiau",
           "Toulouse"
          ],
          [
           "Cintegabelle",
           "Aignes"
          ],
          [
           "Albias",
           "Albias"
          ],
          [
           "Figeac",
           "Béduer"
          ],
          [
           "Loures-Barbazan",
           "Anla"
          ],
          [
           "Labège-Village",
           "Labège"
          ],
          [
           "Lézignan (Aude)",
           "Argens-Minervois"
          ],
          [
           "Quillan",
           "Belvianes-et-Cavirac"
          ],
          [
           "Magalas",
           "Autignac"
          ],
          [
           "Foix",
           "Arabaux"
          ],
          [
           "Ur-les-Escaldes",
           "Angoustrine-Villeneuve-des-Escaldes"
          ],
          [
           "Laval-de-Cère",
           "Belmont-Bretenoux"
          ],
          [
           "Nîmes-Pont du Gard",
           "Manduel"
          ],
          [
           "Capdenac",
           "Asprières"
          ],
          [
           "Chirac",
           "Antrenas"
          ],
          [
           "Gimont-Cahuzac",
           "Catonvielle"
          ],
          [
           "Portet-St-Simon",
           "Goyrans"
          ],
          [
           "Lalbenque-Fontanes",
           "Bach"
          ],
          [
           "St-Agne",
           "Ramonville-Saint-Agne"
          ],
          [
           "Balsièges-Bourg",
           "Badaroux"
          ],
          [
           "Laguépie",
           "Laguépie"
          ],
          [
           "Baziège",
           "Ayguesvives"
          ],
          [
           "Castelsarrasin",
           "Barthes"
          ],
          [
           "Alet-les-Bains",
           "Alet-les-Bains"
          ],
          [
           "Les Cabannes",
           "Albiès"
          ],
          [
           "Banyuls-sur-Mer",
           "Banyuls-sur-Mer"
          ],
          [
           "Couiza-Montazels",
           "Antugnac"
          ],
          [
           "Labruguière",
           "Escoussens"
          ],
          [
           "Génolhac",
           "Aujac"
          ],
          [
           "Grisolles",
           "Bessens"
          ],
          [
           "Bagnac",
           "Bagnac-sur-Célé"
          ],
          [
           "Narbonne",
           "Bages"
          ],
          [
           "Montréjeau-Gourdan-Polignan",
           "Ardiège"
          ],
          [
           "Villeneuve-lès-Maguelone",
           "Villeneuve-lès-Maguelone"
          ],
          [
           "Sauto",
           "Angles"
          ],
          [
           "Frontignan",
           "Frontignan"
          ],
          [
           "Lavaur",
           "Ambres"
          ],
          [
           "Gragnague",
           "Azas"
          ],
          [
           "Nîmes",
           "Nîmes"
          ],
          [
           "Capvern",
           "Arrodets"
          ],
          [
           "Espéraza",
           "Campagne-sur-Aude"
          ],
          [
           "Auch",
           "Auch"
          ],
          [
           "Le Bousquet-d'Orb",
           "Avène"
          ],
          [
           "Carbonne",
           "Bois-de-la-Pierre"
          ],
          [
           "Lunas",
           "Brenas"
          ],
          [
           "Planès",
           "Angles"
          ],
          [
           "Valence-d'Agen",
           "Castelsagrat"
          ],
          [
           "Aigues-Mortes",
           "Aigues-Mortes"
          ],
          [
           "Millas",
           "Millas"
          ],
          [
           "Gaillac",
           "Aussac"
          ],
          [
           "Bétaille",
           "Bétaille"
          ],
          [
           "Pamiers",
           "Arvigna"
          ],
          [
           "St-Chély-d'Apcher",
           "Albaret-Sainte-Marie"
          ],
          [
           "Aumont-Aubrac",
           "Peyre en Aubrac"
          ],
          [
           "Chanac",
           "Chanac"
          ],
          [
           "Beaucaire",
           "Beaucaire"
          ],
          [
           "Nyers",
           "Ayguatébia-Talau"
          ],
          [
           "Brax-Léguevin",
           "Brax"
          ],
          [
           "Cazères-sur-Garonne",
           "Cazères"
          ],
          [
           "Campagnac-St-Geniez",
           "Campagnac"
          ],
          [
           "St-Féliu-d'Avall",
           "Millas"
          ],
          [
           "Les Cauquillous",
           "Ambres"
          ],
          [
           "Viviez-Decazeville",
           "Aubin"
          ],
          [
           "Tournay",
           "Bégole"
          ],
          [
           "Dieupentale",
           "Bessens"
          ],
          [
           "Générac",
           "Générac"
          ],
          [
           "Tournemire-Roquefort",
           "Roquefort-sur-Soulzon"
          ],
          [
           "Beauvoisin",
           "Beauvoisin"
          ],
          [
           "Bolquère-Eyne",
           "Angles"
          ],
          [
           "Castelnaudary",
           "Brunels"
          ],
          [
           "Fons-St-Mamert",
           "Fons"
          ],
          [
           "Avignonet",
           "Avignonet-Lauragais"
          ],
          [
           "Mérens-les-Vals",
           "Ascou"
          ],
          [
           "Limoux",
           "Ajac"
          ],
          [
           "Assier",
           "Assier"
          ],
          [
           "Pins-Justaret",
           "Labarthe-sur-Lèze"
          ],
          [
           "Valergues-Lansargues",
           "Candillargues"
          ],
          [
           "Ste-Cécile-d'Andorge",
           "Branoux-les-Taillades"
          ],
          [
           "Limoux-Flassian",
           "Ajac"
          ],
          [
           "Luc-Primaube",
           "Calmont"
          ],
          [
           "St-Cyprien-Arènes",
           "Toulouse"
          ],
          [
           "Tanus",
           "Almayrac"
          ],
          [
           "Montpaon",
           "Clapier"
          ],
          [
           "Gignac-Cressensac",
           "Baladou"
          ],
          [
           "Vias",
           "Vias"
          ],
          [
           "Laissac",
           "Bertholène"
          ],
          [
           "Alès",
           "Alès"
          ],
          [
           "Vielmur-sur-Agout",
           "Carbes"
          ],
          [
           "Béna-Fanes",
           "Angoustrine-Villeneuve-des-Escaldes"
          ],
          [
           "Castres",
           "Burlats"
          ],
          [
           "Port-Vendres",
           "Port-Vendres"
          ],
          [
           "Cordes-Vindrac",
           "Amarens"
          ],
          [
           "Grand'Combe-La Pise",
           "Branoux-les-Taillades"
          ],
          [
           "Le Toec",
           "Toulouse"
          ],
          [
           "Agde",
           "Agde"
          ],
          [
           "Tarbes",
           "Tarbes"
          ],
          [
           "Albi-Madeleine",
           "Albi"
          ],
          [
           "St-Christophe",
           "Clairvaux-d'Aveyron"
          ],
          [
           "Lourdes",
           "Adé"
          ],
          [
           "St-Martory",
           "Arnaud-Guilhem"
          ],
          [
           "Luzenac-Garanou",
           "Appy"
          ],
          [
           "Pomas",
           "Caunette-sur-Lauquet"
          ],
          [
           "St-Geniès-de-Malgoirès",
           "Aubussargues"
          ],
          [
           "Colomiers",
           "Colomiers"
          ],
          [
           "Marvejols",
           "Antrenas"
          ],
          [
           "Puybrun",
           "Belmont-Bretenoux"
          ],
          [
           "Prades-Molitg-les-Bains",
           "Campôme"
          ],
          [
           "Ax-les-Thermes",
           "Ascou"
          ],
          [
           "Castelnau-d'Estrétefonds",
           "Bouloc"
          ],
          [
           "St-Rome-de-Cernon",
           "Bastide-Pradines"
          ],
          [
           "Béziers",
           "Béziers"
          ],
          [
           "Mont-Louis-La Cabanasse",
           "Angles"
          ],
          [
           "Galliéni-Cancéropole",
           "Toulouse"
          ],
          [
           "Ceilhes-Roqueredonde",
           "Avène"
          ],
          [
           "Port-la-Nouvelle",
           "Port-la-Nouvelle"
          ],
          [
           "Najac",
           "Bor-et-Bar"
          ],
          [
           "Carmaux",
           "Blaye-les-Mines"
          ],
          [
           "Villenouvelle",
           "Avignonet-Lauragais"
          ],
          [
           "Le Grau-du-Roi",
           "Grau-du-Roi"
          ],
          [
           "Rabastens-Couffouleux",
           "Coufouleux"
          ],
          [
           "Albi",
           "Albi"
          ],
          [
           "Vernet-d'Ariège",
           "Bastide-de-Lordat"
          ],
          [
           "Vauvert",
           "Vauvert"
          ],
          [
           "Marssac-sur-Tarn",
           "Ambres"
          ],
          [
           "Moissac",
           "Boudou"
          ],
          [
           "St-Laurent-d'Aigouze",
           "Aigues-Mortes"
          ],
          [
           "Couffoulens-Leuc",
           "Caunette-sur-Lauquet"
          ],
          [
           "Font-Romeu-Odeillo-Via",
           "Égat"
          ],
          [
           "Chapeauroux",
           "Auroux"
          ],
          [
           "Cransac",
           "Aubin"
          ],
          [
           "Malause",
           "Boudou"
          ],
          [
           "Lestelle",
           "Arnaud-Guilhem"
          ],
          [
           "Varilhes",
           "Artix"
          ],
          [
           "Villefranche-Vernet-les-Bains",
           "Casteil"
          ],
          [
           "Ossun",
           "Averan"
          ],
          [
           "Estavar",
           "Err"
          ],
          [
           "Vénerque-le-Vernet",
           "Clermont-le-Fort"
          ],
          [
           "La Levade",
           "Branoux-les-Taillades"
          ],
          [
           "Campagne",
           "Campagne-sur-Aude"
          ],
          [
           "Aubiet",
           "Ansan"
          ],
          [
           "Aubin",
           "Aubin"
          ],
          [
           "Naucelle",
           "Cabanès"
          ],
          [
           "Auterive",
           "Auragne"
          ],
          [
           "Osséja",
           "Nahuja"
          ],
          [
           "Fontpédrouse-St-Thomas-les-Bains",
           "Ayguatébia-Talau"
          ],
          [
           "Marquixanes",
           "Arboussols"
          ],
          [
           "Montastruc-la-Conseillère",
           "Azas"
          ],
          [
           "Leucate-la-Franqui",
           "Leucate"
          ],
          [
           "Argelès-sur-Mer",
           "Argelès-sur-Mer"
          ],
          [
           "Verzeille",
           "Caunette-sur-Lauquet"
          ],
          [
           "Lardenne",
           "Toulouse"
          ],
          [
           "Nozières-Brignon",
           "Aubussargues"
          ],
          [
           "Millau",
           "Comprégnac"
          ],
          [
           "Montrabé",
           "Beaupuy"
          ],
          [
           "Escalquens",
           "Escalquens"
          ],
          [
           "Le Soler",
           "Soler"
          ],
          [
           "St-Aunès",
           "Candillargues"
          ],
          [
           "Porté-Puymorens",
           "Angoustrine-Villeneuve-des-Escaldes"
          ],
          [
           "Route-de-Launaguet",
           "Aucamville"
          ],
          [
           "Mende",
           "Badaroux"
          ],
          [
           "Dégagnac",
           "Dégagnac"
          ],
          [
           "Longages-Noé",
           "Capens"
          ],
          [
           "St-Pé-de-Bigorre",
           "Peyrouse"
          ],
          [
           "Vinça",
           "Arboussols"
          ]
         ],
         "hovertemplate": "nom_region=Occitanie<br>Total Voyageurs=%{y}<br>libelle=%{customdata[0]}<br>nom_commune=%{customdata[1]}<extra></extra>",
         "legendgroup": "Occitanie",
         "marker": {
          "color": "#FF97FF"
         },
         "name": "Occitanie",
         "notched": false,
         "offsetgroup": "Occitanie",
         "orientation": "v",
         "showlegend": true,
         "type": "box",
         "x0": " ",
         "xaxis": "x",
         "y": [
          456695,
          186977,
          83129,
          1918295,
          59742,
          166104,
          822,
          129983,
          25209,
          8389,
          0,
          1524100,
          13155,
          1440454,
          32,
          274003,
          14,
          51,
          5312,
          24414,
          14368,
          1007,
          265,
          74918,
          1211281,
          97105,
          44852,
          26311,
          141598,
          15819,
          12785,
          169477,
          1054,
          108,
          215564,
          24266,
          299078,
          16520,
          97437,
          80605,
          110,
          56212,
          638,
          4542,
          342134,
          176473,
          47,
          3713,
          3776,
          25528,
          76524,
          118800,
          60864,
          284802,
          528,
          2786,
          36201,
          871702,
          330,
          246,
          5171,
          3382,
          9776,
          954165,
          11540,
          0,
          9155,
          19765,
          263,
          108863,
          81976,
          363672,
          2374,
          692,
          95090,
          24194,
          2305,
          14890,
          16222,
          193894,
          2058369,
          44798,
          531233,
          3902,
          4484,
          89890,
          515805,
          25045,
          3441,
          15521,
          47247,
          513,
          28719,
          18477,
          3176,
          10098,
          17518,
          3921,
          196230,
          324670,
          606070,
          78528,
          136318,
          14526190,
          107761,
          30476,
          200755,
          3288,
          8428,
          203009,
          36728,
          14407,
          318840,
          289,
          1038,
          1054535,
          146452,
          44,
          71082,
          336119,
          35977,
          1133306,
          32,
          11211,
          104508,
          123213,
          76,
          12426,
          107964,
          406,
          8444,
          42768,
          136951,
          3676,
          2589102,
          259556,
          63080,
          229,
          476785,
          157960,
          30851,
          4575772,
          7019,
          426,
          314646,
          3220,
          380474,
          626,
          935,
          100125,
          17034,
          7980,
          346599,
          39,
          407502,
          89724,
          8825,
          2220,
          56589,
          314,
          218967,
          236920,
          1615,
          3389,
          20249,
          22468,
          34085,
          138102,
          1622,
          1647,
          19600,
          4565,
          399458,
          16519,
          31507,
          8454,
          58021,
          13894,
          130884,
          19006,
          2581,
          9719,
          12708,
          306065,
          3141,
          466,
          512,
          12257,
          146,
          575865,
          27672,
          65,
          170805,
          49134,
          16583,
          36406,
          7134,
          757491,
          709416,
          89396,
          5907,
          537771,
          9948,
          11835,
          1016,
          98794,
          288670,
          16129,
          1813,
          30050,
          93053,
          420549,
          5390,
          1732904,
          90115,
          64835,
          2012,
          140520,
          14667,
          140409,
          29151,
          175776,
          213007,
          568827,
          19537,
          33256,
          12690,
          144881,
          1396,
          966,
          66678,
          1527,
          5436,
          0,
          557,
          57877,
          295520,
          51,
          322,
          216825,
          937,
          0,
          14078,
          17393,
          69229,
          389928,
          638,
          5275,
          2636,
          208074,
          118543,
          192314,
          855,
          18449,
          18970,
          45133,
          49370,
          72598,
          5860,
          10954,
          5415,
          504,
          53756,
          555,
          150525,
          134,
          8487
         ],
         "y0": " ",
         "yaxis": "y"
        },
        {
         "alignmentgroup": "True",
         "boxpoints": "all",
         "customdata": [
          [
           "Viévola",
           "Brigue"
          ],
          [
           "Rassuen",
           "Istres"
          ],
          [
           "Croix-Sainte",
           "Martigues"
          ],
          [
           "Orange",
           "Orange"
          ],
          [
           "Miramas",
           "Miramas"
          ],
          [
           "Veynes-Dévoluy",
           "Chabestan"
          ],
          [
           "Simiane",
           "Simiane-Collongue"
          ],
          [
           "Villeneuve-Loubet-Plage",
           "Villeneuve-Loubet"
          ],
          [
           "Monte-Carlo-Country-Club",
           "Roquebrune-Cap-Martin"
          ],
          [
           "Rognac",
           "Rognac"
          ],
          [
           "Avignon-Centre",
           "Avignon"
          ],
          [
           "Théoule-sur-Mer",
           "Théoule-sur-Mer"
          ],
          [
           "Courthézon",
           "Courthézon"
          ],
          [
           "Le Luc-et-Le Cannet",
           "Cabasse"
          ],
          [
           "Aspres-sur-Buëch",
           "Aspremont"
          ],
          [
           "Carnoules",
           "Carnoules"
          ],
          [
           "Nice-St-Augustin",
           "Nice"
          ],
          [
           "Le Bosquet",
           "Cannes"
          ],
          [
           "Cassis",
           "Cassis"
          ],
          [
           "Mouans-Sartoux",
           "Mouans-Sartoux"
          ],
          [
           "Cannes",
           "Cannes"
          ],
          [
           "Gardanne",
           "Gardanne"
          ],
          [
           "Agay",
           "Saint-Raphaël"
          ],
          [
           "L'Estaque",
           "Marseille 16"
          ],
          [
           "L'Ariane",
           "Cantaron"
          ],
          [
           "Ollioules-Sanary-sur-Mer",
           "Ollioules"
          ],
          [
           "Pas-des-Lanciers",
           "Marignane"
          ],
          [
           "Montdauphin-Guillestre",
           "Ceillac"
          ],
          [
           "Château-Arnoux-St-Auban",
           "Château-Arnoux-Saint-Auban"
          ],
          [
           "Pignans",
           "Pignans"
          ],
          [
           "Fontan-Saorge",
           "Breil-sur-Roya"
          ],
          [
           "La Brigue",
           "Brigue"
          ],
          [
           "Arenc-Euroméditerranée",
           "Marseille 02"
          ],
          [
           "La Garde",
           "Garde"
          ],
          [
           "Bollène-la-Croisière",
           "Bollène"
          ],
          [
           "Cannes-la-Bocca",
           "Cannes"
          ],
          [
           "La Seyne-Six-Fours",
           "Seyne-sur-Mer"
          ],
          [
           "Golfe-Juan-Vallauris",
           "Vallauris"
          ],
          [
           "La Penne-sur-Huveaune",
           "Penne-sur-Huveaune"
          ],
          [
           "Drap-Cantaron",
           "Cantaron"
          ],
          [
           "Lamanon",
           "Lamanon"
          ],
          [
           "Avignon-TGV",
           "Avignon"
          ],
          [
           "Meyrargues",
           "Meyrargues"
          ],
          [
           "Gonfaron",
           "Gonfaron"
          ],
          [
           "Cap-Martin-Roquebrune",
           "Roquebrune-Cap-Martin"
          ],
          [
           "Arles",
           "Arles"
          ],
          [
           "St-Cyr-les-Lècques-La Cadière",
           "Saint-Cyr-sur-Mer"
          ],
          [
           "Villefranche-sur-Mer",
           "Saint-Jean-Cap-Ferrat"
          ],
          [
           "Solliès-Pont",
           "Belgentier"
          ],
          [
           "Breil-sur-Roya",
           "Breil-sur-Roya"
          ],
          [
           "Grasse",
           "Grasse"
          ],
          [
           "Biot",
           "Antibes"
          ],
          [
           "Aubagne",
           "Aubagne"
          ],
          [
           "Cuers-Pierrefeu",
           "Cuers"
          ],
          [
           "St-Raphaël-Valescure",
           "Saint-Raphaël"
          ],
          [
           "Le Thor",
           "Thor"
          ],
          [
           "Montfavet",
           "Avignon"
          ],
          [
           "Èze",
           "Èze"
          ],
          [
           "Carry-le-Rouet",
           "Carry-le-Rouet"
          ],
          [
           "Tarascon",
           "Boulbon"
          ],
          [
           "Sausset-les-Pins",
           "Sausset-les-Pins"
          ],
          [
           "Fos-sur-Mer",
           "Fos-sur-Mer"
          ],
          [
           "St-Martin-de-Crau",
           "Saint-Martin-de-Crau"
          ],
          [
           "Gap",
           "Bâtie-Vieille"
          ],
          [
           "Sorgues-Châteauneuf-du-Pape",
           "Sorgues"
          ],
          [
           "Hyères",
           "Hyères"
          ],
          [
           "Aix-en-Provence",
           "Aix-en-Provence"
          ],
          [
           "Septèmes",
           "Septèmes-les-Vallons"
          ],
          [
           "Sospel",
           "Moulinet"
          ],
          [
           "La Pauline-Hyères",
           "Garde"
          ],
          [
           "L'Argentière-les-Écrins",
           "Argentière-la-Bessée"
          ],
          [
           "Martigues",
           "Martigues"
          ],
          [
           "Salon",
           "Salon-de-Provence"
          ],
          [
           "Marseille-Blancarde",
           "Marseille 04"
          ],
          [
           "Touët-de-l'Escarène",
           "Blausasc"
          ],
          [
           "Menton-Garavan",
           "Castellar"
          ],
          [
           "Vitrolles-Aéroport-Marseille-Provence",
           "Vitrolles"
          ],
          [
           "La Barasse",
           "Marseille 11"
          ],
          [
           "St-Chamas",
           "Cornillon-Confoux"
          ],
          [
           "Peille",
           "Blausasc"
          ],
          [
           "Tende",
           "Brigue"
          ],
          [
           "Port-de-Bouc",
           "Port-de-Bouc"
          ],
          [
           "St-Dalmas-de-Tende",
           "Brigue"
          ],
          [
           "La Ciotat",
           "Ceyreste"
          ],
          [
           "Laragne",
           "Barret-sur-Méouge"
          ],
          [
           "La Brillanne-Oraison",
           "Brillanne"
          ],
          [
           "Briançon",
           "Briançon"
          ],
          [
           "Cros-de-Cagnes",
           "Cagnes-sur-Mer"
          ],
          [
           "Bandol",
           "Bandol"
          ],
          [
           "St-Saturnin-d'Avignon",
           "Jonquerettes"
          ],
          [
           "La Redonne-Ensuès",
           "Ensuès-la-Redonne"
          ],
          [
           "Serres",
           "Bâtie-Montsaléon"
          ],
          [
           "Carpentras",
           "Avignon"
          ],
          [
           "Cap-d'Ail",
           "Cap-d'Ail"
          ],
          [
           "Toulon",
           "Toulon"
          ],
          [
           "Peillon-Ste-Thècle",
           "Blausasc"
          ],
          [
           "Entraigues-sur-la-Sorgue",
           "Entraigues-sur-la-Sorgue"
          ],
          [
           "L'Escarène",
           "Blausasc"
          ],
          [
           "Les Arcs-Draguignan",
           "Arcs"
          ],
          [
           "Ste-Marthe-en-Provence",
           "Marseille 14"
          ],
          [
           "Le Trayas",
           "Saint-Raphaël"
          ],
          [
           "Embrun",
           "Baratier"
          ],
          [
           "Sisteron",
           "Aubignosc"
          ],
          [
           "La Trinité-Victor",
           "Cantaron"
          ],
          [
           "Picon-Busserine",
           "Marseille 14"
          ],
          [
           "Pertuis",
           "Bastidonne"
          ],
          [
           "La Frayère",
           "Cannes"
          ],
          [
           "Sénas",
           "Sénas"
          ],
          [
           "Mandelieu-la-Napoule",
           "Mandelieu-la-Napoule"
          ],
          [
           "Cagnes-sur-Mer",
           "Cagnes-sur-Mer"
          ],
          [
           "St-Antoine (MR)",
           "Marseille 15"
          ],
          [
           "St-Joseph-Le Castellas",
           "Marseille 15"
          ],
          [
           "Niolon",
           "Rove"
          ],
          [
           "L'Isle-Fontaine-de-Vaucluse",
           "Isle-sur-la-Sorgue"
          ],
          [
           "Menton",
           "Castellar"
          ],
          [
           "La Crau",
           "Crau"
          ],
          [
           "Orgon",
           "Orgon"
          ],
          [
           "Juan-les-Pins",
           "Antibes"
          ],
          [
           "St-Marcel",
           "Marseille 11"
          ],
          [
           "Antibes",
           "Antibes"
          ],
          [
           "Anthéor-Cap-Roux",
           "Saint-Raphaël"
          ],
          [
           "Boulouris-sur-Mer",
           "Saint-Raphaël"
          ],
          [
           "Cavaillon",
           "Cavaillon"
          ],
          [
           "Beaulieu-sur-Mer",
           "Beaulieu-sur-Mer"
          ],
          [
           "La Couronne-Carro",
           "Martigues"
          ],
          [
           "Fréjus",
           "Adrets-de-l'Estérel"
          ],
          [
           "Puget-Ville",
           "Cuers"
          ],
          [
           "La Pomme",
           "Marseille 11"
          ],
          [
           "Vidauban",
           "Vidauban"
          ],
          [
           "Séon-St-Henry",
           "Marseille 16"
          ],
          [
           "Le Dramont",
           "Saint-Raphaël"
          ],
          [
           "Ranguin",
           "Cannes"
          ],
          [
           "Istres",
           "Istres"
          ],
          [
           "Monteux",
           "Monteux"
          ],
          [
           "St-Laurent-du-Var",
           "Saint-Laurent-du-Var"
          ],
          [
           "Nice-Riquier",
           "Nice"
          ],
          [
           "Chorges",
           "Avançon"
          ],
          [
           "Gadagne",
           "Châteauneuf-de-Gadagne"
          ],
          [
           "Morières-lès-Avignon",
           "Morières-lès-Avignon"
          ],
          [
           "Manosque-Gréoux-les-Bains",
           "Manosque"
          ],
          [
           "Bédarrides",
           "Bédarrides"
          ]
         ],
         "hovertemplate": "nom_region=Provence-Alpes-Côte d'Azur<br>Total Voyageurs=%{y}<br>libelle=%{customdata[0]}<br>nom_commune=%{customdata[1]}<extra></extra>",
         "legendgroup": "Provence-Alpes-Côte d'Azur",
         "marker": {
          "color": "#636efa"
         },
         "name": "Provence-Alpes-Côte d'Azur",
         "notched": false,
         "offsetgroup": "Provence-Alpes-Côte d'Azur",
         "orientation": "v",
         "showlegend": true,
         "type": "box",
         "x0": " ",
         "xaxis": "x",
         "y": [
          97,
          6240,
          4870,
          420120,
          716877,
          80715,
          158073,
          482053,
          16170,
          227793,
          2982128,
          25443,
          34749,
          59710,
          5047,
          109242,
          2102122,
          131178,
          346076,
          211629,
          5392921,
          334723,
          39364,
          134120,
          33081,
          430331,
          114722,
          80105,
          27336,
          46556,
          5783,
          3945,
          72833,
          218212,
          190823,
          166572,
          355848,
          450620,
          59243,
          49152,
          44217,
          4179142,
          53678,
          33585,
          144334,
          810100,
          388741,
          654801,
          107346,
          60487,
          472884,
          358400,
          1057406,
          124755,
          1421923,
          47029,
          24984,
          288274,
          91010,
          201197,
          71131,
          9110,
          117531,
          306766,
          196720,
          677310,
          776483,
          28052,
          59023,
          165444,
          56004,
          35992,
          258542,
          691530,
          5268,
          297073,
          589410,
          8091,
          86118,
          17162,
          29942,
          43171,
          6921,
          613563,
          19873,
          36568,
          192288,
          286437,
          368416,
          30231,
          64027,
          11563,
          294452,
          158037,
          4733117,
          15395,
          79989,
          36526,
          997559,
          50358,
          14088,
          123315,
          48324,
          47568,
          16162,
          23046,
          107066,
          42438,
          151857,
          1448613,
          55214,
          11186,
          74046,
          170575,
          2393036,
          111464,
          24903,
          1027841,
          30282,
          3153616,
          15067,
          35595,
          223401,
          620108,
          44544,
          187252,
          31844,
          9861,
          19083,
          0,
          23119,
          92454,
          58978,
          106337,
          1021813,
          2633233,
          28967,
          15185,
          35146,
          104623,
          21013
         ],
         "y0": " ",
         "yaxis": "y"
        },
        {
         "alignmentgroup": "True",
         "boxpoints": "all",
         "customdata": [
          [
           "Audrieu",
           "Audrieu"
          ],
          [
           "Villedieu-les-Poêles",
           "Beslon"
          ],
          [
           "Verneuil-sur-Avre",
           "Bâlines"
          ],
          [
           "Rouen-Rive-Droite",
           "Rouen"
          ],
          [
           "Serqueux",
           "Beaubec-la-Rosière"
          ],
          [
           "Bretoncelles",
           "Cour-Maugis sur Huisne"
          ],
          [
           "Pavilly",
           "Cideville"
          ],
          [
           "Gaillon-Aubevoye",
           "Ailly"
          ],
          [
           "Rai-Aube",
           "Aube"
          ],
          [
           "Le Havre-Graville",
           "Havre"
          ],
          [
           "Dieppe",
           "Dieppe"
          ],
          [
           "Frénouville-Cagny",
           "Cagny"
          ],
          [
           "Oissel",
           "Oissel"
          ],
          [
           "Harfleur",
           "Gainneville"
          ],
          [
           "Clères",
           "Authieux-Ratiéville"
          ],
          [
           "Glos-Montfort",
           "Appeville-Annebault"
          ],
          [
           "Yvetot",
           "Allouville-Bellefosse"
          ],
          [
           "Nonancourt",
           "Courdemanche"
          ],
          [
           "St-Germain-St-Rémy",
           "Courdemanche"
          ],
          [
           "Couliboeuf",
           "Barou-en-Auge"
          ],
          [
           "Longueville-sur-Scie",
           "Anneville-sur-Scie"
          ],
          [
           "Dives-sur-Mer-Port-Guillaume",
           "Brucourt"
          ],
          [
           "Moult-Argences",
           "Valambray"
          ],
          [
           "Romilly-la-Puthenaye",
           "Barc"
          ],
          [
           "Blonville-sur-Mer-Benerville",
           "Benerville-sur-Mer"
          ],
          [
           "Montérolier-Buchy",
           "Ardouval"
          ],
          [
           "Jacques-Monod-La Demi-Lieue",
           "Fontaine-la-Mallet"
          ],
          [
           "Houlgate",
           "Gonneville-sur-Mer"
          ],
          [
           "Montville",
           "Anceaumeville"
          ],
          [
           "Flers",
           "Athis-Val de Rouvre"
          ],
          [
           "Tourville",
           "Cléon"
          ],
          [
           "Carantilly-Marigny",
           "Cametours"
          ],
          [
           "Longuerue-Vieux-Manoir",
           "Bierville"
          ],
          [
           "Dives-Cabourg",
           "Cabourg"
          ],
          [
           "Étainhus-St-Romain",
           "Cerlangue"
          ],
          [
           "Lisieux",
           "Beuvillers"
          ],
          [
           "Bayeux",
           "Agy"
          ],
          [
           "Alençon",
           "Alençon"
          ],
          [
           "Maromme",
           "Notre-Dame-de-Bondeville"
          ],
          [
           "Le Molay-Littry",
           "Breuil-en-Bessin"
          ],
          [
           "Bueil",
           "Bueil"
          ],
          [
           "Bourth",
           "Bourth"
          ],
          [
           "Le Merlerault",
           "Authieux-du-Puits"
          ],
          [
           "Bernay",
           "Bernay"
          ],
          [
           "Pontorson-Mont-St-Michel",
           "Aucey-la-Plaine"
          ],
          [
           "Elbeuf-St-Aubin",
           "Cléon"
          ],
          [
           "Blangy-sur-Bresle",
           "Aubermesnil-aux-Érables"
          ],
          [
           "Barentin-Embranchement",
           "Barentin"
          ],
          [
           "St-Pierre-du-Vauvray",
           "Andé"
          ],
          [
           "Bretteville-Norrey",
           "Thue et Mue"
          ],
          [
           "Surdon",
           "Almenêches"
          ],
          [
           "Coutances",
           "Ancteville"
          ],
          [
           "St-Lô",
           "Baudre"
          ],
          [
           "Tillières",
           "Acon"
          ],
          [
           "Sotteville",
           "Sotteville-lès-Rouen"
          ],
          [
           "Serquigny",
           "Fontaine-l'Abbé"
          ],
          [
           "Bourgtheroulde-Thuit-Hébert",
           "Monts du Roumois"
          ],
          [
           "La Bonneville-sur-Iton",
           "Beaubray"
          ],
          [
           "Le Havre",
           "Havre"
          ],
          [
           "Sommery",
           "Beaubec-la-Rosière"
          ],
          [
           "Le Grand-Jardin",
           "Bretteville-le-Rabet"
          ],
          [
           "Gisors",
           "Amécourt"
          ],
          [
           "St-Victor",
           "Val-de-Saâne"
          ],
          [
           "Évreux-Embranchement",
           "Évreux"
          ],
          [
           "Condé-sur-Huisne",
           "Cour-Maugis sur Huisne"
          ],
          [
           "Granville",
           "Anctoville-sur-Boscq"
          ],
          [
           "Trouville-Deauville",
           "Hérouville-Saint-Clair"
          ],
          [
           "Val-de-Reuil",
           "Vaudreuil"
          ],
          [
           "Vire",
           "Campagnolles"
          ],
          [
           "Foucart-Alvimare",
           "Alvimare"
          ],
          [
           "Cherbourg",
           "Cherbourg-en-Cotentin"
          ],
          [
           "Caen",
           "Caen"
          ],
          [
           "Longroy-Gamaches",
           "Baromesnil"
          ],
          [
           "Argentan",
           "Argentan"
          ],
          [
           "Eu",
           "Baromesnil"
          ],
          [
           "Auffay",
           "Auffay"
          ],
          [
           "Conches",
           "Beaubray"
          ],
          [
           "St-Laurent-Gainneville",
           "Gainneville"
          ],
          [
           "L'Aigle",
           "Chandai"
          ],
          [
           "Aumale",
           "Aubéguimont"
          ],
          [
           "Carentan",
           "Appeville"
          ],
          [
           "Pont-Hébert",
           "Meauffe"
          ],
          [
           "Mézidon",
           "Cesny-aux-Vignes"
          ],
          [
           "Malaunay-Le Houlme",
           "Houlme"
          ],
          [
           "Lison",
           "Breuil-en-Bessin"
          ],
          [
           "Virville-Manneville",
           "Angerville-Bailleul"
          ],
          [
           "Bréauté-Beuzeville",
           "Angerville-Bailleul"
          ],
          [
           "Valognes",
           "Brix"
          ],
          [
           "Avranches",
           "Avranches"
          ],
          [
           "St-Pierre-sur-Dives",
           "Bernières-d'Ailly"
          ],
          [
           "St-Martin-du-Vivier",
           "Bois-d'Ennebourg"
          ],
          [
           "Folligny",
           "Beauchamps"
          ],
          [
           "St-Sever",
           "Beaumesnil"
          ],
          [
           "St-Étienne-du-Rouvray",
           "Saint-Étienne-du-Rouvray"
          ],
          [
           "Beaumont-le-Roger",
           "Barc"
          ],
          [
           "Briouze",
           "Bellou-en-Houlme"
          ],
          [
           "Gournay-Ferrières",
           "Avesnes-en-Bray"
          ],
          [
           "Brionne",
           "Aclou"
          ],
          [
           "Nonant-le-Pin",
           "Authieux-du-Puits"
          ],
          [
           "Pont-de-l'Arche",
           "Criquebeuf-sur-Seine"
          ],
          [
           "St-Aubin-sur-Scie",
           "Ambrumesnil"
          ],
          [
           "Bolbec-Nointot",
           "Bernières"
          ],
          [
           "Montivilliers",
           "Fontaine-la-Mallet"
          ],
          [
           "Harfleur-Halte",
           "Gainneville"
          ],
          [
           "Le Theil-La Rouge",
           "Ceton"
          ],
          [
           "Ste-Gauburge",
           "Échauffour"
          ],
          [
           "Rolleville",
           "Épouville"
          ],
          [
           "Pont-sur-Yonne",
           "Authieux-sur-Calonne"
          ],
          [
           "Sées",
           "Aunay-les-Bois"
          ],
          [
           "Épouville",
           "Épouville"
          ],
          [
           "Motteville",
           "Ectot-lès-Baons"
          ],
          [
           "Fécamp",
           "Colleville"
          ],
          [
           "Morgny",
           "Bierville"
          ],
          [
           "Écouché",
           "Avoine"
          ],
          [
           "Pont-l'Évêque",
           "Authieux-sur-Calonne"
          ],
          [
           "Vernon-Giverny",
           "Vernon"
          ],
          [
           "Villers-sur-Mer",
           "Auberville"
          ]
         ],
         "hovertemplate": "nom_region=Normandie<br>Total Voyageurs=%{y}<br>libelle=%{customdata[0]}<br>nom_commune=%{customdata[1]}<extra></extra>",
         "legendgroup": "Normandie",
         "marker": {
          "color": "#EF553B"
         },
         "name": "Normandie",
         "notched": false,
         "offsetgroup": "Normandie",
         "orientation": "v",
         "showlegend": true,
         "type": "box",
         "x0": " ",
         "xaxis": "x",
         "y": [
          25120,
          112813,
          188511,
          8094665,
          82527,
          25890,
          212546,
          628056,
          4,
          1710,
          700985,
          19170,
          454996,
          4890,
          169331,
          0,
          1188814,
          11644,
          0,
          0,
          37046,
          2906,
          74753,
          8618,
          2996,
          29542,
          7975,
          15045,
          170616,
          155659,
          4321,
          0,
          17196,
          24930,
          73535,
          1276683,
          627707,
          455836,
          101808,
          42160,
          126931,
          0,
          1,
          616334,
          50180,
          268199,
          34388,
          309207,
          0,
          20960,
          128908,
          211111,
          302280,
          0,
          14614,
          36718,
          19532,
          7969,
          2116610,
          8303,
          8730,
          792793,
          17385,
          1243858,
          24342,
          383021,
          867558,
          633271,
          103822,
          7705,
          604818,
          4134926,
          5271,
          444175,
          31117,
          275079,
          58545,
          31008,
          212798,
          5169,
          225679,
          0,
          356499,
          100942,
          233066,
          0,
          769085,
          270670,
          33855,
          74754,
          280,
          9017,
          0,
          44231,
          15218,
          57305,
          8097,
          30901,
          0,
          11470,
          15119,
          0,
          18298,
          5262,
          19637,
          1569,
          375,
          123542,
          91220,
          1540,
          69745,
          205329,
          32487,
          326,
          143454,
          2263949,
          7083
         ],
         "y0": " ",
         "yaxis": "y"
        }
       ],
       "layout": {
        "boxmode": "group",
        "legend": {
         "title": {
          "text": "nom_region"
         },
         "tracegroupgap": 0
        },
        "template": {
         "data": {
          "bar": [
           {
            "error_x": {
             "color": "#2a3f5f"
            },
            "error_y": {
             "color": "#2a3f5f"
            },
            "marker": {
             "line": {
              "color": "#E5ECF6",
              "width": 0.5
             },
             "pattern": {
              "fillmode": "overlay",
              "size": 10,
              "solidity": 0.2
             }
            },
            "type": "bar"
           }
          ],
          "barpolar": [
           {
            "marker": {
             "line": {
              "color": "#E5ECF6",
              "width": 0.5
             },
             "pattern": {
              "fillmode": "overlay",
              "size": 10,
              "solidity": 0.2
             }
            },
            "type": "barpolar"
           }
          ],
          "carpet": [
           {
            "aaxis": {
             "endlinecolor": "#2a3f5f",
             "gridcolor": "white",
             "linecolor": "white",
             "minorgridcolor": "white",
             "startlinecolor": "#2a3f5f"
            },
            "baxis": {
             "endlinecolor": "#2a3f5f",
             "gridcolor": "white",
             "linecolor": "white",
             "minorgridcolor": "white",
             "startlinecolor": "#2a3f5f"
            },
            "type": "carpet"
           }
          ],
          "choropleth": [
           {
            "colorbar": {
             "outlinewidth": 0,
             "ticks": ""
            },
            "type": "choropleth"
           }
          ],
          "contour": [
           {
            "colorbar": {
             "outlinewidth": 0,
             "ticks": ""
            },
            "colorscale": [
             [
              0,
              "#0d0887"
             ],
             [
              0.1111111111111111,
              "#46039f"
             ],
             [
              0.2222222222222222,
              "#7201a8"
             ],
             [
              0.3333333333333333,
              "#9c179e"
             ],
             [
              0.4444444444444444,
              "#bd3786"
             ],
             [
              0.5555555555555556,
              "#d8576b"
             ],
             [
              0.6666666666666666,
              "#ed7953"
             ],
             [
              0.7777777777777778,
              "#fb9f3a"
             ],
             [
              0.8888888888888888,
              "#fdca26"
             ],
             [
              1,
              "#f0f921"
             ]
            ],
            "type": "contour"
           }
          ],
          "contourcarpet": [
           {
            "colorbar": {
             "outlinewidth": 0,
             "ticks": ""
            },
            "type": "contourcarpet"
           }
          ],
          "heatmap": [
           {
            "colorbar": {
             "outlinewidth": 0,
             "ticks": ""
            },
            "colorscale": [
             [
              0,
              "#0d0887"
             ],
             [
              0.1111111111111111,
              "#46039f"
             ],
             [
              0.2222222222222222,
              "#7201a8"
             ],
             [
              0.3333333333333333,
              "#9c179e"
             ],
             [
              0.4444444444444444,
              "#bd3786"
             ],
             [
              0.5555555555555556,
              "#d8576b"
             ],
             [
              0.6666666666666666,
              "#ed7953"
             ],
             [
              0.7777777777777778,
              "#fb9f3a"
             ],
             [
              0.8888888888888888,
              "#fdca26"
             ],
             [
              1,
              "#f0f921"
             ]
            ],
            "type": "heatmap"
           }
          ],
          "heatmapgl": [
           {
            "colorbar": {
             "outlinewidth": 0,
             "ticks": ""
            },
            "colorscale": [
             [
              0,
              "#0d0887"
             ],
             [
              0.1111111111111111,
              "#46039f"
             ],
             [
              0.2222222222222222,
              "#7201a8"
             ],
             [
              0.3333333333333333,
              "#9c179e"
             ],
             [
              0.4444444444444444,
              "#bd3786"
             ],
             [
              0.5555555555555556,
              "#d8576b"
             ],
             [
              0.6666666666666666,
              "#ed7953"
             ],
             [
              0.7777777777777778,
              "#fb9f3a"
             ],
             [
              0.8888888888888888,
              "#fdca26"
             ],
             [
              1,
              "#f0f921"
             ]
            ],
            "type": "heatmapgl"
           }
          ],
          "histogram": [
           {
            "marker": {
             "pattern": {
              "fillmode": "overlay",
              "size": 10,
              "solidity": 0.2
             }
            },
            "type": "histogram"
           }
          ],
          "histogram2d": [
           {
            "colorbar": {
             "outlinewidth": 0,
             "ticks": ""
            },
            "colorscale": [
             [
              0,
              "#0d0887"
             ],
             [
              0.1111111111111111,
              "#46039f"
             ],
             [
              0.2222222222222222,
              "#7201a8"
             ],
             [
              0.3333333333333333,
              "#9c179e"
             ],
             [
              0.4444444444444444,
              "#bd3786"
             ],
             [
              0.5555555555555556,
              "#d8576b"
             ],
             [
              0.6666666666666666,
              "#ed7953"
             ],
             [
              0.7777777777777778,
              "#fb9f3a"
             ],
             [
              0.8888888888888888,
              "#fdca26"
             ],
             [
              1,
              "#f0f921"
             ]
            ],
            "type": "histogram2d"
           }
          ],
          "histogram2dcontour": [
           {
            "colorbar": {
             "outlinewidth": 0,
             "ticks": ""
            },
            "colorscale": [
             [
              0,
              "#0d0887"
             ],
             [
              0.1111111111111111,
              "#46039f"
             ],
             [
              0.2222222222222222,
              "#7201a8"
             ],
             [
              0.3333333333333333,
              "#9c179e"
             ],
             [
              0.4444444444444444,
              "#bd3786"
             ],
             [
              0.5555555555555556,
              "#d8576b"
             ],
             [
              0.6666666666666666,
              "#ed7953"
             ],
             [
              0.7777777777777778,
              "#fb9f3a"
             ],
             [
              0.8888888888888888,
              "#fdca26"
             ],
             [
              1,
              "#f0f921"
             ]
            ],
            "type": "histogram2dcontour"
           }
          ],
          "mesh3d": [
           {
            "colorbar": {
             "outlinewidth": 0,
             "ticks": ""
            },
            "type": "mesh3d"
           }
          ],
          "parcoords": [
           {
            "line": {
             "colorbar": {
              "outlinewidth": 0,
              "ticks": ""
             }
            },
            "type": "parcoords"
           }
          ],
          "pie": [
           {
            "automargin": true,
            "type": "pie"
           }
          ],
          "scatter": [
           {
            "fillpattern": {
             "fillmode": "overlay",
             "size": 10,
             "solidity": 0.2
            },
            "type": "scatter"
           }
          ],
          "scatter3d": [
           {
            "line": {
             "colorbar": {
              "outlinewidth": 0,
              "ticks": ""
             }
            },
            "marker": {
             "colorbar": {
              "outlinewidth": 0,
              "ticks": ""
             }
            },
            "type": "scatter3d"
           }
          ],
          "scattercarpet": [
           {
            "marker": {
             "colorbar": {
              "outlinewidth": 0,
              "ticks": ""
             }
            },
            "type": "scattercarpet"
           }
          ],
          "scattergeo": [
           {
            "marker": {
             "colorbar": {
              "outlinewidth": 0,
              "ticks": ""
             }
            },
            "type": "scattergeo"
           }
          ],
          "scattergl": [
           {
            "marker": {
             "colorbar": {
              "outlinewidth": 0,
              "ticks": ""
             }
            },
            "type": "scattergl"
           }
          ],
          "scattermapbox": [
           {
            "marker": {
             "colorbar": {
              "outlinewidth": 0,
              "ticks": ""
             }
            },
            "type": "scattermapbox"
           }
          ],
          "scatterpolar": [
           {
            "marker": {
             "colorbar": {
              "outlinewidth": 0,
              "ticks": ""
             }
            },
            "type": "scatterpolar"
           }
          ],
          "scatterpolargl": [
           {
            "marker": {
             "colorbar": {
              "outlinewidth": 0,
              "ticks": ""
             }
            },
            "type": "scatterpolargl"
           }
          ],
          "scatterternary": [
           {
            "marker": {
             "colorbar": {
              "outlinewidth": 0,
              "ticks": ""
             }
            },
            "type": "scatterternary"
           }
          ],
          "surface": [
           {
            "colorbar": {
             "outlinewidth": 0,
             "ticks": ""
            },
            "colorscale": [
             [
              0,
              "#0d0887"
             ],
             [
              0.1111111111111111,
              "#46039f"
             ],
             [
              0.2222222222222222,
              "#7201a8"
             ],
             [
              0.3333333333333333,
              "#9c179e"
             ],
             [
              0.4444444444444444,
              "#bd3786"
             ],
             [
              0.5555555555555556,
              "#d8576b"
             ],
             [
              0.6666666666666666,
              "#ed7953"
             ],
             [
              0.7777777777777778,
              "#fb9f3a"
             ],
             [
              0.8888888888888888,
              "#fdca26"
             ],
             [
              1,
              "#f0f921"
             ]
            ],
            "type": "surface"
           }
          ],
          "table": [
           {
            "cells": {
             "fill": {
              "color": "#EBF0F8"
             },
             "line": {
              "color": "white"
             }
            },
            "header": {
             "fill": {
              "color": "#C8D4E3"
             },
             "line": {
              "color": "white"
             }
            },
            "type": "table"
           }
          ]
         },
         "layout": {
          "annotationdefaults": {
           "arrowcolor": "#2a3f5f",
           "arrowhead": 0,
           "arrowwidth": 1
          },
          "autotypenumbers": "strict",
          "coloraxis": {
           "colorbar": {
            "outlinewidth": 0,
            "ticks": ""
           }
          },
          "colorscale": {
           "diverging": [
            [
             0,
             "#8e0152"
            ],
            [
             0.1,
             "#c51b7d"
            ],
            [
             0.2,
             "#de77ae"
            ],
            [
             0.3,
             "#f1b6da"
            ],
            [
             0.4,
             "#fde0ef"
            ],
            [
             0.5,
             "#f7f7f7"
            ],
            [
             0.6,
             "#e6f5d0"
            ],
            [
             0.7,
             "#b8e186"
            ],
            [
             0.8,
             "#7fbc41"
            ],
            [
             0.9,
             "#4d9221"
            ],
            [
             1,
             "#276419"
            ]
           ],
           "sequential": [
            [
             0,
             "#0d0887"
            ],
            [
             0.1111111111111111,
             "#46039f"
            ],
            [
             0.2222222222222222,
             "#7201a8"
            ],
            [
             0.3333333333333333,
             "#9c179e"
            ],
            [
             0.4444444444444444,
             "#bd3786"
            ],
            [
             0.5555555555555556,
             "#d8576b"
            ],
            [
             0.6666666666666666,
             "#ed7953"
            ],
            [
             0.7777777777777778,
             "#fb9f3a"
            ],
            [
             0.8888888888888888,
             "#fdca26"
            ],
            [
             1,
             "#f0f921"
            ]
           ],
           "sequentialminus": [
            [
             0,
             "#0d0887"
            ],
            [
             0.1111111111111111,
             "#46039f"
            ],
            [
             0.2222222222222222,
             "#7201a8"
            ],
            [
             0.3333333333333333,
             "#9c179e"
            ],
            [
             0.4444444444444444,
             "#bd3786"
            ],
            [
             0.5555555555555556,
             "#d8576b"
            ],
            [
             0.6666666666666666,
             "#ed7953"
            ],
            [
             0.7777777777777778,
             "#fb9f3a"
            ],
            [
             0.8888888888888888,
             "#fdca26"
            ],
            [
             1,
             "#f0f921"
            ]
           ]
          },
          "colorway": [
           "#636efa",
           "#EF553B",
           "#00cc96",
           "#ab63fa",
           "#FFA15A",
           "#19d3f3",
           "#FF6692",
           "#B6E880",
           "#FF97FF",
           "#FECB52"
          ],
          "font": {
           "color": "#2a3f5f"
          },
          "geo": {
           "bgcolor": "white",
           "lakecolor": "white",
           "landcolor": "#E5ECF6",
           "showlakes": true,
           "showland": true,
           "subunitcolor": "white"
          },
          "hoverlabel": {
           "align": "left"
          },
          "hovermode": "closest",
          "mapbox": {
           "style": "light"
          },
          "paper_bgcolor": "white",
          "plot_bgcolor": "#E5ECF6",
          "polar": {
           "angularaxis": {
            "gridcolor": "white",
            "linecolor": "white",
            "ticks": ""
           },
           "bgcolor": "#E5ECF6",
           "radialaxis": {
            "gridcolor": "white",
            "linecolor": "white",
            "ticks": ""
           }
          },
          "scene": {
           "xaxis": {
            "backgroundcolor": "#E5ECF6",
            "gridcolor": "white",
            "gridwidth": 2,
            "linecolor": "white",
            "showbackground": true,
            "ticks": "",
            "zerolinecolor": "white"
           },
           "yaxis": {
            "backgroundcolor": "#E5ECF6",
            "gridcolor": "white",
            "gridwidth": 2,
            "linecolor": "white",
            "showbackground": true,
            "ticks": "",
            "zerolinecolor": "white"
           },
           "zaxis": {
            "backgroundcolor": "#E5ECF6",
            "gridcolor": "white",
            "gridwidth": 2,
            "linecolor": "white",
            "showbackground": true,
            "ticks": "",
            "zerolinecolor": "white"
           }
          },
          "shapedefaults": {
           "line": {
            "color": "#2a3f5f"
           }
          },
          "ternary": {
           "aaxis": {
            "gridcolor": "white",
            "linecolor": "white",
            "ticks": ""
           },
           "baxis": {
            "gridcolor": "white",
            "linecolor": "white",
            "ticks": ""
           },
           "bgcolor": "#E5ECF6",
           "caxis": {
            "gridcolor": "white",
            "linecolor": "white",
            "ticks": ""
           }
          },
          "title": {
           "x": 0.05
          },
          "xaxis": {
           "automargin": true,
           "gridcolor": "white",
           "linecolor": "white",
           "ticks": "",
           "title": {
            "standoff": 15
           },
           "zerolinecolor": "white",
           "zerolinewidth": 2
          },
          "yaxis": {
           "automargin": true,
           "gridcolor": "white",
           "linecolor": "white",
           "ticks": "",
           "title": {
            "standoff": 15
           },
           "zerolinecolor": "white",
           "zerolinewidth": 2
          }
         }
        },
        "title": {
         "text": "Distribution du nombre de voyageurs par région (2023)"
        },
        "xaxis": {
         "anchor": "y",
         "domain": [
          0,
          1
         ],
         "title": {
          "text": "Région"
         }
        },
        "yaxis": {
         "anchor": "x",
         "domain": [
          0,
          1
         ],
         "title": {
          "text": "Total Voyageurs"
         }
        }
       }
      }
     },
     "metadata": {},
     "output_type": "display_data"
    }
   ],
   "source": [
    "fig = px.box(\n",
    "    gares_communes[(gares_communes[\"Année\"] == \"2023\") & (gares_communes[\"nom_region\"] != \"Île-de-France\")],\n",
    "    y=\"Total Voyageurs\",\n",
    "    color=\"nom_region\",\n",
    "    points=\"all\",\n",
    "    hover_data=[\"libelle\", \"nom_commune\"],\n",
    "    title=\"Distribution du nombre de voyageurs par région (2023)\"\n",
    ")\n",
    "fig.update_layout(yaxis_title=\"Total Voyageurs\", xaxis_title=\"Région\")\n",
    "fig.show()"
   ]
  },
  {
   "cell_type": "code",
   "execution_count": 16,
   "id": "ad4edf67",
   "metadata": {},
   "outputs": [
    {
     "data": {
      "application/vnd.plotly.v1+json": {
       "config": {
        "plotlyServerURL": "https://plot.ly"
       },
       "data": [
        {
         "hovertemplate": "<b>%{hovertext}</b><br><br>Région=Île-de-France<br>Population totale (PTOT)=%{x}<br>Total Voyageurs=%{y}<extra></extra>",
         "hovertext": [
          "La Défense",
          "Issy-Val-de-Seine",
          "Villeneuve-St-Georges",
          "Lieusaint-Moissy",
          "Bois-Colombes",
          "Savigny-sur-Orge",
          "Asnières-sur-Seine",
          "Juvisy",
          "Livry-Gargan",
          "Pont-Cardinet",
          "Paris-Montparnasse",
          "Versailles-Chantiers",
          "Argenteuil",
          "Clichy-Levallois",
          "Choisy-le-Roi",
          "Pontoise",
          "Garges-Sarcelles",
          "St-Quentin-en-Yvelines",
          "Rosny-Bois-Perrier",
          "Nanterre-Université",
          "Paris-St-Lazare",
          "Conflans-Fin-d'Oise",
          "Franconville-Plessis-Bouchard",
          "Drancy",
          "Versailles-Rive-Gauche",
          "Melun",
          "Houilles-Carrières-sur-Seine",
          "Chelles-Gournay",
          "St-Cloud",
          "Ermont-Eaubonne",
          "Champ-de-Mars-Tour-Eiffel",
          "Rosny-sous-Bois",
          "Mantes-la-Jolie",
          "St-Michel-Notre-Dame",
          "Vigneux-sur-Seine",
          "Évry-Courcouronnes",
          "Grigny-Centre",
          "Noisy-le-Sec",
          "Viroflay-Rive-Gauche",
          "Maisons-Laffitte",
          "Stade-de-France-St-Denis",
          "Meaux",
          "Invalides",
          "Versailles-Rive-Droite",
          "Pierrefitte-Stains",
          "Colombes",
          "Roissy-Aéroport-Charles-de-Gaulle 1",
          "Corbeil-Essonnes",
          "Brétigny",
          "Gagny",
          "Paris-Gare-de-Lyon",
          "Sevran-Livry",
          "Cergy-Préfecture",
          "Paris-Austerlitz",
          "Le Bourget",
          "Paris-Nord",
          "Val-de-Fontenay",
          "Rambouillet",
          "St-Cyr",
          "Sartrouville",
          "Épinay-sur-Seine",
          "Bondy",
          "Maisons-Alfort-Alfortville",
          "Villiers-le-Bel-Gonesse-Arnouville",
          "Bécon-les-Bruyères",
          "Magenta",
          "Paris-Bercy",
          "Rosa Parks",
          "Sarcelles-St-Brice",
          "Vert-Galant",
          "Bibliothèque-François-Mitterrand",
          "Cergy-le-Haut",
          "Sevran-Beaudottes",
          "Val-d'Argenteuil",
          "Cergy-St-Christophe",
          "Épinay-Villetaneuse",
          "La Plaine-Stade-de-France",
          "Poissy",
          "Massy-Palaiseau",
          "Pantin",
          "Villiers-sur-Marne-Le Plessis-Trévise",
          "Aulnay-sous-Bois",
          "Enghien-les-Bains",
          "Le Raincy-Villemomble-Montfermeil",
          "Aéroport-Charles-de-Gaulle 2-TGV",
          "St-Denis",
          "Créteil-Pompadour",
          "La Courneuve-Aubervilliers"
         ],
         "legendgroup": "Île-de-France",
         "marker": {
          "color": "#636efa",
          "symbol": "circle"
         },
         "mode": "markers",
         "name": "Île-de-France",
         "orientation": "v",
         "showlegend": true,
         "type": "scatter",
         "x": [
          44905,
          69277,
          33636,
          13366,
          28476,
          36817,
          85875,
          16795,
          24060,
          168737,
          235178,
          87900,
          110839,
          61379,
          45552,
          2456,
          42853,
          33396,
          46395,
          95739,
          37368,
          36285,
          36972,
          71605,
          87900,
          2111,
          32480,
          55195,
          30582,
          29348,
          235178,
          46395,
          293,
          59631,
          31752,
          68493,
          28862,
          44274,
          16436,
          24167,
          111948,
          3157,
          52193,
          87900,
          30387,
          85775,
          36345,
          51572,
          26841,
          39535,
          141287,
          51201,
          65647,
          183399,
          16643,
          90836,
          53418,
          891,
          19407,
          52433,
          55237,
          53540,
          55988,
          14313,
          82327,
          90836,
          141287,
          188066,
          58849,
          36934,
          183399,
          65647,
          51201,
          110839,
          65647,
          55237,
          111948,
          37683,
          51142,
          57668,
          28567,
          86180,
          11369,
          14876,
          36345,
          111948,
          45552,
          43203
         ],
         "xaxis": "x",
         "y": [
          28148302,
          5112442,
          15726701,
          5153501,
          5150893,
          7223917,
          16438479,
          35396457,
          6074590,
          7123181,
          64471254,
          21427872,
          15911703,
          10515535,
          11637929,
          7693222,
          15763808,
          10585018,
          5690526,
          6863809,
          103453620,
          6697282,
          5458186,
          8948970,
          6166920,
          14727713,
          16550470,
          10304177,
          8306468,
          21292129,
          6985616,
          5704642,
          8983680,
          24223770,
          5676833,
          9895865,
          6550029,
          16649415,
          5243758,
          8319877,
          8346758,
          9412908,
          9761032,
          5410543,
          11310252,
          5581499,
          8209781,
          8651118,
          5849583,
          5645140,
          110498896,
          5781900,
          12719391,
          21657509,
          21492495,
          226768485,
          17503165,
          5059405,
          5923522,
          10355462,
          6116202,
          15540271,
          11974756,
          10546906,
          10588016,
          35160793,
          5073990,
          12754682,
          5568376,
          6759310,
          24461616,
          7148098,
          9294559,
          6361192,
          7092079,
          15812883,
          13008410,
          11878444,
          7877252,
          8731368,
          8193562,
          28732540,
          6996926,
          6921819,
          15394518,
          28530643,
          6823684,
          14599726
         ],
         "yaxis": "y"
        },
        {
         "hovertemplate": "<b>%{hovertext}</b><br><br>Région=Hauts-de-France<br>Population totale (PTOT)=%{x}<br>Total Voyageurs=%{y}<extra></extra>",
         "hovertext": [
          "Creil",
          "Lille-Europe",
          "Lille-Flandres"
         ],
         "legendgroup": "Hauts-de-France",
         "marker": {
          "color": "#EF553B",
          "symbol": "circle"
         },
         "mode": "markers",
         "name": "Hauts-de-France",
         "orientation": "v",
         "showlegend": true,
         "type": "scatter",
         "x": [
          35884,
          234842,
          234842
         ],
         "xaxis": "x",
         "y": [
          5392059,
          6721133,
          24118203
         ],
         "yaxis": "y"
        },
        {
         "hovertemplate": "<b>%{hovertext}</b><br><br>Région=Normandie<br>Population totale (PTOT)=%{x}<br>Total Voyageurs=%{y}<extra></extra>",
         "hovertext": [
          "Rouen-Rive-Droite"
         ],
         "legendgroup": "Normandie",
         "marker": {
          "color": "#00cc96",
          "symbol": "circle"
         },
         "mode": "markers",
         "name": "Normandie",
         "orientation": "v",
         "showlegend": true,
         "type": "scatter",
         "x": [
          111760
         ],
         "xaxis": "x",
         "y": [
          8094665
         ],
         "yaxis": "y"
        },
        {
         "hovertemplate": "<b>%{hovertext}</b><br><br>Région=Auvergne-Rhône-Alpes<br>Population totale (PTOT)=%{x}<br>Total Voyageurs=%{y}<extra></extra>",
         "hovertext": [
          "Lyon-Part-Dieu",
          "Grenoble"
         ],
         "legendgroup": "Auvergne-Rhône-Alpes",
         "marker": {
          "color": "#FFA15A",
          "symbol": "circle"
         },
         "mode": "markers",
         "name": "Auvergne-Rhône-Alpes",
         "orientation": "v",
         "showlegend": true,
         "type": "scatter",
         "x": [
          102752,
          160625
         ],
         "xaxis": "x",
         "y": [
          40088689,
          8121338
         ],
         "yaxis": "y"
        },
        {
         "hovertemplate": "<b>%{hovertext}</b><br><br>Région=Provence-Alpes-Côte d'Azur<br>Population totale (PTOT)=%{x}<br>Total Voyageurs=%{y}<extra></extra>",
         "hovertext": [
          "Cannes"
         ],
         "legendgroup": "Provence-Alpes-Côte d'Azur",
         "marker": {
          "color": "#19d3f3",
          "symbol": "circle"
         },
         "mode": "markers",
         "name": "Provence-Alpes-Côte d'Azur",
         "orientation": "v",
         "showlegend": true,
         "type": "scatter",
         "x": [
          74686
         ],
         "xaxis": "x",
         "y": [
          5392921
         ],
         "yaxis": "y"
        },
        {
         "hovertemplate": "<b>%{hovertext}</b><br><br>Région=Pays de la Loire<br>Population totale (PTOT)=%{x}<br>Total Voyageurs=%{y}<extra></extra>",
         "hovertext": [
          "Le Mans",
          "Angers-St-Laud"
         ],
         "legendgroup": "Pays de la Loire",
         "marker": {
          "color": "#FF6692",
          "symbol": "circle"
         },
         "mode": "markers",
         "name": "Pays de la Loire",
         "orientation": "v",
         "showlegend": true,
         "type": "scatter",
         "x": [
          145776,
          156037
         ],
         "xaxis": "x",
         "y": [
          5302246,
          6781537
         ],
         "yaxis": "y"
        },
        {
         "hovertemplate": "<b>%{hovertext}</b><br><br>Région=Grand Est<br>Population totale (PTOT)=%{x}<br>Total Voyageurs=%{y}<extra></extra>",
         "hovertext": [
          "Strasbourg-Ville",
          "Mulhouse-Ville",
          "Metz-Ville",
          "Nancy-Ville"
         ],
         "legendgroup": "Grand Est",
         "marker": {
          "color": "#B6E880",
          "symbol": "circle"
         },
         "mode": "markers",
         "name": "Grand Est",
         "orientation": "v",
         "showlegend": true,
         "type": "scatter",
         "x": [
          283745,
          110612,
          118253,
          105743
         ],
         "xaxis": "x",
         "y": [
          23907864,
          5637668,
          9407728,
          9228582
         ],
         "yaxis": "y"
        },
        {
         "hovertemplate": "<b>%{hovertext}</b><br><br>Région=Centre-Val de Loire<br>Population totale (PTOT)=%{x}<br>Total Voyageurs=%{y}<extra></extra>",
         "hovertext": [
          "Tours"
         ],
         "legendgroup": "Centre-Val de Loire",
         "marker": {
          "color": "#FF97FF",
          "symbol": "circle"
         },
         "mode": "markers",
         "name": "Centre-Val de Loire",
         "orientation": "v",
         "showlegend": true,
         "type": "scatter",
         "x": [
          138616
         ],
         "xaxis": "x",
         "y": [
          6506313
         ],
         "yaxis": "y"
        },
        {
         "hovertemplate": "<b>%{hovertext}</b><br><br>Région=Bourgogne-Franche-Comté<br>Population totale (PTOT)=%{x}<br>Total Voyageurs=%{y}<extra></extra>",
         "hovertext": [
          "Dijon-Ville"
         ],
         "legendgroup": "Bourgogne-Franche-Comté",
         "marker": {
          "color": "#FECB52",
          "symbol": "circle"
         },
         "mode": "markers",
         "name": "Bourgogne-Franche-Comté",
         "orientation": "v",
         "showlegend": true,
         "type": "scatter",
         "x": [
          160204
         ],
         "xaxis": "x",
         "y": [
          7653382
         ],
         "yaxis": "y"
        },
        {
         "hovertemplate": "<b>%{hovertext}</b><br><br>Région=Occitanie<br>Population totale (PTOT)=%{x}<br>Total Voyageurs=%{y}<extra></extra>",
         "hovertext": [
          "Toulouse-Matabiau"
         ],
         "legendgroup": "Occitanie",
         "marker": {
          "color": "#636efa",
          "symbol": "circle"
         },
         "mode": "markers",
         "name": "Occitanie",
         "orientation": "v",
         "showlegend": true,
         "type": "scatter",
         "x": [
          484809
         ],
         "xaxis": "x",
         "y": [
          14526190
         ],
         "yaxis": "y"
        },
        {
         "hovertemplate": "<b>%{hovertext}</b><br><br>Région=Nouvelle-Aquitaine<br>Population totale (PTOT)=%{x}<br>Total Voyageurs=%{y}<extra></extra>",
         "hovertext": [
          "Bordeaux-St-Jean"
         ],
         "legendgroup": "Nouvelle-Aquitaine",
         "marker": {
          "color": "#EF553B",
          "symbol": "circle"
         },
         "mode": "markers",
         "name": "Nouvelle-Aquitaine",
         "orientation": "v",
         "showlegend": true,
         "type": "scatter",
         "x": [
          257804
         ],
         "xaxis": "x",
         "y": [
          22612374
         ],
         "yaxis": "y"
        }
       ],
       "layout": {
        "legend": {
         "title": {
          "text": "Région"
         },
         "tracegroupgap": 0
        },
        "template": {
         "data": {
          "bar": [
           {
            "error_x": {
             "color": "#2a3f5f"
            },
            "error_y": {
             "color": "#2a3f5f"
            },
            "marker": {
             "line": {
              "color": "#E5ECF6",
              "width": 0.5
             },
             "pattern": {
              "fillmode": "overlay",
              "size": 10,
              "solidity": 0.2
             }
            },
            "type": "bar"
           }
          ],
          "barpolar": [
           {
            "marker": {
             "line": {
              "color": "#E5ECF6",
              "width": 0.5
             },
             "pattern": {
              "fillmode": "overlay",
              "size": 10,
              "solidity": 0.2
             }
            },
            "type": "barpolar"
           }
          ],
          "carpet": [
           {
            "aaxis": {
             "endlinecolor": "#2a3f5f",
             "gridcolor": "white",
             "linecolor": "white",
             "minorgridcolor": "white",
             "startlinecolor": "#2a3f5f"
            },
            "baxis": {
             "endlinecolor": "#2a3f5f",
             "gridcolor": "white",
             "linecolor": "white",
             "minorgridcolor": "white",
             "startlinecolor": "#2a3f5f"
            },
            "type": "carpet"
           }
          ],
          "choropleth": [
           {
            "colorbar": {
             "outlinewidth": 0,
             "ticks": ""
            },
            "type": "choropleth"
           }
          ],
          "contour": [
           {
            "colorbar": {
             "outlinewidth": 0,
             "ticks": ""
            },
            "colorscale": [
             [
              0,
              "#0d0887"
             ],
             [
              0.1111111111111111,
              "#46039f"
             ],
             [
              0.2222222222222222,
              "#7201a8"
             ],
             [
              0.3333333333333333,
              "#9c179e"
             ],
             [
              0.4444444444444444,
              "#bd3786"
             ],
             [
              0.5555555555555556,
              "#d8576b"
             ],
             [
              0.6666666666666666,
              "#ed7953"
             ],
             [
              0.7777777777777778,
              "#fb9f3a"
             ],
             [
              0.8888888888888888,
              "#fdca26"
             ],
             [
              1,
              "#f0f921"
             ]
            ],
            "type": "contour"
           }
          ],
          "contourcarpet": [
           {
            "colorbar": {
             "outlinewidth": 0,
             "ticks": ""
            },
            "type": "contourcarpet"
           }
          ],
          "heatmap": [
           {
            "colorbar": {
             "outlinewidth": 0,
             "ticks": ""
            },
            "colorscale": [
             [
              0,
              "#0d0887"
             ],
             [
              0.1111111111111111,
              "#46039f"
             ],
             [
              0.2222222222222222,
              "#7201a8"
             ],
             [
              0.3333333333333333,
              "#9c179e"
             ],
             [
              0.4444444444444444,
              "#bd3786"
             ],
             [
              0.5555555555555556,
              "#d8576b"
             ],
             [
              0.6666666666666666,
              "#ed7953"
             ],
             [
              0.7777777777777778,
              "#fb9f3a"
             ],
             [
              0.8888888888888888,
              "#fdca26"
             ],
             [
              1,
              "#f0f921"
             ]
            ],
            "type": "heatmap"
           }
          ],
          "heatmapgl": [
           {
            "colorbar": {
             "outlinewidth": 0,
             "ticks": ""
            },
            "colorscale": [
             [
              0,
              "#0d0887"
             ],
             [
              0.1111111111111111,
              "#46039f"
             ],
             [
              0.2222222222222222,
              "#7201a8"
             ],
             [
              0.3333333333333333,
              "#9c179e"
             ],
             [
              0.4444444444444444,
              "#bd3786"
             ],
             [
              0.5555555555555556,
              "#d8576b"
             ],
             [
              0.6666666666666666,
              "#ed7953"
             ],
             [
              0.7777777777777778,
              "#fb9f3a"
             ],
             [
              0.8888888888888888,
              "#fdca26"
             ],
             [
              1,
              "#f0f921"
             ]
            ],
            "type": "heatmapgl"
           }
          ],
          "histogram": [
           {
            "marker": {
             "pattern": {
              "fillmode": "overlay",
              "size": 10,
              "solidity": 0.2
             }
            },
            "type": "histogram"
           }
          ],
          "histogram2d": [
           {
            "colorbar": {
             "outlinewidth": 0,
             "ticks": ""
            },
            "colorscale": [
             [
              0,
              "#0d0887"
             ],
             [
              0.1111111111111111,
              "#46039f"
             ],
             [
              0.2222222222222222,
              "#7201a8"
             ],
             [
              0.3333333333333333,
              "#9c179e"
             ],
             [
              0.4444444444444444,
              "#bd3786"
             ],
             [
              0.5555555555555556,
              "#d8576b"
             ],
             [
              0.6666666666666666,
              "#ed7953"
             ],
             [
              0.7777777777777778,
              "#fb9f3a"
             ],
             [
              0.8888888888888888,
              "#fdca26"
             ],
             [
              1,
              "#f0f921"
             ]
            ],
            "type": "histogram2d"
           }
          ],
          "histogram2dcontour": [
           {
            "colorbar": {
             "outlinewidth": 0,
             "ticks": ""
            },
            "colorscale": [
             [
              0,
              "#0d0887"
             ],
             [
              0.1111111111111111,
              "#46039f"
             ],
             [
              0.2222222222222222,
              "#7201a8"
             ],
             [
              0.3333333333333333,
              "#9c179e"
             ],
             [
              0.4444444444444444,
              "#bd3786"
             ],
             [
              0.5555555555555556,
              "#d8576b"
             ],
             [
              0.6666666666666666,
              "#ed7953"
             ],
             [
              0.7777777777777778,
              "#fb9f3a"
             ],
             [
              0.8888888888888888,
              "#fdca26"
             ],
             [
              1,
              "#f0f921"
             ]
            ],
            "type": "histogram2dcontour"
           }
          ],
          "mesh3d": [
           {
            "colorbar": {
             "outlinewidth": 0,
             "ticks": ""
            },
            "type": "mesh3d"
           }
          ],
          "parcoords": [
           {
            "line": {
             "colorbar": {
              "outlinewidth": 0,
              "ticks": ""
             }
            },
            "type": "parcoords"
           }
          ],
          "pie": [
           {
            "automargin": true,
            "type": "pie"
           }
          ],
          "scatter": [
           {
            "fillpattern": {
             "fillmode": "overlay",
             "size": 10,
             "solidity": 0.2
            },
            "type": "scatter"
           }
          ],
          "scatter3d": [
           {
            "line": {
             "colorbar": {
              "outlinewidth": 0,
              "ticks": ""
             }
            },
            "marker": {
             "colorbar": {
              "outlinewidth": 0,
              "ticks": ""
             }
            },
            "type": "scatter3d"
           }
          ],
          "scattercarpet": [
           {
            "marker": {
             "colorbar": {
              "outlinewidth": 0,
              "ticks": ""
             }
            },
            "type": "scattercarpet"
           }
          ],
          "scattergeo": [
           {
            "marker": {
             "colorbar": {
              "outlinewidth": 0,
              "ticks": ""
             }
            },
            "type": "scattergeo"
           }
          ],
          "scattergl": [
           {
            "marker": {
             "colorbar": {
              "outlinewidth": 0,
              "ticks": ""
             }
            },
            "type": "scattergl"
           }
          ],
          "scattermapbox": [
           {
            "marker": {
             "colorbar": {
              "outlinewidth": 0,
              "ticks": ""
             }
            },
            "type": "scattermapbox"
           }
          ],
          "scatterpolar": [
           {
            "marker": {
             "colorbar": {
              "outlinewidth": 0,
              "ticks": ""
             }
            },
            "type": "scatterpolar"
           }
          ],
          "scatterpolargl": [
           {
            "marker": {
             "colorbar": {
              "outlinewidth": 0,
              "ticks": ""
             }
            },
            "type": "scatterpolargl"
           }
          ],
          "scatterternary": [
           {
            "marker": {
             "colorbar": {
              "outlinewidth": 0,
              "ticks": ""
             }
            },
            "type": "scatterternary"
           }
          ],
          "surface": [
           {
            "colorbar": {
             "outlinewidth": 0,
             "ticks": ""
            },
            "colorscale": [
             [
              0,
              "#0d0887"
             ],
             [
              0.1111111111111111,
              "#46039f"
             ],
             [
              0.2222222222222222,
              "#7201a8"
             ],
             [
              0.3333333333333333,
              "#9c179e"
             ],
             [
              0.4444444444444444,
              "#bd3786"
             ],
             [
              0.5555555555555556,
              "#d8576b"
             ],
             [
              0.6666666666666666,
              "#ed7953"
             ],
             [
              0.7777777777777778,
              "#fb9f3a"
             ],
             [
              0.8888888888888888,
              "#fdca26"
             ],
             [
              1,
              "#f0f921"
             ]
            ],
            "type": "surface"
           }
          ],
          "table": [
           {
            "cells": {
             "fill": {
              "color": "#EBF0F8"
             },
             "line": {
              "color": "white"
             }
            },
            "header": {
             "fill": {
              "color": "#C8D4E3"
             },
             "line": {
              "color": "white"
             }
            },
            "type": "table"
           }
          ]
         },
         "layout": {
          "annotationdefaults": {
           "arrowcolor": "#2a3f5f",
           "arrowhead": 0,
           "arrowwidth": 1
          },
          "autotypenumbers": "strict",
          "coloraxis": {
           "colorbar": {
            "outlinewidth": 0,
            "ticks": ""
           }
          },
          "colorscale": {
           "diverging": [
            [
             0,
             "#8e0152"
            ],
            [
             0.1,
             "#c51b7d"
            ],
            [
             0.2,
             "#de77ae"
            ],
            [
             0.3,
             "#f1b6da"
            ],
            [
             0.4,
             "#fde0ef"
            ],
            [
             0.5,
             "#f7f7f7"
            ],
            [
             0.6,
             "#e6f5d0"
            ],
            [
             0.7,
             "#b8e186"
            ],
            [
             0.8,
             "#7fbc41"
            ],
            [
             0.9,
             "#4d9221"
            ],
            [
             1,
             "#276419"
            ]
           ],
           "sequential": [
            [
             0,
             "#0d0887"
            ],
            [
             0.1111111111111111,
             "#46039f"
            ],
            [
             0.2222222222222222,
             "#7201a8"
            ],
            [
             0.3333333333333333,
             "#9c179e"
            ],
            [
             0.4444444444444444,
             "#bd3786"
            ],
            [
             0.5555555555555556,
             "#d8576b"
            ],
            [
             0.6666666666666666,
             "#ed7953"
            ],
            [
             0.7777777777777778,
             "#fb9f3a"
            ],
            [
             0.8888888888888888,
             "#fdca26"
            ],
            [
             1,
             "#f0f921"
            ]
           ],
           "sequentialminus": [
            [
             0,
             "#0d0887"
            ],
            [
             0.1111111111111111,
             "#46039f"
            ],
            [
             0.2222222222222222,
             "#7201a8"
            ],
            [
             0.3333333333333333,
             "#9c179e"
            ],
            [
             0.4444444444444444,
             "#bd3786"
            ],
            [
             0.5555555555555556,
             "#d8576b"
            ],
            [
             0.6666666666666666,
             "#ed7953"
            ],
            [
             0.7777777777777778,
             "#fb9f3a"
            ],
            [
             0.8888888888888888,
             "#fdca26"
            ],
            [
             1,
             "#f0f921"
            ]
           ]
          },
          "colorway": [
           "#636efa",
           "#EF553B",
           "#00cc96",
           "#ab63fa",
           "#FFA15A",
           "#19d3f3",
           "#FF6692",
           "#B6E880",
           "#FF97FF",
           "#FECB52"
          ],
          "font": {
           "color": "#2a3f5f"
          },
          "geo": {
           "bgcolor": "white",
           "lakecolor": "white",
           "landcolor": "#E5ECF6",
           "showlakes": true,
           "showland": true,
           "subunitcolor": "white"
          },
          "hoverlabel": {
           "align": "left"
          },
          "hovermode": "closest",
          "mapbox": {
           "style": "light"
          },
          "paper_bgcolor": "white",
          "plot_bgcolor": "#E5ECF6",
          "polar": {
           "angularaxis": {
            "gridcolor": "white",
            "linecolor": "white",
            "ticks": ""
           },
           "bgcolor": "#E5ECF6",
           "radialaxis": {
            "gridcolor": "white",
            "linecolor": "white",
            "ticks": ""
           }
          },
          "scene": {
           "xaxis": {
            "backgroundcolor": "#E5ECF6",
            "gridcolor": "white",
            "gridwidth": 2,
            "linecolor": "white",
            "showbackground": true,
            "ticks": "",
            "zerolinecolor": "white"
           },
           "yaxis": {
            "backgroundcolor": "#E5ECF6",
            "gridcolor": "white",
            "gridwidth": 2,
            "linecolor": "white",
            "showbackground": true,
            "ticks": "",
            "zerolinecolor": "white"
           },
           "zaxis": {
            "backgroundcolor": "#E5ECF6",
            "gridcolor": "white",
            "gridwidth": 2,
            "linecolor": "white",
            "showbackground": true,
            "ticks": "",
            "zerolinecolor": "white"
           }
          },
          "shapedefaults": {
           "line": {
            "color": "#2a3f5f"
           }
          },
          "ternary": {
           "aaxis": {
            "gridcolor": "white",
            "linecolor": "white",
            "ticks": ""
           },
           "baxis": {
            "gridcolor": "white",
            "linecolor": "white",
            "ticks": ""
           },
           "bgcolor": "#E5ECF6",
           "caxis": {
            "gridcolor": "white",
            "linecolor": "white",
            "ticks": ""
           }
          },
          "title": {
           "x": 0.05
          },
          "xaxis": {
           "automargin": true,
           "gridcolor": "white",
           "linecolor": "white",
           "ticks": "",
           "title": {
            "standoff": 15
           },
           "zerolinecolor": "white",
           "zerolinewidth": 2
          },
          "yaxis": {
           "automargin": true,
           "gridcolor": "white",
           "linecolor": "white",
           "ticks": "",
           "title": {
            "standoff": 15
           },
           "zerolinecolor": "white",
           "zerolinewidth": 2
          }
         }
        },
        "title": {
         "text": "Gares à fort trafic (> 5M voyageurs) : fréquentation vs population de la commune (2023)"
        },
        "xaxis": {
         "anchor": "y",
         "domain": [
          0,
          1
         ],
         "title": {
          "text": "Population totale (PTOT)"
         }
        },
        "yaxis": {
         "anchor": "x",
         "domain": [
          0,
          1
         ],
         "title": {
          "text": "Total Voyageurs"
         }
        }
       }
      }
     },
     "metadata": {},
     "output_type": "display_data"
    }
   ],
   "source": [
    "fig = px.scatter(\n",
    "    gares_communes.query('Année == \"2023\" and `Total Voyageurs` > 5_000_000'),\n",
    "    x=\"PTOT\",\n",
    "    y=\"Total Voyageurs\",\n",
    "    hover_name=\"libelle\",\n",
    "    color=\"nom_region\",\n",
    "    labels={\n",
    "        \"PTOT\": \"Population totale (PTOT)\",\n",
    "        \"Total Voyageurs\": \"Total Voyageurs\",\n",
    "        \"nom_region\": \"Région\"\n",
    "    },\n",
    "    title=\"Gares à fort trafic (> 5M voyageurs) : fréquentation vs population de la commune (2023)\"\n",
    ")\n",
    "fig.show()"
   ]
  },
  {
   "cell_type": "code",
   "execution_count": 18,
   "id": "f61193a9",
   "metadata": {},
   "outputs": [
    {
     "data": {
      "application/vnd.plotly.v1+json": {
       "config": {
        "plotlyServerURL": "https://plot.ly"
       },
       "data": [
        {
         "domain": {
          "x": [
           0,
           1
          ],
          "y": [
           0,
           1
          ]
         },
         "hole": 0.3,
         "hovertemplate": "Région=%{label}<br>Nombre de gares à fort trafic=%{value}<extra></extra>",
         "labels": [
          "Île-de-France",
          "Grand Est",
          "Hauts-de-France",
          "Pays de la Loire",
          "Auvergne-Rhône-Alpes",
          "Normandie",
          "Provence-Alpes-Côte d'Azur",
          "Centre-Val de Loire",
          "Bourgogne-Franche-Comté",
          "Occitanie",
          "Nouvelle-Aquitaine"
         ],
         "legendgroup": "",
         "name": "",
         "showlegend": true,
         "type": "pie",
         "values": [
          88,
          4,
          3,
          2,
          2,
          1,
          1,
          1,
          1,
          1,
          1
         ]
        }
       ],
       "layout": {
        "legend": {
         "tracegroupgap": 0
        },
        "template": {
         "data": {
          "bar": [
           {
            "error_x": {
             "color": "#2a3f5f"
            },
            "error_y": {
             "color": "#2a3f5f"
            },
            "marker": {
             "line": {
              "color": "#E5ECF6",
              "width": 0.5
             },
             "pattern": {
              "fillmode": "overlay",
              "size": 10,
              "solidity": 0.2
             }
            },
            "type": "bar"
           }
          ],
          "barpolar": [
           {
            "marker": {
             "line": {
              "color": "#E5ECF6",
              "width": 0.5
             },
             "pattern": {
              "fillmode": "overlay",
              "size": 10,
              "solidity": 0.2
             }
            },
            "type": "barpolar"
           }
          ],
          "carpet": [
           {
            "aaxis": {
             "endlinecolor": "#2a3f5f",
             "gridcolor": "white",
             "linecolor": "white",
             "minorgridcolor": "white",
             "startlinecolor": "#2a3f5f"
            },
            "baxis": {
             "endlinecolor": "#2a3f5f",
             "gridcolor": "white",
             "linecolor": "white",
             "minorgridcolor": "white",
             "startlinecolor": "#2a3f5f"
            },
            "type": "carpet"
           }
          ],
          "choropleth": [
           {
            "colorbar": {
             "outlinewidth": 0,
             "ticks": ""
            },
            "type": "choropleth"
           }
          ],
          "contour": [
           {
            "colorbar": {
             "outlinewidth": 0,
             "ticks": ""
            },
            "colorscale": [
             [
              0,
              "#0d0887"
             ],
             [
              0.1111111111111111,
              "#46039f"
             ],
             [
              0.2222222222222222,
              "#7201a8"
             ],
             [
              0.3333333333333333,
              "#9c179e"
             ],
             [
              0.4444444444444444,
              "#bd3786"
             ],
             [
              0.5555555555555556,
              "#d8576b"
             ],
             [
              0.6666666666666666,
              "#ed7953"
             ],
             [
              0.7777777777777778,
              "#fb9f3a"
             ],
             [
              0.8888888888888888,
              "#fdca26"
             ],
             [
              1,
              "#f0f921"
             ]
            ],
            "type": "contour"
           }
          ],
          "contourcarpet": [
           {
            "colorbar": {
             "outlinewidth": 0,
             "ticks": ""
            },
            "type": "contourcarpet"
           }
          ],
          "heatmap": [
           {
            "colorbar": {
             "outlinewidth": 0,
             "ticks": ""
            },
            "colorscale": [
             [
              0,
              "#0d0887"
             ],
             [
              0.1111111111111111,
              "#46039f"
             ],
             [
              0.2222222222222222,
              "#7201a8"
             ],
             [
              0.3333333333333333,
              "#9c179e"
             ],
             [
              0.4444444444444444,
              "#bd3786"
             ],
             [
              0.5555555555555556,
              "#d8576b"
             ],
             [
              0.6666666666666666,
              "#ed7953"
             ],
             [
              0.7777777777777778,
              "#fb9f3a"
             ],
             [
              0.8888888888888888,
              "#fdca26"
             ],
             [
              1,
              "#f0f921"
             ]
            ],
            "type": "heatmap"
           }
          ],
          "heatmapgl": [
           {
            "colorbar": {
             "outlinewidth": 0,
             "ticks": ""
            },
            "colorscale": [
             [
              0,
              "#0d0887"
             ],
             [
              0.1111111111111111,
              "#46039f"
             ],
             [
              0.2222222222222222,
              "#7201a8"
             ],
             [
              0.3333333333333333,
              "#9c179e"
             ],
             [
              0.4444444444444444,
              "#bd3786"
             ],
             [
              0.5555555555555556,
              "#d8576b"
             ],
             [
              0.6666666666666666,
              "#ed7953"
             ],
             [
              0.7777777777777778,
              "#fb9f3a"
             ],
             [
              0.8888888888888888,
              "#fdca26"
             ],
             [
              1,
              "#f0f921"
             ]
            ],
            "type": "heatmapgl"
           }
          ],
          "histogram": [
           {
            "marker": {
             "pattern": {
              "fillmode": "overlay",
              "size": 10,
              "solidity": 0.2
             }
            },
            "type": "histogram"
           }
          ],
          "histogram2d": [
           {
            "colorbar": {
             "outlinewidth": 0,
             "ticks": ""
            },
            "colorscale": [
             [
              0,
              "#0d0887"
             ],
             [
              0.1111111111111111,
              "#46039f"
             ],
             [
              0.2222222222222222,
              "#7201a8"
             ],
             [
              0.3333333333333333,
              "#9c179e"
             ],
             [
              0.4444444444444444,
              "#bd3786"
             ],
             [
              0.5555555555555556,
              "#d8576b"
             ],
             [
              0.6666666666666666,
              "#ed7953"
             ],
             [
              0.7777777777777778,
              "#fb9f3a"
             ],
             [
              0.8888888888888888,
              "#fdca26"
             ],
             [
              1,
              "#f0f921"
             ]
            ],
            "type": "histogram2d"
           }
          ],
          "histogram2dcontour": [
           {
            "colorbar": {
             "outlinewidth": 0,
             "ticks": ""
            },
            "colorscale": [
             [
              0,
              "#0d0887"
             ],
             [
              0.1111111111111111,
              "#46039f"
             ],
             [
              0.2222222222222222,
              "#7201a8"
             ],
             [
              0.3333333333333333,
              "#9c179e"
             ],
             [
              0.4444444444444444,
              "#bd3786"
             ],
             [
              0.5555555555555556,
              "#d8576b"
             ],
             [
              0.6666666666666666,
              "#ed7953"
             ],
             [
              0.7777777777777778,
              "#fb9f3a"
             ],
             [
              0.8888888888888888,
              "#fdca26"
             ],
             [
              1,
              "#f0f921"
             ]
            ],
            "type": "histogram2dcontour"
           }
          ],
          "mesh3d": [
           {
            "colorbar": {
             "outlinewidth": 0,
             "ticks": ""
            },
            "type": "mesh3d"
           }
          ],
          "parcoords": [
           {
            "line": {
             "colorbar": {
              "outlinewidth": 0,
              "ticks": ""
             }
            },
            "type": "parcoords"
           }
          ],
          "pie": [
           {
            "automargin": true,
            "type": "pie"
           }
          ],
          "scatter": [
           {
            "fillpattern": {
             "fillmode": "overlay",
             "size": 10,
             "solidity": 0.2
            },
            "type": "scatter"
           }
          ],
          "scatter3d": [
           {
            "line": {
             "colorbar": {
              "outlinewidth": 0,
              "ticks": ""
             }
            },
            "marker": {
             "colorbar": {
              "outlinewidth": 0,
              "ticks": ""
             }
            },
            "type": "scatter3d"
           }
          ],
          "scattercarpet": [
           {
            "marker": {
             "colorbar": {
              "outlinewidth": 0,
              "ticks": ""
             }
            },
            "type": "scattercarpet"
           }
          ],
          "scattergeo": [
           {
            "marker": {
             "colorbar": {
              "outlinewidth": 0,
              "ticks": ""
             }
            },
            "type": "scattergeo"
           }
          ],
          "scattergl": [
           {
            "marker": {
             "colorbar": {
              "outlinewidth": 0,
              "ticks": ""
             }
            },
            "type": "scattergl"
           }
          ],
          "scattermapbox": [
           {
            "marker": {
             "colorbar": {
              "outlinewidth": 0,
              "ticks": ""
             }
            },
            "type": "scattermapbox"
           }
          ],
          "scatterpolar": [
           {
            "marker": {
             "colorbar": {
              "outlinewidth": 0,
              "ticks": ""
             }
            },
            "type": "scatterpolar"
           }
          ],
          "scatterpolargl": [
           {
            "marker": {
             "colorbar": {
              "outlinewidth": 0,
              "ticks": ""
             }
            },
            "type": "scatterpolargl"
           }
          ],
          "scatterternary": [
           {
            "marker": {
             "colorbar": {
              "outlinewidth": 0,
              "ticks": ""
             }
            },
            "type": "scatterternary"
           }
          ],
          "surface": [
           {
            "colorbar": {
             "outlinewidth": 0,
             "ticks": ""
            },
            "colorscale": [
             [
              0,
              "#0d0887"
             ],
             [
              0.1111111111111111,
              "#46039f"
             ],
             [
              0.2222222222222222,
              "#7201a8"
             ],
             [
              0.3333333333333333,
              "#9c179e"
             ],
             [
              0.4444444444444444,
              "#bd3786"
             ],
             [
              0.5555555555555556,
              "#d8576b"
             ],
             [
              0.6666666666666666,
              "#ed7953"
             ],
             [
              0.7777777777777778,
              "#fb9f3a"
             ],
             [
              0.8888888888888888,
              "#fdca26"
             ],
             [
              1,
              "#f0f921"
             ]
            ],
            "type": "surface"
           }
          ],
          "table": [
           {
            "cells": {
             "fill": {
              "color": "#EBF0F8"
             },
             "line": {
              "color": "white"
             }
            },
            "header": {
             "fill": {
              "color": "#C8D4E3"
             },
             "line": {
              "color": "white"
             }
            },
            "type": "table"
           }
          ]
         },
         "layout": {
          "annotationdefaults": {
           "arrowcolor": "#2a3f5f",
           "arrowhead": 0,
           "arrowwidth": 1
          },
          "autotypenumbers": "strict",
          "coloraxis": {
           "colorbar": {
            "outlinewidth": 0,
            "ticks": ""
           }
          },
          "colorscale": {
           "diverging": [
            [
             0,
             "#8e0152"
            ],
            [
             0.1,
             "#c51b7d"
            ],
            [
             0.2,
             "#de77ae"
            ],
            [
             0.3,
             "#f1b6da"
            ],
            [
             0.4,
             "#fde0ef"
            ],
            [
             0.5,
             "#f7f7f7"
            ],
            [
             0.6,
             "#e6f5d0"
            ],
            [
             0.7,
             "#b8e186"
            ],
            [
             0.8,
             "#7fbc41"
            ],
            [
             0.9,
             "#4d9221"
            ],
            [
             1,
             "#276419"
            ]
           ],
           "sequential": [
            [
             0,
             "#0d0887"
            ],
            [
             0.1111111111111111,
             "#46039f"
            ],
            [
             0.2222222222222222,
             "#7201a8"
            ],
            [
             0.3333333333333333,
             "#9c179e"
            ],
            [
             0.4444444444444444,
             "#bd3786"
            ],
            [
             0.5555555555555556,
             "#d8576b"
            ],
            [
             0.6666666666666666,
             "#ed7953"
            ],
            [
             0.7777777777777778,
             "#fb9f3a"
            ],
            [
             0.8888888888888888,
             "#fdca26"
            ],
            [
             1,
             "#f0f921"
            ]
           ],
           "sequentialminus": [
            [
             0,
             "#0d0887"
            ],
            [
             0.1111111111111111,
             "#46039f"
            ],
            [
             0.2222222222222222,
             "#7201a8"
            ],
            [
             0.3333333333333333,
             "#9c179e"
            ],
            [
             0.4444444444444444,
             "#bd3786"
            ],
            [
             0.5555555555555556,
             "#d8576b"
            ],
            [
             0.6666666666666666,
             "#ed7953"
            ],
            [
             0.7777777777777778,
             "#fb9f3a"
            ],
            [
             0.8888888888888888,
             "#fdca26"
            ],
            [
             1,
             "#f0f921"
            ]
           ]
          },
          "colorway": [
           "#636efa",
           "#EF553B",
           "#00cc96",
           "#ab63fa",
           "#FFA15A",
           "#19d3f3",
           "#FF6692",
           "#B6E880",
           "#FF97FF",
           "#FECB52"
          ],
          "font": {
           "color": "#2a3f5f"
          },
          "geo": {
           "bgcolor": "white",
           "lakecolor": "white",
           "landcolor": "#E5ECF6",
           "showlakes": true,
           "showland": true,
           "subunitcolor": "white"
          },
          "hoverlabel": {
           "align": "left"
          },
          "hovermode": "closest",
          "mapbox": {
           "style": "light"
          },
          "paper_bgcolor": "white",
          "plot_bgcolor": "#E5ECF6",
          "polar": {
           "angularaxis": {
            "gridcolor": "white",
            "linecolor": "white",
            "ticks": ""
           },
           "bgcolor": "#E5ECF6",
           "radialaxis": {
            "gridcolor": "white",
            "linecolor": "white",
            "ticks": ""
           }
          },
          "scene": {
           "xaxis": {
            "backgroundcolor": "#E5ECF6",
            "gridcolor": "white",
            "gridwidth": 2,
            "linecolor": "white",
            "showbackground": true,
            "ticks": "",
            "zerolinecolor": "white"
           },
           "yaxis": {
            "backgroundcolor": "#E5ECF6",
            "gridcolor": "white",
            "gridwidth": 2,
            "linecolor": "white",
            "showbackground": true,
            "ticks": "",
            "zerolinecolor": "white"
           },
           "zaxis": {
            "backgroundcolor": "#E5ECF6",
            "gridcolor": "white",
            "gridwidth": 2,
            "linecolor": "white",
            "showbackground": true,
            "ticks": "",
            "zerolinecolor": "white"
           }
          },
          "shapedefaults": {
           "line": {
            "color": "#2a3f5f"
           }
          },
          "ternary": {
           "aaxis": {
            "gridcolor": "white",
            "linecolor": "white",
            "ticks": ""
           },
           "baxis": {
            "gridcolor": "white",
            "linecolor": "white",
            "ticks": ""
           },
           "bgcolor": "#E5ECF6",
           "caxis": {
            "gridcolor": "white",
            "linecolor": "white",
            "ticks": ""
           }
          },
          "title": {
           "x": 0.05
          },
          "xaxis": {
           "automargin": true,
           "gridcolor": "white",
           "linecolor": "white",
           "ticks": "",
           "title": {
            "standoff": 15
           },
           "zerolinecolor": "white",
           "zerolinewidth": 2
          },
          "yaxis": {
           "automargin": true,
           "gridcolor": "white",
           "linecolor": "white",
           "ticks": "",
           "title": {
            "standoff": 15
           },
           "zerolinecolor": "white",
           "zerolinewidth": 2
          }
         }
        },
        "title": {
         "text": "Répartition des gares à forte affluence (> 5M voyageurs) par région (2023)"
        }
       }
      }
     },
     "metadata": {},
     "output_type": "display_data"
    }
   ],
   "source": [
    "# Filtrer les gares avec plus de 5 millions de voyageurs en 2023\n",
    "df_high_trafic = gares_communes[(gares_communes[\"Année\"] == \"2023\") & (gares_communes[\"Total Voyageurs\"] > 5_000_000)]\n",
    "\n",
    "# Compter le nombre de gares par région\n",
    "region_counts = df_high_trafic[\"nom_region\"].value_counts().reset_index()\n",
    "region_counts.columns = [\"Région\", \"Nombre de gares à fort trafic\"]\n",
    "\n",
    "# Affichage en camembert avec Plotly\n",
    "fig = px.pie(\n",
    "    region_counts,\n",
    "    names=\"Région\",\n",
    "    values=\"Nombre de gares à fort trafic\",\n",
    "    title=\"Répartition des gares à forte affluence (> 5M voyageurs) par région (2023)\",\n",
    "    hole=0.3\n",
    ")\n",
    "fig.show()"
   ]
  },
  {
   "cell_type": "code",
   "execution_count": 19,
   "id": "fb32f26a",
   "metadata": {},
   "outputs": [
    {
     "name": "stderr",
     "output_type": "stream",
     "text": [
      "/usr/local/Caskroom/miniconda/base/envs/python-data/lib/python3.12/site-packages/geopandas/geodataframe.py:1819: SettingWithCopyWarning:\n",
      "\n",
      "\n",
      "A value is trying to be set on a copy of a slice from a DataFrame.\n",
      "Try using .loc[row_indexer,col_indexer] = value instead\n",
      "\n",
      "See the caveats in the documentation: https://pandas.pydata.org/pandas-docs/stable/user_guide/indexing.html#returning-a-view-versus-a-copy\n",
      "\n",
      "/usr/local/Caskroom/miniconda/base/envs/python-data/lib/python3.12/site-packages/geopandas/geodataframe.py:1819: SettingWithCopyWarning:\n",
      "\n",
      "\n",
      "A value is trying to be set on a copy of a slice from a DataFrame.\n",
      "Try using .loc[row_indexer,col_indexer] = value instead\n",
      "\n",
      "See the caveats in the documentation: https://pandas.pydata.org/pandas-docs/stable/user_guide/indexing.html#returning-a-view-versus-a-copy\n",
      "\n"
     ]
    },
    {
     "data": {
      "text/html": [
       "<div style=\"width:100%;\"><div style=\"position:relative;width:100%;height:0;padding-bottom:60%;\"><span style=\"color:#565656\">Make this Notebook Trusted to load map: File -> Trust Notebook</span><iframe srcdoc=\"&lt;!DOCTYPE html&gt;\n",
       "&lt;html&gt;\n",
       "&lt;head&gt;\n",
       "    \n",
       "    &lt;meta http-equiv=&quot;content-type&quot; content=&quot;text/html; charset=UTF-8&quot; /&gt;\n",
       "    \n",
       "        &lt;script&gt;\n",
       "            L_NO_TOUCH = false;\n",
       "            L_DISABLE_3D = false;\n",
       "        &lt;/script&gt;\n",
       "    \n",
       "    &lt;style&gt;html, body {width: 100%;height: 100%;margin: 0;padding: 0;}&lt;/style&gt;\n",
       "    &lt;style&gt;#map {position:absolute;top:0;bottom:0;right:0;left:0;}&lt;/style&gt;\n",
       "    &lt;script src=&quot;https://cdn.jsdelivr.net/npm/leaflet@1.9.3/dist/leaflet.js&quot;&gt;&lt;/script&gt;\n",
       "    &lt;script src=&quot;https://code.jquery.com/jquery-3.7.1.min.js&quot;&gt;&lt;/script&gt;\n",
       "    &lt;script src=&quot;https://cdn.jsdelivr.net/npm/bootstrap@5.2.2/dist/js/bootstrap.bundle.min.js&quot;&gt;&lt;/script&gt;\n",
       "    &lt;script src=&quot;https://cdnjs.cloudflare.com/ajax/libs/Leaflet.awesome-markers/2.0.2/leaflet.awesome-markers.js&quot;&gt;&lt;/script&gt;\n",
       "    &lt;link rel=&quot;stylesheet&quot; href=&quot;https://cdn.jsdelivr.net/npm/leaflet@1.9.3/dist/leaflet.css&quot;/&gt;\n",
       "    &lt;link rel=&quot;stylesheet&quot; href=&quot;https://cdn.jsdelivr.net/npm/bootstrap@5.2.2/dist/css/bootstrap.min.css&quot;/&gt;\n",
       "    &lt;link rel=&quot;stylesheet&quot; href=&quot;https://netdna.bootstrapcdn.com/bootstrap/3.0.0/css/bootstrap-glyphicons.css&quot;/&gt;\n",
       "    &lt;link rel=&quot;stylesheet&quot; href=&quot;https://cdn.jsdelivr.net/npm/@fortawesome/fontawesome-free@6.2.0/css/all.min.css&quot;/&gt;\n",
       "    &lt;link rel=&quot;stylesheet&quot; href=&quot;https://cdnjs.cloudflare.com/ajax/libs/Leaflet.awesome-markers/2.0.2/leaflet.awesome-markers.css&quot;/&gt;\n",
       "    &lt;link rel=&quot;stylesheet&quot; href=&quot;https://cdn.jsdelivr.net/gh/python-visualization/folium/folium/templates/leaflet.awesome.rotate.min.css&quot;/&gt;\n",
       "    \n",
       "            &lt;meta name=&quot;viewport&quot; content=&quot;width=device-width,\n",
       "                initial-scale=1.0, maximum-scale=1.0, user-scalable=no&quot; /&gt;\n",
       "            &lt;style&gt;\n",
       "                #map_aa004783f8fa274348a12c198b972d9e {\n",
       "                    position: relative;\n",
       "                    width: 100.0%;\n",
       "                    height: 100.0%;\n",
       "                    left: 0.0%;\n",
       "                    top: 0.0%;\n",
       "                }\n",
       "                .leaflet-container { font-size: 1rem; }\n",
       "            &lt;/style&gt;\n",
       "        \n",
       "&lt;/head&gt;\n",
       "&lt;body&gt;\n",
       "    \n",
       "    \n",
       "            &lt;div class=&quot;folium-map&quot; id=&quot;map_aa004783f8fa274348a12c198b972d9e&quot; &gt;&lt;/div&gt;\n",
       "        \n",
       "&lt;/body&gt;\n",
       "&lt;script&gt;\n",
       "    \n",
       "    \n",
       "            var map_aa004783f8fa274348a12c198b972d9e = L.map(\n",
       "                &quot;map_aa004783f8fa274348a12c198b972d9e&quot;,\n",
       "                {\n",
       "                    center: [46.6, 2.5],\n",
       "                    crs: L.CRS.EPSG3857,\n",
       "                    zoom: 6,\n",
       "                    zoomControl: true,\n",
       "                    preferCanvas: false,\n",
       "                }\n",
       "            );\n",
       "\n",
       "            \n",
       "\n",
       "        \n",
       "    \n",
       "            var tile_layer_bfe23c1048b09f7ce0bb2fb639f9acc1 = L.tileLayer(\n",
       "                &quot;https://tile.openstreetmap.org/{z}/{x}/{y}.png&quot;,\n",
       "                {&quot;attribution&quot;: &quot;\\u0026copy; \\u003ca href=\\&quot;https://www.openstreetmap.org/copyright\\&quot;\\u003eOpenStreetMap\\u003c/a\\u003e contributors&quot;, &quot;detectRetina&quot;: false, &quot;maxNativeZoom&quot;: 19, &quot;maxZoom&quot;: 19, &quot;minZoom&quot;: 0, &quot;noWrap&quot;: false, &quot;opacity&quot;: 1, &quot;subdomains&quot;: &quot;abc&quot;, &quot;tms&quot;: false}\n",
       "            );\n",
       "        \n",
       "    \n",
       "            tile_layer_bfe23c1048b09f7ce0bb2fb639f9acc1.addTo(map_aa004783f8fa274348a12c198b972d9e);\n",
       "        \n",
       "    \n",
       "            var circle_marker_21a5067044f8babfce66cf7e3b1b0fc1 = L.circleMarker(\n",
       "                [49.264336965299535, 2.469338512801428],\n",
       "                {&quot;bubblingMouseEvents&quot;: true, &quot;color&quot;: &quot;blue&quot;, &quot;dashArray&quot;: null, &quot;dashOffset&quot;: null, &quot;fill&quot;: true, &quot;fillColor&quot;: &quot;blue&quot;, &quot;fillOpacity&quot;: 0.7, &quot;fillRule&quot;: &quot;evenodd&quot;, &quot;lineCap&quot;: &quot;round&quot;, &quot;lineJoin&quot;: &quot;round&quot;, &quot;opacity&quot;: 1.0, &quot;radius&quot;: 5.064545978443384, &quot;stroke&quot;: true, &quot;weight&quot;: 3}\n",
       "            ).addTo(map_aa004783f8fa274348a12c198b972d9e);\n",
       "        \n",
       "    \n",
       "        var popup_ffb7bb7ac2ef758e2c415e08d96ec142 = L.popup({&quot;maxWidth&quot;: 250});\n",
       "\n",
       "        \n",
       "            \n",
       "                var html_416a058579990f44e9c72141921c953c = $(`&lt;div id=&quot;html_416a058579990f44e9c72141921c953c&quot; style=&quot;width: 100.0%; height: 100.0%;&quot;&gt;Creil&lt;br&gt;5,392,059 voyageurs&lt;/div&gt;`)[0];\n",
       "                popup_ffb7bb7ac2ef758e2c415e08d96ec142.setContent(html_416a058579990f44e9c72141921c953c);\n",
       "            \n",
       "        \n",
       "\n",
       "        circle_marker_21a5067044f8babfce66cf7e3b1b0fc1.bindPopup(popup_ffb7bb7ac2ef758e2c415e08d96ec142)\n",
       "        ;\n",
       "\n",
       "        \n",
       "    \n",
       "    \n",
       "            var circle_marker_10beb32686fe23913a74418fe1ad4e1d = L.circleMarker(\n",
       "                [49.449187868383596, 1.094233526260263],\n",
       "                {&quot;bubblingMouseEvents&quot;: true, &quot;color&quot;: &quot;blue&quot;, &quot;dashArray&quot;: null, &quot;dashOffset&quot;: null, &quot;fill&quot;: true, &quot;fillColor&quot;: &quot;blue&quot;, &quot;fillOpacity&quot;: 0.7, &quot;fillRule&quot;: &quot;evenodd&quot;, &quot;lineCap&quot;: &quot;round&quot;, &quot;lineJoin&quot;: &quot;round&quot;, &quot;opacity&quot;: 1.0, &quot;radius&quot;: 7.006829930844036, &quot;stroke&quot;: true, &quot;weight&quot;: 3}\n",
       "            ).addTo(map_aa004783f8fa274348a12c198b972d9e);\n",
       "        \n",
       "    \n",
       "        var popup_ebdc2d4833645c48e1f482d37b187469 = L.popup({&quot;maxWidth&quot;: 250});\n",
       "\n",
       "        \n",
       "            \n",
       "                var html_da14e5bdc7490b10356d8773980edd75 = $(`&lt;div id=&quot;html_da14e5bdc7490b10356d8773980edd75&quot; style=&quot;width: 100.0%; height: 100.0%;&quot;&gt;Rouen-Rive-Droite&lt;br&gt;8,094,665 voyageurs&lt;/div&gt;`)[0];\n",
       "                popup_ebdc2d4833645c48e1f482d37b187469.setContent(html_da14e5bdc7490b10356d8773980edd75);\n",
       "            \n",
       "        \n",
       "\n",
       "        circle_marker_10beb32686fe23913a74418fe1ad4e1d.bindPopup(popup_ebdc2d4833645c48e1f482d37b187469)\n",
       "        ;\n",
       "\n",
       "        \n",
       "    \n",
       "    \n",
       "            var circle_marker_683069c4d0e45164906983ad9c656da9 = L.circleMarker(\n",
       "                [45.74842155201281, 4.825673533833034],\n",
       "                {&quot;bubblingMouseEvents&quot;: true, &quot;color&quot;: &quot;blue&quot;, &quot;dashArray&quot;: null, &quot;dashOffset&quot;: null, &quot;fill&quot;: true, &quot;fillColor&quot;: &quot;blue&quot;, &quot;fillOpacity&quot;: 0.7, &quot;fillRule&quot;: &quot;evenodd&quot;, &quot;lineCap&quot;: &quot;round&quot;, &quot;lineJoin&quot;: &quot;round&quot;, &quot;opacity&quot;: 1.0, &quot;radius&quot;: 6.6779748075996155, &quot;stroke&quot;: true, &quot;weight&quot;: 3}\n",
       "            ).addTo(map_aa004783f8fa274348a12c198b972d9e);\n",
       "        \n",
       "    \n",
       "        var popup_3273c5257e56b35ec3fb26a2e313f8d4 = L.popup({&quot;maxWidth&quot;: 250});\n",
       "\n",
       "        \n",
       "            \n",
       "                var html_20ba94712f9956d382b8e71c9d360410 = $(`&lt;div id=&quot;html_20ba94712f9956d382b8e71c9d360410&quot; style=&quot;width: 100.0%; height: 100.0%;&quot;&gt;Lyon-Perrache&lt;br&gt;7,637,077 voyageurs&lt;/div&gt;`)[0];\n",
       "                popup_3273c5257e56b35ec3fb26a2e313f8d4.setContent(html_20ba94712f9956d382b8e71c9d360410);\n",
       "            \n",
       "        \n",
       "\n",
       "        circle_marker_683069c4d0e45164906983ad9c656da9.bindPopup(popup_3273c5257e56b35ec3fb26a2e313f8d4)\n",
       "        ;\n",
       "\n",
       "        \n",
       "    \n",
       "    \n",
       "            var circle_marker_a67e1684747adcea830cfee0283ff27b = L.circleMarker(\n",
       "                [45.760540539973505, 4.860200803130668],\n",
       "                {&quot;bubblingMouseEvents&quot;: true, &quot;color&quot;: &quot;blue&quot;, &quot;dashArray&quot;: null, &quot;dashOffset&quot;: null, &quot;fill&quot;: true, &quot;fillColor&quot;: &quot;blue&quot;, &quot;fillOpacity&quot;: 0.7, &quot;fillRule&quot;: &quot;evenodd&quot;, &quot;lineCap&quot;: &quot;round&quot;, &quot;lineJoin&quot;: &quot;round&quot;, &quot;opacity&quot;: 1.0, &quot;radius&quot;: 30.0, &quot;stroke&quot;: true, &quot;weight&quot;: 3}\n",
       "            ).addTo(map_aa004783f8fa274348a12c198b972d9e);\n",
       "        \n",
       "    \n",
       "        var popup_bbf1e815f6322559d2dc04d3c6864e0c = L.popup({&quot;maxWidth&quot;: 250});\n",
       "\n",
       "        \n",
       "            \n",
       "                var html_f1ef5891fc56cb0c190fdf8888de0013 = $(`&lt;div id=&quot;html_f1ef5891fc56cb0c190fdf8888de0013&quot; style=&quot;width: 100.0%; height: 100.0%;&quot;&gt;Lyon-Part-Dieu&lt;br&gt;40,088,689 voyageurs&lt;/div&gt;`)[0];\n",
       "                popup_bbf1e815f6322559d2dc04d3c6864e0c.setContent(html_f1ef5891fc56cb0c190fdf8888de0013);\n",
       "            \n",
       "        \n",
       "\n",
       "        circle_marker_a67e1684747adcea830cfee0283ff27b.bindPopup(popup_bbf1e815f6322559d2dc04d3c6864e0c)\n",
       "        ;\n",
       "\n",
       "        \n",
       "    \n",
       "    \n",
       "            var circle_marker_171778a2dfda6be19b7d182d8eb8a9de = L.circleMarker(\n",
       "                [43.554010705477616, 7.018725988316513],\n",
       "                {&quot;bubblingMouseEvents&quot;: true, &quot;color&quot;: &quot;blue&quot;, &quot;dashArray&quot;: null, &quot;dashOffset&quot;: null, &quot;fill&quot;: true, &quot;fillColor&quot;: &quot;blue&quot;, &quot;fillOpacity&quot;: 0.7, &quot;fillRule&quot;: &quot;evenodd&quot;, &quot;lineCap&quot;: &quot;round&quot;, &quot;lineJoin&quot;: &quot;round&quot;, &quot;opacity&quot;: 1.0, &quot;radius&quot;: 5.065165472652665, &quot;stroke&quot;: true, &quot;weight&quot;: 3}\n",
       "            ).addTo(map_aa004783f8fa274348a12c198b972d9e);\n",
       "        \n",
       "    \n",
       "        var popup_c1b641b1a9a75f8b3b8ab14a8b000236 = L.popup({&quot;maxWidth&quot;: 250});\n",
       "\n",
       "        \n",
       "            \n",
       "                var html_a7ec5fc60bae0bdd9b8c133635194c8a = $(`&lt;div id=&quot;html_a7ec5fc60bae0bdd9b8c133635194c8a&quot; style=&quot;width: 100.0%; height: 100.0%;&quot;&gt;Cannes&lt;br&gt;5,392,921 voyageurs&lt;/div&gt;`)[0];\n",
       "                popup_c1b641b1a9a75f8b3b8ab14a8b000236.setContent(html_a7ec5fc60bae0bdd9b8c133635194c8a);\n",
       "            \n",
       "        \n",
       "\n",
       "        circle_marker_171778a2dfda6be19b7d182d8eb8a9de.bindPopup(popup_c1b641b1a9a75f8b3b8ab14a8b000236)\n",
       "        ;\n",
       "\n",
       "        \n",
       "    \n",
       "    \n",
       "            var circle_marker_9ee19375aec59c36d74fcd961731b3bc = L.circleMarker(\n",
       "                [45.190830252263375, 5.714516819858538],\n",
       "                {&quot;bubblingMouseEvents&quot;: true, &quot;color&quot;: &quot;blue&quot;, &quot;dashArray&quot;: null, &quot;dashOffset&quot;: null, &quot;fill&quot;: true, &quot;fillColor&quot;: &quot;blue&quot;, &quot;fillOpacity&quot;: 0.7, &quot;fillRule&quot;: &quot;evenodd&quot;, &quot;lineCap&quot;: &quot;round&quot;, &quot;lineJoin&quot;: &quot;round&quot;, &quot;opacity&quot;: 1.0, &quot;radius&quot;: 7.025999036463716, &quot;stroke&quot;: true, &quot;weight&quot;: 3}\n",
       "            ).addTo(map_aa004783f8fa274348a12c198b972d9e);\n",
       "        \n",
       "    \n",
       "        var popup_7471eb083651484bdde87114a328842b = L.popup({&quot;maxWidth&quot;: 250});\n",
       "\n",
       "        \n",
       "            \n",
       "                var html_e93b18389e553e0932f12d1239168b34 = $(`&lt;div id=&quot;html_e93b18389e553e0932f12d1239168b34&quot; style=&quot;width: 100.0%; height: 100.0%;&quot;&gt;Grenoble&lt;br&gt;8,121,338 voyageurs&lt;/div&gt;`)[0];\n",
       "                popup_7471eb083651484bdde87114a328842b.setContent(html_e93b18389e553e0932f12d1239168b34);\n",
       "            \n",
       "        \n",
       "\n",
       "        circle_marker_9ee19375aec59c36d74fcd961731b3bc.bindPopup(popup_7471eb083651484bdde87114a328842b)\n",
       "        ;\n",
       "\n",
       "        \n",
       "    \n",
       "    \n",
       "            var circle_marker_104d6c59e09877aa2f516b3adb676bee = L.circleMarker(\n",
       "                [47.216569467983675, -1.544074936864099],\n",
       "                {&quot;bubblingMouseEvents&quot;: true, &quot;color&quot;: &quot;blue&quot;, &quot;dashArray&quot;: null, &quot;dashOffset&quot;: null, &quot;fill&quot;: true, &quot;fillColor&quot;: &quot;blue&quot;, &quot;fillOpacity&quot;: 0.7, &quot;fillRule&quot;: &quot;evenodd&quot;, &quot;lineCap&quot;: &quot;round&quot;, &quot;lineJoin&quot;: &quot;round&quot;, &quot;opacity&quot;: 1.0, &quot;radius&quot;: 13.466187531734704, &quot;stroke&quot;: true, &quot;weight&quot;: 3}\n",
       "            ).addTo(map_aa004783f8fa274348a12c198b972d9e);\n",
       "        \n",
       "    \n",
       "        var popup_f55bbdc6111d55eaad632e177ad6f150 = L.popup({&quot;maxWidth&quot;: 250});\n",
       "\n",
       "        \n",
       "            \n",
       "                var html_758440488944f7f036f3f65bdaf89642 = $(`&lt;div id=&quot;html_758440488944f7f036f3f65bdaf89642&quot; style=&quot;width: 100.0%; height: 100.0%;&quot;&gt;Nantes&lt;br&gt;17,082,588 voyageurs&lt;/div&gt;`)[0];\n",
       "                popup_f55bbdc6111d55eaad632e177ad6f150.setContent(html_758440488944f7f036f3f65bdaf89642);\n",
       "            \n",
       "        \n",
       "\n",
       "        circle_marker_104d6c59e09877aa2f516b3adb676bee.bindPopup(popup_f55bbdc6111d55eaad632e177ad6f150)\n",
       "        ;\n",
       "\n",
       "        \n",
       "    \n",
       "    \n",
       "            var circle_marker_dbd20904e6c09fbf29edcc5e842d7b00 = L.circleMarker(\n",
       "                [47.99496278332936, 0.193737678276987],\n",
       "                {&quot;bubblingMouseEvents&quot;: true, &quot;color&quot;: &quot;blue&quot;, &quot;dashArray&quot;: null, &quot;dashOffset&quot;: null, &quot;fill&quot;: true, &quot;fillColor&quot;: &quot;blue&quot;, &quot;fillOpacity&quot;: 0.7, &quot;fillRule&quot;: &quot;evenodd&quot;, &quot;lineCap&quot;: &quot;round&quot;, &quot;lineJoin&quot;: &quot;round&quot;, &quot;opacity&quot;: 1.0, &quot;radius&quot;: 5.0, &quot;stroke&quot;: true, &quot;weight&quot;: 3}\n",
       "            ).addTo(map_aa004783f8fa274348a12c198b972d9e);\n",
       "        \n",
       "    \n",
       "        var popup_95bef9e9e49b9ca389962bd2e929f676 = L.popup({&quot;maxWidth&quot;: 250});\n",
       "\n",
       "        \n",
       "            \n",
       "                var html_cf8371651fcac586035b52e5cfbc5097 = $(`&lt;div id=&quot;html_cf8371651fcac586035b52e5cfbc5097&quot; style=&quot;width: 100.0%; height: 100.0%;&quot;&gt;Le Mans&lt;br&gt;5,302,246 voyageurs&lt;/div&gt;`)[0];\n",
       "                popup_95bef9e9e49b9ca389962bd2e929f676.setContent(html_cf8371651fcac586035b52e5cfbc5097);\n",
       "            \n",
       "        \n",
       "\n",
       "        circle_marker_dbd20904e6c09fbf29edcc5e842d7b00.bindPopup(popup_95bef9e9e49b9ca389962bd2e929f676)\n",
       "        ;\n",
       "\n",
       "        \n",
       "    \n",
       "    \n",
       "            var circle_marker_79abcf3edb9028f42679a210a39917b6 = L.circleMarker(\n",
       "                [48.58287025488667, 7.731594953278424],\n",
       "                {&quot;bubblingMouseEvents&quot;: true, &quot;color&quot;: &quot;blue&quot;, &quot;dashArray&quot;: null, &quot;dashOffset&quot;: null, &quot;fill&quot;: true, &quot;fillColor&quot;: &quot;blue&quot;, &quot;fillOpacity&quot;: 0.7, &quot;fillRule&quot;: &quot;evenodd&quot;, &quot;lineCap&quot;: &quot;round&quot;, &quot;lineJoin&quot;: &quot;round&quot;, &quot;opacity&quot;: 1.0, &quot;radius&quot;: 18.371313933994344, &quot;stroke&quot;: true, &quot;weight&quot;: 3}\n",
       "            ).addTo(map_aa004783f8fa274348a12c198b972d9e);\n",
       "        \n",
       "    \n",
       "        var popup_39bd1e4078b527166355dd3de9eb6cd4 = L.popup({&quot;maxWidth&quot;: 250});\n",
       "\n",
       "        \n",
       "            \n",
       "                var html_7049eb2f7a04b6bad4d7cf2a2ec90dd6 = $(`&lt;div id=&quot;html_7049eb2f7a04b6bad4d7cf2a2ec90dd6&quot; style=&quot;width: 100.0%; height: 100.0%;&quot;&gt;Strasbourg-Ville&lt;br&gt;23,907,864 voyageurs&lt;/div&gt;`)[0];\n",
       "                popup_39bd1e4078b527166355dd3de9eb6cd4.setContent(html_7049eb2f7a04b6bad4d7cf2a2ec90dd6);\n",
       "            \n",
       "        \n",
       "\n",
       "        circle_marker_79abcf3edb9028f42679a210a39917b6.bindPopup(popup_39bd1e4078b527166355dd3de9eb6cd4)\n",
       "        ;\n",
       "\n",
       "        \n",
       "    \n",
       "    \n",
       "            var circle_marker_401a556a2b84b671543bd8dc20393433 = L.circleMarker(\n",
       "                [47.38792066134116, 0.695556792192468],\n",
       "                {&quot;bubblingMouseEvents&quot;: true, &quot;color&quot;: &quot;blue&quot;, &quot;dashArray&quot;: null, &quot;dashOffset&quot;: null, &quot;fill&quot;: true, &quot;fillColor&quot;: &quot;blue&quot;, &quot;fillOpacity&quot;: 0.7, &quot;fillRule&quot;: &quot;evenodd&quot;, &quot;lineCap&quot;: &quot;round&quot;, &quot;lineJoin&quot;: &quot;round&quot;, &quot;opacity&quot;: 1.0, &quot;radius&quot;: 5.865327765762082, &quot;stroke&quot;: true, &quot;weight&quot;: 3}\n",
       "            ).addTo(map_aa004783f8fa274348a12c198b972d9e);\n",
       "        \n",
       "    \n",
       "        var popup_32538b9a2b02a16bebd84972ae3c2381 = L.popup({&quot;maxWidth&quot;: 250});\n",
       "\n",
       "        \n",
       "            \n",
       "                var html_86e29cce292bbbdf0c6908c386344c7c = $(`&lt;div id=&quot;html_86e29cce292bbbdf0c6908c386344c7c&quot; style=&quot;width: 100.0%; height: 100.0%;&quot;&gt;Tours&lt;br&gt;6,506,313 voyageurs&lt;/div&gt;`)[0];\n",
       "                popup_32538b9a2b02a16bebd84972ae3c2381.setContent(html_86e29cce292bbbdf0c6908c386344c7c);\n",
       "            \n",
       "        \n",
       "\n",
       "        circle_marker_401a556a2b84b671543bd8dc20393433.bindPopup(popup_32538b9a2b02a16bebd84972ae3c2381)\n",
       "        ;\n",
       "\n",
       "        \n",
       "    \n",
       "    \n",
       "            var circle_marker_12dc2503a7de3a2b16fbdca3a22ebb4c = L.circleMarker(\n",
       "                [47.32301605784924, 5.027142558968659],\n",
       "                {&quot;bubblingMouseEvents&quot;: true, &quot;color&quot;: &quot;blue&quot;, &quot;dashArray&quot;: null, &quot;dashOffset&quot;: null, &quot;fill&quot;: true, &quot;fillColor&quot;: &quot;blue&quot;, &quot;fillOpacity&quot;: 0.7, &quot;fillRule&quot;: &quot;evenodd&quot;, &quot;lineCap&quot;: &quot;round&quot;, &quot;lineJoin&quot;: &quot;round&quot;, &quot;opacity&quot;: 1.0, &quot;radius&quot;: 6.6896927346092845, &quot;stroke&quot;: true, &quot;weight&quot;: 3}\n",
       "            ).addTo(map_aa004783f8fa274348a12c198b972d9e);\n",
       "        \n",
       "    \n",
       "        var popup_68463c731bb1a1274c35a12b5578ab95 = L.popup({&quot;maxWidth&quot;: 250});\n",
       "\n",
       "        \n",
       "            \n",
       "                var html_589af7aea7307e0dc7f1fd4187fe1e58 = $(`&lt;div id=&quot;html_589af7aea7307e0dc7f1fd4187fe1e58&quot; style=&quot;width: 100.0%; height: 100.0%;&quot;&gt;Dijon-Ville&lt;br&gt;7,653,382 voyageurs&lt;/div&gt;`)[0];\n",
       "                popup_68463c731bb1a1274c35a12b5578ab95.setContent(html_589af7aea7307e0dc7f1fd4187fe1e58);\n",
       "            \n",
       "        \n",
       "\n",
       "        circle_marker_12dc2503a7de3a2b16fbdca3a22ebb4c.bindPopup(popup_68463c731bb1a1274c35a12b5578ab95)\n",
       "        ;\n",
       "\n",
       "        \n",
       "    \n",
       "    \n",
       "            var circle_marker_f3d1079b8c207b3d87cfca2546cf1be1 = L.circleMarker(\n",
       "                [43.60609107562563, 3.882757509959065],\n",
       "                {&quot;bubblingMouseEvents&quot;: true, &quot;color&quot;: &quot;blue&quot;, &quot;dashArray&quot;: null, &quot;dashOffset&quot;: null, &quot;fill&quot;: true, &quot;fillColor&quot;: &quot;blue&quot;, &quot;fillOpacity&quot;: 0.7, &quot;fillRule&quot;: &quot;evenodd&quot;, &quot;lineCap&quot;: &quot;round&quot;, &quot;lineJoin&quot;: &quot;round&quot;, &quot;opacity&quot;: 1.0, &quot;radius&quot;: 6.9830958284524804, &quot;stroke&quot;: true, &quot;weight&quot;: 3}\n",
       "            ).addTo(map_aa004783f8fa274348a12c198b972d9e);\n",
       "        \n",
       "    \n",
       "        var popup_9786ca988c42158146228033838c1ce1 = L.popup({&quot;maxWidth&quot;: 250});\n",
       "\n",
       "        \n",
       "            \n",
       "                var html_05a3a0a92e50b6c117d3d18b287ecbc9 = $(`&lt;div id=&quot;html_05a3a0a92e50b6c117d3d18b287ecbc9&quot; style=&quot;width: 100.0%; height: 100.0%;&quot;&gt;Montpellier-St-Roch&lt;br&gt;8,061,640 voyageurs&lt;/div&gt;`)[0];\n",
       "                popup_9786ca988c42158146228033838c1ce1.setContent(html_05a3a0a92e50b6c117d3d18b287ecbc9);\n",
       "            \n",
       "        \n",
       "\n",
       "        circle_marker_f3d1079b8c207b3d87cfca2546cf1be1.bindPopup(popup_9786ca988c42158146228033838c1ce1)\n",
       "        ;\n",
       "\n",
       "        \n",
       "    \n",
       "    \n",
       "            var circle_marker_b74b0ebebe844de51d6457cc98ef9598 = L.circleMarker(\n",
       "                [43.704792881179976, 7.261742357128734],\n",
       "                {&quot;bubblingMouseEvents&quot;: true, &quot;color&quot;: &quot;blue&quot;, &quot;dashArray&quot;: null, &quot;dashOffset&quot;: null, &quot;fill&quot;: true, &quot;fillColor&quot;: &quot;blue&quot;, &quot;fillOpacity&quot;: 0.7, &quot;fillRule&quot;: &quot;evenodd&quot;, &quot;lineCap&quot;: &quot;round&quot;, &quot;lineJoin&quot;: &quot;round&quot;, &quot;opacity&quot;: 1.0, &quot;radius&quot;: 9.259699676681517, &quot;stroke&quot;: true, &quot;weight&quot;: 3}\n",
       "            ).addTo(map_aa004783f8fa274348a12c198b972d9e);\n",
       "        \n",
       "    \n",
       "        var popup_2a78e586f40ae0a5c9e054c3e681b46d = L.popup({&quot;maxWidth&quot;: 250});\n",
       "\n",
       "        \n",
       "            \n",
       "                var html_a5b38234764b2d4f10e6f6f1e0a8b8e4 = $(`&lt;div id=&quot;html_a5b38234764b2d4f10e6f6f1e0a8b8e4&quot; style=&quot;width: 100.0%; height: 100.0%;&quot;&gt;Nice-Ville&lt;br&gt;11,229,438 voyageurs&lt;/div&gt;`)[0];\n",
       "                popup_2a78e586f40ae0a5c9e054c3e681b46d.setContent(html_a5b38234764b2d4f10e6f6f1e0a8b8e4);\n",
       "            \n",
       "        \n",
       "\n",
       "        circle_marker_b74b0ebebe844de51d6457cc98ef9598.bindPopup(popup_2a78e586f40ae0a5c9e054c3e681b46d)\n",
       "        ;\n",
       "\n",
       "        \n",
       "    \n",
       "    \n",
       "            var circle_marker_56db3913176bc5eae3a3295f771098d8 = L.circleMarker(\n",
       "                [50.63937158033813, 3.075358680700009],\n",
       "                {&quot;bubblingMouseEvents&quot;: true, &quot;color&quot;: &quot;blue&quot;, &quot;dashArray&quot;: null, &quot;dashOffset&quot;: null, &quot;fill&quot;: true, &quot;fillColor&quot;: &quot;blue&quot;, &quot;fillOpacity&quot;: 0.7, &quot;fillRule&quot;: &quot;evenodd&quot;, &quot;lineCap&quot;: &quot;round&quot;, &quot;lineJoin&quot;: &quot;round&quot;, &quot;opacity&quot;: 1.0, &quot;radius&quot;: 6.019712621954478, &quot;stroke&quot;: true, &quot;weight&quot;: 3}\n",
       "            ).addTo(map_aa004783f8fa274348a12c198b972d9e);\n",
       "        \n",
       "    \n",
       "        var popup_f03c9d7d2fe47aea0746e5a0d441eb90 = L.popup({&quot;maxWidth&quot;: 250});\n",
       "\n",
       "        \n",
       "            \n",
       "                var html_10eb8aa7502b167dac67b0d7813e85d2 = $(`&lt;div id=&quot;html_10eb8aa7502b167dac67b0d7813e85d2&quot; style=&quot;width: 100.0%; height: 100.0%;&quot;&gt;Lille-Europe&lt;br&gt;6,721,133 voyageurs&lt;/div&gt;`)[0];\n",
       "                popup_f03c9d7d2fe47aea0746e5a0d441eb90.setContent(html_10eb8aa7502b167dac67b0d7813e85d2);\n",
       "            \n",
       "        \n",
       "\n",
       "        circle_marker_56db3913176bc5eae3a3295f771098d8.bindPopup(popup_f03c9d7d2fe47aea0746e5a0d441eb90)\n",
       "        ;\n",
       "\n",
       "        \n",
       "    \n",
       "    \n",
       "            var circle_marker_d060ed9ca84daf5340d1e70feb02e492 = L.circleMarker(\n",
       "                [43.610699417157, 1.454396139877267],\n",
       "                {&quot;bubblingMouseEvents&quot;: true, &quot;color&quot;: &quot;blue&quot;, &quot;dashArray&quot;: null, &quot;dashOffset&quot;: null, &quot;fill&quot;: true, &quot;fillColor&quot;: &quot;blue&quot;, &quot;fillOpacity&quot;: 0.7, &quot;fillRule&quot;: &quot;evenodd&quot;, &quot;lineCap&quot;: &quot;round&quot;, &quot;lineJoin&quot;: &quot;round&quot;, &quot;opacity&quot;: 1.0, &quot;radius&quot;: 11.62897899621413, &quot;stroke&quot;: true, &quot;weight&quot;: 3}\n",
       "            ).addTo(map_aa004783f8fa274348a12c198b972d9e);\n",
       "        \n",
       "    \n",
       "        var popup_c4b9c5d511a017b964990f262777738d = L.popup({&quot;maxWidth&quot;: 250});\n",
       "\n",
       "        \n",
       "            \n",
       "                var html_12862589e2982468a87e3e00c5ebf8c4 = $(`&lt;div id=&quot;html_12862589e2982468a87e3e00c5ebf8c4&quot; style=&quot;width: 100.0%; height: 100.0%;&quot;&gt;Toulouse-Matabiau&lt;br&gt;14,526,190 voyageurs&lt;/div&gt;`)[0];\n",
       "                popup_c4b9c5d511a017b964990f262777738d.setContent(html_12862589e2982468a87e3e00c5ebf8c4);\n",
       "            \n",
       "        \n",
       "\n",
       "        circle_marker_d060ed9ca84daf5340d1e70feb02e492.bindPopup(popup_c4b9c5d511a017b964990f262777738d)\n",
       "        ;\n",
       "\n",
       "        \n",
       "    \n",
       "    \n",
       "            var circle_marker_ee25f2f292fb975157f4a4e935d64882 = L.circleMarker(\n",
       "                [49.88991715800637, 2.30927649407779],\n",
       "                {&quot;bubblingMouseEvents&quot;: true, &quot;color&quot;: &quot;blue&quot;, &quot;dashArray&quot;: null, &quot;dashOffset&quot;: null, &quot;fill&quot;: true, &quot;fillColor&quot;: &quot;blue&quot;, &quot;fillOpacity&quot;: 0.7, &quot;fillRule&quot;: &quot;evenodd&quot;, &quot;lineCap&quot;: &quot;round&quot;, &quot;lineJoin&quot;: &quot;round&quot;, &quot;opacity&quot;: 1.0, &quot;radius&quot;: 5.986953451952532, &quot;stroke&quot;: true, &quot;weight&quot;: 3}\n",
       "            ).addTo(map_aa004783f8fa274348a12c198b972d9e);\n",
       "        \n",
       "    \n",
       "        var popup_114e59639a3d972a3692d1410cf655a9 = L.popup({&quot;maxWidth&quot;: 250});\n",
       "\n",
       "        \n",
       "            \n",
       "                var html_87f3fff63f73c651b03532608581bf29 = $(`&lt;div id=&quot;html_87f3fff63f73c651b03532608581bf29&quot; style=&quot;width: 100.0%; height: 100.0%;&quot;&gt;Amiens&lt;br&gt;6,675,550 voyageurs&lt;/div&gt;`)[0];\n",
       "                popup_114e59639a3d972a3692d1410cf655a9.setContent(html_87f3fff63f73c651b03532608581bf29);\n",
       "            \n",
       "        \n",
       "\n",
       "        circle_marker_ee25f2f292fb975157f4a4e935d64882.bindPopup(popup_114e59639a3d972a3692d1410cf655a9)\n",
       "        ;\n",
       "\n",
       "        \n",
       "    \n",
       "    \n",
       "            var circle_marker_36335b70e45494c3cdaadc33e62e8d57 = L.circleMarker(\n",
       "                [43.30328316263964, 5.380843379830793],\n",
       "                {&quot;bubblingMouseEvents&quot;: true, &quot;color&quot;: &quot;blue&quot;, &quot;dashArray&quot;: null, &quot;dashOffset&quot;: null, &quot;fill&quot;: true, &quot;fillColor&quot;: &quot;blue&quot;, &quot;fillOpacity&quot;: 0.7, &quot;fillRule&quot;: &quot;evenodd&quot;, &quot;lineCap&quot;: &quot;round&quot;, &quot;lineJoin&quot;: &quot;round&quot;, &quot;opacity&quot;: 1.0, &quot;radius&quot;: 13.47966476480507, &quot;stroke&quot;: true, &quot;weight&quot;: 3}\n",
       "            ).addTo(map_aa004783f8fa274348a12c198b972d9e);\n",
       "        \n",
       "    \n",
       "        var popup_58e90742feb8e6c1b0d30081ff73a233 = L.popup({&quot;maxWidth&quot;: 250});\n",
       "\n",
       "        \n",
       "            \n",
       "                var html_c2a8703bb7f2d8ceba65b18baaabae82 = $(`&lt;div id=&quot;html_c2a8703bb7f2d8ceba65b18baaabae82&quot; style=&quot;width: 100.0%; height: 100.0%;&quot;&gt;Marseille-St-Charles&lt;br&gt;17,101,341 voyageurs&lt;/div&gt;`)[0];\n",
       "                popup_58e90742feb8e6c1b0d30081ff73a233.setContent(html_c2a8703bb7f2d8ceba65b18baaabae82);\n",
       "            \n",
       "        \n",
       "\n",
       "        circle_marker_36335b70e45494c3cdaadc33e62e8d57.bindPopup(popup_58e90742feb8e6c1b0d30081ff73a233)\n",
       "        ;\n",
       "\n",
       "        \n",
       "    \n",
       "    \n",
       "            var circle_marker_0a5b9f6caa588baeae174eac322beb80 = L.circleMarker(\n",
       "                [47.742311937131376, 7.34414663698152],\n",
       "                {&quot;bubblingMouseEvents&quot;: true, &quot;color&quot;: &quot;blue&quot;, &quot;dashArray&quot;: null, &quot;dashOffset&quot;: null, &quot;fill&quot;: true, &quot;fillColor&quot;: &quot;blue&quot;, &quot;fillOpacity&quot;: 0.7, &quot;fillRule&quot;: &quot;evenodd&quot;, &quot;lineCap&quot;: &quot;round&quot;, &quot;lineJoin&quot;: &quot;round&quot;, &quot;opacity&quot;: 1.0, &quot;radius&quot;: 5.241057989171241, &quot;stroke&quot;: true, &quot;weight&quot;: 3}\n",
       "            ).addTo(map_aa004783f8fa274348a12c198b972d9e);\n",
       "        \n",
       "    \n",
       "        var popup_7b9d066fbf7a0176cd42ebf290633112 = L.popup({&quot;maxWidth&quot;: 250});\n",
       "\n",
       "        \n",
       "            \n",
       "                var html_7df5cc4c16c1529c2eacf39b4e0dbe86 = $(`&lt;div id=&quot;html_7df5cc4c16c1529c2eacf39b4e0dbe86&quot; style=&quot;width: 100.0%; height: 100.0%;&quot;&gt;Mulhouse-Ville&lt;br&gt;5,637,668 voyageurs&lt;/div&gt;`)[0];\n",
       "                popup_7b9d066fbf7a0176cd42ebf290633112.setContent(html_7df5cc4c16c1529c2eacf39b4e0dbe86);\n",
       "            \n",
       "        \n",
       "\n",
       "        circle_marker_0a5b9f6caa588baeae174eac322beb80.bindPopup(popup_7b9d066fbf7a0176cd42ebf290633112)\n",
       "        ;\n",
       "\n",
       "        \n",
       "    \n",
       "    \n",
       "            var circle_marker_85699aa37cd36f1dfae2f4e3d4a45954 = L.circleMarker(\n",
       "                [47.46436991999225, -0.556795220842898],\n",
       "                {&quot;bubblingMouseEvents&quot;: true, &quot;color&quot;: &quot;blue&quot;, &quot;dashArray&quot;: null, &quot;dashOffset&quot;: null, &quot;fill&quot;: true, &quot;fillColor&quot;: &quot;blue&quot;, &quot;fillOpacity&quot;: 0.7, &quot;fillRule&quot;: &quot;evenodd&quot;, &quot;lineCap&quot;: &quot;round&quot;, &quot;lineJoin&quot;: &quot;round&quot;, &quot;opacity&quot;: 1.0, &quot;radius&quot;: 6.063123211533872, &quot;stroke&quot;: true, &quot;weight&quot;: 3}\n",
       "            ).addTo(map_aa004783f8fa274348a12c198b972d9e);\n",
       "        \n",
       "    \n",
       "        var popup_94624994f315104852efd86cef4c2af5 = L.popup({&quot;maxWidth&quot;: 250});\n",
       "\n",
       "        \n",
       "            \n",
       "                var html_91e189cd9eef9cb0c843d077d1b4737e = $(`&lt;div id=&quot;html_91e189cd9eef9cb0c843d077d1b4737e&quot; style=&quot;width: 100.0%; height: 100.0%;&quot;&gt;Angers-St-Laud&lt;br&gt;6,781,537 voyageurs&lt;/div&gt;`)[0];\n",
       "                popup_94624994f315104852efd86cef4c2af5.setContent(html_91e189cd9eef9cb0c843d077d1b4737e);\n",
       "            \n",
       "        \n",
       "\n",
       "        circle_marker_85699aa37cd36f1dfae2f4e3d4a45954.bindPopup(popup_94624994f315104852efd86cef4c2af5)\n",
       "        ;\n",
       "\n",
       "        \n",
       "    \n",
       "    \n",
       "            var circle_marker_211f09b001b3e81d7e5c56769bf37716 = L.circleMarker(\n",
       "                [49.109047707642894, 6.177376700521014],\n",
       "                {&quot;bubblingMouseEvents&quot;: true, &quot;color&quot;: &quot;blue&quot;, &quot;dashArray&quot;: null, &quot;dashOffset&quot;: null, &quot;fill&quot;: true, &quot;fillColor&quot;: &quot;blue&quot;, &quot;fillOpacity&quot;: 0.7, &quot;fillRule&quot;: &quot;evenodd&quot;, &quot;lineCap&quot;: &quot;round&quot;, &quot;lineJoin&quot;: &quot;round&quot;, &quot;opacity&quot;: 1.0, &quot;radius&quot;: 7.950489936553732, &quot;stroke&quot;: true, &quot;weight&quot;: 3}\n",
       "            ).addTo(map_aa004783f8fa274348a12c198b972d9e);\n",
       "        \n",
       "    \n",
       "        var popup_41be382c4eecac6f219d41c5ec829a1f = L.popup({&quot;maxWidth&quot;: 250});\n",
       "\n",
       "        \n",
       "            \n",
       "                var html_1d81963e26dd05c75db24ebdecfb4978 = $(`&lt;div id=&quot;html_1d81963e26dd05c75db24ebdecfb4978&quot; style=&quot;width: 100.0%; height: 100.0%;&quot;&gt;Metz-Ville&lt;br&gt;9,407,728 voyageurs&lt;/div&gt;`)[0];\n",
       "                popup_41be382c4eecac6f219d41c5ec829a1f.setContent(html_1d81963e26dd05c75db24ebdecfb4978);\n",
       "            \n",
       "        \n",
       "\n",
       "        circle_marker_211f09b001b3e81d7e5c56769bf37716.bindPopup(popup_41be382c4eecac6f219d41c5ec829a1f)\n",
       "        ;\n",
       "\n",
       "        \n",
       "    \n",
       "    \n",
       "            var circle_marker_e04ffecba4d75f513f7672387a3d466f = L.circleMarker(\n",
       "                [44.825923101976585, -0.555977516187794],\n",
       "                {&quot;bubblingMouseEvents&quot;: true, &quot;color&quot;: &quot;blue&quot;, &quot;dashArray&quot;: null, &quot;dashOffset&quot;: null, &quot;fill&quot;: true, &quot;fillColor&quot;: &quot;blue&quot;, &quot;fillOpacity&quot;: 0.7, &quot;fillRule&quot;: &quot;evenodd&quot;, &quot;lineCap&quot;: &quot;round&quot;, &quot;lineJoin&quot;: &quot;round&quot;, &quot;opacity&quot;: 1.0, &quot;radius&quot;: 17.44028312983883, &quot;stroke&quot;: true, &quot;weight&quot;: 3}\n",
       "            ).addTo(map_aa004783f8fa274348a12c198b972d9e);\n",
       "        \n",
       "    \n",
       "        var popup_41252c42b5d99d178bb197d08193d362 = L.popup({&quot;maxWidth&quot;: 250});\n",
       "\n",
       "        \n",
       "            \n",
       "                var html_e38caa2f94617ea8eee0ee1542e29c2f = $(`&lt;div id=&quot;html_e38caa2f94617ea8eee0ee1542e29c2f&quot; style=&quot;width: 100.0%; height: 100.0%;&quot;&gt;Bordeaux-St-Jean&lt;br&gt;22,612,374 voyageurs&lt;/div&gt;`)[0];\n",
       "                popup_41252c42b5d99d178bb197d08193d362.setContent(html_e38caa2f94617ea8eee0ee1542e29c2f);\n",
       "            \n",
       "        \n",
       "\n",
       "        circle_marker_e04ffecba4d75f513f7672387a3d466f.bindPopup(popup_41252c42b5d99d178bb197d08193d362)\n",
       "        ;\n",
       "\n",
       "        \n",
       "    \n",
       "    \n",
       "            var circle_marker_01b2c679d4569615e35d125152be3904 = L.circleMarker(\n",
       "                [48.103115825776165, -1.672881285302792],\n",
       "                {&quot;bubblingMouseEvents&quot;: true, &quot;color&quot;: &quot;blue&quot;, &quot;dashArray&quot;: null, &quot;dashOffset&quot;: null, &quot;fill&quot;: true, &quot;fillColor&quot;: &quot;blue&quot;, &quot;fillOpacity&quot;: 0.7, &quot;fillRule&quot;: &quot;evenodd&quot;, &quot;lineCap&quot;: &quot;round&quot;, &quot;lineJoin&quot;: &quot;round&quot;, &quot;opacity&quot;: 1.0, &quot;radius&quot;: 12.090949914022541, &quot;stroke&quot;: true, &quot;weight&quot;: 3}\n",
       "            ).addTo(map_aa004783f8fa274348a12c198b972d9e);\n",
       "        \n",
       "    \n",
       "        var popup_f0641ba28017c0fb1bef78ea35239b34 = L.popup({&quot;maxWidth&quot;: 250});\n",
       "\n",
       "        \n",
       "            \n",
       "                var html_9987809ea32f6d7c12f4b041611fdebc = $(`&lt;div id=&quot;html_9987809ea32f6d7c12f4b041611fdebc&quot; style=&quot;width: 100.0%; height: 100.0%;&quot;&gt;Rennes&lt;br&gt;15,169,003 voyageurs&lt;/div&gt;`)[0];\n",
       "                popup_f0641ba28017c0fb1bef78ea35239b34.setContent(html_9987809ea32f6d7c12f4b041611fdebc);\n",
       "            \n",
       "        \n",
       "\n",
       "        circle_marker_01b2c679d4569615e35d125152be3904.bindPopup(popup_f0641ba28017c0fb1bef78ea35239b34)\n",
       "        ;\n",
       "\n",
       "        \n",
       "    \n",
       "    \n",
       "            var circle_marker_34cef19947c7c31d92067f050c31c70f = L.circleMarker(\n",
       "                [50.63680600009029, 3.071793000654148],\n",
       "                {&quot;bubblingMouseEvents&quot;: true, &quot;color&quot;: &quot;blue&quot;, &quot;dashArray&quot;: null, &quot;dashOffset&quot;: null, &quot;fill&quot;: true, &quot;fillColor&quot;: &quot;blue&quot;, &quot;fillOpacity&quot;: 0.7, &quot;fillRule&quot;: &quot;evenodd&quot;, &quot;lineCap&quot;: &quot;round&quot;, &quot;lineJoin&quot;: &quot;round&quot;, &quot;opacity&quot;: 1.0, &quot;radius&quot;: 18.522478426437566, &quot;stroke&quot;: true, &quot;weight&quot;: 3}\n",
       "            ).addTo(map_aa004783f8fa274348a12c198b972d9e);\n",
       "        \n",
       "    \n",
       "        var popup_e6591ef87b1069225efabba9e8271d08 = L.popup({&quot;maxWidth&quot;: 250});\n",
       "\n",
       "        \n",
       "            \n",
       "                var html_7aa079a8452635fbac0e389169c0f009 = $(`&lt;div id=&quot;html_7aa079a8452635fbac0e389169c0f009&quot; style=&quot;width: 100.0%; height: 100.0%;&quot;&gt;Lille-Flandres&lt;br&gt;24,118,203 voyageurs&lt;/div&gt;`)[0];\n",
       "                popup_e6591ef87b1069225efabba9e8271d08.setContent(html_7aa079a8452635fbac0e389169c0f009);\n",
       "            \n",
       "        \n",
       "\n",
       "        circle_marker_34cef19947c7c31d92067f050c31c70f.bindPopup(popup_e6591ef87b1069225efabba9e8271d08)\n",
       "        ;\n",
       "\n",
       "        \n",
       "    \n",
       "    \n",
       "            var circle_marker_572777af9fa27f88584411ae40d91fcd = L.circleMarker(\n",
       "                [48.689702404376945, 6.174101796891323],\n",
       "                {&quot;bubblingMouseEvents&quot;: true, &quot;color&quot;: &quot;blue&quot;, &quot;dashArray&quot;: null, &quot;dashOffset&quot;: null, &quot;fill&quot;: true, &quot;fillColor&quot;: &quot;blue&quot;, &quot;fillOpacity&quot;: 0.7, &quot;fillRule&quot;: &quot;evenodd&quot;, &quot;lineCap&quot;: &quot;round&quot;, &quot;lineJoin&quot;: &quot;round&quot;, &quot;opacity&quot;: 1.0, &quot;radius&quot;: 7.82174294163965, &quot;stroke&quot;: true, &quot;weight&quot;: 3}\n",
       "            ).addTo(map_aa004783f8fa274348a12c198b972d9e);\n",
       "        \n",
       "    \n",
       "        var popup_0d3e38b75b4d9e06f07d7e26df3a93c0 = L.popup({&quot;maxWidth&quot;: 250});\n",
       "\n",
       "        \n",
       "            \n",
       "                var html_5a468f3e9999011725ceade2de67a716 = $(`&lt;div id=&quot;html_5a468f3e9999011725ceade2de67a716&quot; style=&quot;width: 100.0%; height: 100.0%;&quot;&gt;Nancy-Ville&lt;br&gt;9,228,582 voyageurs&lt;/div&gt;`)[0];\n",
       "                popup_0d3e38b75b4d9e06f07d7e26df3a93c0.setContent(html_5a468f3e9999011725ceade2de67a716);\n",
       "            \n",
       "        \n",
       "\n",
       "        circle_marker_572777af9fa27f88584411ae40d91fcd.bindPopup(popup_0d3e38b75b4d9e06f07d7e26df3a93c0)\n",
       "        ;\n",
       "\n",
       "        \n",
       "    \n",
       "&lt;/script&gt;\n",
       "&lt;/html&gt;\" style=\"position:absolute;width:100%;height:100%;left:0;top:0;border:none !important;\" allowfullscreen webkitallowfullscreen mozallowfullscreen></iframe></div></div>"
      ],
      "text/plain": [
       "<folium.folium.Map at 0x149f1f950>"
      ]
     },
     "execution_count": 19,
     "metadata": {},
     "output_type": "execute_result"
    }
   ],
   "source": [
    "import folium\n",
    "\n",
    "df_non_idf = df_high_trafic[df_high_trafic[\"nom_region\"] != \"Île-de-France\"]\n",
    "\n",
    "df_non_idf[\"lat\"] = df_non_idf.geometry.y\n",
    "df_non_idf[\"lon\"] = df_non_idf.geometry.x\n",
    "\n",
    "# Center map on France\n",
    "m = folium.Map(location=[46.6, 2.5], zoom_start=6)\n",
    "\n",
    "max_travelers = df_non_idf[\"Total Voyageurs\"].max()\n",
    "min_travelers = df_non_idf[\"Total Voyageurs\"].min()\n",
    "def scale_size(val, min_size=5, max_size=30):\n",
    "    if max_travelers == min_travelers:\n",
    "        return max_size\n",
    "    return min_size + (max_size - min_size) * (val - min_travelers) / (max_travelers - min_travelers)\n",
    "\n",
    "for _, row in df_non_idf.iterrows():\n",
    "    folium.CircleMarker(\n",
    "        location=[row[\"lat\"], row[\"lon\"]],\n",
    "        radius=scale_size(row[\"Total Voyageurs\"]),\n",
    "        color=\"blue\",\n",
    "        fill=True,\n",
    "        fill_opacity=0.7,\n",
    "        popup=folium.Popup(f\"{row['libelle']}<br>{int(row['Total Voyageurs']):,} voyageurs\", max_width=250)\n",
    "    ).add_to(m)\n",
    "\n",
    "m"
   ]
  },
  {
   "cell_type": "code",
   "execution_count": 20,
   "id": "217d5697",
   "metadata": {},
   "outputs": [
    {
     "data": {
      "application/vnd.plotly.v1+json": {
       "config": {
        "plotlyServerURL": "https://plot.ly"
       },
       "data": [
        {
         "hovertemplate": "Région=Auvergne-Rhône-Alpes<br>Année=%{x}<br>Total Voyageurs=%{y}<extra></extra>",
         "legendgroup": "Auvergne-Rhône-Alpes",
         "line": {
          "color": "#636efa",
          "dash": "solid"
         },
         "marker": {
          "symbol": "circle"
         },
         "mode": "lines+markers",
         "name": "Auvergne-Rhône-Alpes",
         "orientation": "v",
         "showlegend": true,
         "type": "scatter",
         "x": [
          2015,
          2016,
          2017,
          2018,
          2019,
          2020,
          2021,
          2022,
          2023
         ],
         "xaxis": "x",
         "y": [
          110249899,
          109061890,
          116625414,
          108805630,
          118217478,
          74627200,
          96030516,
          127776238,
          136443448
         ],
         "yaxis": "y"
        },
        {
         "hovertemplate": "Région=Bourgogne-Franche-Comté<br>Année=%{x}<br>Total Voyageurs=%{y}<extra></extra>",
         "legendgroup": "Bourgogne-Franche-Comté",
         "line": {
          "color": "#EF553B",
          "dash": "solid"
         },
         "marker": {
          "symbol": "circle"
         },
         "mode": "lines+markers",
         "name": "Bourgogne-Franche-Comté",
         "orientation": "v",
         "showlegend": true,
         "type": "scatter",
         "x": [
          2015,
          2016,
          2017,
          2018,
          2019,
          2020,
          2021,
          2022,
          2023
         ],
         "xaxis": "x",
         "y": [
          28949997,
          27522502,
          28896312,
          26287758,
          28716441,
          20498362,
          24257272,
          33357163,
          34173487
         ],
         "yaxis": "y"
        },
        {
         "hovertemplate": "Région=Bretagne<br>Année=%{x}<br>Total Voyageurs=%{y}<extra></extra>",
         "legendgroup": "Bretagne",
         "line": {
          "color": "#00cc96",
          "dash": "solid"
         },
         "marker": {
          "symbol": "circle"
         },
         "mode": "lines+markers",
         "name": "Bretagne",
         "orientation": "v",
         "showlegend": true,
         "type": "scatter",
         "x": [
          2015,
          2016,
          2017,
          2018,
          2019,
          2020,
          2021,
          2022,
          2023
         ],
         "xaxis": "x",
         "y": [
          15866834,
          15636387,
          16197930,
          15841949,
          17761689,
          12517039,
          16338584,
          22569748,
          25020737
         ],
         "yaxis": "y"
        },
        {
         "hovertemplate": "Région=Centre-Val de Loire<br>Année=%{x}<br>Total Voyageurs=%{y}<extra></extra>",
         "legendgroup": "Centre-Val de Loire",
         "line": {
          "color": "#ab63fa",
          "dash": "solid"
         },
         "marker": {
          "symbol": "circle"
         },
         "mode": "lines+markers",
         "name": "Centre-Val de Loire",
         "orientation": "v",
         "showlegend": true,
         "type": "scatter",
         "x": [
          2015,
          2016,
          2017,
          2018,
          2019,
          2020,
          2021,
          2022,
          2023
         ],
         "xaxis": "x",
         "y": [
          36722850,
          35232488,
          36117148,
          34402384,
          36360868,
          23868767,
          30998525,
          42096467,
          44932654
         ],
         "yaxis": "y"
        },
        {
         "hovertemplate": "Région=Grand Est<br>Année=%{x}<br>Total Voyageurs=%{y}<extra></extra>",
         "legendgroup": "Grand Est",
         "line": {
          "color": "#FFA15A",
          "dash": "solid"
         },
         "marker": {
          "symbol": "circle"
         },
         "mode": "lines+markers",
         "name": "Grand Est",
         "orientation": "v",
         "showlegend": true,
         "type": "scatter",
         "x": [
          2015,
          2016,
          2017,
          2018,
          2019,
          2020,
          2021,
          2022,
          2023
         ],
         "xaxis": "x",
         "y": [
          95024189,
          93650527,
          97951456,
          94895919,
          101155484,
          67265663,
          81798352,
          105986206,
          119180538
         ],
         "yaxis": "y"
        },
        {
         "hovertemplate": "Région=Hauts-de-France<br>Année=%{x}<br>Total Voyageurs=%{y}<extra></extra>",
         "legendgroup": "Hauts-de-France",
         "line": {
          "color": "#19d3f3",
          "dash": "solid"
         },
         "marker": {
          "symbol": "circle"
         },
         "mode": "lines+markers",
         "name": "Hauts-de-France",
         "orientation": "v",
         "showlegend": true,
         "type": "scatter",
         "x": [
          2015,
          2016,
          2017,
          2018,
          2019,
          2020,
          2021,
          2022,
          2023
         ],
         "xaxis": "x",
         "y": [
          98104984,
          97820350,
          103053787,
          96766730,
          104139232,
          66314015,
          78762834,
          101152924,
          110118822
         ],
         "yaxis": "y"
        },
        {
         "hovertemplate": "Région=Normandie<br>Année=%{x}<br>Total Voyageurs=%{y}<extra></extra>",
         "legendgroup": "Normandie",
         "line": {
          "color": "#FF6692",
          "dash": "solid"
         },
         "marker": {
          "symbol": "circle"
         },
         "mode": "lines+markers",
         "name": "Normandie",
         "orientation": "v",
         "showlegend": true,
         "type": "scatter",
         "x": [
          2015,
          2016,
          2017,
          2018,
          2019,
          2020,
          2021,
          2022,
          2023
         ],
         "xaxis": "x",
         "y": [
          27829673,
          26610877,
          27717708,
          25694144,
          28387672,
          17722482,
          22106890,
          30650750,
          34448644
         ],
         "yaxis": "y"
        },
        {
         "hovertemplate": "Région=Nouvelle-Aquitaine<br>Année=%{x}<br>Total Voyageurs=%{y}<extra></extra>",
         "legendgroup": "Nouvelle-Aquitaine",
         "line": {
          "color": "#B6E880",
          "dash": "solid"
         },
         "marker": {
          "symbol": "circle"
         },
         "mode": "lines+markers",
         "name": "Nouvelle-Aquitaine",
         "orientation": "v",
         "showlegend": true,
         "type": "scatter",
         "x": [
          2015,
          2016,
          2017,
          2018,
          2019,
          2020,
          2021,
          2022,
          2023
         ],
         "xaxis": "x",
         "y": [
          45092884,
          44162338,
          49468970,
          48585181,
          54463782,
          36030465,
          50071659,
          64988588,
          70360949
         ],
         "yaxis": "y"
        },
        {
         "hovertemplate": "Région=Occitanie<br>Année=%{x}<br>Total Voyageurs=%{y}<extra></extra>",
         "legendgroup": "Occitanie",
         "line": {
          "color": "#FF97FF",
          "dash": "solid"
         },
         "marker": {
          "symbol": "circle"
         },
         "mode": "lines+markers",
         "name": "Occitanie",
         "orientation": "v",
         "showlegend": true,
         "type": "scatter",
         "x": [
          2015,
          2016,
          2017,
          2018,
          2019,
          2020,
          2021,
          2022,
          2023
         ],
         "xaxis": "x",
         "y": [
          39609813,
          38624872,
          40526108,
          34329569,
          37517932,
          29336269,
          39700235,
          50358340,
          57466458
         ],
         "yaxis": "y"
        },
        {
         "hovertemplate": "Région=Pays de la Loire<br>Année=%{x}<br>Total Voyageurs=%{y}<extra></extra>",
         "legendgroup": "Pays de la Loire",
         "line": {
          "color": "#FECB52",
          "dash": "solid"
         },
         "marker": {
          "symbol": "circle"
         },
         "mode": "lines+markers",
         "name": "Pays de la Loire",
         "orientation": "v",
         "showlegend": true,
         "type": "scatter",
         "x": [
          2015,
          2016,
          2017,
          2018,
          2019,
          2020,
          2021,
          2022,
          2023
         ],
         "xaxis": "x",
         "y": [
          25299178,
          25403051,
          26632829,
          25383732,
          26525032,
          15867327,
          21057216,
          28523738,
          31301219
         ],
         "yaxis": "y"
        },
        {
         "hovertemplate": "Région=Provence-Alpes-Côte d'Azur<br>Année=%{x}<br>Total Voyageurs=%{y}<extra></extra>",
         "legendgroup": "Provence-Alpes-Côte d'Azur",
         "line": {
          "color": "#636efa",
          "dash": "solid"
         },
         "marker": {
          "symbol": "circle"
         },
         "mode": "lines+markers",
         "name": "Provence-Alpes-Côte d'Azur",
         "orientation": "v",
         "showlegend": true,
         "type": "scatter",
         "x": [
          2015,
          2016,
          2017,
          2018,
          2019,
          2020,
          2021,
          2022,
          2023
         ],
         "xaxis": "x",
         "y": [
          39893940,
          40206594,
          44753734,
          40246503,
          44778032,
          26188853,
          36317650,
          48014470,
          53814371
         ],
         "yaxis": "y"
        }
       ],
       "layout": {
        "legend": {
         "title": {
          "text": "Région"
         },
         "tracegroupgap": 0
        },
        "template": {
         "data": {
          "bar": [
           {
            "error_x": {
             "color": "#2a3f5f"
            },
            "error_y": {
             "color": "#2a3f5f"
            },
            "marker": {
             "line": {
              "color": "#E5ECF6",
              "width": 0.5
             },
             "pattern": {
              "fillmode": "overlay",
              "size": 10,
              "solidity": 0.2
             }
            },
            "type": "bar"
           }
          ],
          "barpolar": [
           {
            "marker": {
             "line": {
              "color": "#E5ECF6",
              "width": 0.5
             },
             "pattern": {
              "fillmode": "overlay",
              "size": 10,
              "solidity": 0.2
             }
            },
            "type": "barpolar"
           }
          ],
          "carpet": [
           {
            "aaxis": {
             "endlinecolor": "#2a3f5f",
             "gridcolor": "white",
             "linecolor": "white",
             "minorgridcolor": "white",
             "startlinecolor": "#2a3f5f"
            },
            "baxis": {
             "endlinecolor": "#2a3f5f",
             "gridcolor": "white",
             "linecolor": "white",
             "minorgridcolor": "white",
             "startlinecolor": "#2a3f5f"
            },
            "type": "carpet"
           }
          ],
          "choropleth": [
           {
            "colorbar": {
             "outlinewidth": 0,
             "ticks": ""
            },
            "type": "choropleth"
           }
          ],
          "contour": [
           {
            "colorbar": {
             "outlinewidth": 0,
             "ticks": ""
            },
            "colorscale": [
             [
              0,
              "#0d0887"
             ],
             [
              0.1111111111111111,
              "#46039f"
             ],
             [
              0.2222222222222222,
              "#7201a8"
             ],
             [
              0.3333333333333333,
              "#9c179e"
             ],
             [
              0.4444444444444444,
              "#bd3786"
             ],
             [
              0.5555555555555556,
              "#d8576b"
             ],
             [
              0.6666666666666666,
              "#ed7953"
             ],
             [
              0.7777777777777778,
              "#fb9f3a"
             ],
             [
              0.8888888888888888,
              "#fdca26"
             ],
             [
              1,
              "#f0f921"
             ]
            ],
            "type": "contour"
           }
          ],
          "contourcarpet": [
           {
            "colorbar": {
             "outlinewidth": 0,
             "ticks": ""
            },
            "type": "contourcarpet"
           }
          ],
          "heatmap": [
           {
            "colorbar": {
             "outlinewidth": 0,
             "ticks": ""
            },
            "colorscale": [
             [
              0,
              "#0d0887"
             ],
             [
              0.1111111111111111,
              "#46039f"
             ],
             [
              0.2222222222222222,
              "#7201a8"
             ],
             [
              0.3333333333333333,
              "#9c179e"
             ],
             [
              0.4444444444444444,
              "#bd3786"
             ],
             [
              0.5555555555555556,
              "#d8576b"
             ],
             [
              0.6666666666666666,
              "#ed7953"
             ],
             [
              0.7777777777777778,
              "#fb9f3a"
             ],
             [
              0.8888888888888888,
              "#fdca26"
             ],
             [
              1,
              "#f0f921"
             ]
            ],
            "type": "heatmap"
           }
          ],
          "heatmapgl": [
           {
            "colorbar": {
             "outlinewidth": 0,
             "ticks": ""
            },
            "colorscale": [
             [
              0,
              "#0d0887"
             ],
             [
              0.1111111111111111,
              "#46039f"
             ],
             [
              0.2222222222222222,
              "#7201a8"
             ],
             [
              0.3333333333333333,
              "#9c179e"
             ],
             [
              0.4444444444444444,
              "#bd3786"
             ],
             [
              0.5555555555555556,
              "#d8576b"
             ],
             [
              0.6666666666666666,
              "#ed7953"
             ],
             [
              0.7777777777777778,
              "#fb9f3a"
             ],
             [
              0.8888888888888888,
              "#fdca26"
             ],
             [
              1,
              "#f0f921"
             ]
            ],
            "type": "heatmapgl"
           }
          ],
          "histogram": [
           {
            "marker": {
             "pattern": {
              "fillmode": "overlay",
              "size": 10,
              "solidity": 0.2
             }
            },
            "type": "histogram"
           }
          ],
          "histogram2d": [
           {
            "colorbar": {
             "outlinewidth": 0,
             "ticks": ""
            },
            "colorscale": [
             [
              0,
              "#0d0887"
             ],
             [
              0.1111111111111111,
              "#46039f"
             ],
             [
              0.2222222222222222,
              "#7201a8"
             ],
             [
              0.3333333333333333,
              "#9c179e"
             ],
             [
              0.4444444444444444,
              "#bd3786"
             ],
             [
              0.5555555555555556,
              "#d8576b"
             ],
             [
              0.6666666666666666,
              "#ed7953"
             ],
             [
              0.7777777777777778,
              "#fb9f3a"
             ],
             [
              0.8888888888888888,
              "#fdca26"
             ],
             [
              1,
              "#f0f921"
             ]
            ],
            "type": "histogram2d"
           }
          ],
          "histogram2dcontour": [
           {
            "colorbar": {
             "outlinewidth": 0,
             "ticks": ""
            },
            "colorscale": [
             [
              0,
              "#0d0887"
             ],
             [
              0.1111111111111111,
              "#46039f"
             ],
             [
              0.2222222222222222,
              "#7201a8"
             ],
             [
              0.3333333333333333,
              "#9c179e"
             ],
             [
              0.4444444444444444,
              "#bd3786"
             ],
             [
              0.5555555555555556,
              "#d8576b"
             ],
             [
              0.6666666666666666,
              "#ed7953"
             ],
             [
              0.7777777777777778,
              "#fb9f3a"
             ],
             [
              0.8888888888888888,
              "#fdca26"
             ],
             [
              1,
              "#f0f921"
             ]
            ],
            "type": "histogram2dcontour"
           }
          ],
          "mesh3d": [
           {
            "colorbar": {
             "outlinewidth": 0,
             "ticks": ""
            },
            "type": "mesh3d"
           }
          ],
          "parcoords": [
           {
            "line": {
             "colorbar": {
              "outlinewidth": 0,
              "ticks": ""
             }
            },
            "type": "parcoords"
           }
          ],
          "pie": [
           {
            "automargin": true,
            "type": "pie"
           }
          ],
          "scatter": [
           {
            "fillpattern": {
             "fillmode": "overlay",
             "size": 10,
             "solidity": 0.2
            },
            "type": "scatter"
           }
          ],
          "scatter3d": [
           {
            "line": {
             "colorbar": {
              "outlinewidth": 0,
              "ticks": ""
             }
            },
            "marker": {
             "colorbar": {
              "outlinewidth": 0,
              "ticks": ""
             }
            },
            "type": "scatter3d"
           }
          ],
          "scattercarpet": [
           {
            "marker": {
             "colorbar": {
              "outlinewidth": 0,
              "ticks": ""
             }
            },
            "type": "scattercarpet"
           }
          ],
          "scattergeo": [
           {
            "marker": {
             "colorbar": {
              "outlinewidth": 0,
              "ticks": ""
             }
            },
            "type": "scattergeo"
           }
          ],
          "scattergl": [
           {
            "marker": {
             "colorbar": {
              "outlinewidth": 0,
              "ticks": ""
             }
            },
            "type": "scattergl"
           }
          ],
          "scattermapbox": [
           {
            "marker": {
             "colorbar": {
              "outlinewidth": 0,
              "ticks": ""
             }
            },
            "type": "scattermapbox"
           }
          ],
          "scatterpolar": [
           {
            "marker": {
             "colorbar": {
              "outlinewidth": 0,
              "ticks": ""
             }
            },
            "type": "scatterpolar"
           }
          ],
          "scatterpolargl": [
           {
            "marker": {
             "colorbar": {
              "outlinewidth": 0,
              "ticks": ""
             }
            },
            "type": "scatterpolargl"
           }
          ],
          "scatterternary": [
           {
            "marker": {
             "colorbar": {
              "outlinewidth": 0,
              "ticks": ""
             }
            },
            "type": "scatterternary"
           }
          ],
          "surface": [
           {
            "colorbar": {
             "outlinewidth": 0,
             "ticks": ""
            },
            "colorscale": [
             [
              0,
              "#0d0887"
             ],
             [
              0.1111111111111111,
              "#46039f"
             ],
             [
              0.2222222222222222,
              "#7201a8"
             ],
             [
              0.3333333333333333,
              "#9c179e"
             ],
             [
              0.4444444444444444,
              "#bd3786"
             ],
             [
              0.5555555555555556,
              "#d8576b"
             ],
             [
              0.6666666666666666,
              "#ed7953"
             ],
             [
              0.7777777777777778,
              "#fb9f3a"
             ],
             [
              0.8888888888888888,
              "#fdca26"
             ],
             [
              1,
              "#f0f921"
             ]
            ],
            "type": "surface"
           }
          ],
          "table": [
           {
            "cells": {
             "fill": {
              "color": "#EBF0F8"
             },
             "line": {
              "color": "white"
             }
            },
            "header": {
             "fill": {
              "color": "#C8D4E3"
             },
             "line": {
              "color": "white"
             }
            },
            "type": "table"
           }
          ]
         },
         "layout": {
          "annotationdefaults": {
           "arrowcolor": "#2a3f5f",
           "arrowhead": 0,
           "arrowwidth": 1
          },
          "autotypenumbers": "strict",
          "coloraxis": {
           "colorbar": {
            "outlinewidth": 0,
            "ticks": ""
           }
          },
          "colorscale": {
           "diverging": [
            [
             0,
             "#8e0152"
            ],
            [
             0.1,
             "#c51b7d"
            ],
            [
             0.2,
             "#de77ae"
            ],
            [
             0.3,
             "#f1b6da"
            ],
            [
             0.4,
             "#fde0ef"
            ],
            [
             0.5,
             "#f7f7f7"
            ],
            [
             0.6,
             "#e6f5d0"
            ],
            [
             0.7,
             "#b8e186"
            ],
            [
             0.8,
             "#7fbc41"
            ],
            [
             0.9,
             "#4d9221"
            ],
            [
             1,
             "#276419"
            ]
           ],
           "sequential": [
            [
             0,
             "#0d0887"
            ],
            [
             0.1111111111111111,
             "#46039f"
            ],
            [
             0.2222222222222222,
             "#7201a8"
            ],
            [
             0.3333333333333333,
             "#9c179e"
            ],
            [
             0.4444444444444444,
             "#bd3786"
            ],
            [
             0.5555555555555556,
             "#d8576b"
            ],
            [
             0.6666666666666666,
             "#ed7953"
            ],
            [
             0.7777777777777778,
             "#fb9f3a"
            ],
            [
             0.8888888888888888,
             "#fdca26"
            ],
            [
             1,
             "#f0f921"
            ]
           ],
           "sequentialminus": [
            [
             0,
             "#0d0887"
            ],
            [
             0.1111111111111111,
             "#46039f"
            ],
            [
             0.2222222222222222,
             "#7201a8"
            ],
            [
             0.3333333333333333,
             "#9c179e"
            ],
            [
             0.4444444444444444,
             "#bd3786"
            ],
            [
             0.5555555555555556,
             "#d8576b"
            ],
            [
             0.6666666666666666,
             "#ed7953"
            ],
            [
             0.7777777777777778,
             "#fb9f3a"
            ],
            [
             0.8888888888888888,
             "#fdca26"
            ],
            [
             1,
             "#f0f921"
            ]
           ]
          },
          "colorway": [
           "#636efa",
           "#EF553B",
           "#00cc96",
           "#ab63fa",
           "#FFA15A",
           "#19d3f3",
           "#FF6692",
           "#B6E880",
           "#FF97FF",
           "#FECB52"
          ],
          "font": {
           "color": "#2a3f5f"
          },
          "geo": {
           "bgcolor": "white",
           "lakecolor": "white",
           "landcolor": "#E5ECF6",
           "showlakes": true,
           "showland": true,
           "subunitcolor": "white"
          },
          "hoverlabel": {
           "align": "left"
          },
          "hovermode": "closest",
          "mapbox": {
           "style": "light"
          },
          "paper_bgcolor": "white",
          "plot_bgcolor": "#E5ECF6",
          "polar": {
           "angularaxis": {
            "gridcolor": "white",
            "linecolor": "white",
            "ticks": ""
           },
           "bgcolor": "#E5ECF6",
           "radialaxis": {
            "gridcolor": "white",
            "linecolor": "white",
            "ticks": ""
           }
          },
          "scene": {
           "xaxis": {
            "backgroundcolor": "#E5ECF6",
            "gridcolor": "white",
            "gridwidth": 2,
            "linecolor": "white",
            "showbackground": true,
            "ticks": "",
            "zerolinecolor": "white"
           },
           "yaxis": {
            "backgroundcolor": "#E5ECF6",
            "gridcolor": "white",
            "gridwidth": 2,
            "linecolor": "white",
            "showbackground": true,
            "ticks": "",
            "zerolinecolor": "white"
           },
           "zaxis": {
            "backgroundcolor": "#E5ECF6",
            "gridcolor": "white",
            "gridwidth": 2,
            "linecolor": "white",
            "showbackground": true,
            "ticks": "",
            "zerolinecolor": "white"
           }
          },
          "shapedefaults": {
           "line": {
            "color": "#2a3f5f"
           }
          },
          "ternary": {
           "aaxis": {
            "gridcolor": "white",
            "linecolor": "white",
            "ticks": ""
           },
           "baxis": {
            "gridcolor": "white",
            "linecolor": "white",
            "ticks": ""
           },
           "bgcolor": "#E5ECF6",
           "caxis": {
            "gridcolor": "white",
            "linecolor": "white",
            "ticks": ""
           }
          },
          "title": {
           "x": 0.05
          },
          "xaxis": {
           "automargin": true,
           "gridcolor": "white",
           "linecolor": "white",
           "ticks": "",
           "title": {
            "standoff": 15
           },
           "zerolinecolor": "white",
           "zerolinewidth": 2
          },
          "yaxis": {
           "automargin": true,
           "gridcolor": "white",
           "linecolor": "white",
           "ticks": "",
           "title": {
            "standoff": 15
           },
           "zerolinecolor": "white",
           "zerolinewidth": 2
          }
         }
        },
        "title": {
         "text": "Nombre total de voyageurs par région (2015-2023)"
        },
        "xaxis": {
         "anchor": "y",
         "domain": [
          0,
          1
         ],
         "title": {
          "text": "Année"
         }
        },
        "yaxis": {
         "anchor": "x",
         "domain": [
          0,
          1
         ],
         "title": {
          "text": "Total Voyageurs"
         }
        }
       }
      }
     },
     "metadata": {},
     "output_type": "display_data"
    }
   ],
   "source": [
    "# Group by year and region, sum the number of travelers\n",
    "region_year_travelers = gares_communes.groupby(['Année', 'nom_region'])['Total Voyageurs'].sum().reset_index()\n",
    "region_year_travelers = region_year_travelers.query('nom_region != \"Île-de-France\"') # Exclude Île-de-France for the plot\n",
    "# Convert Année to integer for correct sorting\n",
    "region_year_travelers['Année'] = region_year_travelers['Année'].astype(int)\n",
    "\n",
    "# Plot with plotly express\n",
    "fig = px.line(\n",
    "    region_year_travelers.sort_values(['nom_region', 'Année']),\n",
    "    x='Année',\n",
    "    y='Total Voyageurs',\n",
    "    color='nom_region',\n",
    "    markers=True,\n",
    "    labels={\n",
    "        'Année': 'Année',\n",
    "        'Total Voyageurs': 'Total Voyageurs',\n",
    "        'nom_region': 'Région'\n",
    "    },\n",
    "    title='Nombre total de voyageurs par région (2015-2023)'\n",
    ")\n",
    "fig.show()"
   ]
  },
  {
   "cell_type": "code",
   "execution_count": 21,
   "id": "07ca0101",
   "metadata": {},
   "outputs": [
    {
     "data": {
      "application/vnd.plotly.v1+json": {
       "config": {
        "plotlyServerURL": "https://plot.ly"
       },
       "data": [
        {
         "alignmentgroup": "True",
         "hovertemplate": "Région=%{x}<br>Perte relative (%)=%{marker.color}<extra></extra>",
         "legendgroup": "",
         "marker": {
          "color": [
           51.39,
           41.51,
           40.18,
           37.57,
           36.87,
           36.32,
           34.36,
           33.85,
           33.5,
           29.53,
           28.62,
           21.81
          ],
          "coloraxis": "coloraxis",
          "pattern": {
           "shape": ""
          }
         },
         "name": "",
         "offsetgroup": "",
         "orientation": "v",
         "showlegend": false,
         "textposition": "auto",
         "type": "bar",
         "x": [
          "Île-de-France",
          "Provence-Alpes-Côte d'Azur",
          "Pays de la Loire",
          "Normandie",
          "Auvergne-Rhône-Alpes",
          "Hauts-de-France",
          "Centre-Val de Loire",
          "Nouvelle-Aquitaine",
          "Grand Est",
          "Bretagne",
          "Bourgogne-Franche-Comté",
          "Occitanie"
         ],
         "xaxis": "x",
         "y": [
          51.39,
          41.51,
          40.18,
          37.57,
          36.87,
          36.32,
          34.36,
          33.85,
          33.5,
          29.53,
          28.62,
          21.81
         ],
         "yaxis": "y"
        }
       ],
       "layout": {
        "barmode": "relative",
        "coloraxis": {
         "colorbar": {
          "title": {
           "text": "Perte relative (%)"
          }
         },
         "colorscale": [
          [
           0,
           "rgb(252, 222, 156)"
          ],
          [
           0.16666666666666666,
           "rgb(250, 164, 118)"
          ],
          [
           0.3333333333333333,
           "rgb(240, 116, 110)"
          ],
          [
           0.5,
           "rgb(227, 79, 111)"
          ],
          [
           0.6666666666666666,
           "rgb(220, 57, 119)"
          ],
          [
           0.8333333333333334,
           "rgb(185, 37, 122)"
          ],
          [
           1,
           "rgb(124, 29, 111)"
          ]
         ]
        },
        "legend": {
         "tracegroupgap": 0
        },
        "template": {
         "data": {
          "bar": [
           {
            "error_x": {
             "color": "#2a3f5f"
            },
            "error_y": {
             "color": "#2a3f5f"
            },
            "marker": {
             "line": {
              "color": "#E5ECF6",
              "width": 0.5
             },
             "pattern": {
              "fillmode": "overlay",
              "size": 10,
              "solidity": 0.2
             }
            },
            "type": "bar"
           }
          ],
          "barpolar": [
           {
            "marker": {
             "line": {
              "color": "#E5ECF6",
              "width": 0.5
             },
             "pattern": {
              "fillmode": "overlay",
              "size": 10,
              "solidity": 0.2
             }
            },
            "type": "barpolar"
           }
          ],
          "carpet": [
           {
            "aaxis": {
             "endlinecolor": "#2a3f5f",
             "gridcolor": "white",
             "linecolor": "white",
             "minorgridcolor": "white",
             "startlinecolor": "#2a3f5f"
            },
            "baxis": {
             "endlinecolor": "#2a3f5f",
             "gridcolor": "white",
             "linecolor": "white",
             "minorgridcolor": "white",
             "startlinecolor": "#2a3f5f"
            },
            "type": "carpet"
           }
          ],
          "choropleth": [
           {
            "colorbar": {
             "outlinewidth": 0,
             "ticks": ""
            },
            "type": "choropleth"
           }
          ],
          "contour": [
           {
            "colorbar": {
             "outlinewidth": 0,
             "ticks": ""
            },
            "colorscale": [
             [
              0,
              "#0d0887"
             ],
             [
              0.1111111111111111,
              "#46039f"
             ],
             [
              0.2222222222222222,
              "#7201a8"
             ],
             [
              0.3333333333333333,
              "#9c179e"
             ],
             [
              0.4444444444444444,
              "#bd3786"
             ],
             [
              0.5555555555555556,
              "#d8576b"
             ],
             [
              0.6666666666666666,
              "#ed7953"
             ],
             [
              0.7777777777777778,
              "#fb9f3a"
             ],
             [
              0.8888888888888888,
              "#fdca26"
             ],
             [
              1,
              "#f0f921"
             ]
            ],
            "type": "contour"
           }
          ],
          "contourcarpet": [
           {
            "colorbar": {
             "outlinewidth": 0,
             "ticks": ""
            },
            "type": "contourcarpet"
           }
          ],
          "heatmap": [
           {
            "colorbar": {
             "outlinewidth": 0,
             "ticks": ""
            },
            "colorscale": [
             [
              0,
              "#0d0887"
             ],
             [
              0.1111111111111111,
              "#46039f"
             ],
             [
              0.2222222222222222,
              "#7201a8"
             ],
             [
              0.3333333333333333,
              "#9c179e"
             ],
             [
              0.4444444444444444,
              "#bd3786"
             ],
             [
              0.5555555555555556,
              "#d8576b"
             ],
             [
              0.6666666666666666,
              "#ed7953"
             ],
             [
              0.7777777777777778,
              "#fb9f3a"
             ],
             [
              0.8888888888888888,
              "#fdca26"
             ],
             [
              1,
              "#f0f921"
             ]
            ],
            "type": "heatmap"
           }
          ],
          "heatmapgl": [
           {
            "colorbar": {
             "outlinewidth": 0,
             "ticks": ""
            },
            "colorscale": [
             [
              0,
              "#0d0887"
             ],
             [
              0.1111111111111111,
              "#46039f"
             ],
             [
              0.2222222222222222,
              "#7201a8"
             ],
             [
              0.3333333333333333,
              "#9c179e"
             ],
             [
              0.4444444444444444,
              "#bd3786"
             ],
             [
              0.5555555555555556,
              "#d8576b"
             ],
             [
              0.6666666666666666,
              "#ed7953"
             ],
             [
              0.7777777777777778,
              "#fb9f3a"
             ],
             [
              0.8888888888888888,
              "#fdca26"
             ],
             [
              1,
              "#f0f921"
             ]
            ],
            "type": "heatmapgl"
           }
          ],
          "histogram": [
           {
            "marker": {
             "pattern": {
              "fillmode": "overlay",
              "size": 10,
              "solidity": 0.2
             }
            },
            "type": "histogram"
           }
          ],
          "histogram2d": [
           {
            "colorbar": {
             "outlinewidth": 0,
             "ticks": ""
            },
            "colorscale": [
             [
              0,
              "#0d0887"
             ],
             [
              0.1111111111111111,
              "#46039f"
             ],
             [
              0.2222222222222222,
              "#7201a8"
             ],
             [
              0.3333333333333333,
              "#9c179e"
             ],
             [
              0.4444444444444444,
              "#bd3786"
             ],
             [
              0.5555555555555556,
              "#d8576b"
             ],
             [
              0.6666666666666666,
              "#ed7953"
             ],
             [
              0.7777777777777778,
              "#fb9f3a"
             ],
             [
              0.8888888888888888,
              "#fdca26"
             ],
             [
              1,
              "#f0f921"
             ]
            ],
            "type": "histogram2d"
           }
          ],
          "histogram2dcontour": [
           {
            "colorbar": {
             "outlinewidth": 0,
             "ticks": ""
            },
            "colorscale": [
             [
              0,
              "#0d0887"
             ],
             [
              0.1111111111111111,
              "#46039f"
             ],
             [
              0.2222222222222222,
              "#7201a8"
             ],
             [
              0.3333333333333333,
              "#9c179e"
             ],
             [
              0.4444444444444444,
              "#bd3786"
             ],
             [
              0.5555555555555556,
              "#d8576b"
             ],
             [
              0.6666666666666666,
              "#ed7953"
             ],
             [
              0.7777777777777778,
              "#fb9f3a"
             ],
             [
              0.8888888888888888,
              "#fdca26"
             ],
             [
              1,
              "#f0f921"
             ]
            ],
            "type": "histogram2dcontour"
           }
          ],
          "mesh3d": [
           {
            "colorbar": {
             "outlinewidth": 0,
             "ticks": ""
            },
            "type": "mesh3d"
           }
          ],
          "parcoords": [
           {
            "line": {
             "colorbar": {
              "outlinewidth": 0,
              "ticks": ""
             }
            },
            "type": "parcoords"
           }
          ],
          "pie": [
           {
            "automargin": true,
            "type": "pie"
           }
          ],
          "scatter": [
           {
            "fillpattern": {
             "fillmode": "overlay",
             "size": 10,
             "solidity": 0.2
            },
            "type": "scatter"
           }
          ],
          "scatter3d": [
           {
            "line": {
             "colorbar": {
              "outlinewidth": 0,
              "ticks": ""
             }
            },
            "marker": {
             "colorbar": {
              "outlinewidth": 0,
              "ticks": ""
             }
            },
            "type": "scatter3d"
           }
          ],
          "scattercarpet": [
           {
            "marker": {
             "colorbar": {
              "outlinewidth": 0,
              "ticks": ""
             }
            },
            "type": "scattercarpet"
           }
          ],
          "scattergeo": [
           {
            "marker": {
             "colorbar": {
              "outlinewidth": 0,
              "ticks": ""
             }
            },
            "type": "scattergeo"
           }
          ],
          "scattergl": [
           {
            "marker": {
             "colorbar": {
              "outlinewidth": 0,
              "ticks": ""
             }
            },
            "type": "scattergl"
           }
          ],
          "scattermapbox": [
           {
            "marker": {
             "colorbar": {
              "outlinewidth": 0,
              "ticks": ""
             }
            },
            "type": "scattermapbox"
           }
          ],
          "scatterpolar": [
           {
            "marker": {
             "colorbar": {
              "outlinewidth": 0,
              "ticks": ""
             }
            },
            "type": "scatterpolar"
           }
          ],
          "scatterpolargl": [
           {
            "marker": {
             "colorbar": {
              "outlinewidth": 0,
              "ticks": ""
             }
            },
            "type": "scatterpolargl"
           }
          ],
          "scatterternary": [
           {
            "marker": {
             "colorbar": {
              "outlinewidth": 0,
              "ticks": ""
             }
            },
            "type": "scatterternary"
           }
          ],
          "surface": [
           {
            "colorbar": {
             "outlinewidth": 0,
             "ticks": ""
            },
            "colorscale": [
             [
              0,
              "#0d0887"
             ],
             [
              0.1111111111111111,
              "#46039f"
             ],
             [
              0.2222222222222222,
              "#7201a8"
             ],
             [
              0.3333333333333333,
              "#9c179e"
             ],
             [
              0.4444444444444444,
              "#bd3786"
             ],
             [
              0.5555555555555556,
              "#d8576b"
             ],
             [
              0.6666666666666666,
              "#ed7953"
             ],
             [
              0.7777777777777778,
              "#fb9f3a"
             ],
             [
              0.8888888888888888,
              "#fdca26"
             ],
             [
              1,
              "#f0f921"
             ]
            ],
            "type": "surface"
           }
          ],
          "table": [
           {
            "cells": {
             "fill": {
              "color": "#EBF0F8"
             },
             "line": {
              "color": "white"
             }
            },
            "header": {
             "fill": {
              "color": "#C8D4E3"
             },
             "line": {
              "color": "white"
             }
            },
            "type": "table"
           }
          ]
         },
         "layout": {
          "annotationdefaults": {
           "arrowcolor": "#2a3f5f",
           "arrowhead": 0,
           "arrowwidth": 1
          },
          "autotypenumbers": "strict",
          "coloraxis": {
           "colorbar": {
            "outlinewidth": 0,
            "ticks": ""
           }
          },
          "colorscale": {
           "diverging": [
            [
             0,
             "#8e0152"
            ],
            [
             0.1,
             "#c51b7d"
            ],
            [
             0.2,
             "#de77ae"
            ],
            [
             0.3,
             "#f1b6da"
            ],
            [
             0.4,
             "#fde0ef"
            ],
            [
             0.5,
             "#f7f7f7"
            ],
            [
             0.6,
             "#e6f5d0"
            ],
            [
             0.7,
             "#b8e186"
            ],
            [
             0.8,
             "#7fbc41"
            ],
            [
             0.9,
             "#4d9221"
            ],
            [
             1,
             "#276419"
            ]
           ],
           "sequential": [
            [
             0,
             "#0d0887"
            ],
            [
             0.1111111111111111,
             "#46039f"
            ],
            [
             0.2222222222222222,
             "#7201a8"
            ],
            [
             0.3333333333333333,
             "#9c179e"
            ],
            [
             0.4444444444444444,
             "#bd3786"
            ],
            [
             0.5555555555555556,
             "#d8576b"
            ],
            [
             0.6666666666666666,
             "#ed7953"
            ],
            [
             0.7777777777777778,
             "#fb9f3a"
            ],
            [
             0.8888888888888888,
             "#fdca26"
            ],
            [
             1,
             "#f0f921"
            ]
           ],
           "sequentialminus": [
            [
             0,
             "#0d0887"
            ],
            [
             0.1111111111111111,
             "#46039f"
            ],
            [
             0.2222222222222222,
             "#7201a8"
            ],
            [
             0.3333333333333333,
             "#9c179e"
            ],
            [
             0.4444444444444444,
             "#bd3786"
            ],
            [
             0.5555555555555556,
             "#d8576b"
            ],
            [
             0.6666666666666666,
             "#ed7953"
            ],
            [
             0.7777777777777778,
             "#fb9f3a"
            ],
            [
             0.8888888888888888,
             "#fdca26"
            ],
            [
             1,
             "#f0f921"
            ]
           ]
          },
          "colorway": [
           "#636efa",
           "#EF553B",
           "#00cc96",
           "#ab63fa",
           "#FFA15A",
           "#19d3f3",
           "#FF6692",
           "#B6E880",
           "#FF97FF",
           "#FECB52"
          ],
          "font": {
           "color": "#2a3f5f"
          },
          "geo": {
           "bgcolor": "white",
           "lakecolor": "white",
           "landcolor": "#E5ECF6",
           "showlakes": true,
           "showland": true,
           "subunitcolor": "white"
          },
          "hoverlabel": {
           "align": "left"
          },
          "hovermode": "closest",
          "mapbox": {
           "style": "light"
          },
          "paper_bgcolor": "white",
          "plot_bgcolor": "#E5ECF6",
          "polar": {
           "angularaxis": {
            "gridcolor": "white",
            "linecolor": "white",
            "ticks": ""
           },
           "bgcolor": "#E5ECF6",
           "radialaxis": {
            "gridcolor": "white",
            "linecolor": "white",
            "ticks": ""
           }
          },
          "scene": {
           "xaxis": {
            "backgroundcolor": "#E5ECF6",
            "gridcolor": "white",
            "gridwidth": 2,
            "linecolor": "white",
            "showbackground": true,
            "ticks": "",
            "zerolinecolor": "white"
           },
           "yaxis": {
            "backgroundcolor": "#E5ECF6",
            "gridcolor": "white",
            "gridwidth": 2,
            "linecolor": "white",
            "showbackground": true,
            "ticks": "",
            "zerolinecolor": "white"
           },
           "zaxis": {
            "backgroundcolor": "#E5ECF6",
            "gridcolor": "white",
            "gridwidth": 2,
            "linecolor": "white",
            "showbackground": true,
            "ticks": "",
            "zerolinecolor": "white"
           }
          },
          "shapedefaults": {
           "line": {
            "color": "#2a3f5f"
           }
          },
          "ternary": {
           "aaxis": {
            "gridcolor": "white",
            "linecolor": "white",
            "ticks": ""
           },
           "baxis": {
            "gridcolor": "white",
            "linecolor": "white",
            "ticks": ""
           },
           "bgcolor": "#E5ECF6",
           "caxis": {
            "gridcolor": "white",
            "linecolor": "white",
            "ticks": ""
           }
          },
          "title": {
           "x": 0.05
          },
          "xaxis": {
           "automargin": true,
           "gridcolor": "white",
           "linecolor": "white",
           "ticks": "",
           "title": {
            "standoff": 15
           },
           "zerolinecolor": "white",
           "zerolinewidth": 2
          },
          "yaxis": {
           "automargin": true,
           "gridcolor": "white",
           "linecolor": "white",
           "ticks": "",
           "title": {
            "standoff": 15
           },
           "zerolinecolor": "white",
           "zerolinewidth": 2
          }
         }
        },
        "title": {
         "text": "Perte relative de voyageurs par région dûe au COVID (entre 2019 et 2020)"
        },
        "xaxis": {
         "anchor": "y",
         "domain": [
          0,
          1
         ],
         "tickangle": 45,
         "title": {
          "text": "Région"
         }
        },
        "yaxis": {
         "anchor": "x",
         "domain": [
          0,
          1
         ],
         "title": {
          "text": "Perte relative (%)"
         }
        }
       }
      }
     },
     "metadata": {},
     "output_type": "display_data"
    }
   ],
   "source": [
    "region_year_travelers = gares_communes.groupby(['Année', 'nom_region'])['Total Voyageurs'].sum().reset_index()\n",
    "region_year_travelers_2019_2020 = region_year_travelers.query('Année in [\"2019\", \"2020\"]').reset_index(drop=True)\n",
    "\n",
    "region_year_travelers_loss = region_year_travelers_2019_2020.pivot(index='nom_region', columns='Année', values='Total Voyageurs').reset_index()\n",
    "\n",
    "region_year_travelers_loss[\"relative_loss\"] = ((region_year_travelers_loss[\"2019\"] - region_year_travelers_loss[\"2020\"]) / region_year_travelers_loss[\"2019\"] * 100).round(2)\n",
    "\n",
    "df_loss = region_year_travelers_loss.copy()\n",
    "df_loss = df_loss.sort_values(\"relative_loss\", ascending=False)\n",
    "\n",
    "fig = px.bar(\n",
    "    df_loss,\n",
    "    x=\"nom_region\",\n",
    "    y=\"relative_loss\",\n",
    "    labels={\"nom_region\": \"Région\", \"relative_loss\": \"Perte relative (%)\"},\n",
    "    title=\"Perte relative de voyageurs par région dûe au COVID (entre 2019 et 2020)\",\n",
    "    color=\"relative_loss\",\n",
    "    color_continuous_scale=\"Sunsetdark\"\n",
    ")\n",
    "fig.update_layout(xaxis_tickangle=45)\n",
    "fig.show()"
   ]
  }
 ],
 "metadata": {
  "kernelspec": {
   "display_name": "python-data",
   "language": "python",
   "name": "python3"
  },
  "language_info": {
   "codemirror_mode": {
    "name": "ipython",
    "version": 3
   },
   "file_extension": ".py",
   "mimetype": "text/x-python",
   "name": "python",
   "nbconvert_exporter": "python",
   "pygments_lexer": "ipython3",
   "version": "3.12.5"
  }
 },
 "nbformat": 4,
 "nbformat_minor": 5
}
