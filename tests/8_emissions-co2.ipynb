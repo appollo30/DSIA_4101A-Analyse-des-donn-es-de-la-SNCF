{
 "cells": [
  {
   "cell_type": "code",
   "execution_count": null,
   "metadata": {},
   "outputs": [],
   "source": [
    "import numpy as np\n",
    "import pandas as pd\n",
    "import geopandas as gpd\n",
    "import plotly.express as px\n",
    "import plotly.graph_objects as go"
   ]
  },
  {
   "cell_type": "markdown",
   "metadata": {},
   "source": [
    "# Exploration des émissions de co2"
   ]
  },
  {
   "cell_type": "code",
   "execution_count": null,
   "metadata": {},
   "outputs": [],
   "source": [
    "emissions = pd.read_csv('../data/emission-co2-perimetre-complet.csv',sep=';')\n",
    "print(emissions.shape)\n",
    "emissions.head()"
   ]
  },
  {
   "cell_type": "code",
   "execution_count": null,
   "metadata": {},
   "outputs": [],
   "source": [
    "def rename_columns(emissions_df):\n",
    "    emissions_df.rename(columns={\n",
    "        'Distance entre les gares':'Distance', \n",
    "        \"Train - Empreinte carbone (kgCO2e)\":\"Train\", \n",
    "        \"Autocar longue distance - Empreinte carbone (kgCO2e)\": \"Autocar\", \n",
    "        \"Avion - Empreinte carbone (kgCO2e)\":\"Avion\", \n",
    "        \"Voiture électrique (2,2 pers.) - Empreinte carbone (kgCO2e)\":\"Voiture électrique\", \n",
    "        \"Voiture thermique (2,2 pers.) - Empreinte carbone (kgCO2e)\":\"Voiture thermique\"\n",
    "    }, inplace=True)\n",
    "    return emissions_df"
   ]
  },
  {
   "cell_type": "code",
   "execution_count": null,
   "metadata": {},
   "outputs": [],
   "source": [
    "emissions = rename_columns(emissions)\n",
    "emissions.head()"
   ]
  },
  {
   "cell_type": "markdown",
   "metadata": {},
   "source": [
    "On doit également filtrer les lignes qui sont des trains internationaux qui ne sont pas forcément sur le réseau français."
   ]
  },
  {
   "cell_type": "code",
   "execution_count": null,
   "metadata": {},
   "outputs": [],
   "source": [
    "print(emissions[\"Transporteur\"].unique())"
   ]
  },
  {
   "cell_type": "code",
   "execution_count": null,
   "metadata": {},
   "outputs": [],
   "source": [
    "def filter_transporteur(emissions_df):\n",
    "    emissions_df = emissions_df.query(\"Transporteur != 'International'\")\n",
    "    return emissions_df\n",
    "\n",
    "emissions = filter_transporteur(emissions)"
   ]
  },
  {
   "cell_type": "code",
   "execution_count": null,
   "metadata": {},
   "outputs": [],
   "source": [
    "def generate_line_chart(emissions_df, log_scale=False):\n",
    "    fig = go.Figure()\n",
    "    # On ajoute les courbes pour chaque moyen de transport\n",
    "    emissions_df = emissions_df.sort_values(by='Distance')\n",
    "    moyens_transport = [\"Autocar\", \"Voiture électrique\", \"Voiture thermique\", \"Avion\"]\n",
    "    \n",
    "    # Solutionn inspirée de https://github.com/plotly/plotly.py/issues/4278 pour afficher l'origine et la destination des trajets dans le hover\n",
    "    # On ajoute une courbe invisible pour chaque moyen de transport, et on change son hovertext pour afficher l'origine et la destination\n",
    "    fig.add_trace(go.Scatter(\n",
    "        x=emissions_df['Distance'], \n",
    "        y=emissions_df['Train'], \n",
    "        opacity=0, \n",
    "        showlegend=False,\n",
    "        hovertext=emissions_df['Origine'] + ' - ' + emissions_df['Destination'],\n",
    "        hovertemplate='<b>%{hovertext}</b><extra></extra>'\n",
    "        ))\n",
    "    \n",
    "    fig.add_trace(go.Scatter(\n",
    "        x=emissions_df['Distance'],\n",
    "        y=emissions_df['Train'],\n",
    "        mode='lines+markers',\n",
    "        name='Train',\n",
    "        connectgaps=True,\n",
    "        hovertext=emissions_df['Transporteur'],\n",
    "        hovertemplate='<b>%{hovertext}</b> : %{y:.2f} kgCO2e <extra></extra>',\n",
    "    ))\n",
    "    for column in moyens_transport:\n",
    "        fig.add_trace(go.Scatter(\n",
    "            x=emissions_df['Distance'],\n",
    "            y=emissions_df[column],\n",
    "            mode='lines+markers',\n",
    "            name=column,\n",
    "            connectgaps=True,\n",
    "            hovertemplate='%{y:.2f} kgCO2e'\n",
    "        ))\n",
    "    \n",
    "    fig.update_layout(\n",
    "        title='Émissions de CO2 par moyen de transport en fonction de la distance',\n",
    "        xaxis_title='Distance entre les gares (km)',\n",
    "        yaxis_title='Empreinte carbone (kgCO2e)',\n",
    "        legend_title='Moyen de transport',\n",
    "        hovermode='x unified'\n",
    "    )\n",
    "    \n",
    "    if log_scale:\n",
    "        fig.update_yaxes(\n",
    "            title='Émissions de CO2 par moyen de transport en fonction de la distance (échelle logarithmique)', \n",
    "            type=\"log\"\n",
    "    )\n",
    "    \n",
    "    return fig\n",
    "\n",
    "generate_line_chart(emissions,True)    "
   ]
  },
  {
   "cell_type": "code",
   "execution_count": null,
   "metadata": {},
   "outputs": [],
   "source": [
    "def generate_bar_graph(emissions_df):\n",
    "    \n",
    "    \n",
    "\n",
    "generate_bar_graph(emissions)"
   ]
  }
 ],
 "metadata": {
  "kernelspec": {
   "display_name": "python-data",
   "language": "python",
   "name": "python3"
  },
  "language_info": {
   "codemirror_mode": {
    "name": "ipython",
    "version": 3
   },
   "file_extension": ".py",
   "mimetype": "text/x-python",
   "name": "python",
   "nbconvert_exporter": "python",
   "pygments_lexer": "ipython3",
   "version": "3.12.5"
  }
 },
 "nbformat": 4,
 "nbformat_minor": 2
}
